{
 "cells": [
  {
   "cell_type": "code",
   "execution_count": 1,
   "metadata": {
    "scrolled": true
   },
   "outputs": [
    {
     "output_type": "stream",
     "name": "stdout",
     "text": [
      "1.8.0.dev20201128\n"
     ]
    }
   ],
   "source": [
    "import torch\n",
    "import torch.nn as nn\n",
    "from torch.utils.data import Dataset, DataLoader\n",
    "from tensornetworks_pytorch.TNModels import PosMPS, Born\n",
    "from tqdm.notebook import tqdm\n",
    "import matplotlib.pyplot as plt\n",
    "\n",
    "print(torch.__version__)"
   ]
  },
  {
   "cell_type": "code",
   "execution_count": 2,
   "metadata": {},
   "outputs": [
    {
     "output_type": "stream",
     "name": "stdout",
     "text": [
      "╭──biofam\n│ data shape:(2000, 16)\n│ range of X values: 0 -- 7\n╰───────────────────\n╭──flare\n│ data shape:(1065, 13)\n│ range of X values: 0 -- 7\n╰───────────────────\n╭──lymphography\n│ data shape:(148, 19)\n│ range of X values: 0 -- 7\n╰───────────────────\n╭──spect\n│ data shape:(187, 23)\n│ range of X values: 0 -- 1\n╰───────────────────\n╭──tumor\n│ data shape:(339, 17)\n│ range of X values: 0 -- 3\n╰───────────────────\n╭──votes\n│ data shape:(435, 17)\n│ range of X values: 0 -- 2\n╰───────────────────\n"
     ]
    }
   ],
   "source": [
    "### import data\n",
    "import pickle\n",
    "for dataset in ['biofam',\n",
    "    'flare','lymphography','spect','tumor','votes']:\n",
    "    with open('datasets/'+dataset, 'rb') as f:\n",
    "        u = pickle._Unpickler(f)\n",
    "        u.encoding = 'latin1' # biofam seemed to have an encoding issue which this fixes\n",
    "        a = u.load()\n",
    "    X=a[0].astype(int)\n",
    "    print(f\"╭──{dataset}\")\n",
    "    print(f\"│ data shape:{X.shape}\")\n",
    "    print(f\"│ range of X values: {X.min()} -- {X.max()}\")\n",
    "    print(f\"╰───────────────────\")\n",
    "\n",
    "def load_dataset(dataset):\n",
    "    with open('datasets/'+dataset, 'rb') as f:\n",
    "        u = pickle._Unpickler(f)\n",
    "        u.encoding = 'latin1'\n",
    "        a = u.load()\n",
    "    X=a[0]\n",
    "    X=X.astype(int)\n",
    "    print(f\"╭──{dataset}\")\n",
    "    print(f\"│ data shape:{X.shape}\")\n",
    "    print(f\"│ range of X values: {X.min()} -- {X.max()}\")\n",
    "    print(f\"╰───────────────────\")\n",
    "    d = X.max()+1\n",
    "    return X, d"
   ]
  },
  {
   "cell_type": "code",
   "execution_count": 4,
   "metadata": {},
   "outputs": [],
   "source": [
    "# torch.autograd.set_detect_anomaly(True)\n",
    "def train(self, dataset, batchsize, max_epochs, plot=True, **optim_kwargs):\n",
    "    trainloader = DataLoader(dataset, batch_size=batchsize, shuffle=True)\n",
    "    optimizer = torch.optim.Adadelta(self.parameters(), **optim_kwargs)\n",
    "    early_stopping_threshold = 1e-6 # min difference in epoch loss \n",
    "    loss_values = [] # store by-epoch avg loss values\n",
    "    print(f'╭───────────────────────────\\n│Training {self.name},')\n",
    "    print(f'│         batchsize:{batchsize}, {optimizer.__module__}, {optim_kwargs}.')\n",
    "    av_batch_loss_running = -1e4\n",
    "    with tqdm(range(max_epochs), unit=\"epoch\", leave=True) as tepochs:\n",
    "        for epoch in tepochs:\n",
    "            batch_loss_list = []\n",
    "            with tqdm(trainloader, unit=\"batch\", leave=False, desc=f\"epoch {epoch}\") as tepoch:\n",
    "                for batch in tepoch:\n",
    "                    for pindex, p in enumerate(self.parameters()):\n",
    "                        if torch.isnan(p).any():\n",
    "                            pnames = list(self.state_dict().keys())\n",
    "                            print(\"│ loss values:\", *(f\"{x:.3f}\" for x in loss_values))\n",
    "                            print(f\"└────Stopped before epoch {epoch}. NaN in weights {pnames[pindex]}!\")\n",
    "                            if plot:\n",
    "                                plt.plot(loss_values)\n",
    "                                plt.show()\n",
    "                            return loss_values\n",
    "                    self.zero_grad()\n",
    "                    neglogprob = 0\n",
    "                    for x in batch:\n",
    "                        out = self(x)\n",
    "                        neglogprob -= out\n",
    "                    loss = neglogprob / len(batch)\n",
    "                    loss.backward()\n",
    "                    # for pindex, p in enumerate(self.parameters()):\n",
    "                    #     if torch.isnan(p.grad).any():\n",
    "                    #         pnames = list(self.state_dict().keys())\n",
    "                    #         print(\"│ loss values:\", *(f\"{x:.3f}\" for x in loss_values))\n",
    "                    #         print(f\"└────Stopped. NaN value in gradient for {pnames[pindex]}!\")\n",
    "                    #         if plot:\n",
    "                    #             plt.plot(loss_values)\n",
    "                    #             plt.show()\n",
    "                    #         return loss_values\n",
    "                    optimizer.step()\n",
    "                    tepoch.set_postfix(loss=loss.item())\n",
    "                    batch_loss_list.append(loss.item())\n",
    "                av_batch_loss = torch.Tensor(batch_loss_list).mean().item()\n",
    "                loss_values.append(av_batch_loss)\n",
    "                tepochs.set_postfix(av_batch_loss=av_batch_loss)\n",
    "                if abs(av_batch_loss_running - av_batch_loss) < early_stopping_threshold:\n",
    "                    print(f\"├────Early stopping after epoch {epoch}/{max_epochs}.\")\n",
    "                    break\n",
    "                av_batch_loss_running = av_batch_loss\n",
    "    print(\"│ loss values:\", *(f\"{x:.3f}\" for x in loss_values))\n",
    "    if plot:\n",
    "        plt.plot(loss_values)\n",
    "        plt.show()\n",
    "    print('│ Finished training.\\n╰───────────────────────────\\n')\n",
    "    return loss_values\n",
    "\n",
    "def train_models(models, batchsize, max_epochs, **optim_kwargs):\n",
    "    print(f\"dataset: {dataset}\")\n",
    "    models_loss_values={}\n",
    "    for model in models:\n",
    "        loss_values = train(model, X, batchsize=batchsize, plot=False, max_epochs = max_epochs, **optim_kwargs)\n",
    "        plt.plot(loss_values, label=model.name)\n",
    "        plt.ylabel('avg loss (NLL)')\n",
    "        plt.xlabel('Epoch')\n",
    "        plt.title(f\"dataset: {dataset} (d={d}), bond dim={D}\\n batchsize:{batchsize}, {optim_kwargs}\")\n",
    "        models_loss_values[f\"{model.name}\"]=loss_values\n",
    "    plt.legend(bbox_to_anchor=(1.05, 1), loc='upper left', borderaxespad=0.)\n",
    "    plt.show()\n",
    "    return models_loss_values"
   ]
  },
  {
   "cell_type": "code",
   "execution_count": 5,
   "metadata": {},
   "outputs": [
    {
     "output_type": "stream",
     "name": "stdout",
     "text": [
      "╭──tumor\n│ data shape:(339, 17)\n│ range of X values: 0 -- 3\n╰───────────────────\nModels: D=8, d=4\n\ttorch.Size([17, 4, 8, 8]) model type: Born (torch.float32), Non-homogeneous\n\ttorch.Size([17, 4, 8, 8]) model type: Born (torch.complex64), Non-homogeneous\n\ttorch.Size([17, 4, 8, 8]) model type: Born (torch.float32), Non-homogeneous + log_stability\n\ttorch.Size([17, 4, 8, 8]) model type: Born (torch.complex64), Non-homogeneous + log_stability\n\ttorch.Size([17, 4, 8, 8]) model type: Positive MPS, Non-homogeneous\n\ttorch.Size([4, 8, 8]) model type: Born (torch.float32), Homogeneous\n\ttorch.Size([4, 8, 8]) model type: Born (torch.complex64), Homogeneous\n\ttorch.Size([4, 8, 8]) model type: Born (torch.float32), Homogeneous + log_stability\n\ttorch.Size([4, 8, 8]) model type: Born (torch.complex64), Homogeneous + log_stability\n\ttorch.Size([4, 8, 8]) model type: Positive MPS, Homogeneous\n"
     ]
    }
   ],
   "source": [
    "### initialize models\n",
    "dataset = 'tumor'\n",
    "X,d = load_dataset(dataset)\n",
    "D = 8\n",
    "\n",
    "mps      = PosMPS(X, d, D, homogeneous=False)\n",
    "mps_hom  = PosMPS(X, d, D, homogeneous=True)\n",
    "# mps_s    = PosMPS(X, d, D, homogeneous=False, log_stability=True)\n",
    "# mps_s_hom= PosMPS(X, d, D, homogeneous=True, log_stability=True)\n",
    "rBorn      = Born(X, d, D, dtype=torch.float, homogeneous=False, log_stability=False) \n",
    "rBorn_hom  = Born(X, d, D, dtype=torch.float, homogeneous=True, log_stability=False) \n",
    "rBorn_s    = Born(X, d, D, dtype=torch.float, homogeneous=False, log_stability=True) \n",
    "rBorn_s_hom= Born(X, d, D, dtype=torch.float, homogeneous=True, log_stability=True) \n",
    "cBorn      = Born(X, d, D, dtype=torch.cfloat, homogeneous=False, log_stability=False)\n",
    "cBorn_hom  = Born(X, d, D, dtype=torch.cfloat, homogeneous=True, log_stability=False)\n",
    "cBorn_s    = Born(X, d, D, dtype=torch.cfloat, homogeneous=False, log_stability=True)\n",
    "cBorn_s_hom= Born(X, d, D, dtype=torch.cfloat, homogeneous=True, log_stability=True)\n",
    "models     = (rBorn, cBorn, rBorn_s, cBorn_s, mps)#, mps_c\n",
    "models_hom = (rBorn_hom, cBorn_hom, rBorn_s_hom, cBorn_s_hom, mps_hom)#, mps_c_hom\n",
    "\n",
    "def clip_grad(grad, clip_val, param_name, verbose=False):\n",
    "    \"\"\"Clip the gradients, to be used as a hook during training.\"\"\"\n",
    "    if torch.isnan(grad).any():\n",
    "        print(f\"├─NaN value in gradient of {param_name}, {grad.size()}\")\n",
    "    if grad.dtype==torch.cfloat:\n",
    "        for ext, v in [(\"min\", grad.real.min()),(\"max\", grad.real.max())]:\n",
    "            if verbose and abs(v) > clip_val:\n",
    "                print(f\"│(clipping {param_name} real {ext} {v:.2} to size {clip_val})\")\n",
    "        for ext, v in [(\"min\", grad.imag.min()),(\"max\", grad.imag.max())]:\n",
    "            if verbose and abs(v) > clip_val:\n",
    "                print(f\"│(clipping {param_name} imag {ext} {1.j*v:.2} to size {clip_val})\")\n",
    "        clipped_grad = torch.complex(grad.real.clamp(-clip_val, clip_val),\n",
    "                                     grad.imag.clamp(-clip_val, clip_val))\n",
    "    else:\n",
    "        for ext, v in [(\"min\", grad.min()),(\"max\", grad.max())]:\n",
    "            if verbose and abs(v) > clip_val:\n",
    "                print(f\"│(clipping {param_name} {ext} {v:.2} to size {clip_val})\")\n",
    "        clipped_grad = torch.clamp(grad, -clip_val, clip_val)\n",
    "    return clipped_grad\n",
    "\n",
    "print(f\"Models: D={D}, d={d}\")\n",
    "for model in (*models, *models_hom):\n",
    "    print(f\"\\t{model.core.shape} model type: {model.name}\")\n",
    "    for param_index, p in enumerate(model.parameters()):\n",
    "        pnames = list(model.state_dict().keys())\n",
    "        p.register_hook(lambda grad: clip_grad(grad, 1000, pnames[param_index], verbose=True))\n",
    "        if torch.isnan(p).any():\n",
    "            print(f\"{pnames[param_index]} contains a NaN value!\")"
   ]
  },
  {
   "cell_type": "code",
   "execution_count": 6,
   "metadata": {},
   "outputs": [
    {
     "output_type": "stream",
     "name": "stdout",
     "text": [
      "dataset: tumor\n╭───────────────────────────\n│Training Born (torch.float32), Homogeneous,\n│         batchsize:10, torch.optim.adadelta, {}.\n"
     ]
    },
    {
     "output_type": "display_data",
     "data": {
      "text/plain": "HBox(children=(HTML(value=''), FloatProgress(value=0.0), HTML(value='')))",
      "application/vnd.jupyter.widget-view+json": {
       "version_major": 2,
       "version_minor": 0,
       "model_id": "4bd15763c9604e1ab8afc93f5dccc216"
      }
     },
     "metadata": {}
    },
    {
     "output_type": "display_data",
     "data": {
      "text/plain": "HBox(children=(HTML(value='epoch 0'), FloatProgress(value=0.0, max=34.0), HTML(value='')))",
      "application/vnd.jupyter.widget-view+json": {
       "version_major": 2,
       "version_minor": 0,
       "model_id": "623bda50d9834f1b9861aa5138c0a9ab"
      }
     },
     "metadata": {}
    },
    {
     "output_type": "display_data",
     "data": {
      "text/plain": "HBox(children=(HTML(value='epoch 1'), FloatProgress(value=0.0, max=34.0), HTML(value='')))",
      "application/vnd.jupyter.widget-view+json": {
       "version_major": 2,
       "version_minor": 0,
       "model_id": "6d5276bae30044909f642a7200cbfd2f"
      }
     },
     "metadata": {}
    },
    {
     "output_type": "display_data",
     "data": {
      "text/plain": "HBox(children=(HTML(value='epoch 2'), FloatProgress(value=0.0, max=34.0), HTML(value='')))",
      "application/vnd.jupyter.widget-view+json": {
       "version_major": 2,
       "version_minor": 0,
       "model_id": "c41e2ee48b65497cbdd9a1cf5abad12e"
      }
     },
     "metadata": {}
    },
    {
     "output_type": "display_data",
     "data": {
      "text/plain": "HBox(children=(HTML(value='epoch 3'), FloatProgress(value=0.0, max=34.0), HTML(value='')))",
      "application/vnd.jupyter.widget-view+json": {
       "version_major": 2,
       "version_minor": 0,
       "model_id": "59e2354cde1641c894f2d565de49d513"
      }
     },
     "metadata": {}
    },
    {
     "output_type": "display_data",
     "data": {
      "text/plain": "HBox(children=(HTML(value='epoch 4'), FloatProgress(value=0.0, max=34.0), HTML(value='')))",
      "application/vnd.jupyter.widget-view+json": {
       "version_major": 2,
       "version_minor": 0,
       "model_id": "d0b62e14a2374a2eaeccaa3cc4b59132"
      }
     },
     "metadata": {}
    },
    {
     "output_type": "display_data",
     "data": {
      "text/plain": "HBox(children=(HTML(value='epoch 5'), FloatProgress(value=0.0, max=34.0), HTML(value='')))",
      "application/vnd.jupyter.widget-view+json": {
       "version_major": 2,
       "version_minor": 0,
       "model_id": "2ff12b52582447b09d86aafed4f2ae5c"
      }
     },
     "metadata": {}
    },
    {
     "output_type": "display_data",
     "data": {
      "text/plain": "HBox(children=(HTML(value='epoch 6'), FloatProgress(value=0.0, max=34.0), HTML(value='')))",
      "application/vnd.jupyter.widget-view+json": {
       "version_major": 2,
       "version_minor": 0,
       "model_id": "36050dbe1b944e9784a55d656b3b9104"
      }
     },
     "metadata": {}
    },
    {
     "output_type": "display_data",
     "data": {
      "text/plain": "HBox(children=(HTML(value='epoch 7'), FloatProgress(value=0.0, max=34.0), HTML(value='')))",
      "application/vnd.jupyter.widget-view+json": {
       "version_major": 2,
       "version_minor": 0,
       "model_id": "753a0be8dbc9492fbb56b1a865e9a9e6"
      }
     },
     "metadata": {}
    },
    {
     "output_type": "display_data",
     "data": {
      "text/plain": "HBox(children=(HTML(value='epoch 8'), FloatProgress(value=0.0, max=34.0), HTML(value='')))",
      "application/vnd.jupyter.widget-view+json": {
       "version_major": 2,
       "version_minor": 0,
       "model_id": "aea4eb0a17274bff98ba83ec0ec392dd"
      }
     },
     "metadata": {}
    },
    {
     "output_type": "display_data",
     "data": {
      "text/plain": "HBox(children=(HTML(value='epoch 9'), FloatProgress(value=0.0, max=34.0), HTML(value='')))",
      "application/vnd.jupyter.widget-view+json": {
       "version_major": 2,
       "version_minor": 0,
       "model_id": "aa6411680bcc437186e09bfdcd19cef8"
      }
     },
     "metadata": {}
    },
    {
     "output_type": "display_data",
     "data": {
      "text/plain": "HBox(children=(HTML(value='epoch 10'), FloatProgress(value=0.0, max=34.0), HTML(value='')))",
      "application/vnd.jupyter.widget-view+json": {
       "version_major": 2,
       "version_minor": 0,
       "model_id": "a5343f6dc8134d59a62e21ef7ddd39fc"
      }
     },
     "metadata": {}
    },
    {
     "output_type": "display_data",
     "data": {
      "text/plain": "HBox(children=(HTML(value='epoch 11'), FloatProgress(value=0.0, max=34.0), HTML(value='')))",
      "application/vnd.jupyter.widget-view+json": {
       "version_major": 2,
       "version_minor": 0,
       "model_id": "20823028c07942e6a2b36ea9bf05edf1"
      }
     },
     "metadata": {}
    },
    {
     "output_type": "display_data",
     "data": {
      "text/plain": "HBox(children=(HTML(value='epoch 12'), FloatProgress(value=0.0, max=34.0), HTML(value='')))",
      "application/vnd.jupyter.widget-view+json": {
       "version_major": 2,
       "version_minor": 0,
       "model_id": "68dc23cbe7664d998853e90c55f51449"
      }
     },
     "metadata": {}
    },
    {
     "output_type": "display_data",
     "data": {
      "text/plain": "HBox(children=(HTML(value='epoch 13'), FloatProgress(value=0.0, max=34.0), HTML(value='')))",
      "application/vnd.jupyter.widget-view+json": {
       "version_major": 2,
       "version_minor": 0,
       "model_id": "87cf611abcaf4982974d8703707576cd"
      }
     },
     "metadata": {}
    },
    {
     "output_type": "display_data",
     "data": {
      "text/plain": "HBox(children=(HTML(value='epoch 14'), FloatProgress(value=0.0, max=34.0), HTML(value='')))",
      "application/vnd.jupyter.widget-view+json": {
       "version_major": 2,
       "version_minor": 0,
       "model_id": "698f1191a35149f19eeb50ec964769db"
      }
     },
     "metadata": {}
    },
    {
     "output_type": "display_data",
     "data": {
      "text/plain": "HBox(children=(HTML(value='epoch 15'), FloatProgress(value=0.0, max=34.0), HTML(value='')))",
      "application/vnd.jupyter.widget-view+json": {
       "version_major": 2,
       "version_minor": 0,
       "model_id": "35050b1c61e84718b2841193645b8afc"
      }
     },
     "metadata": {}
    },
    {
     "output_type": "display_data",
     "data": {
      "text/plain": "HBox(children=(HTML(value='epoch 16'), FloatProgress(value=0.0, max=34.0), HTML(value='')))",
      "application/vnd.jupyter.widget-view+json": {
       "version_major": 2,
       "version_minor": 0,
       "model_id": "d977cc75d12d4077b3ad560fe1fadbcd"
      }
     },
     "metadata": {}
    },
    {
     "output_type": "display_data",
     "data": {
      "text/plain": "HBox(children=(HTML(value='epoch 17'), FloatProgress(value=0.0, max=34.0), HTML(value='')))",
      "application/vnd.jupyter.widget-view+json": {
       "version_major": 2,
       "version_minor": 0,
       "model_id": "16c19bff9e204c8cbad4377fe206a869"
      }
     },
     "metadata": {}
    },
    {
     "output_type": "display_data",
     "data": {
      "text/plain": "HBox(children=(HTML(value='epoch 18'), FloatProgress(value=0.0, max=34.0), HTML(value='')))",
      "application/vnd.jupyter.widget-view+json": {
       "version_major": 2,
       "version_minor": 0,
       "model_id": "010e27a3bf5a4910b0f5586f90491d28"
      }
     },
     "metadata": {}
    },
    {
     "output_type": "display_data",
     "data": {
      "text/plain": "HBox(children=(HTML(value='epoch 19'), FloatProgress(value=0.0, max=34.0), HTML(value='')))",
      "application/vnd.jupyter.widget-view+json": {
       "version_major": 2,
       "version_minor": 0,
       "model_id": "20405b65833b4f698c1a5a2e2c2d1526"
      }
     },
     "metadata": {}
    },
    {
     "output_type": "display_data",
     "data": {
      "text/plain": "HBox(children=(HTML(value='epoch 20'), FloatProgress(value=0.0, max=34.0), HTML(value='')))",
      "application/vnd.jupyter.widget-view+json": {
       "version_major": 2,
       "version_minor": 0,
       "model_id": "d2c5192270af4458bef1dccb032cf033"
      }
     },
     "metadata": {}
    },
    {
     "output_type": "display_data",
     "data": {
      "text/plain": "HBox(children=(HTML(value='epoch 21'), FloatProgress(value=0.0, max=34.0), HTML(value='')))",
      "application/vnd.jupyter.widget-view+json": {
       "version_major": 2,
       "version_minor": 0,
       "model_id": "c5b6f7ef1af541ed959d9949924f4dd9"
      }
     },
     "metadata": {}
    },
    {
     "output_type": "display_data",
     "data": {
      "text/plain": "HBox(children=(HTML(value='epoch 22'), FloatProgress(value=0.0, max=34.0), HTML(value='')))",
      "application/vnd.jupyter.widget-view+json": {
       "version_major": 2,
       "version_minor": 0,
       "model_id": "531c97d5d6e34712a55fcd224c8bad6c"
      }
     },
     "metadata": {}
    },
    {
     "output_type": "display_data",
     "data": {
      "text/plain": "HBox(children=(HTML(value='epoch 23'), FloatProgress(value=0.0, max=34.0), HTML(value='')))",
      "application/vnd.jupyter.widget-view+json": {
       "version_major": 2,
       "version_minor": 0,
       "model_id": "c406bdfa7d3b4ca182c5d524a3d34464"
      }
     },
     "metadata": {}
    },
    {
     "output_type": "display_data",
     "data": {
      "text/plain": "HBox(children=(HTML(value='epoch 24'), FloatProgress(value=0.0, max=34.0), HTML(value='')))",
      "application/vnd.jupyter.widget-view+json": {
       "version_major": 2,
       "version_minor": 0,
       "model_id": "25d410cc7fc0441e89c2d57f467f6a34"
      }
     },
     "metadata": {}
    },
    {
     "output_type": "display_data",
     "data": {
      "text/plain": "HBox(children=(HTML(value='epoch 25'), FloatProgress(value=0.0, max=34.0), HTML(value='')))",
      "application/vnd.jupyter.widget-view+json": {
       "version_major": 2,
       "version_minor": 0,
       "model_id": "9fcb86323f2447eb9b66f959c77e5bee"
      }
     },
     "metadata": {}
    },
    {
     "output_type": "display_data",
     "data": {
      "text/plain": "HBox(children=(HTML(value='epoch 26'), FloatProgress(value=0.0, max=34.0), HTML(value='')))",
      "application/vnd.jupyter.widget-view+json": {
       "version_major": 2,
       "version_minor": 0,
       "model_id": "645968c559c74eb5b404c336f557e016"
      }
     },
     "metadata": {}
    },
    {
     "output_type": "display_data",
     "data": {
      "text/plain": "HBox(children=(HTML(value='epoch 27'), FloatProgress(value=0.0, max=34.0), HTML(value='')))",
      "application/vnd.jupyter.widget-view+json": {
       "version_major": 2,
       "version_minor": 0,
       "model_id": "5f1dc6a4ab4143ee866d7753c03fced6"
      }
     },
     "metadata": {}
    },
    {
     "output_type": "display_data",
     "data": {
      "text/plain": "HBox(children=(HTML(value='epoch 28'), FloatProgress(value=0.0, max=34.0), HTML(value='')))",
      "application/vnd.jupyter.widget-view+json": {
       "version_major": 2,
       "version_minor": 0,
       "model_id": "857f8a809d984278a438d3d0e8ed8099"
      }
     },
     "metadata": {}
    },
    {
     "output_type": "display_data",
     "data": {
      "text/plain": "HBox(children=(HTML(value='epoch 29'), FloatProgress(value=0.0, max=34.0), HTML(value='')))",
      "application/vnd.jupyter.widget-view+json": {
       "version_major": 2,
       "version_minor": 0,
       "model_id": "527de95607ce49a2986aba12abf4baec"
      }
     },
     "metadata": {}
    },
    {
     "output_type": "display_data",
     "data": {
      "text/plain": "HBox(children=(HTML(value='epoch 30'), FloatProgress(value=0.0, max=34.0), HTML(value='')))",
      "application/vnd.jupyter.widget-view+json": {
       "version_major": 2,
       "version_minor": 0,
       "model_id": "fe755845a49544ef81a67a8afcb5b905"
      }
     },
     "metadata": {}
    },
    {
     "output_type": "display_data",
     "data": {
      "text/plain": "HBox(children=(HTML(value='epoch 31'), FloatProgress(value=0.0, max=34.0), HTML(value='')))",
      "application/vnd.jupyter.widget-view+json": {
       "version_major": 2,
       "version_minor": 0,
       "model_id": "d8d11b7221ce4e1c995575146df1c984"
      }
     },
     "metadata": {}
    },
    {
     "output_type": "display_data",
     "data": {
      "text/plain": "HBox(children=(HTML(value='epoch 32'), FloatProgress(value=0.0, max=34.0), HTML(value='')))",
      "application/vnd.jupyter.widget-view+json": {
       "version_major": 2,
       "version_minor": 0,
       "model_id": "4d89d236871d4d2f91ea78e781bf1c8c"
      }
     },
     "metadata": {}
    },
    {
     "output_type": "display_data",
     "data": {
      "text/plain": "HBox(children=(HTML(value='epoch 33'), FloatProgress(value=0.0, max=34.0), HTML(value='')))",
      "application/vnd.jupyter.widget-view+json": {
       "version_major": 2,
       "version_minor": 0,
       "model_id": "96183f2a4e814c4abce8b7c7d26ce93a"
      }
     },
     "metadata": {}
    },
    {
     "output_type": "display_data",
     "data": {
      "text/plain": "HBox(children=(HTML(value='epoch 34'), FloatProgress(value=0.0, max=34.0), HTML(value='')))",
      "application/vnd.jupyter.widget-view+json": {
       "version_major": 2,
       "version_minor": 0,
       "model_id": "be17bf05495d4b78a47b0617d006d7a7"
      }
     },
     "metadata": {}
    },
    {
     "output_type": "display_data",
     "data": {
      "text/plain": "HBox(children=(HTML(value='epoch 35'), FloatProgress(value=0.0, max=34.0), HTML(value='')))",
      "application/vnd.jupyter.widget-view+json": {
       "version_major": 2,
       "version_minor": 0,
       "model_id": "0e540435cf8f4027beb20e627d3f7ac5"
      }
     },
     "metadata": {}
    },
    {
     "output_type": "display_data",
     "data": {
      "text/plain": "HBox(children=(HTML(value='epoch 36'), FloatProgress(value=0.0, max=34.0), HTML(value='')))",
      "application/vnd.jupyter.widget-view+json": {
       "version_major": 2,
       "version_minor": 0,
       "model_id": "13204875e8a947d4ac33c21d9b146d4f"
      }
     },
     "metadata": {}
    },
    {
     "output_type": "display_data",
     "data": {
      "text/plain": "HBox(children=(HTML(value='epoch 37'), FloatProgress(value=0.0, max=34.0), HTML(value='')))",
      "application/vnd.jupyter.widget-view+json": {
       "version_major": 2,
       "version_minor": 0,
       "model_id": "9a1e0d3533e0496990380d7073a209a3"
      }
     },
     "metadata": {}
    },
    {
     "output_type": "display_data",
     "data": {
      "text/plain": "HBox(children=(HTML(value='epoch 38'), FloatProgress(value=0.0, max=34.0), HTML(value='')))",
      "application/vnd.jupyter.widget-view+json": {
       "version_major": 2,
       "version_minor": 0,
       "model_id": "80584182924a4b3fafb0372206f41fab"
      }
     },
     "metadata": {}
    },
    {
     "output_type": "display_data",
     "data": {
      "text/plain": "HBox(children=(HTML(value='epoch 39'), FloatProgress(value=0.0, max=34.0), HTML(value='')))",
      "application/vnd.jupyter.widget-view+json": {
       "version_major": 2,
       "version_minor": 0,
       "model_id": "b62d4974d463428e8307406d17316acc"
      }
     },
     "metadata": {}
    },
    {
     "output_type": "display_data",
     "data": {
      "text/plain": "HBox(children=(HTML(value='epoch 40'), FloatProgress(value=0.0, max=34.0), HTML(value='')))",
      "application/vnd.jupyter.widget-view+json": {
       "version_major": 2,
       "version_minor": 0,
       "model_id": "eb59a37808b044f394fdffc544390239"
      }
     },
     "metadata": {}
    },
    {
     "output_type": "display_data",
     "data": {
      "text/plain": "HBox(children=(HTML(value='epoch 41'), FloatProgress(value=0.0, max=34.0), HTML(value='')))",
      "application/vnd.jupyter.widget-view+json": {
       "version_major": 2,
       "version_minor": 0,
       "model_id": "2534275d1eed49b08e4866723cb2ad1c"
      }
     },
     "metadata": {}
    },
    {
     "output_type": "display_data",
     "data": {
      "text/plain": "HBox(children=(HTML(value='epoch 42'), FloatProgress(value=0.0, max=34.0), HTML(value='')))",
      "application/vnd.jupyter.widget-view+json": {
       "version_major": 2,
       "version_minor": 0,
       "model_id": "021ce9a97ef14a1bbbc6770d06f6ae3c"
      }
     },
     "metadata": {}
    },
    {
     "output_type": "display_data",
     "data": {
      "text/plain": "HBox(children=(HTML(value='epoch 43'), FloatProgress(value=0.0, max=34.0), HTML(value='')))",
      "application/vnd.jupyter.widget-view+json": {
       "version_major": 2,
       "version_minor": 0,
       "model_id": "57520cc2bbbf40efb09d4ba22cb84943"
      }
     },
     "metadata": {}
    },
    {
     "output_type": "display_data",
     "data": {
      "text/plain": "HBox(children=(HTML(value='epoch 44'), FloatProgress(value=0.0, max=34.0), HTML(value='')))",
      "application/vnd.jupyter.widget-view+json": {
       "version_major": 2,
       "version_minor": 0,
       "model_id": "293bb3d2686a48348768e770a9ff1b6f"
      }
     },
     "metadata": {}
    },
    {
     "output_type": "display_data",
     "data": {
      "text/plain": "HBox(children=(HTML(value='epoch 45'), FloatProgress(value=0.0, max=34.0), HTML(value='')))",
      "application/vnd.jupyter.widget-view+json": {
       "version_major": 2,
       "version_minor": 0,
       "model_id": "8e833607620a4db7a1ef7acc3c55c3ce"
      }
     },
     "metadata": {}
    },
    {
     "output_type": "display_data",
     "data": {
      "text/plain": "HBox(children=(HTML(value='epoch 46'), FloatProgress(value=0.0, max=34.0), HTML(value='')))",
      "application/vnd.jupyter.widget-view+json": {
       "version_major": 2,
       "version_minor": 0,
       "model_id": "03f86e9e9fee452d88fa2119ebb6a8d8"
      }
     },
     "metadata": {}
    },
    {
     "output_type": "display_data",
     "data": {
      "text/plain": "HBox(children=(HTML(value='epoch 47'), FloatProgress(value=0.0, max=34.0), HTML(value='')))",
      "application/vnd.jupyter.widget-view+json": {
       "version_major": 2,
       "version_minor": 0,
       "model_id": "3f6846ee0172455a90d4beb085ece961"
      }
     },
     "metadata": {}
    },
    {
     "output_type": "display_data",
     "data": {
      "text/plain": "HBox(children=(HTML(value='epoch 48'), FloatProgress(value=0.0, max=34.0), HTML(value='')))",
      "application/vnd.jupyter.widget-view+json": {
       "version_major": 2,
       "version_minor": 0,
       "model_id": "f62372e5d5c84a839fb1afc6e4fe5ade"
      }
     },
     "metadata": {}
    },
    {
     "output_type": "display_data",
     "data": {
      "text/plain": "HBox(children=(HTML(value='epoch 49'), FloatProgress(value=0.0, max=34.0), HTML(value='')))",
      "application/vnd.jupyter.widget-view+json": {
       "version_major": 2,
       "version_minor": 0,
       "model_id": "3f6b86ed5b8449ff854f33ffb852a14f"
      }
     },
     "metadata": {}
    },
    {
     "output_type": "display_data",
     "data": {
      "text/plain": "HBox(children=(HTML(value='epoch 50'), FloatProgress(value=0.0, max=34.0), HTML(value='')))",
      "application/vnd.jupyter.widget-view+json": {
       "version_major": 2,
       "version_minor": 0,
       "model_id": "990ebe9b9e7544b5ab29aba6da9f9cea"
      }
     },
     "metadata": {}
    },
    {
     "output_type": "display_data",
     "data": {
      "text/plain": "HBox(children=(HTML(value='epoch 51'), FloatProgress(value=0.0, max=34.0), HTML(value='')))",
      "application/vnd.jupyter.widget-view+json": {
       "version_major": 2,
       "version_minor": 0,
       "model_id": "1f4ccdb12eda40b780602b28b1b9fd70"
      }
     },
     "metadata": {}
    },
    {
     "output_type": "display_data",
     "data": {
      "text/plain": "HBox(children=(HTML(value='epoch 52'), FloatProgress(value=0.0, max=34.0), HTML(value='')))",
      "application/vnd.jupyter.widget-view+json": {
       "version_major": 2,
       "version_minor": 0,
       "model_id": "efbec01e892b4e10beb6caac7d706ed5"
      }
     },
     "metadata": {}
    },
    {
     "output_type": "display_data",
     "data": {
      "text/plain": "HBox(children=(HTML(value='epoch 53'), FloatProgress(value=0.0, max=34.0), HTML(value='')))",
      "application/vnd.jupyter.widget-view+json": {
       "version_major": 2,
       "version_minor": 0,
       "model_id": "7f8bd8cd3ffc41e8973f1a0d2f473097"
      }
     },
     "metadata": {}
    },
    {
     "output_type": "display_data",
     "data": {
      "text/plain": "HBox(children=(HTML(value='epoch 54'), FloatProgress(value=0.0, max=34.0), HTML(value='')))",
      "application/vnd.jupyter.widget-view+json": {
       "version_major": 2,
       "version_minor": 0,
       "model_id": "3cdab9b5084646f7aab2497dd421843d"
      }
     },
     "metadata": {}
    },
    {
     "output_type": "display_data",
     "data": {
      "text/plain": "HBox(children=(HTML(value='epoch 55'), FloatProgress(value=0.0, max=34.0), HTML(value='')))",
      "application/vnd.jupyter.widget-view+json": {
       "version_major": 2,
       "version_minor": 0,
       "model_id": "1e01f3f4c32c476fbaaa6e8a00d35918"
      }
     },
     "metadata": {}
    },
    {
     "output_type": "display_data",
     "data": {
      "text/plain": "HBox(children=(HTML(value='epoch 56'), FloatProgress(value=0.0, max=34.0), HTML(value='')))",
      "application/vnd.jupyter.widget-view+json": {
       "version_major": 2,
       "version_minor": 0,
       "model_id": "2f67b1710dad469ab42c61c3f4cee588"
      }
     },
     "metadata": {}
    },
    {
     "output_type": "display_data",
     "data": {
      "text/plain": "HBox(children=(HTML(value='epoch 57'), FloatProgress(value=0.0, max=34.0), HTML(value='')))",
      "application/vnd.jupyter.widget-view+json": {
       "version_major": 2,
       "version_minor": 0,
       "model_id": "5890bbbd076a4b36898fa6c53a270e83"
      }
     },
     "metadata": {}
    },
    {
     "output_type": "display_data",
     "data": {
      "text/plain": "HBox(children=(HTML(value='epoch 58'), FloatProgress(value=0.0, max=34.0), HTML(value='')))",
      "application/vnd.jupyter.widget-view+json": {
       "version_major": 2,
       "version_minor": 0,
       "model_id": "67c1e0834d2f4578ad68419d315f5d96"
      }
     },
     "metadata": {}
    },
    {
     "output_type": "display_data",
     "data": {
      "text/plain": "HBox(children=(HTML(value='epoch 59'), FloatProgress(value=0.0, max=34.0), HTML(value='')))",
      "application/vnd.jupyter.widget-view+json": {
       "version_major": 2,
       "version_minor": 0,
       "model_id": "4b0e500d03814ae9b218b9979c5d1185"
      }
     },
     "metadata": {}
    },
    {
     "output_type": "display_data",
     "data": {
      "text/plain": "HBox(children=(HTML(value='epoch 60'), FloatProgress(value=0.0, max=34.0), HTML(value='')))",
      "application/vnd.jupyter.widget-view+json": {
       "version_major": 2,
       "version_minor": 0,
       "model_id": "e6df5079a4154bceb847abf2ca523a61"
      }
     },
     "metadata": {}
    },
    {
     "output_type": "display_data",
     "data": {
      "text/plain": "HBox(children=(HTML(value='epoch 61'), FloatProgress(value=0.0, max=34.0), HTML(value='')))",
      "application/vnd.jupyter.widget-view+json": {
       "version_major": 2,
       "version_minor": 0,
       "model_id": "98467bd2566f45afba90d55766e34126"
      }
     },
     "metadata": {}
    },
    {
     "output_type": "display_data",
     "data": {
      "text/plain": "HBox(children=(HTML(value='epoch 62'), FloatProgress(value=0.0, max=34.0), HTML(value='')))",
      "application/vnd.jupyter.widget-view+json": {
       "version_major": 2,
       "version_minor": 0,
       "model_id": "4f99b0c0539c4fe3bd8fd273b8927aa8"
      }
     },
     "metadata": {}
    },
    {
     "output_type": "display_data",
     "data": {
      "text/plain": "HBox(children=(HTML(value='epoch 63'), FloatProgress(value=0.0, max=34.0), HTML(value='')))",
      "application/vnd.jupyter.widget-view+json": {
       "version_major": 2,
       "version_minor": 0,
       "model_id": "b037eacf7d49406681b4dd41da9ff157"
      }
     },
     "metadata": {}
    },
    {
     "output_type": "display_data",
     "data": {
      "text/plain": "HBox(children=(HTML(value='epoch 64'), FloatProgress(value=0.0, max=34.0), HTML(value='')))",
      "application/vnd.jupyter.widget-view+json": {
       "version_major": 2,
       "version_minor": 0,
       "model_id": "588fd7819bb74e1e952c381f540700cc"
      }
     },
     "metadata": {}
    },
    {
     "output_type": "display_data",
     "data": {
      "text/plain": "HBox(children=(HTML(value='epoch 65'), FloatProgress(value=0.0, max=34.0), HTML(value='')))",
      "application/vnd.jupyter.widget-view+json": {
       "version_major": 2,
       "version_minor": 0,
       "model_id": "c67eada72b28480e9d935967006bd9b6"
      }
     },
     "metadata": {}
    },
    {
     "output_type": "display_data",
     "data": {
      "text/plain": "HBox(children=(HTML(value='epoch 66'), FloatProgress(value=0.0, max=34.0), HTML(value='')))",
      "application/vnd.jupyter.widget-view+json": {
       "version_major": 2,
       "version_minor": 0,
       "model_id": "e47e28e0550c446d87f950077fd4595f"
      }
     },
     "metadata": {}
    },
    {
     "output_type": "display_data",
     "data": {
      "text/plain": "HBox(children=(HTML(value='epoch 67'), FloatProgress(value=0.0, max=34.0), HTML(value='')))",
      "application/vnd.jupyter.widget-view+json": {
       "version_major": 2,
       "version_minor": 0,
       "model_id": "2689fe4e6389429d90891d7c8fe07ec6"
      }
     },
     "metadata": {}
    },
    {
     "output_type": "display_data",
     "data": {
      "text/plain": "HBox(children=(HTML(value='epoch 68'), FloatProgress(value=0.0, max=34.0), HTML(value='')))",
      "application/vnd.jupyter.widget-view+json": {
       "version_major": 2,
       "version_minor": 0,
       "model_id": "f20806a3e0a84a7baefc448db745f7c6"
      }
     },
     "metadata": {}
    },
    {
     "output_type": "display_data",
     "data": {
      "text/plain": "HBox(children=(HTML(value='epoch 69'), FloatProgress(value=0.0, max=34.0), HTML(value='')))",
      "application/vnd.jupyter.widget-view+json": {
       "version_major": 2,
       "version_minor": 0,
       "model_id": "ecfd09431dcc473b8c7b218ceac86dd8"
      }
     },
     "metadata": {}
    },
    {
     "output_type": "display_data",
     "data": {
      "text/plain": "HBox(children=(HTML(value='epoch 70'), FloatProgress(value=0.0, max=34.0), HTML(value='')))",
      "application/vnd.jupyter.widget-view+json": {
       "version_major": 2,
       "version_minor": 0,
       "model_id": "5736819eeea34dc1a9b102dd98a6fe54"
      }
     },
     "metadata": {}
    },
    {
     "output_type": "display_data",
     "data": {
      "text/plain": "HBox(children=(HTML(value='epoch 71'), FloatProgress(value=0.0, max=34.0), HTML(value='')))",
      "application/vnd.jupyter.widget-view+json": {
       "version_major": 2,
       "version_minor": 0,
       "model_id": "3caf53b5ffdb4746b03c93b75e84eaf7"
      }
     },
     "metadata": {}
    },
    {
     "output_type": "display_data",
     "data": {
      "text/plain": "HBox(children=(HTML(value='epoch 72'), FloatProgress(value=0.0, max=34.0), HTML(value='')))",
      "application/vnd.jupyter.widget-view+json": {
       "version_major": 2,
       "version_minor": 0,
       "model_id": "1bca20f9926a47c38912dcf0ff3a0c1e"
      }
     },
     "metadata": {}
    },
    {
     "output_type": "display_data",
     "data": {
      "text/plain": "HBox(children=(HTML(value='epoch 73'), FloatProgress(value=0.0, max=34.0), HTML(value='')))",
      "application/vnd.jupyter.widget-view+json": {
       "version_major": 2,
       "version_minor": 0,
       "model_id": "8a71c0467b9947fbb09ed3a7df03b0df"
      }
     },
     "metadata": {}
    },
    {
     "output_type": "display_data",
     "data": {
      "text/plain": "HBox(children=(HTML(value='epoch 74'), FloatProgress(value=0.0, max=34.0), HTML(value='')))",
      "application/vnd.jupyter.widget-view+json": {
       "version_major": 2,
       "version_minor": 0,
       "model_id": "5850222e02da479a8a924985e79bec58"
      }
     },
     "metadata": {}
    },
    {
     "output_type": "display_data",
     "data": {
      "text/plain": "HBox(children=(HTML(value='epoch 75'), FloatProgress(value=0.0, max=34.0), HTML(value='')))",
      "application/vnd.jupyter.widget-view+json": {
       "version_major": 2,
       "version_minor": 0,
       "model_id": "08c43889d05c4b4e807a395fabd5ed2c"
      }
     },
     "metadata": {}
    },
    {
     "output_type": "display_data",
     "data": {
      "text/plain": "HBox(children=(HTML(value='epoch 76'), FloatProgress(value=0.0, max=34.0), HTML(value='')))",
      "application/vnd.jupyter.widget-view+json": {
       "version_major": 2,
       "version_minor": 0,
       "model_id": "6dd6a9afda3f4637adc5081a32fa9218"
      }
     },
     "metadata": {}
    },
    {
     "output_type": "display_data",
     "data": {
      "text/plain": "HBox(children=(HTML(value='epoch 77'), FloatProgress(value=0.0, max=34.0), HTML(value='')))",
      "application/vnd.jupyter.widget-view+json": {
       "version_major": 2,
       "version_minor": 0,
       "model_id": "c09d952a585f4a7daa1047d8e9458bb7"
      }
     },
     "metadata": {}
    },
    {
     "output_type": "display_data",
     "data": {
      "text/plain": "HBox(children=(HTML(value='epoch 78'), FloatProgress(value=0.0, max=34.0), HTML(value='')))",
      "application/vnd.jupyter.widget-view+json": {
       "version_major": 2,
       "version_minor": 0,
       "model_id": "8955aae261634a18a7aec2e2bbbeaea9"
      }
     },
     "metadata": {}
    },
    {
     "output_type": "display_data",
     "data": {
      "text/plain": "HBox(children=(HTML(value='epoch 79'), FloatProgress(value=0.0, max=34.0), HTML(value='')))",
      "application/vnd.jupyter.widget-view+json": {
       "version_major": 2,
       "version_minor": 0,
       "model_id": "6fddd274917647bd96482ef0ff5cc6b3"
      }
     },
     "metadata": {}
    },
    {
     "output_type": "display_data",
     "data": {
      "text/plain": "HBox(children=(HTML(value='epoch 80'), FloatProgress(value=0.0, max=34.0), HTML(value='')))",
      "application/vnd.jupyter.widget-view+json": {
       "version_major": 2,
       "version_minor": 0,
       "model_id": "88bb2128ee794121af3834f608e58171"
      }
     },
     "metadata": {}
    },
    {
     "output_type": "display_data",
     "data": {
      "text/plain": "HBox(children=(HTML(value='epoch 81'), FloatProgress(value=0.0, max=34.0), HTML(value='')))",
      "application/vnd.jupyter.widget-view+json": {
       "version_major": 2,
       "version_minor": 0,
       "model_id": "d60978e4fe574163bcde4f5a9960dc3f"
      }
     },
     "metadata": {}
    },
    {
     "output_type": "display_data",
     "data": {
      "text/plain": "HBox(children=(HTML(value='epoch 82'), FloatProgress(value=0.0, max=34.0), HTML(value='')))",
      "application/vnd.jupyter.widget-view+json": {
       "version_major": 2,
       "version_minor": 0,
       "model_id": "68c80303ce66463099c2bc48668d9e28"
      }
     },
     "metadata": {}
    },
    {
     "output_type": "display_data",
     "data": {
      "text/plain": "HBox(children=(HTML(value='epoch 83'), FloatProgress(value=0.0, max=34.0), HTML(value='')))",
      "application/vnd.jupyter.widget-view+json": {
       "version_major": 2,
       "version_minor": 0,
       "model_id": "3ff0bbb5132044089ed6f364f4db82e9"
      }
     },
     "metadata": {}
    },
    {
     "output_type": "display_data",
     "data": {
      "text/plain": "HBox(children=(HTML(value='epoch 84'), FloatProgress(value=0.0, max=34.0), HTML(value='')))",
      "application/vnd.jupyter.widget-view+json": {
       "version_major": 2,
       "version_minor": 0,
       "model_id": "8a4cdc255b7d4870bb3b36847fc299c5"
      }
     },
     "metadata": {}
    },
    {
     "output_type": "display_data",
     "data": {
      "text/plain": "HBox(children=(HTML(value='epoch 85'), FloatProgress(value=0.0, max=34.0), HTML(value='')))",
      "application/vnd.jupyter.widget-view+json": {
       "version_major": 2,
       "version_minor": 0,
       "model_id": "f83457bd786e44708dbf6f091a9ba6a9"
      }
     },
     "metadata": {}
    },
    {
     "output_type": "display_data",
     "data": {
      "text/plain": "HBox(children=(HTML(value='epoch 86'), FloatProgress(value=0.0, max=34.0), HTML(value='')))",
      "application/vnd.jupyter.widget-view+json": {
       "version_major": 2,
       "version_minor": 0,
       "model_id": "d33cf91ae186456395d2fc176fba0fcf"
      }
     },
     "metadata": {}
    },
    {
     "output_type": "display_data",
     "data": {
      "text/plain": "HBox(children=(HTML(value='epoch 87'), FloatProgress(value=0.0, max=34.0), HTML(value='')))",
      "application/vnd.jupyter.widget-view+json": {
       "version_major": 2,
       "version_minor": 0,
       "model_id": "cac45c1aadd24d23b37a61206bb6afa4"
      }
     },
     "metadata": {}
    },
    {
     "output_type": "display_data",
     "data": {
      "text/plain": "HBox(children=(HTML(value='epoch 88'), FloatProgress(value=0.0, max=34.0), HTML(value='')))",
      "application/vnd.jupyter.widget-view+json": {
       "version_major": 2,
       "version_minor": 0,
       "model_id": "d7049de58df94ba7bbf7c3a9df877c90"
      }
     },
     "metadata": {}
    },
    {
     "output_type": "display_data",
     "data": {
      "text/plain": "HBox(children=(HTML(value='epoch 89'), FloatProgress(value=0.0, max=34.0), HTML(value='')))",
      "application/vnd.jupyter.widget-view+json": {
       "version_major": 2,
       "version_minor": 0,
       "model_id": "d1fcef9aa69a4fd08a2bd1571e16ffc2"
      }
     },
     "metadata": {}
    },
    {
     "output_type": "display_data",
     "data": {
      "text/plain": "HBox(children=(HTML(value='epoch 90'), FloatProgress(value=0.0, max=34.0), HTML(value='')))",
      "application/vnd.jupyter.widget-view+json": {
       "version_major": 2,
       "version_minor": 0,
       "model_id": "2b258aa2ffb84b039db9c58943fcfca2"
      }
     },
     "metadata": {}
    },
    {
     "output_type": "display_data",
     "data": {
      "text/plain": "HBox(children=(HTML(value='epoch 91'), FloatProgress(value=0.0, max=34.0), HTML(value='')))",
      "application/vnd.jupyter.widget-view+json": {
       "version_major": 2,
       "version_minor": 0,
       "model_id": "5c8393c254b340979bc87957826dbcb6"
      }
     },
     "metadata": {}
    },
    {
     "output_type": "display_data",
     "data": {
      "text/plain": "HBox(children=(HTML(value='epoch 92'), FloatProgress(value=0.0, max=34.0), HTML(value='')))",
      "application/vnd.jupyter.widget-view+json": {
       "version_major": 2,
       "version_minor": 0,
       "model_id": "3fe2c52eaa7443739ac0c4c6320b5b00"
      }
     },
     "metadata": {}
    },
    {
     "output_type": "display_data",
     "data": {
      "text/plain": "HBox(children=(HTML(value='epoch 93'), FloatProgress(value=0.0, max=34.0), HTML(value='')))",
      "application/vnd.jupyter.widget-view+json": {
       "version_major": 2,
       "version_minor": 0,
       "model_id": "378610ee309348579a201c17bc3767ab"
      }
     },
     "metadata": {}
    },
    {
     "output_type": "display_data",
     "data": {
      "text/plain": "HBox(children=(HTML(value='epoch 94'), FloatProgress(value=0.0, max=34.0), HTML(value='')))",
      "application/vnd.jupyter.widget-view+json": {
       "version_major": 2,
       "version_minor": 0,
       "model_id": "a77f68e63f31419b81ca76ad05340c6a"
      }
     },
     "metadata": {}
    },
    {
     "output_type": "display_data",
     "data": {
      "text/plain": "HBox(children=(HTML(value='epoch 95'), FloatProgress(value=0.0, max=34.0), HTML(value='')))",
      "application/vnd.jupyter.widget-view+json": {
       "version_major": 2,
       "version_minor": 0,
       "model_id": "b2032cd73fe14b989c034fe53d7e8c68"
      }
     },
     "metadata": {}
    },
    {
     "output_type": "display_data",
     "data": {
      "text/plain": "HBox(children=(HTML(value='epoch 96'), FloatProgress(value=0.0, max=34.0), HTML(value='')))",
      "application/vnd.jupyter.widget-view+json": {
       "version_major": 2,
       "version_minor": 0,
       "model_id": "e5703bace1264dcb96e5a3311f5995ca"
      }
     },
     "metadata": {}
    },
    {
     "output_type": "display_data",
     "data": {
      "text/plain": "HBox(children=(HTML(value='epoch 97'), FloatProgress(value=0.0, max=34.0), HTML(value='')))",
      "application/vnd.jupyter.widget-view+json": {
       "version_major": 2,
       "version_minor": 0,
       "model_id": "6057632834df407488908f0c2b353c81"
      }
     },
     "metadata": {}
    },
    {
     "output_type": "display_data",
     "data": {
      "text/plain": "HBox(children=(HTML(value='epoch 98'), FloatProgress(value=0.0, max=34.0), HTML(value='')))",
      "application/vnd.jupyter.widget-view+json": {
       "version_major": 2,
       "version_minor": 0,
       "model_id": "1a68fb8dc2aa474e8da5f38ed1bb559f"
      }
     },
     "metadata": {}
    },
    {
     "output_type": "display_data",
     "data": {
      "text/plain": "HBox(children=(HTML(value='epoch 99'), FloatProgress(value=0.0, max=34.0), HTML(value='')))",
      "application/vnd.jupyter.widget-view+json": {
       "version_major": 2,
       "version_minor": 0,
       "model_id": "f5e0558b2365430b947920d14230c817"
      }
     },
     "metadata": {}
    },
    {
     "output_type": "stream",
     "name": "stdout",
     "text": [
      "\n│ loss values: 15.098 13.627 13.635 13.671 13.663 13.654 13.636 13.636 13.640 13.636 13.647 13.624 13.638 13.628 13.624 13.615 13.628 13.634 13.621 13.617 13.623 13.628 13.624 13.626 13.621 13.629 13.627 13.625 13.630 13.625 13.623 13.615 13.615 13.623 13.623 13.625 13.619 13.622 13.614 13.615 13.619 13.621 13.614 13.628 13.612 13.626 13.619 13.621 13.611 13.609 13.607 13.619 13.598 13.618 13.630 13.598 13.618 13.612 13.619 13.599 13.604 13.603 13.607 13.619 13.622 13.619 13.618 13.613 13.604 13.622 13.611 13.611 13.613 13.611 13.613 13.610 13.608 13.618 13.609 13.617 13.604 13.609 13.615 13.610 13.603 13.605 13.604 13.603 13.629 13.608 13.614 13.619 13.607 13.621 13.609 13.608 13.608 13.618 13.611 13.608\n│ Finished training.\n╰───────────────────────────\n\n╭───────────────────────────\n│Training Born (torch.complex64), Homogeneous,\n│         batchsize:10, torch.optim.adadelta, {}.\n"
     ]
    },
    {
     "output_type": "display_data",
     "data": {
      "text/plain": "HBox(children=(HTML(value=''), FloatProgress(value=0.0), HTML(value='')))",
      "application/vnd.jupyter.widget-view+json": {
       "version_major": 2,
       "version_minor": 0,
       "model_id": "2e702caf892c45afb766665b1bbb8d82"
      }
     },
     "metadata": {}
    },
    {
     "output_type": "display_data",
     "data": {
      "text/plain": "HBox(children=(HTML(value='epoch 0'), FloatProgress(value=0.0, max=34.0), HTML(value='')))",
      "application/vnd.jupyter.widget-view+json": {
       "version_major": 2,
       "version_minor": 0,
       "model_id": "042786f5e01941a68b516527ec1e776e"
      }
     },
     "metadata": {}
    },
    {
     "output_type": "display_data",
     "data": {
      "text/plain": "HBox(children=(HTML(value='epoch 1'), FloatProgress(value=0.0, max=34.0), HTML(value='')))",
      "application/vnd.jupyter.widget-view+json": {
       "version_major": 2,
       "version_minor": 0,
       "model_id": "6938a75159054a62a9112d75f4a4506d"
      }
     },
     "metadata": {}
    },
    {
     "output_type": "display_data",
     "data": {
      "text/plain": "HBox(children=(HTML(value='epoch 2'), FloatProgress(value=0.0, max=34.0), HTML(value='')))",
      "application/vnd.jupyter.widget-view+json": {
       "version_major": 2,
       "version_minor": 0,
       "model_id": "328ff22a094e40eebf258ebe6608d3f5"
      }
     },
     "metadata": {}
    },
    {
     "output_type": "display_data",
     "data": {
      "text/plain": "HBox(children=(HTML(value='epoch 3'), FloatProgress(value=0.0, max=34.0), HTML(value='')))",
      "application/vnd.jupyter.widget-view+json": {
       "version_major": 2,
       "version_minor": 0,
       "model_id": "81a151fb284f4f70a8e6d66bd850e1ef"
      }
     },
     "metadata": {}
    },
    {
     "output_type": "display_data",
     "data": {
      "text/plain": "HBox(children=(HTML(value='epoch 4'), FloatProgress(value=0.0, max=34.0), HTML(value='')))",
      "application/vnd.jupyter.widget-view+json": {
       "version_major": 2,
       "version_minor": 0,
       "model_id": "9f3fccbea86c4be09b5ea7ef8f7b68ef"
      }
     },
     "metadata": {}
    },
    {
     "output_type": "display_data",
     "data": {
      "text/plain": "HBox(children=(HTML(value='epoch 5'), FloatProgress(value=0.0, max=34.0), HTML(value='')))",
      "application/vnd.jupyter.widget-view+json": {
       "version_major": 2,
       "version_minor": 0,
       "model_id": "8855140786164b7f9618bfa4cd52790a"
      }
     },
     "metadata": {}
    },
    {
     "output_type": "display_data",
     "data": {
      "text/plain": "HBox(children=(HTML(value='epoch 6'), FloatProgress(value=0.0, max=34.0), HTML(value='')))",
      "application/vnd.jupyter.widget-view+json": {
       "version_major": 2,
       "version_minor": 0,
       "model_id": "7e65fa760f8a4bf298950de997458999"
      }
     },
     "metadata": {}
    },
    {
     "output_type": "display_data",
     "data": {
      "text/plain": "HBox(children=(HTML(value='epoch 7'), FloatProgress(value=0.0, max=34.0), HTML(value='')))",
      "application/vnd.jupyter.widget-view+json": {
       "version_major": 2,
       "version_minor": 0,
       "model_id": "66ef9b4661284397be95d2f81792290d"
      }
     },
     "metadata": {}
    },
    {
     "output_type": "display_data",
     "data": {
      "text/plain": "HBox(children=(HTML(value='epoch 8'), FloatProgress(value=0.0, max=34.0), HTML(value='')))",
      "application/vnd.jupyter.widget-view+json": {
       "version_major": 2,
       "version_minor": 0,
       "model_id": "92ec107db7db45539dbf2c2dfbe45b1c"
      }
     },
     "metadata": {}
    },
    {
     "output_type": "display_data",
     "data": {
      "text/plain": "HBox(children=(HTML(value='epoch 9'), FloatProgress(value=0.0, max=34.0), HTML(value='')))",
      "application/vnd.jupyter.widget-view+json": {
       "version_major": 2,
       "version_minor": 0,
       "model_id": "81ed771931c84162a09b8449d6924c86"
      }
     },
     "metadata": {}
    },
    {
     "output_type": "display_data",
     "data": {
      "text/plain": "HBox(children=(HTML(value='epoch 10'), FloatProgress(value=0.0, max=34.0), HTML(value='')))",
      "application/vnd.jupyter.widget-view+json": {
       "version_major": 2,
       "version_minor": 0,
       "model_id": "c7ac2e44386543789fc643d2f87182a3"
      }
     },
     "metadata": {}
    },
    {
     "output_type": "display_data",
     "data": {
      "text/plain": "HBox(children=(HTML(value='epoch 11'), FloatProgress(value=0.0, max=34.0), HTML(value='')))",
      "application/vnd.jupyter.widget-view+json": {
       "version_major": 2,
       "version_minor": 0,
       "model_id": "d25de6776e5e4777af8f9353df00f1d0"
      }
     },
     "metadata": {}
    },
    {
     "output_type": "display_data",
     "data": {
      "text/plain": "HBox(children=(HTML(value='epoch 12'), FloatProgress(value=0.0, max=34.0), HTML(value='')))",
      "application/vnd.jupyter.widget-view+json": {
       "version_major": 2,
       "version_minor": 0,
       "model_id": "21dc3132d9ac4760a6f62b1d038c448f"
      }
     },
     "metadata": {}
    },
    {
     "output_type": "display_data",
     "data": {
      "text/plain": "HBox(children=(HTML(value='epoch 13'), FloatProgress(value=0.0, max=34.0), HTML(value='')))",
      "application/vnd.jupyter.widget-view+json": {
       "version_major": 2,
       "version_minor": 0,
       "model_id": "9229bb64cace43f2b4fa69d5a774b3b2"
      }
     },
     "metadata": {}
    },
    {
     "output_type": "display_data",
     "data": {
      "text/plain": "HBox(children=(HTML(value='epoch 14'), FloatProgress(value=0.0, max=34.0), HTML(value='')))",
      "application/vnd.jupyter.widget-view+json": {
       "version_major": 2,
       "version_minor": 0,
       "model_id": "394110b7c2714177849e27a982b6e449"
      }
     },
     "metadata": {}
    },
    {
     "output_type": "display_data",
     "data": {
      "text/plain": "HBox(children=(HTML(value='epoch 15'), FloatProgress(value=0.0, max=34.0), HTML(value='')))",
      "application/vnd.jupyter.widget-view+json": {
       "version_major": 2,
       "version_minor": 0,
       "model_id": "c47a7adb47414ceda9cabb2cf7526b83"
      }
     },
     "metadata": {}
    },
    {
     "output_type": "display_data",
     "data": {
      "text/plain": "HBox(children=(HTML(value='epoch 16'), FloatProgress(value=0.0, max=34.0), HTML(value='')))",
      "application/vnd.jupyter.widget-view+json": {
       "version_major": 2,
       "version_minor": 0,
       "model_id": "f85f4d674d5c458480f81130d3daa0d2"
      }
     },
     "metadata": {}
    },
    {
     "output_type": "display_data",
     "data": {
      "text/plain": "HBox(children=(HTML(value='epoch 17'), FloatProgress(value=0.0, max=34.0), HTML(value='')))",
      "application/vnd.jupyter.widget-view+json": {
       "version_major": 2,
       "version_minor": 0,
       "model_id": "56aaf35e9cdf44daa3800075a14f1e34"
      }
     },
     "metadata": {}
    },
    {
     "output_type": "display_data",
     "data": {
      "text/plain": "HBox(children=(HTML(value='epoch 18'), FloatProgress(value=0.0, max=34.0), HTML(value='')))",
      "application/vnd.jupyter.widget-view+json": {
       "version_major": 2,
       "version_minor": 0,
       "model_id": "e14fe6f3f1ba4cd2894b698a2f998b54"
      }
     },
     "metadata": {}
    },
    {
     "output_type": "stream",
     "name": "stdout",
     "text": [
      "│(clipping right_boundary real max 1.4e+03 to size 1000)\n"
     ]
    },
    {
     "output_type": "display_data",
     "data": {
      "text/plain": "HBox(children=(HTML(value='epoch 19'), FloatProgress(value=0.0, max=34.0), HTML(value='')))",
      "application/vnd.jupyter.widget-view+json": {
       "version_major": 2,
       "version_minor": 0,
       "model_id": "b8f8cf47d550463bb7f3460e9adca888"
      }
     },
     "metadata": {}
    },
    {
     "output_type": "display_data",
     "data": {
      "text/plain": "HBox(children=(HTML(value='epoch 20'), FloatProgress(value=0.0, max=34.0), HTML(value='')))",
      "application/vnd.jupyter.widget-view+json": {
       "version_major": 2,
       "version_minor": 0,
       "model_id": "08c1a850cb664283aa653406d939fccf"
      }
     },
     "metadata": {}
    },
    {
     "output_type": "display_data",
     "data": {
      "text/plain": "HBox(children=(HTML(value='epoch 21'), FloatProgress(value=0.0, max=34.0), HTML(value='')))",
      "application/vnd.jupyter.widget-view+json": {
       "version_major": 2,
       "version_minor": 0,
       "model_id": "b62851b8275845dca4ce157ca4e5c582"
      }
     },
     "metadata": {}
    },
    {
     "output_type": "display_data",
     "data": {
      "text/plain": "HBox(children=(HTML(value='epoch 22'), FloatProgress(value=0.0, max=34.0), HTML(value='')))",
      "application/vnd.jupyter.widget-view+json": {
       "version_major": 2,
       "version_minor": 0,
       "model_id": "bfe96359e8da4373a0a5fd780b724df7"
      }
     },
     "metadata": {}
    },
    {
     "output_type": "display_data",
     "data": {
      "text/plain": "HBox(children=(HTML(value='epoch 23'), FloatProgress(value=0.0, max=34.0), HTML(value='')))",
      "application/vnd.jupyter.widget-view+json": {
       "version_major": 2,
       "version_minor": 0,
       "model_id": "c5306e15ae2d429ea85874f5a6462fd9"
      }
     },
     "metadata": {}
    },
    {
     "output_type": "display_data",
     "data": {
      "text/plain": "HBox(children=(HTML(value='epoch 24'), FloatProgress(value=0.0, max=34.0), HTML(value='')))",
      "application/vnd.jupyter.widget-view+json": {
       "version_major": 2,
       "version_minor": 0,
       "model_id": "d38c5154751d4e80b8cc311d7f3e127a"
      }
     },
     "metadata": {}
    },
    {
     "output_type": "display_data",
     "data": {
      "text/plain": "HBox(children=(HTML(value='epoch 25'), FloatProgress(value=0.0, max=34.0), HTML(value='')))",
      "application/vnd.jupyter.widget-view+json": {
       "version_major": 2,
       "version_minor": 0,
       "model_id": "def57b401a9549a3b1466cff92b68db2"
      }
     },
     "metadata": {}
    },
    {
     "output_type": "display_data",
     "data": {
      "text/plain": "HBox(children=(HTML(value='epoch 26'), FloatProgress(value=0.0, max=34.0), HTML(value='')))",
      "application/vnd.jupyter.widget-view+json": {
       "version_major": 2,
       "version_minor": 0,
       "model_id": "f1f393e185c94ed1b1322107f132391d"
      }
     },
     "metadata": {}
    },
    {
     "output_type": "display_data",
     "data": {
      "text/plain": "HBox(children=(HTML(value='epoch 27'), FloatProgress(value=0.0, max=34.0), HTML(value='')))",
      "application/vnd.jupyter.widget-view+json": {
       "version_major": 2,
       "version_minor": 0,
       "model_id": "1f78f5cc3c684cb29f3e3d1c1078ff06"
      }
     },
     "metadata": {}
    },
    {
     "output_type": "display_data",
     "data": {
      "text/plain": "HBox(children=(HTML(value='epoch 28'), FloatProgress(value=0.0, max=34.0), HTML(value='')))",
      "application/vnd.jupyter.widget-view+json": {
       "version_major": 2,
       "version_minor": 0,
       "model_id": "f0ca57267ac344df99f751a9f6192519"
      }
     },
     "metadata": {}
    },
    {
     "output_type": "display_data",
     "data": {
      "text/plain": "HBox(children=(HTML(value='epoch 29'), FloatProgress(value=0.0, max=34.0), HTML(value='')))",
      "application/vnd.jupyter.widget-view+json": {
       "version_major": 2,
       "version_minor": 0,
       "model_id": "dc3d9b4c3660456d9af7b807083b768d"
      }
     },
     "metadata": {}
    },
    {
     "output_type": "display_data",
     "data": {
      "text/plain": "HBox(children=(HTML(value='epoch 30'), FloatProgress(value=0.0, max=34.0), HTML(value='')))",
      "application/vnd.jupyter.widget-view+json": {
       "version_major": 2,
       "version_minor": 0,
       "model_id": "aa73f9f90ad54b4291aee5159c1ceee6"
      }
     },
     "metadata": {}
    },
    {
     "output_type": "display_data",
     "data": {
      "text/plain": "HBox(children=(HTML(value='epoch 31'), FloatProgress(value=0.0, max=34.0), HTML(value='')))",
      "application/vnd.jupyter.widget-view+json": {
       "version_major": 2,
       "version_minor": 0,
       "model_id": "81acc7bda7064103b4d94b3ad5e6be59"
      }
     },
     "metadata": {}
    },
    {
     "output_type": "display_data",
     "data": {
      "text/plain": "HBox(children=(HTML(value='epoch 32'), FloatProgress(value=0.0, max=34.0), HTML(value='')))",
      "application/vnd.jupyter.widget-view+json": {
       "version_major": 2,
       "version_minor": 0,
       "model_id": "ba4405d7ee524fffa07c44ceb23c3048"
      }
     },
     "metadata": {}
    },
    {
     "output_type": "display_data",
     "data": {
      "text/plain": "HBox(children=(HTML(value='epoch 33'), FloatProgress(value=0.0, max=34.0), HTML(value='')))",
      "application/vnd.jupyter.widget-view+json": {
       "version_major": 2,
       "version_minor": 0,
       "model_id": "ee9bb4b2a5ef4a32a231232487fdad4a"
      }
     },
     "metadata": {}
    },
    {
     "output_type": "display_data",
     "data": {
      "text/plain": "HBox(children=(HTML(value='epoch 34'), FloatProgress(value=0.0, max=34.0), HTML(value='')))",
      "application/vnd.jupyter.widget-view+json": {
       "version_major": 2,
       "version_minor": 0,
       "model_id": "ef14bb8e645e456cb78fff8032524027"
      }
     },
     "metadata": {}
    },
    {
     "output_type": "display_data",
     "data": {
      "text/plain": "HBox(children=(HTML(value='epoch 35'), FloatProgress(value=0.0, max=34.0), HTML(value='')))",
      "application/vnd.jupyter.widget-view+json": {
       "version_major": 2,
       "version_minor": 0,
       "model_id": "2da8e122b68342d9b85071a19ef5dee4"
      }
     },
     "metadata": {}
    },
    {
     "output_type": "display_data",
     "data": {
      "text/plain": "HBox(children=(HTML(value='epoch 36'), FloatProgress(value=0.0, max=34.0), HTML(value='')))",
      "application/vnd.jupyter.widget-view+json": {
       "version_major": 2,
       "version_minor": 0,
       "model_id": "d22b9bdcacf443048ddd51437dccb1cf"
      }
     },
     "metadata": {}
    },
    {
     "output_type": "display_data",
     "data": {
      "text/plain": "HBox(children=(HTML(value='epoch 37'), FloatProgress(value=0.0, max=34.0), HTML(value='')))",
      "application/vnd.jupyter.widget-view+json": {
       "version_major": 2,
       "version_minor": 0,
       "model_id": "6325794e386c4e73bbcaf6755903a01e"
      }
     },
     "metadata": {}
    },
    {
     "output_type": "display_data",
     "data": {
      "text/plain": "HBox(children=(HTML(value='epoch 38'), FloatProgress(value=0.0, max=34.0), HTML(value='')))",
      "application/vnd.jupyter.widget-view+json": {
       "version_major": 2,
       "version_minor": 0,
       "model_id": "24411570e6cb479083ed6406bf96f45a"
      }
     },
     "metadata": {}
    },
    {
     "output_type": "display_data",
     "data": {
      "text/plain": "HBox(children=(HTML(value='epoch 39'), FloatProgress(value=0.0, max=34.0), HTML(value='')))",
      "application/vnd.jupyter.widget-view+json": {
       "version_major": 2,
       "version_minor": 0,
       "model_id": "323cc7a7d38a4ce5baae68103f50de19"
      }
     },
     "metadata": {}
    },
    {
     "output_type": "display_data",
     "data": {
      "text/plain": "HBox(children=(HTML(value='epoch 40'), FloatProgress(value=0.0, max=34.0), HTML(value='')))",
      "application/vnd.jupyter.widget-view+json": {
       "version_major": 2,
       "version_minor": 0,
       "model_id": "d63873f951e545b1a52919931c6b81fc"
      }
     },
     "metadata": {}
    },
    {
     "output_type": "display_data",
     "data": {
      "text/plain": "HBox(children=(HTML(value='epoch 41'), FloatProgress(value=0.0, max=34.0), HTML(value='')))",
      "application/vnd.jupyter.widget-view+json": {
       "version_major": 2,
       "version_minor": 0,
       "model_id": "be00340fbaa84af29ef5bdcf7c14bcf2"
      }
     },
     "metadata": {}
    },
    {
     "output_type": "display_data",
     "data": {
      "text/plain": "HBox(children=(HTML(value='epoch 42'), FloatProgress(value=0.0, max=34.0), HTML(value='')))",
      "application/vnd.jupyter.widget-view+json": {
       "version_major": 2,
       "version_minor": 0,
       "model_id": "753e7edf197a4ab984766489dcfe9beb"
      }
     },
     "metadata": {}
    },
    {
     "output_type": "display_data",
     "data": {
      "text/plain": "HBox(children=(HTML(value='epoch 43'), FloatProgress(value=0.0, max=34.0), HTML(value='')))",
      "application/vnd.jupyter.widget-view+json": {
       "version_major": 2,
       "version_minor": 0,
       "model_id": "cc6621e99c0e43ca97a643640d06d838"
      }
     },
     "metadata": {}
    },
    {
     "output_type": "display_data",
     "data": {
      "text/plain": "HBox(children=(HTML(value='epoch 44'), FloatProgress(value=0.0, max=34.0), HTML(value='')))",
      "application/vnd.jupyter.widget-view+json": {
       "version_major": 2,
       "version_minor": 0,
       "model_id": "9ed1c2e78829459c9aa31017fea702a0"
      }
     },
     "metadata": {}
    },
    {
     "output_type": "display_data",
     "data": {
      "text/plain": "HBox(children=(HTML(value='epoch 45'), FloatProgress(value=0.0, max=34.0), HTML(value='')))",
      "application/vnd.jupyter.widget-view+json": {
       "version_major": 2,
       "version_minor": 0,
       "model_id": "6c9acfca373447c3b9617c794c94f892"
      }
     },
     "metadata": {}
    },
    {
     "output_type": "display_data",
     "data": {
      "text/plain": "HBox(children=(HTML(value='epoch 46'), FloatProgress(value=0.0, max=34.0), HTML(value='')))",
      "application/vnd.jupyter.widget-view+json": {
       "version_major": 2,
       "version_minor": 0,
       "model_id": "6d71352126f74b8983484c0eb178e283"
      }
     },
     "metadata": {}
    },
    {
     "output_type": "display_data",
     "data": {
      "text/plain": "HBox(children=(HTML(value='epoch 47'), FloatProgress(value=0.0, max=34.0), HTML(value='')))",
      "application/vnd.jupyter.widget-view+json": {
       "version_major": 2,
       "version_minor": 0,
       "model_id": "22d0e387c2f0415f882b03997fe51ca3"
      }
     },
     "metadata": {}
    },
    {
     "output_type": "display_data",
     "data": {
      "text/plain": "HBox(children=(HTML(value='epoch 48'), FloatProgress(value=0.0, max=34.0), HTML(value='')))",
      "application/vnd.jupyter.widget-view+json": {
       "version_major": 2,
       "version_minor": 0,
       "model_id": "355a69ca583c4915a34e96431b510657"
      }
     },
     "metadata": {}
    },
    {
     "output_type": "display_data",
     "data": {
      "text/plain": "HBox(children=(HTML(value='epoch 49'), FloatProgress(value=0.0, max=34.0), HTML(value='')))",
      "application/vnd.jupyter.widget-view+json": {
       "version_major": 2,
       "version_minor": 0,
       "model_id": "6af66eda07f0469eb5bb2d84c1a6e68b"
      }
     },
     "metadata": {}
    },
    {
     "output_type": "display_data",
     "data": {
      "text/plain": "HBox(children=(HTML(value='epoch 50'), FloatProgress(value=0.0, max=34.0), HTML(value='')))",
      "application/vnd.jupyter.widget-view+json": {
       "version_major": 2,
       "version_minor": 0,
       "model_id": "f65fa6436cbd41b388356963e3c4b6ad"
      }
     },
     "metadata": {}
    },
    {
     "output_type": "display_data",
     "data": {
      "text/plain": "HBox(children=(HTML(value='epoch 51'), FloatProgress(value=0.0, max=34.0), HTML(value='')))",
      "application/vnd.jupyter.widget-view+json": {
       "version_major": 2,
       "version_minor": 0,
       "model_id": "595913b36aaf41dab2879bbb22dadbe9"
      }
     },
     "metadata": {}
    },
    {
     "output_type": "display_data",
     "data": {
      "text/plain": "HBox(children=(HTML(value='epoch 52'), FloatProgress(value=0.0, max=34.0), HTML(value='')))",
      "application/vnd.jupyter.widget-view+json": {
       "version_major": 2,
       "version_minor": 0,
       "model_id": "6e87a7c8675444daaccdd58560f42c76"
      }
     },
     "metadata": {}
    },
    {
     "output_type": "display_data",
     "data": {
      "text/plain": "HBox(children=(HTML(value='epoch 53'), FloatProgress(value=0.0, max=34.0), HTML(value='')))",
      "application/vnd.jupyter.widget-view+json": {
       "version_major": 2,
       "version_minor": 0,
       "model_id": "251ae4bc5aa843e9bbf6fca64ffb99b2"
      }
     },
     "metadata": {}
    },
    {
     "output_type": "display_data",
     "data": {
      "text/plain": "HBox(children=(HTML(value='epoch 54'), FloatProgress(value=0.0, max=34.0), HTML(value='')))",
      "application/vnd.jupyter.widget-view+json": {
       "version_major": 2,
       "version_minor": 0,
       "model_id": "e3d00c2d9f7b458cb7d7b0b45ca8e874"
      }
     },
     "metadata": {}
    },
    {
     "output_type": "display_data",
     "data": {
      "text/plain": "HBox(children=(HTML(value='epoch 55'), FloatProgress(value=0.0, max=34.0), HTML(value='')))",
      "application/vnd.jupyter.widget-view+json": {
       "version_major": 2,
       "version_minor": 0,
       "model_id": "45a1ff6418ff48a4bf13cfddb1be9ab0"
      }
     },
     "metadata": {}
    },
    {
     "output_type": "display_data",
     "data": {
      "text/plain": "HBox(children=(HTML(value='epoch 56'), FloatProgress(value=0.0, max=34.0), HTML(value='')))",
      "application/vnd.jupyter.widget-view+json": {
       "version_major": 2,
       "version_minor": 0,
       "model_id": "9ead752888f44dab9b6e2080c61d9873"
      }
     },
     "metadata": {}
    },
    {
     "output_type": "display_data",
     "data": {
      "text/plain": "HBox(children=(HTML(value='epoch 57'), FloatProgress(value=0.0, max=34.0), HTML(value='')))",
      "application/vnd.jupyter.widget-view+json": {
       "version_major": 2,
       "version_minor": 0,
       "model_id": "ac87bef5b719458f9f373353334c3797"
      }
     },
     "metadata": {}
    },
    {
     "output_type": "display_data",
     "data": {
      "text/plain": "HBox(children=(HTML(value='epoch 58'), FloatProgress(value=0.0, max=34.0), HTML(value='')))",
      "application/vnd.jupyter.widget-view+json": {
       "version_major": 2,
       "version_minor": 0,
       "model_id": "b789c8c5452a4562b336d5abb53035d4"
      }
     },
     "metadata": {}
    },
    {
     "output_type": "display_data",
     "data": {
      "text/plain": "HBox(children=(HTML(value='epoch 59'), FloatProgress(value=0.0, max=34.0), HTML(value='')))",
      "application/vnd.jupyter.widget-view+json": {
       "version_major": 2,
       "version_minor": 0,
       "model_id": "552f3ab69a50490aa1a21162e519a6eb"
      }
     },
     "metadata": {}
    },
    {
     "output_type": "display_data",
     "data": {
      "text/plain": "HBox(children=(HTML(value='epoch 60'), FloatProgress(value=0.0, max=34.0), HTML(value='')))",
      "application/vnd.jupyter.widget-view+json": {
       "version_major": 2,
       "version_minor": 0,
       "model_id": "0fef7c208a934ad09e7ac011cadfc81a"
      }
     },
     "metadata": {}
    },
    {
     "output_type": "display_data",
     "data": {
      "text/plain": "HBox(children=(HTML(value='epoch 61'), FloatProgress(value=0.0, max=34.0), HTML(value='')))",
      "application/vnd.jupyter.widget-view+json": {
       "version_major": 2,
       "version_minor": 0,
       "model_id": "530f10eb222944c5a71d38063489fcbc"
      }
     },
     "metadata": {}
    },
    {
     "output_type": "display_data",
     "data": {
      "text/plain": "HBox(children=(HTML(value='epoch 62'), FloatProgress(value=0.0, max=34.0), HTML(value='')))",
      "application/vnd.jupyter.widget-view+json": {
       "version_major": 2,
       "version_minor": 0,
       "model_id": "2ab28748ce034f979ce33afb493da279"
      }
     },
     "metadata": {}
    },
    {
     "output_type": "display_data",
     "data": {
      "text/plain": "HBox(children=(HTML(value='epoch 63'), FloatProgress(value=0.0, max=34.0), HTML(value='')))",
      "application/vnd.jupyter.widget-view+json": {
       "version_major": 2,
       "version_minor": 0,
       "model_id": "76f504faab874c99bbb3711d35cca26b"
      }
     },
     "metadata": {}
    },
    {
     "output_type": "display_data",
     "data": {
      "text/plain": "HBox(children=(HTML(value='epoch 64'), FloatProgress(value=0.0, max=34.0), HTML(value='')))",
      "application/vnd.jupyter.widget-view+json": {
       "version_major": 2,
       "version_minor": 0,
       "model_id": "f243006e93b649249b4fdd53c077c278"
      }
     },
     "metadata": {}
    },
    {
     "output_type": "display_data",
     "data": {
      "text/plain": "HBox(children=(HTML(value='epoch 65'), FloatProgress(value=0.0, max=34.0), HTML(value='')))",
      "application/vnd.jupyter.widget-view+json": {
       "version_major": 2,
       "version_minor": 0,
       "model_id": "04b97e10813b4c00acc561a2c8c20c55"
      }
     },
     "metadata": {}
    },
    {
     "output_type": "display_data",
     "data": {
      "text/plain": "HBox(children=(HTML(value='epoch 66'), FloatProgress(value=0.0, max=34.0), HTML(value='')))",
      "application/vnd.jupyter.widget-view+json": {
       "version_major": 2,
       "version_minor": 0,
       "model_id": "f5cf161673874b9d869198eace164346"
      }
     },
     "metadata": {}
    },
    {
     "output_type": "display_data",
     "data": {
      "text/plain": "HBox(children=(HTML(value='epoch 67'), FloatProgress(value=0.0, max=34.0), HTML(value='')))",
      "application/vnd.jupyter.widget-view+json": {
       "version_major": 2,
       "version_minor": 0,
       "model_id": "cda5071c16fa4693a17e902d090c23fa"
      }
     },
     "metadata": {}
    },
    {
     "output_type": "display_data",
     "data": {
      "text/plain": "HBox(children=(HTML(value='epoch 68'), FloatProgress(value=0.0, max=34.0), HTML(value='')))",
      "application/vnd.jupyter.widget-view+json": {
       "version_major": 2,
       "version_minor": 0,
       "model_id": "1fb7b20d0dea4833a60a1f4e56538739"
      }
     },
     "metadata": {}
    },
    {
     "output_type": "display_data",
     "data": {
      "text/plain": "HBox(children=(HTML(value='epoch 69'), FloatProgress(value=0.0, max=34.0), HTML(value='')))",
      "application/vnd.jupyter.widget-view+json": {
       "version_major": 2,
       "version_minor": 0,
       "model_id": "05f5359bf25040eaa346d0657711ac88"
      }
     },
     "metadata": {}
    },
    {
     "output_type": "display_data",
     "data": {
      "text/plain": "HBox(children=(HTML(value='epoch 70'), FloatProgress(value=0.0, max=34.0), HTML(value='')))",
      "application/vnd.jupyter.widget-view+json": {
       "version_major": 2,
       "version_minor": 0,
       "model_id": "b6fa8f74f295419fa91544dfa6c1f93b"
      }
     },
     "metadata": {}
    },
    {
     "output_type": "display_data",
     "data": {
      "text/plain": "HBox(children=(HTML(value='epoch 71'), FloatProgress(value=0.0, max=34.0), HTML(value='')))",
      "application/vnd.jupyter.widget-view+json": {
       "version_major": 2,
       "version_minor": 0,
       "model_id": "f6ab9d9116974c41b24b052b0e5be04a"
      }
     },
     "metadata": {}
    },
    {
     "output_type": "display_data",
     "data": {
      "text/plain": "HBox(children=(HTML(value='epoch 72'), FloatProgress(value=0.0, max=34.0), HTML(value='')))",
      "application/vnd.jupyter.widget-view+json": {
       "version_major": 2,
       "version_minor": 0,
       "model_id": "d14d16fd5d114360b7a078ca04707a8d"
      }
     },
     "metadata": {}
    },
    {
     "output_type": "display_data",
     "data": {
      "text/plain": "HBox(children=(HTML(value='epoch 73'), FloatProgress(value=0.0, max=34.0), HTML(value='')))",
      "application/vnd.jupyter.widget-view+json": {
       "version_major": 2,
       "version_minor": 0,
       "model_id": "85f19d8b01be453c88b4d87a27a3334e"
      }
     },
     "metadata": {}
    },
    {
     "output_type": "display_data",
     "data": {
      "text/plain": "HBox(children=(HTML(value='epoch 74'), FloatProgress(value=0.0, max=34.0), HTML(value='')))",
      "application/vnd.jupyter.widget-view+json": {
       "version_major": 2,
       "version_minor": 0,
       "model_id": "93aff453446044a78850881d685eaf89"
      }
     },
     "metadata": {}
    },
    {
     "output_type": "display_data",
     "data": {
      "text/plain": "HBox(children=(HTML(value='epoch 75'), FloatProgress(value=0.0, max=34.0), HTML(value='')))",
      "application/vnd.jupyter.widget-view+json": {
       "version_major": 2,
       "version_minor": 0,
       "model_id": "78bdb602b00f40718166c5475d61dc38"
      }
     },
     "metadata": {}
    },
    {
     "output_type": "display_data",
     "data": {
      "text/plain": "HBox(children=(HTML(value='epoch 76'), FloatProgress(value=0.0, max=34.0), HTML(value='')))",
      "application/vnd.jupyter.widget-view+json": {
       "version_major": 2,
       "version_minor": 0,
       "model_id": "9aeadcf4e5664cd4b632c8255cb21af6"
      }
     },
     "metadata": {}
    },
    {
     "output_type": "display_data",
     "data": {
      "text/plain": "HBox(children=(HTML(value='epoch 77'), FloatProgress(value=0.0, max=34.0), HTML(value='')))",
      "application/vnd.jupyter.widget-view+json": {
       "version_major": 2,
       "version_minor": 0,
       "model_id": "9e8eab5e02e444c686ebcfd3ce6b55e9"
      }
     },
     "metadata": {}
    },
    {
     "output_type": "display_data",
     "data": {
      "text/plain": "HBox(children=(HTML(value='epoch 78'), FloatProgress(value=0.0, max=34.0), HTML(value='')))",
      "application/vnd.jupyter.widget-view+json": {
       "version_major": 2,
       "version_minor": 0,
       "model_id": "04a54f0a91d148df8db639d0c22ea889"
      }
     },
     "metadata": {}
    },
    {
     "output_type": "display_data",
     "data": {
      "text/plain": "HBox(children=(HTML(value='epoch 79'), FloatProgress(value=0.0, max=34.0), HTML(value='')))",
      "application/vnd.jupyter.widget-view+json": {
       "version_major": 2,
       "version_minor": 0,
       "model_id": "8d9bb9c318a44b25ac0a183adb3f0cd2"
      }
     },
     "metadata": {}
    },
    {
     "output_type": "display_data",
     "data": {
      "text/plain": "HBox(children=(HTML(value='epoch 80'), FloatProgress(value=0.0, max=34.0), HTML(value='')))",
      "application/vnd.jupyter.widget-view+json": {
       "version_major": 2,
       "version_minor": 0,
       "model_id": "8bb397ae85eb4d359d7a34e0dd1daca0"
      }
     },
     "metadata": {}
    },
    {
     "output_type": "display_data",
     "data": {
      "text/plain": "HBox(children=(HTML(value='epoch 81'), FloatProgress(value=0.0, max=34.0), HTML(value='')))",
      "application/vnd.jupyter.widget-view+json": {
       "version_major": 2,
       "version_minor": 0,
       "model_id": "88362cbef07e42efaa8269348927f113"
      }
     },
     "metadata": {}
    },
    {
     "output_type": "display_data",
     "data": {
      "text/plain": "HBox(children=(HTML(value='epoch 82'), FloatProgress(value=0.0, max=34.0), HTML(value='')))",
      "application/vnd.jupyter.widget-view+json": {
       "version_major": 2,
       "version_minor": 0,
       "model_id": "1c2948f9be0041e0a1bd8e542b1c3ff2"
      }
     },
     "metadata": {}
    },
    {
     "output_type": "display_data",
     "data": {
      "text/plain": "HBox(children=(HTML(value='epoch 83'), FloatProgress(value=0.0, max=34.0), HTML(value='')))",
      "application/vnd.jupyter.widget-view+json": {
       "version_major": 2,
       "version_minor": 0,
       "model_id": "3823f310dede4c2cb6ee2aaac5c825cf"
      }
     },
     "metadata": {}
    },
    {
     "output_type": "display_data",
     "data": {
      "text/plain": "HBox(children=(HTML(value='epoch 84'), FloatProgress(value=0.0, max=34.0), HTML(value='')))",
      "application/vnd.jupyter.widget-view+json": {
       "version_major": 2,
       "version_minor": 0,
       "model_id": "16fcd9c3dfc94a91b8b3e1674bfa6e42"
      }
     },
     "metadata": {}
    },
    {
     "output_type": "display_data",
     "data": {
      "text/plain": "HBox(children=(HTML(value='epoch 85'), FloatProgress(value=0.0, max=34.0), HTML(value='')))",
      "application/vnd.jupyter.widget-view+json": {
       "version_major": 2,
       "version_minor": 0,
       "model_id": "6cb2c59bfc2240e8ab4bb764b98a2c7e"
      }
     },
     "metadata": {}
    },
    {
     "output_type": "display_data",
     "data": {
      "text/plain": "HBox(children=(HTML(value='epoch 86'), FloatProgress(value=0.0, max=34.0), HTML(value='')))",
      "application/vnd.jupyter.widget-view+json": {
       "version_major": 2,
       "version_minor": 0,
       "model_id": "145bc01c3eba45b9b65c028f06d5c430"
      }
     },
     "metadata": {}
    },
    {
     "output_type": "display_data",
     "data": {
      "text/plain": "HBox(children=(HTML(value='epoch 87'), FloatProgress(value=0.0, max=34.0), HTML(value='')))",
      "application/vnd.jupyter.widget-view+json": {
       "version_major": 2,
       "version_minor": 0,
       "model_id": "d8c4e71b1ca44c878affce8cfb9e89b1"
      }
     },
     "metadata": {}
    },
    {
     "output_type": "display_data",
     "data": {
      "text/plain": "HBox(children=(HTML(value='epoch 88'), FloatProgress(value=0.0, max=34.0), HTML(value='')))",
      "application/vnd.jupyter.widget-view+json": {
       "version_major": 2,
       "version_minor": 0,
       "model_id": "dc5d5a5ae70f4bf882acb36b3a71beef"
      }
     },
     "metadata": {}
    },
    {
     "output_type": "display_data",
     "data": {
      "text/plain": "HBox(children=(HTML(value='epoch 89'), FloatProgress(value=0.0, max=34.0), HTML(value='')))",
      "application/vnd.jupyter.widget-view+json": {
       "version_major": 2,
       "version_minor": 0,
       "model_id": "e92b16d65a7c4c249cf15327249e4c5b"
      }
     },
     "metadata": {}
    },
    {
     "output_type": "display_data",
     "data": {
      "text/plain": "HBox(children=(HTML(value='epoch 90'), FloatProgress(value=0.0, max=34.0), HTML(value='')))",
      "application/vnd.jupyter.widget-view+json": {
       "version_major": 2,
       "version_minor": 0,
       "model_id": "8169302aad47460982f7156fa730f5bb"
      }
     },
     "metadata": {}
    },
    {
     "output_type": "display_data",
     "data": {
      "text/plain": "HBox(children=(HTML(value='epoch 91'), FloatProgress(value=0.0, max=34.0), HTML(value='')))",
      "application/vnd.jupyter.widget-view+json": {
       "version_major": 2,
       "version_minor": 0,
       "model_id": "b9addca68d204acfa91f8f7049dbd931"
      }
     },
     "metadata": {}
    },
    {
     "output_type": "display_data",
     "data": {
      "text/plain": "HBox(children=(HTML(value='epoch 92'), FloatProgress(value=0.0, max=34.0), HTML(value='')))",
      "application/vnd.jupyter.widget-view+json": {
       "version_major": 2,
       "version_minor": 0,
       "model_id": "712764ed382747b38f8b862528a9e8f0"
      }
     },
     "metadata": {}
    },
    {
     "output_type": "display_data",
     "data": {
      "text/plain": "HBox(children=(HTML(value='epoch 93'), FloatProgress(value=0.0, max=34.0), HTML(value='')))",
      "application/vnd.jupyter.widget-view+json": {
       "version_major": 2,
       "version_minor": 0,
       "model_id": "a2e4da2548024d7abed52b9fae06f705"
      }
     },
     "metadata": {}
    },
    {
     "output_type": "display_data",
     "data": {
      "text/plain": "HBox(children=(HTML(value='epoch 94'), FloatProgress(value=0.0, max=34.0), HTML(value='')))",
      "application/vnd.jupyter.widget-view+json": {
       "version_major": 2,
       "version_minor": 0,
       "model_id": "a46dc26309164d16bf962a27a89f2906"
      }
     },
     "metadata": {}
    },
    {
     "output_type": "display_data",
     "data": {
      "text/plain": "HBox(children=(HTML(value='epoch 95'), FloatProgress(value=0.0, max=34.0), HTML(value='')))",
      "application/vnd.jupyter.widget-view+json": {
       "version_major": 2,
       "version_minor": 0,
       "model_id": "d94cd75033d44e36b22f6a833506ef4d"
      }
     },
     "metadata": {}
    },
    {
     "output_type": "display_data",
     "data": {
      "text/plain": "HBox(children=(HTML(value='epoch 96'), FloatProgress(value=0.0, max=34.0), HTML(value='')))",
      "application/vnd.jupyter.widget-view+json": {
       "version_major": 2,
       "version_minor": 0,
       "model_id": "55af66c9e2db4351b01be1dffbb1dbfb"
      }
     },
     "metadata": {}
    },
    {
     "output_type": "display_data",
     "data": {
      "text/plain": "HBox(children=(HTML(value='epoch 97'), FloatProgress(value=0.0, max=34.0), HTML(value='')))",
      "application/vnd.jupyter.widget-view+json": {
       "version_major": 2,
       "version_minor": 0,
       "model_id": "8c0f543a59a44ecaa79ae5cabf48a190"
      }
     },
     "metadata": {}
    },
    {
     "output_type": "display_data",
     "data": {
      "text/plain": "HBox(children=(HTML(value='epoch 98'), FloatProgress(value=0.0, max=34.0), HTML(value='')))",
      "application/vnd.jupyter.widget-view+json": {
       "version_major": 2,
       "version_minor": 0,
       "model_id": "73d6d1e27c0e45438109b411e75997a4"
      }
     },
     "metadata": {}
    },
    {
     "output_type": "display_data",
     "data": {
      "text/plain": "HBox(children=(HTML(value='epoch 99'), FloatProgress(value=0.0, max=34.0), HTML(value='')))",
      "application/vnd.jupyter.widget-view+json": {
       "version_major": 2,
       "version_minor": 0,
       "model_id": "4a2d1199ca21407a9a6ea731e62c30bb"
      }
     },
     "metadata": {}
    },
    {
     "output_type": "stream",
     "name": "stdout",
     "text": [
      "\n│ loss values: 15.126 13.644 13.638 13.555 12.886 12.762 12.683 12.542 12.463 12.437 12.386 12.333 12.381 12.067 11.634 11.353 11.222 11.197 11.263 11.212 11.155 11.152 11.174 11.142 11.132 11.124 11.106 11.131 11.103 11.109 11.123 11.122 11.110 11.100 11.106 11.119 11.116 11.133 11.125 11.109 11.095 11.096 11.100 11.123 11.111 11.090 11.113 11.126 11.154 11.090 11.085 11.100 11.120 11.100 11.140 11.083 11.110 11.081 11.082 11.093 11.111 11.098 11.107 11.122 11.106 11.089 11.099 11.112 11.109 11.101 11.090 11.090 11.114 11.103 11.093 11.092 11.115 11.089 11.092 11.113 11.099 11.094 11.098 11.103 11.084 11.151 11.092 11.079 11.117 11.093 11.118 11.098 11.104 11.087 11.155 11.092 11.084 11.092 11.105 11.089\n│ Finished training.\n╰───────────────────────────\n\n╭───────────────────────────\n│Training Born (torch.float32), Homogeneous + log_stability,\n│         batchsize:10, torch.optim.adadelta, {}.\n"
     ]
    },
    {
     "output_type": "display_data",
     "data": {
      "text/plain": "HBox(children=(HTML(value=''), FloatProgress(value=0.0), HTML(value='')))",
      "application/vnd.jupyter.widget-view+json": {
       "version_major": 2,
       "version_minor": 0,
       "model_id": "ae08a51d98a8455789cdab341552d0df"
      }
     },
     "metadata": {}
    },
    {
     "output_type": "display_data",
     "data": {
      "text/plain": "HBox(children=(HTML(value='epoch 0'), FloatProgress(value=0.0, max=34.0), HTML(value='')))",
      "application/vnd.jupyter.widget-view+json": {
       "version_major": 2,
       "version_minor": 0,
       "model_id": "88592728c5fc4ae98e0159de9514e7fd"
      }
     },
     "metadata": {}
    },
    {
     "output_type": "display_data",
     "data": {
      "text/plain": "HBox(children=(HTML(value='epoch 1'), FloatProgress(value=0.0, max=34.0), HTML(value='')))",
      "application/vnd.jupyter.widget-view+json": {
       "version_major": 2,
       "version_minor": 0,
       "model_id": "5d67fd3133b245b5a9a846fe38722818"
      }
     },
     "metadata": {}
    },
    {
     "output_type": "display_data",
     "data": {
      "text/plain": "HBox(children=(HTML(value='epoch 2'), FloatProgress(value=0.0, max=34.0), HTML(value='')))",
      "application/vnd.jupyter.widget-view+json": {
       "version_major": 2,
       "version_minor": 0,
       "model_id": "b8e84e7c0de84994b9ecd20605a52afc"
      }
     },
     "metadata": {}
    },
    {
     "output_type": "display_data",
     "data": {
      "text/plain": "HBox(children=(HTML(value='epoch 3'), FloatProgress(value=0.0, max=34.0), HTML(value='')))",
      "application/vnd.jupyter.widget-view+json": {
       "version_major": 2,
       "version_minor": 0,
       "model_id": "408700e5297d4c209a615a2e0b044da3"
      }
     },
     "metadata": {}
    },
    {
     "output_type": "display_data",
     "data": {
      "text/plain": "HBox(children=(HTML(value='epoch 4'), FloatProgress(value=0.0, max=34.0), HTML(value='')))",
      "application/vnd.jupyter.widget-view+json": {
       "version_major": 2,
       "version_minor": 0,
       "model_id": "5cd6de16b6c744f398388b50717764d4"
      }
     },
     "metadata": {}
    },
    {
     "output_type": "display_data",
     "data": {
      "text/plain": "HBox(children=(HTML(value='epoch 5'), FloatProgress(value=0.0, max=34.0), HTML(value='')))",
      "application/vnd.jupyter.widget-view+json": {
       "version_major": 2,
       "version_minor": 0,
       "model_id": "cc999d03535647b792530d53a1b9c368"
      }
     },
     "metadata": {}
    },
    {
     "output_type": "display_data",
     "data": {
      "text/plain": "HBox(children=(HTML(value='epoch 6'), FloatProgress(value=0.0, max=34.0), HTML(value='')))",
      "application/vnd.jupyter.widget-view+json": {
       "version_major": 2,
       "version_minor": 0,
       "model_id": "9f9faed51cec452b9fc58e30e5fa4faa"
      }
     },
     "metadata": {}
    },
    {
     "output_type": "display_data",
     "data": {
      "text/plain": "HBox(children=(HTML(value='epoch 7'), FloatProgress(value=0.0, max=34.0), HTML(value='')))",
      "application/vnd.jupyter.widget-view+json": {
       "version_major": 2,
       "version_minor": 0,
       "model_id": "4db9fb7d5d3f4804ba7163147b9687ae"
      }
     },
     "metadata": {}
    },
    {
     "output_type": "display_data",
     "data": {
      "text/plain": "HBox(children=(HTML(value='epoch 8'), FloatProgress(value=0.0, max=34.0), HTML(value='')))",
      "application/vnd.jupyter.widget-view+json": {
       "version_major": 2,
       "version_minor": 0,
       "model_id": "3bdd6944363f41b1ae3b36a0412ef5d1"
      }
     },
     "metadata": {}
    },
    {
     "output_type": "display_data",
     "data": {
      "text/plain": "HBox(children=(HTML(value='epoch 9'), FloatProgress(value=0.0, max=34.0), HTML(value='')))",
      "application/vnd.jupyter.widget-view+json": {
       "version_major": 2,
       "version_minor": 0,
       "model_id": "2ba7ebea28164e63aee046af4eb5e129"
      }
     },
     "metadata": {}
    },
    {
     "output_type": "display_data",
     "data": {
      "text/plain": "HBox(children=(HTML(value='epoch 10'), FloatProgress(value=0.0, max=34.0), HTML(value='')))",
      "application/vnd.jupyter.widget-view+json": {
       "version_major": 2,
       "version_minor": 0,
       "model_id": "6981b5adabc04e0cacaf3601361ea53b"
      }
     },
     "metadata": {}
    },
    {
     "output_type": "display_data",
     "data": {
      "text/plain": "HBox(children=(HTML(value='epoch 11'), FloatProgress(value=0.0, max=34.0), HTML(value='')))",
      "application/vnd.jupyter.widget-view+json": {
       "version_major": 2,
       "version_minor": 0,
       "model_id": "bb50222ad84d4b149c2824153cda9c6c"
      }
     },
     "metadata": {}
    },
    {
     "output_type": "display_data",
     "data": {
      "text/plain": "HBox(children=(HTML(value='epoch 12'), FloatProgress(value=0.0, max=34.0), HTML(value='')))",
      "application/vnd.jupyter.widget-view+json": {
       "version_major": 2,
       "version_minor": 0,
       "model_id": "f0455683db844a1aa188c1f8613e598d"
      }
     },
     "metadata": {}
    },
    {
     "output_type": "display_data",
     "data": {
      "text/plain": "HBox(children=(HTML(value='epoch 13'), FloatProgress(value=0.0, max=34.0), HTML(value='')))",
      "application/vnd.jupyter.widget-view+json": {
       "version_major": 2,
       "version_minor": 0,
       "model_id": "fa615f2bbad2426fa0e2803fcd7ee2b3"
      }
     },
     "metadata": {}
    },
    {
     "output_type": "display_data",
     "data": {
      "text/plain": "HBox(children=(HTML(value='epoch 14'), FloatProgress(value=0.0, max=34.0), HTML(value='')))",
      "application/vnd.jupyter.widget-view+json": {
       "version_major": 2,
       "version_minor": 0,
       "model_id": "0f45ad45de304aeb8b741cb67ee0c420"
      }
     },
     "metadata": {}
    },
    {
     "output_type": "display_data",
     "data": {
      "text/plain": "HBox(children=(HTML(value='epoch 15'), FloatProgress(value=0.0, max=34.0), HTML(value='')))",
      "application/vnd.jupyter.widget-view+json": {
       "version_major": 2,
       "version_minor": 0,
       "model_id": "ef60f3cf1beb457d9aa767f4aabda3f8"
      }
     },
     "metadata": {}
    },
    {
     "output_type": "display_data",
     "data": {
      "text/plain": "HBox(children=(HTML(value='epoch 16'), FloatProgress(value=0.0, max=34.0), HTML(value='')))",
      "application/vnd.jupyter.widget-view+json": {
       "version_major": 2,
       "version_minor": 0,
       "model_id": "04866e3346894546bfaba970e93cc6f5"
      }
     },
     "metadata": {}
    },
    {
     "output_type": "display_data",
     "data": {
      "text/plain": "HBox(children=(HTML(value='epoch 17'), FloatProgress(value=0.0, max=34.0), HTML(value='')))",
      "application/vnd.jupyter.widget-view+json": {
       "version_major": 2,
       "version_minor": 0,
       "model_id": "0679a16985ff458cbe80b5c34b63646c"
      }
     },
     "metadata": {}
    },
    {
     "output_type": "display_data",
     "data": {
      "text/plain": "HBox(children=(HTML(value='epoch 18'), FloatProgress(value=0.0, max=34.0), HTML(value='')))",
      "application/vnd.jupyter.widget-view+json": {
       "version_major": 2,
       "version_minor": 0,
       "model_id": "32d9b5ee08a84045a87ffaf317e958a5"
      }
     },
     "metadata": {}
    },
    {
     "output_type": "display_data",
     "data": {
      "text/plain": "HBox(children=(HTML(value='epoch 19'), FloatProgress(value=0.0, max=34.0), HTML(value='')))",
      "application/vnd.jupyter.widget-view+json": {
       "version_major": 2,
       "version_minor": 0,
       "model_id": "b43810cac71a4389808278d0e2914baf"
      }
     },
     "metadata": {}
    },
    {
     "output_type": "display_data",
     "data": {
      "text/plain": "HBox(children=(HTML(value='epoch 20'), FloatProgress(value=0.0, max=34.0), HTML(value='')))",
      "application/vnd.jupyter.widget-view+json": {
       "version_major": 2,
       "version_minor": 0,
       "model_id": "0befef66404c44589b98820957ca4f11"
      }
     },
     "metadata": {}
    },
    {
     "output_type": "display_data",
     "data": {
      "text/plain": "HBox(children=(HTML(value='epoch 21'), FloatProgress(value=0.0, max=34.0), HTML(value='')))",
      "application/vnd.jupyter.widget-view+json": {
       "version_major": 2,
       "version_minor": 0,
       "model_id": "d569a8560bc344609dd1198c383b6b16"
      }
     },
     "metadata": {}
    },
    {
     "output_type": "display_data",
     "data": {
      "text/plain": "HBox(children=(HTML(value='epoch 22'), FloatProgress(value=0.0, max=34.0), HTML(value='')))",
      "application/vnd.jupyter.widget-view+json": {
       "version_major": 2,
       "version_minor": 0,
       "model_id": "0c0aacdaa941404ea553949b3e8768de"
      }
     },
     "metadata": {}
    },
    {
     "output_type": "display_data",
     "data": {
      "text/plain": "HBox(children=(HTML(value='epoch 23'), FloatProgress(value=0.0, max=34.0), HTML(value='')))",
      "application/vnd.jupyter.widget-view+json": {
       "version_major": 2,
       "version_minor": 0,
       "model_id": "d7017bfc90474ae881be4f6b909db941"
      }
     },
     "metadata": {}
    },
    {
     "output_type": "display_data",
     "data": {
      "text/plain": "HBox(children=(HTML(value='epoch 24'), FloatProgress(value=0.0, max=34.0), HTML(value='')))",
      "application/vnd.jupyter.widget-view+json": {
       "version_major": 2,
       "version_minor": 0,
       "model_id": "fcccb047693545959d6faa8ab3d70298"
      }
     },
     "metadata": {}
    },
    {
     "output_type": "display_data",
     "data": {
      "text/plain": "HBox(children=(HTML(value='epoch 25'), FloatProgress(value=0.0, max=34.0), HTML(value='')))",
      "application/vnd.jupyter.widget-view+json": {
       "version_major": 2,
       "version_minor": 0,
       "model_id": "39a5ef00615c4c0eb52d981a4b5fc8b2"
      }
     },
     "metadata": {}
    },
    {
     "output_type": "display_data",
     "data": {
      "text/plain": "HBox(children=(HTML(value='epoch 26'), FloatProgress(value=0.0, max=34.0), HTML(value='')))",
      "application/vnd.jupyter.widget-view+json": {
       "version_major": 2,
       "version_minor": 0,
       "model_id": "5b530ca8f8dd48b5b3e834aedaf50ac2"
      }
     },
     "metadata": {}
    },
    {
     "output_type": "display_data",
     "data": {
      "text/plain": "HBox(children=(HTML(value='epoch 27'), FloatProgress(value=0.0, max=34.0), HTML(value='')))",
      "application/vnd.jupyter.widget-view+json": {
       "version_major": 2,
       "version_minor": 0,
       "model_id": "39e8155fcbe3428a9c7defe8b8758e6a"
      }
     },
     "metadata": {}
    },
    {
     "output_type": "display_data",
     "data": {
      "text/plain": "HBox(children=(HTML(value='epoch 28'), FloatProgress(value=0.0, max=34.0), HTML(value='')))",
      "application/vnd.jupyter.widget-view+json": {
       "version_major": 2,
       "version_minor": 0,
       "model_id": "fe6a7850eccb464f9d9425b6e126b567"
      }
     },
     "metadata": {}
    },
    {
     "output_type": "display_data",
     "data": {
      "text/plain": "HBox(children=(HTML(value='epoch 29'), FloatProgress(value=0.0, max=34.0), HTML(value='')))",
      "application/vnd.jupyter.widget-view+json": {
       "version_major": 2,
       "version_minor": 0,
       "model_id": "47e16a177c2e401e9236bef8d437f108"
      }
     },
     "metadata": {}
    },
    {
     "output_type": "display_data",
     "data": {
      "text/plain": "HBox(children=(HTML(value='epoch 30'), FloatProgress(value=0.0, max=34.0), HTML(value='')))",
      "application/vnd.jupyter.widget-view+json": {
       "version_major": 2,
       "version_minor": 0,
       "model_id": "c3e29beb36d8430f9e5d1e939982b12a"
      }
     },
     "metadata": {}
    },
    {
     "output_type": "display_data",
     "data": {
      "text/plain": "HBox(children=(HTML(value='epoch 31'), FloatProgress(value=0.0, max=34.0), HTML(value='')))",
      "application/vnd.jupyter.widget-view+json": {
       "version_major": 2,
       "version_minor": 0,
       "model_id": "d6eb65e2dcab4f4ea92325dd00188232"
      }
     },
     "metadata": {}
    },
    {
     "output_type": "display_data",
     "data": {
      "text/plain": "HBox(children=(HTML(value='epoch 32'), FloatProgress(value=0.0, max=34.0), HTML(value='')))",
      "application/vnd.jupyter.widget-view+json": {
       "version_major": 2,
       "version_minor": 0,
       "model_id": "c67d523958c54ed688c4198e915ed5fb"
      }
     },
     "metadata": {}
    },
    {
     "output_type": "display_data",
     "data": {
      "text/plain": "HBox(children=(HTML(value='epoch 33'), FloatProgress(value=0.0, max=34.0), HTML(value='')))",
      "application/vnd.jupyter.widget-view+json": {
       "version_major": 2,
       "version_minor": 0,
       "model_id": "7e075ff79e5d401a83c3153d3655ce09"
      }
     },
     "metadata": {}
    },
    {
     "output_type": "display_data",
     "data": {
      "text/plain": "HBox(children=(HTML(value='epoch 34'), FloatProgress(value=0.0, max=34.0), HTML(value='')))",
      "application/vnd.jupyter.widget-view+json": {
       "version_major": 2,
       "version_minor": 0,
       "model_id": "1773979d584240afa7a9b61162d6fa7e"
      }
     },
     "metadata": {}
    },
    {
     "output_type": "display_data",
     "data": {
      "text/plain": "HBox(children=(HTML(value='epoch 35'), FloatProgress(value=0.0, max=34.0), HTML(value='')))",
      "application/vnd.jupyter.widget-view+json": {
       "version_major": 2,
       "version_minor": 0,
       "model_id": "728f9127bf324e35bba37388702b7224"
      }
     },
     "metadata": {}
    },
    {
     "output_type": "display_data",
     "data": {
      "text/plain": "HBox(children=(HTML(value='epoch 36'), FloatProgress(value=0.0, max=34.0), HTML(value='')))",
      "application/vnd.jupyter.widget-view+json": {
       "version_major": 2,
       "version_minor": 0,
       "model_id": "38643aa3064741e98df0b81e710b44e2"
      }
     },
     "metadata": {}
    },
    {
     "output_type": "display_data",
     "data": {
      "text/plain": "HBox(children=(HTML(value='epoch 37'), FloatProgress(value=0.0, max=34.0), HTML(value='')))",
      "application/vnd.jupyter.widget-view+json": {
       "version_major": 2,
       "version_minor": 0,
       "model_id": "7a9028bbc55144318c067898c5fdf88b"
      }
     },
     "metadata": {}
    },
    {
     "output_type": "display_data",
     "data": {
      "text/plain": "HBox(children=(HTML(value='epoch 38'), FloatProgress(value=0.0, max=34.0), HTML(value='')))",
      "application/vnd.jupyter.widget-view+json": {
       "version_major": 2,
       "version_minor": 0,
       "model_id": "f8f5c30f3de94b6d950e19e408de6063"
      }
     },
     "metadata": {}
    },
    {
     "output_type": "display_data",
     "data": {
      "text/plain": "HBox(children=(HTML(value='epoch 39'), FloatProgress(value=0.0, max=34.0), HTML(value='')))",
      "application/vnd.jupyter.widget-view+json": {
       "version_major": 2,
       "version_minor": 0,
       "model_id": "d9c39a19d02044ffb2a58370272477f6"
      }
     },
     "metadata": {}
    },
    {
     "output_type": "display_data",
     "data": {
      "text/plain": "HBox(children=(HTML(value='epoch 40'), FloatProgress(value=0.0, max=34.0), HTML(value='')))",
      "application/vnd.jupyter.widget-view+json": {
       "version_major": 2,
       "version_minor": 0,
       "model_id": "6674daf659c946018ac574b9f6b1cb1e"
      }
     },
     "metadata": {}
    },
    {
     "output_type": "display_data",
     "data": {
      "text/plain": "HBox(children=(HTML(value='epoch 41'), FloatProgress(value=0.0, max=34.0), HTML(value='')))",
      "application/vnd.jupyter.widget-view+json": {
       "version_major": 2,
       "version_minor": 0,
       "model_id": "78460deafcc347f792aa6077bd0b482d"
      }
     },
     "metadata": {}
    },
    {
     "output_type": "display_data",
     "data": {
      "text/plain": "HBox(children=(HTML(value='epoch 42'), FloatProgress(value=0.0, max=34.0), HTML(value='')))",
      "application/vnd.jupyter.widget-view+json": {
       "version_major": 2,
       "version_minor": 0,
       "model_id": "0b827ea826cc44f6b11305fc1b93e908"
      }
     },
     "metadata": {}
    },
    {
     "output_type": "display_data",
     "data": {
      "text/plain": "HBox(children=(HTML(value='epoch 43'), FloatProgress(value=0.0, max=34.0), HTML(value='')))",
      "application/vnd.jupyter.widget-view+json": {
       "version_major": 2,
       "version_minor": 0,
       "model_id": "6472c0548e3d4d52b56caa1403f57bca"
      }
     },
     "metadata": {}
    },
    {
     "output_type": "display_data",
     "data": {
      "text/plain": "HBox(children=(HTML(value='epoch 44'), FloatProgress(value=0.0, max=34.0), HTML(value='')))",
      "application/vnd.jupyter.widget-view+json": {
       "version_major": 2,
       "version_minor": 0,
       "model_id": "6d754b228de6487994a0f7c657a106fa"
      }
     },
     "metadata": {}
    },
    {
     "output_type": "display_data",
     "data": {
      "text/plain": "HBox(children=(HTML(value='epoch 45'), FloatProgress(value=0.0, max=34.0), HTML(value='')))",
      "application/vnd.jupyter.widget-view+json": {
       "version_major": 2,
       "version_minor": 0,
       "model_id": "b7c08bc8a90d403da58db4f26b108e09"
      }
     },
     "metadata": {}
    },
    {
     "output_type": "display_data",
     "data": {
      "text/plain": "HBox(children=(HTML(value='epoch 46'), FloatProgress(value=0.0, max=34.0), HTML(value='')))",
      "application/vnd.jupyter.widget-view+json": {
       "version_major": 2,
       "version_minor": 0,
       "model_id": "73aa656b53034ff2b0912d0ebefac33a"
      }
     },
     "metadata": {}
    },
    {
     "output_type": "display_data",
     "data": {
      "text/plain": "HBox(children=(HTML(value='epoch 47'), FloatProgress(value=0.0, max=34.0), HTML(value='')))",
      "application/vnd.jupyter.widget-view+json": {
       "version_major": 2,
       "version_minor": 0,
       "model_id": "bf28c2a965b24b0db2c689bbdbcebce1"
      }
     },
     "metadata": {}
    },
    {
     "output_type": "display_data",
     "data": {
      "text/plain": "HBox(children=(HTML(value='epoch 48'), FloatProgress(value=0.0, max=34.0), HTML(value='')))",
      "application/vnd.jupyter.widget-view+json": {
       "version_major": 2,
       "version_minor": 0,
       "model_id": "f5eca4f99bab41e09bf311f485049716"
      }
     },
     "metadata": {}
    },
    {
     "output_type": "display_data",
     "data": {
      "text/plain": "HBox(children=(HTML(value='epoch 49'), FloatProgress(value=0.0, max=34.0), HTML(value='')))",
      "application/vnd.jupyter.widget-view+json": {
       "version_major": 2,
       "version_minor": 0,
       "model_id": "5ed15c19594e4016b5026b53c5616fea"
      }
     },
     "metadata": {}
    },
    {
     "output_type": "display_data",
     "data": {
      "text/plain": "HBox(children=(HTML(value='epoch 50'), FloatProgress(value=0.0, max=34.0), HTML(value='')))",
      "application/vnd.jupyter.widget-view+json": {
       "version_major": 2,
       "version_minor": 0,
       "model_id": "1b565167b5ed4254a90611a9e3d96dd6"
      }
     },
     "metadata": {}
    },
    {
     "output_type": "display_data",
     "data": {
      "text/plain": "HBox(children=(HTML(value='epoch 51'), FloatProgress(value=0.0, max=34.0), HTML(value='')))",
      "application/vnd.jupyter.widget-view+json": {
       "version_major": 2,
       "version_minor": 0,
       "model_id": "8a350c817bd74421b584b3b1380084ca"
      }
     },
     "metadata": {}
    },
    {
     "output_type": "display_data",
     "data": {
      "text/plain": "HBox(children=(HTML(value='epoch 52'), FloatProgress(value=0.0, max=34.0), HTML(value='')))",
      "application/vnd.jupyter.widget-view+json": {
       "version_major": 2,
       "version_minor": 0,
       "model_id": "e8ed833cf8f04af6a573854ae00aab2f"
      }
     },
     "metadata": {}
    },
    {
     "output_type": "display_data",
     "data": {
      "text/plain": "HBox(children=(HTML(value='epoch 53'), FloatProgress(value=0.0, max=34.0), HTML(value='')))",
      "application/vnd.jupyter.widget-view+json": {
       "version_major": 2,
       "version_minor": 0,
       "model_id": "511b76f7873b483897086cb4a7366a1c"
      }
     },
     "metadata": {}
    },
    {
     "output_type": "display_data",
     "data": {
      "text/plain": "HBox(children=(HTML(value='epoch 54'), FloatProgress(value=0.0, max=34.0), HTML(value='')))",
      "application/vnd.jupyter.widget-view+json": {
       "version_major": 2,
       "version_minor": 0,
       "model_id": "7f0a09fa46d24031a6f94bad5b0f3107"
      }
     },
     "metadata": {}
    },
    {
     "output_type": "display_data",
     "data": {
      "text/plain": "HBox(children=(HTML(value='epoch 55'), FloatProgress(value=0.0, max=34.0), HTML(value='')))",
      "application/vnd.jupyter.widget-view+json": {
       "version_major": 2,
       "version_minor": 0,
       "model_id": "9ba882b2e445400683ea890749d7fd43"
      }
     },
     "metadata": {}
    },
    {
     "output_type": "display_data",
     "data": {
      "text/plain": "HBox(children=(HTML(value='epoch 56'), FloatProgress(value=0.0, max=34.0), HTML(value='')))",
      "application/vnd.jupyter.widget-view+json": {
       "version_major": 2,
       "version_minor": 0,
       "model_id": "2c6ebd2497cd48c4871ac80754d6cac4"
      }
     },
     "metadata": {}
    },
    {
     "output_type": "display_data",
     "data": {
      "text/plain": "HBox(children=(HTML(value='epoch 57'), FloatProgress(value=0.0, max=34.0), HTML(value='')))",
      "application/vnd.jupyter.widget-view+json": {
       "version_major": 2,
       "version_minor": 0,
       "model_id": "0ba59227a34740a98897aae1f3b01239"
      }
     },
     "metadata": {}
    },
    {
     "output_type": "display_data",
     "data": {
      "text/plain": "HBox(children=(HTML(value='epoch 58'), FloatProgress(value=0.0, max=34.0), HTML(value='')))",
      "application/vnd.jupyter.widget-view+json": {
       "version_major": 2,
       "version_minor": 0,
       "model_id": "85b0c67e6cf1468298a98ed3ede22102"
      }
     },
     "metadata": {}
    },
    {
     "output_type": "display_data",
     "data": {
      "text/plain": "HBox(children=(HTML(value='epoch 59'), FloatProgress(value=0.0, max=34.0), HTML(value='')))",
      "application/vnd.jupyter.widget-view+json": {
       "version_major": 2,
       "version_minor": 0,
       "model_id": "dbe014eb9814401b9273866d415ac067"
      }
     },
     "metadata": {}
    },
    {
     "output_type": "display_data",
     "data": {
      "text/plain": "HBox(children=(HTML(value='epoch 60'), FloatProgress(value=0.0, max=34.0), HTML(value='')))",
      "application/vnd.jupyter.widget-view+json": {
       "version_major": 2,
       "version_minor": 0,
       "model_id": "bb7539de5aae4d36ae82d21cf98ec37a"
      }
     },
     "metadata": {}
    },
    {
     "output_type": "display_data",
     "data": {
      "text/plain": "HBox(children=(HTML(value='epoch 61'), FloatProgress(value=0.0, max=34.0), HTML(value='')))",
      "application/vnd.jupyter.widget-view+json": {
       "version_major": 2,
       "version_minor": 0,
       "model_id": "6253d1627dbb4573a9cb573f48b7c5de"
      }
     },
     "metadata": {}
    },
    {
     "output_type": "display_data",
     "data": {
      "text/plain": "HBox(children=(HTML(value='epoch 62'), FloatProgress(value=0.0, max=34.0), HTML(value='')))",
      "application/vnd.jupyter.widget-view+json": {
       "version_major": 2,
       "version_minor": 0,
       "model_id": "10a41c7890d64ad7aca92b3b5a7847fa"
      }
     },
     "metadata": {}
    },
    {
     "output_type": "display_data",
     "data": {
      "text/plain": "HBox(children=(HTML(value='epoch 63'), FloatProgress(value=0.0, max=34.0), HTML(value='')))",
      "application/vnd.jupyter.widget-view+json": {
       "version_major": 2,
       "version_minor": 0,
       "model_id": "76979faa813c47c9afb2cc075737c378"
      }
     },
     "metadata": {}
    },
    {
     "output_type": "display_data",
     "data": {
      "text/plain": "HBox(children=(HTML(value='epoch 64'), FloatProgress(value=0.0, max=34.0), HTML(value='')))",
      "application/vnd.jupyter.widget-view+json": {
       "version_major": 2,
       "version_minor": 0,
       "model_id": "007e58578e6647e49b38299d62c1947e"
      }
     },
     "metadata": {}
    },
    {
     "output_type": "display_data",
     "data": {
      "text/plain": "HBox(children=(HTML(value='epoch 65'), FloatProgress(value=0.0, max=34.0), HTML(value='')))",
      "application/vnd.jupyter.widget-view+json": {
       "version_major": 2,
       "version_minor": 0,
       "model_id": "2a7db447664d42cdb15b4ec9fa4f4725"
      }
     },
     "metadata": {}
    },
    {
     "output_type": "display_data",
     "data": {
      "text/plain": "HBox(children=(HTML(value='epoch 66'), FloatProgress(value=0.0, max=34.0), HTML(value='')))",
      "application/vnd.jupyter.widget-view+json": {
       "version_major": 2,
       "version_minor": 0,
       "model_id": "8f3d96fc5e174e6ab0e0a0819be2296c"
      }
     },
     "metadata": {}
    },
    {
     "output_type": "display_data",
     "data": {
      "text/plain": "HBox(children=(HTML(value='epoch 67'), FloatProgress(value=0.0, max=34.0), HTML(value='')))",
      "application/vnd.jupyter.widget-view+json": {
       "version_major": 2,
       "version_minor": 0,
       "model_id": "3e9fddfd4df04afda491a7b0fc0cc398"
      }
     },
     "metadata": {}
    },
    {
     "output_type": "display_data",
     "data": {
      "text/plain": "HBox(children=(HTML(value='epoch 68'), FloatProgress(value=0.0, max=34.0), HTML(value='')))",
      "application/vnd.jupyter.widget-view+json": {
       "version_major": 2,
       "version_minor": 0,
       "model_id": "3ecc63fd40b74ea2b33155eac45b684c"
      }
     },
     "metadata": {}
    },
    {
     "output_type": "display_data",
     "data": {
      "text/plain": "HBox(children=(HTML(value='epoch 69'), FloatProgress(value=0.0, max=34.0), HTML(value='')))",
      "application/vnd.jupyter.widget-view+json": {
       "version_major": 2,
       "version_minor": 0,
       "model_id": "27202fed3e34408ba920f566587ebcc8"
      }
     },
     "metadata": {}
    },
    {
     "output_type": "display_data",
     "data": {
      "text/plain": "HBox(children=(HTML(value='epoch 70'), FloatProgress(value=0.0, max=34.0), HTML(value='')))",
      "application/vnd.jupyter.widget-view+json": {
       "version_major": 2,
       "version_minor": 0,
       "model_id": "e7d2a5f0247f419a8b8bbcd34a6a33ae"
      }
     },
     "metadata": {}
    },
    {
     "output_type": "display_data",
     "data": {
      "text/plain": "HBox(children=(HTML(value='epoch 71'), FloatProgress(value=0.0, max=34.0), HTML(value='')))",
      "application/vnd.jupyter.widget-view+json": {
       "version_major": 2,
       "version_minor": 0,
       "model_id": "bf86072d628146538d131f222ff26374"
      }
     },
     "metadata": {}
    },
    {
     "output_type": "display_data",
     "data": {
      "text/plain": "HBox(children=(HTML(value='epoch 72'), FloatProgress(value=0.0, max=34.0), HTML(value='')))",
      "application/vnd.jupyter.widget-view+json": {
       "version_major": 2,
       "version_minor": 0,
       "model_id": "aca12bbd0bc24acf97bb32325dbcf77c"
      }
     },
     "metadata": {}
    },
    {
     "output_type": "display_data",
     "data": {
      "text/plain": "HBox(children=(HTML(value='epoch 73'), FloatProgress(value=0.0, max=34.0), HTML(value='')))",
      "application/vnd.jupyter.widget-view+json": {
       "version_major": 2,
       "version_minor": 0,
       "model_id": "faba40f426ce4878bc64efe8db290363"
      }
     },
     "metadata": {}
    },
    {
     "output_type": "display_data",
     "data": {
      "text/plain": "HBox(children=(HTML(value='epoch 74'), FloatProgress(value=0.0, max=34.0), HTML(value='')))",
      "application/vnd.jupyter.widget-view+json": {
       "version_major": 2,
       "version_minor": 0,
       "model_id": "91bfdb7b69194fafbc9365e1938b3c70"
      }
     },
     "metadata": {}
    },
    {
     "output_type": "display_data",
     "data": {
      "text/plain": "HBox(children=(HTML(value='epoch 75'), FloatProgress(value=0.0, max=34.0), HTML(value='')))",
      "application/vnd.jupyter.widget-view+json": {
       "version_major": 2,
       "version_minor": 0,
       "model_id": "1d5aa172131842b28f40ea1ba766336e"
      }
     },
     "metadata": {}
    },
    {
     "output_type": "display_data",
     "data": {
      "text/plain": "HBox(children=(HTML(value='epoch 76'), FloatProgress(value=0.0, max=34.0), HTML(value='')))",
      "application/vnd.jupyter.widget-view+json": {
       "version_major": 2,
       "version_minor": 0,
       "model_id": "48fc05f86396472b94a39a9148ae77c0"
      }
     },
     "metadata": {}
    },
    {
     "output_type": "display_data",
     "data": {
      "text/plain": "HBox(children=(HTML(value='epoch 77'), FloatProgress(value=0.0, max=34.0), HTML(value='')))",
      "application/vnd.jupyter.widget-view+json": {
       "version_major": 2,
       "version_minor": 0,
       "model_id": "cf8f3928931e427f82c1bd3b8bc3bc2f"
      }
     },
     "metadata": {}
    },
    {
     "output_type": "display_data",
     "data": {
      "text/plain": "HBox(children=(HTML(value='epoch 78'), FloatProgress(value=0.0, max=34.0), HTML(value='')))",
      "application/vnd.jupyter.widget-view+json": {
       "version_major": 2,
       "version_minor": 0,
       "model_id": "2cef49c29fc94c16b32f573ae354837e"
      }
     },
     "metadata": {}
    },
    {
     "output_type": "display_data",
     "data": {
      "text/plain": "HBox(children=(HTML(value='epoch 79'), FloatProgress(value=0.0, max=34.0), HTML(value='')))",
      "application/vnd.jupyter.widget-view+json": {
       "version_major": 2,
       "version_minor": 0,
       "model_id": "6e692a5df3c0448ab23ad20b9fc77cdb"
      }
     },
     "metadata": {}
    },
    {
     "output_type": "display_data",
     "data": {
      "text/plain": "HBox(children=(HTML(value='epoch 80'), FloatProgress(value=0.0, max=34.0), HTML(value='')))",
      "application/vnd.jupyter.widget-view+json": {
       "version_major": 2,
       "version_minor": 0,
       "model_id": "9e4e699371534817a84bf4ce191cabbf"
      }
     },
     "metadata": {}
    },
    {
     "output_type": "display_data",
     "data": {
      "text/plain": "HBox(children=(HTML(value='epoch 81'), FloatProgress(value=0.0, max=34.0), HTML(value='')))",
      "application/vnd.jupyter.widget-view+json": {
       "version_major": 2,
       "version_minor": 0,
       "model_id": "d9deec1c44bf4a36bd0bf52e67e29b40"
      }
     },
     "metadata": {}
    },
    {
     "output_type": "display_data",
     "data": {
      "text/plain": "HBox(children=(HTML(value='epoch 82'), FloatProgress(value=0.0, max=34.0), HTML(value='')))",
      "application/vnd.jupyter.widget-view+json": {
       "version_major": 2,
       "version_minor": 0,
       "model_id": "b5f0157648a44589bc7d7409f7a2b166"
      }
     },
     "metadata": {}
    },
    {
     "output_type": "display_data",
     "data": {
      "text/plain": "HBox(children=(HTML(value='epoch 83'), FloatProgress(value=0.0, max=34.0), HTML(value='')))",
      "application/vnd.jupyter.widget-view+json": {
       "version_major": 2,
       "version_minor": 0,
       "model_id": "627eb809723244208d077530da63980b"
      }
     },
     "metadata": {}
    },
    {
     "output_type": "display_data",
     "data": {
      "text/plain": "HBox(children=(HTML(value='epoch 84'), FloatProgress(value=0.0, max=34.0), HTML(value='')))",
      "application/vnd.jupyter.widget-view+json": {
       "version_major": 2,
       "version_minor": 0,
       "model_id": "31d54b582df54645b5f8aa38b80485b0"
      }
     },
     "metadata": {}
    },
    {
     "output_type": "display_data",
     "data": {
      "text/plain": "HBox(children=(HTML(value='epoch 85'), FloatProgress(value=0.0, max=34.0), HTML(value='')))",
      "application/vnd.jupyter.widget-view+json": {
       "version_major": 2,
       "version_minor": 0,
       "model_id": "027c8154115441bbac17ce51c1b5992f"
      }
     },
     "metadata": {}
    },
    {
     "output_type": "display_data",
     "data": {
      "text/plain": "HBox(children=(HTML(value='epoch 86'), FloatProgress(value=0.0, max=34.0), HTML(value='')))",
      "application/vnd.jupyter.widget-view+json": {
       "version_major": 2,
       "version_minor": 0,
       "model_id": "fa1bac793cb54599ba51264850bf61e0"
      }
     },
     "metadata": {}
    },
    {
     "output_type": "display_data",
     "data": {
      "text/plain": "HBox(children=(HTML(value='epoch 87'), FloatProgress(value=0.0, max=34.0), HTML(value='')))",
      "application/vnd.jupyter.widget-view+json": {
       "version_major": 2,
       "version_minor": 0,
       "model_id": "a232b2ecd569427888e2d2e3be8301fc"
      }
     },
     "metadata": {}
    },
    {
     "output_type": "display_data",
     "data": {
      "text/plain": "HBox(children=(HTML(value='epoch 88'), FloatProgress(value=0.0, max=34.0), HTML(value='')))",
      "application/vnd.jupyter.widget-view+json": {
       "version_major": 2,
       "version_minor": 0,
       "model_id": "022b1872f6f54af491e7cf0d5e3815d4"
      }
     },
     "metadata": {}
    },
    {
     "output_type": "display_data",
     "data": {
      "text/plain": "HBox(children=(HTML(value='epoch 89'), FloatProgress(value=0.0, max=34.0), HTML(value='')))",
      "application/vnd.jupyter.widget-view+json": {
       "version_major": 2,
       "version_minor": 0,
       "model_id": "4023175535af4b8794013f02638e2c99"
      }
     },
     "metadata": {}
    },
    {
     "output_type": "display_data",
     "data": {
      "text/plain": "HBox(children=(HTML(value='epoch 90'), FloatProgress(value=0.0, max=34.0), HTML(value='')))",
      "application/vnd.jupyter.widget-view+json": {
       "version_major": 2,
       "version_minor": 0,
       "model_id": "209c50a34e7b4b3aaa66c0f41cf7f615"
      }
     },
     "metadata": {}
    },
    {
     "output_type": "display_data",
     "data": {
      "text/plain": "HBox(children=(HTML(value='epoch 91'), FloatProgress(value=0.0, max=34.0), HTML(value='')))",
      "application/vnd.jupyter.widget-view+json": {
       "version_major": 2,
       "version_minor": 0,
       "model_id": "744f81c338404cfaa782fec4925a4e93"
      }
     },
     "metadata": {}
    },
    {
     "output_type": "display_data",
     "data": {
      "text/plain": "HBox(children=(HTML(value='epoch 92'), FloatProgress(value=0.0, max=34.0), HTML(value='')))",
      "application/vnd.jupyter.widget-view+json": {
       "version_major": 2,
       "version_minor": 0,
       "model_id": "9d3b71bab9d440f4aa8af2730db84933"
      }
     },
     "metadata": {}
    },
    {
     "output_type": "display_data",
     "data": {
      "text/plain": "HBox(children=(HTML(value='epoch 93'), FloatProgress(value=0.0, max=34.0), HTML(value='')))",
      "application/vnd.jupyter.widget-view+json": {
       "version_major": 2,
       "version_minor": 0,
       "model_id": "e9f71e5f3b244276b070c32cbb01ba4d"
      }
     },
     "metadata": {}
    },
    {
     "output_type": "display_data",
     "data": {
      "text/plain": "HBox(children=(HTML(value='epoch 94'), FloatProgress(value=0.0, max=34.0), HTML(value='')))",
      "application/vnd.jupyter.widget-view+json": {
       "version_major": 2,
       "version_minor": 0,
       "model_id": "f117fd75b9e24f20a138159541bf92db"
      }
     },
     "metadata": {}
    },
    {
     "output_type": "display_data",
     "data": {
      "text/plain": "HBox(children=(HTML(value='epoch 95'), FloatProgress(value=0.0, max=34.0), HTML(value='')))",
      "application/vnd.jupyter.widget-view+json": {
       "version_major": 2,
       "version_minor": 0,
       "model_id": "fa308e4fa270422aae8cdb16be78ed1b"
      }
     },
     "metadata": {}
    },
    {
     "output_type": "display_data",
     "data": {
      "text/plain": "HBox(children=(HTML(value='epoch 96'), FloatProgress(value=0.0, max=34.0), HTML(value='')))",
      "application/vnd.jupyter.widget-view+json": {
       "version_major": 2,
       "version_minor": 0,
       "model_id": "d06971caf70d40a5b395e0dba1d8841a"
      }
     },
     "metadata": {}
    },
    {
     "output_type": "display_data",
     "data": {
      "text/plain": "HBox(children=(HTML(value='epoch 97'), FloatProgress(value=0.0, max=34.0), HTML(value='')))",
      "application/vnd.jupyter.widget-view+json": {
       "version_major": 2,
       "version_minor": 0,
       "model_id": "ff52408f07b44148b092957db50f6881"
      }
     },
     "metadata": {}
    },
    {
     "output_type": "display_data",
     "data": {
      "text/plain": "HBox(children=(HTML(value='epoch 98'), FloatProgress(value=0.0, max=34.0), HTML(value='')))",
      "application/vnd.jupyter.widget-view+json": {
       "version_major": 2,
       "version_minor": 0,
       "model_id": "e3564b1f938042b0bdf489ac4134fdc7"
      }
     },
     "metadata": {}
    },
    {
     "output_type": "display_data",
     "data": {
      "text/plain": "HBox(children=(HTML(value='epoch 99'), FloatProgress(value=0.0, max=34.0), HTML(value='')))",
      "application/vnd.jupyter.widget-view+json": {
       "version_major": 2,
       "version_minor": 0,
       "model_id": "6caee5aadc9b4fd583208a610cdc1f2c"
      }
     },
     "metadata": {}
    },
    {
     "output_type": "stream",
     "name": "stdout",
     "text": [
      "\n│ loss values: 15.626 14.018 13.888 13.746 13.650 13.518 13.402 13.323 13.227 13.117 13.074 12.979 12.903 12.834 12.780 12.706 12.645 12.569 12.532 12.471 12.425 12.363 12.312 12.275 12.216 12.183 12.151 12.102 12.054 12.010 11.956 11.949 11.888 11.874 11.817 11.801 11.759 11.718 11.696 11.656 11.631 11.604 11.564 11.555 11.519 11.487 11.466 11.438 11.409 11.378 11.366 11.318 11.321 11.289 11.259 11.233 11.226 11.211 11.168 11.161 11.131 11.102 11.099 11.086 11.062 11.029 11.022 11.003 10.986 10.969 10.949 10.942 10.921 10.919 10.885 10.870 10.853 10.834 10.848 10.815 10.799 10.793 10.778 10.774 10.752 10.735 10.735 10.709 10.717 10.693 10.673 10.658 10.648 10.639 10.613 10.620 10.606 10.603 10.586 10.582\n│ Finished training.\n╰───────────────────────────\n\n╭───────────────────────────\n│Training Born (torch.complex64), Homogeneous + log_stability,\n│         batchsize:10, torch.optim.adadelta, {}.\n"
     ]
    },
    {
     "output_type": "display_data",
     "data": {
      "text/plain": "HBox(children=(HTML(value=''), FloatProgress(value=0.0), HTML(value='')))",
      "application/vnd.jupyter.widget-view+json": {
       "version_major": 2,
       "version_minor": 0,
       "model_id": "aa824938b2324c2482ad86a69e3d3f28"
      }
     },
     "metadata": {}
    },
    {
     "output_type": "display_data",
     "data": {
      "text/plain": "HBox(children=(HTML(value='epoch 0'), FloatProgress(value=0.0, max=34.0), HTML(value='')))",
      "application/vnd.jupyter.widget-view+json": {
       "version_major": 2,
       "version_minor": 0,
       "model_id": "bbf068f722004a60b539522cf7e4eb37"
      }
     },
     "metadata": {}
    },
    {
     "output_type": "display_data",
     "data": {
      "text/plain": "HBox(children=(HTML(value='epoch 1'), FloatProgress(value=0.0, max=34.0), HTML(value='')))",
      "application/vnd.jupyter.widget-view+json": {
       "version_major": 2,
       "version_minor": 0,
       "model_id": "49f74c60aece4b99a12de7d2b15494a6"
      }
     },
     "metadata": {}
    },
    {
     "output_type": "display_data",
     "data": {
      "text/plain": "HBox(children=(HTML(value='epoch 2'), FloatProgress(value=0.0, max=34.0), HTML(value='')))",
      "application/vnd.jupyter.widget-view+json": {
       "version_major": 2,
       "version_minor": 0,
       "model_id": "2b6bd4620dfd4b46984acfa20d78d73b"
      }
     },
     "metadata": {}
    },
    {
     "output_type": "display_data",
     "data": {
      "text/plain": "HBox(children=(HTML(value='epoch 3'), FloatProgress(value=0.0, max=34.0), HTML(value='')))",
      "application/vnd.jupyter.widget-view+json": {
       "version_major": 2,
       "version_minor": 0,
       "model_id": "0f0d830663a34e5abb55bb08ad3f0a61"
      }
     },
     "metadata": {}
    },
    {
     "output_type": "display_data",
     "data": {
      "text/plain": "HBox(children=(HTML(value='epoch 4'), FloatProgress(value=0.0, max=34.0), HTML(value='')))",
      "application/vnd.jupyter.widget-view+json": {
       "version_major": 2,
       "version_minor": 0,
       "model_id": "c5d52bc5f5394b9bb5c3ab7e1fedc640"
      }
     },
     "metadata": {}
    },
    {
     "output_type": "display_data",
     "data": {
      "text/plain": "HBox(children=(HTML(value='epoch 5'), FloatProgress(value=0.0, max=34.0), HTML(value='')))",
      "application/vnd.jupyter.widget-view+json": {
       "version_major": 2,
       "version_minor": 0,
       "model_id": "f8ab2528b8ac419f86a01dd81f4c50a6"
      }
     },
     "metadata": {}
    },
    {
     "output_type": "display_data",
     "data": {
      "text/plain": "HBox(children=(HTML(value='epoch 6'), FloatProgress(value=0.0, max=34.0), HTML(value='')))",
      "application/vnd.jupyter.widget-view+json": {
       "version_major": 2,
       "version_minor": 0,
       "model_id": "730829f0e47142e78fe76a984a42faab"
      }
     },
     "metadata": {}
    },
    {
     "output_type": "display_data",
     "data": {
      "text/plain": "HBox(children=(HTML(value='epoch 7'), FloatProgress(value=0.0, max=34.0), HTML(value='')))",
      "application/vnd.jupyter.widget-view+json": {
       "version_major": 2,
       "version_minor": 0,
       "model_id": "0d818359b1d24a24975853dee80b74ba"
      }
     },
     "metadata": {}
    },
    {
     "output_type": "display_data",
     "data": {
      "text/plain": "HBox(children=(HTML(value='epoch 8'), FloatProgress(value=0.0, max=34.0), HTML(value='')))",
      "application/vnd.jupyter.widget-view+json": {
       "version_major": 2,
       "version_minor": 0,
       "model_id": "26995d1ec5bd47bc8af8a95d484deb4f"
      }
     },
     "metadata": {}
    },
    {
     "output_type": "display_data",
     "data": {
      "text/plain": "HBox(children=(HTML(value='epoch 9'), FloatProgress(value=0.0, max=34.0), HTML(value='')))",
      "application/vnd.jupyter.widget-view+json": {
       "version_major": 2,
       "version_minor": 0,
       "model_id": "5e669f7a24f741f485d6de45e0522c58"
      }
     },
     "metadata": {}
    },
    {
     "output_type": "display_data",
     "data": {
      "text/plain": "HBox(children=(HTML(value='epoch 10'), FloatProgress(value=0.0, max=34.0), HTML(value='')))",
      "application/vnd.jupyter.widget-view+json": {
       "version_major": 2,
       "version_minor": 0,
       "model_id": "b20f07a2af1f40ad905151e8c4e0d02a"
      }
     },
     "metadata": {}
    },
    {
     "output_type": "display_data",
     "data": {
      "text/plain": "HBox(children=(HTML(value='epoch 11'), FloatProgress(value=0.0, max=34.0), HTML(value='')))",
      "application/vnd.jupyter.widget-view+json": {
       "version_major": 2,
       "version_minor": 0,
       "model_id": "4316fc9c5d3c44379a718583d4a81d33"
      }
     },
     "metadata": {}
    },
    {
     "output_type": "display_data",
     "data": {
      "text/plain": "HBox(children=(HTML(value='epoch 12'), FloatProgress(value=0.0, max=34.0), HTML(value='')))",
      "application/vnd.jupyter.widget-view+json": {
       "version_major": 2,
       "version_minor": 0,
       "model_id": "319c763578e84fe69f18f2dd7a67e935"
      }
     },
     "metadata": {}
    },
    {
     "output_type": "display_data",
     "data": {
      "text/plain": "HBox(children=(HTML(value='epoch 13'), FloatProgress(value=0.0, max=34.0), HTML(value='')))",
      "application/vnd.jupyter.widget-view+json": {
       "version_major": 2,
       "version_minor": 0,
       "model_id": "8658c753c3084866bef4c8652e767a2d"
      }
     },
     "metadata": {}
    },
    {
     "output_type": "display_data",
     "data": {
      "text/plain": "HBox(children=(HTML(value='epoch 14'), FloatProgress(value=0.0, max=34.0), HTML(value='')))",
      "application/vnd.jupyter.widget-view+json": {
       "version_major": 2,
       "version_minor": 0,
       "model_id": "db0b3ea011ec4ad7883d66537978c9cf"
      }
     },
     "metadata": {}
    },
    {
     "output_type": "display_data",
     "data": {
      "text/plain": "HBox(children=(HTML(value='epoch 15'), FloatProgress(value=0.0, max=34.0), HTML(value='')))",
      "application/vnd.jupyter.widget-view+json": {
       "version_major": 2,
       "version_minor": 0,
       "model_id": "508be4c8fbb548cfb9e473ebecabb074"
      }
     },
     "metadata": {}
    },
    {
     "output_type": "display_data",
     "data": {
      "text/plain": "HBox(children=(HTML(value='epoch 16'), FloatProgress(value=0.0, max=34.0), HTML(value='')))",
      "application/vnd.jupyter.widget-view+json": {
       "version_major": 2,
       "version_minor": 0,
       "model_id": "9de72222e28a49bcb28b96a0162db974"
      }
     },
     "metadata": {}
    },
    {
     "output_type": "display_data",
     "data": {
      "text/plain": "HBox(children=(HTML(value='epoch 17'), FloatProgress(value=0.0, max=34.0), HTML(value='')))",
      "application/vnd.jupyter.widget-view+json": {
       "version_major": 2,
       "version_minor": 0,
       "model_id": "8c817930943f497992bd91f829c744a3"
      }
     },
     "metadata": {}
    },
    {
     "output_type": "display_data",
     "data": {
      "text/plain": "HBox(children=(HTML(value='epoch 18'), FloatProgress(value=0.0, max=34.0), HTML(value='')))",
      "application/vnd.jupyter.widget-view+json": {
       "version_major": 2,
       "version_minor": 0,
       "model_id": "f5996b6ba76145e18857070cb74b9b21"
      }
     },
     "metadata": {}
    },
    {
     "output_type": "display_data",
     "data": {
      "text/plain": "HBox(children=(HTML(value='epoch 19'), FloatProgress(value=0.0, max=34.0), HTML(value='')))",
      "application/vnd.jupyter.widget-view+json": {
       "version_major": 2,
       "version_minor": 0,
       "model_id": "bed8b17638f9464b887ebd81caeafd00"
      }
     },
     "metadata": {}
    },
    {
     "output_type": "display_data",
     "data": {
      "text/plain": "HBox(children=(HTML(value='epoch 20'), FloatProgress(value=0.0, max=34.0), HTML(value='')))",
      "application/vnd.jupyter.widget-view+json": {
       "version_major": 2,
       "version_minor": 0,
       "model_id": "68f863dd905445f4be8ade70623ca5b1"
      }
     },
     "metadata": {}
    },
    {
     "output_type": "display_data",
     "data": {
      "text/plain": "HBox(children=(HTML(value='epoch 21'), FloatProgress(value=0.0, max=34.0), HTML(value='')))",
      "application/vnd.jupyter.widget-view+json": {
       "version_major": 2,
       "version_minor": 0,
       "model_id": "299726c682ce41c992e61fab08df8ab0"
      }
     },
     "metadata": {}
    },
    {
     "output_type": "display_data",
     "data": {
      "text/plain": "HBox(children=(HTML(value='epoch 22'), FloatProgress(value=0.0, max=34.0), HTML(value='')))",
      "application/vnd.jupyter.widget-view+json": {
       "version_major": 2,
       "version_minor": 0,
       "model_id": "1addebff2494424aaa78ff389bd70a11"
      }
     },
     "metadata": {}
    },
    {
     "output_type": "display_data",
     "data": {
      "text/plain": "HBox(children=(HTML(value='epoch 23'), FloatProgress(value=0.0, max=34.0), HTML(value='')))",
      "application/vnd.jupyter.widget-view+json": {
       "version_major": 2,
       "version_minor": 0,
       "model_id": "53723f93fe194f5398da6353c59846d9"
      }
     },
     "metadata": {}
    },
    {
     "output_type": "display_data",
     "data": {
      "text/plain": "HBox(children=(HTML(value='epoch 24'), FloatProgress(value=0.0, max=34.0), HTML(value='')))",
      "application/vnd.jupyter.widget-view+json": {
       "version_major": 2,
       "version_minor": 0,
       "model_id": "39df94b7d2684a24b4d38b15834da2ab"
      }
     },
     "metadata": {}
    },
    {
     "output_type": "display_data",
     "data": {
      "text/plain": "HBox(children=(HTML(value='epoch 25'), FloatProgress(value=0.0, max=34.0), HTML(value='')))",
      "application/vnd.jupyter.widget-view+json": {
       "version_major": 2,
       "version_minor": 0,
       "model_id": "c6f2f32193254fb288f51550bcc787f3"
      }
     },
     "metadata": {}
    },
    {
     "output_type": "display_data",
     "data": {
      "text/plain": "HBox(children=(HTML(value='epoch 26'), FloatProgress(value=0.0, max=34.0), HTML(value='')))",
      "application/vnd.jupyter.widget-view+json": {
       "version_major": 2,
       "version_minor": 0,
       "model_id": "0336e41a3a804a8796aa2432fa2157ec"
      }
     },
     "metadata": {}
    },
    {
     "output_type": "display_data",
     "data": {
      "text/plain": "HBox(children=(HTML(value='epoch 27'), FloatProgress(value=0.0, max=34.0), HTML(value='')))",
      "application/vnd.jupyter.widget-view+json": {
       "version_major": 2,
       "version_minor": 0,
       "model_id": "988ed78cb39c45d7bd12128c33556ada"
      }
     },
     "metadata": {}
    },
    {
     "output_type": "display_data",
     "data": {
      "text/plain": "HBox(children=(HTML(value='epoch 28'), FloatProgress(value=0.0, max=34.0), HTML(value='')))",
      "application/vnd.jupyter.widget-view+json": {
       "version_major": 2,
       "version_minor": 0,
       "model_id": "26748ed16bf54ecd8241532f84a90a67"
      }
     },
     "metadata": {}
    },
    {
     "output_type": "display_data",
     "data": {
      "text/plain": "HBox(children=(HTML(value='epoch 29'), FloatProgress(value=0.0, max=34.0), HTML(value='')))",
      "application/vnd.jupyter.widget-view+json": {
       "version_major": 2,
       "version_minor": 0,
       "model_id": "d9534d6595ea4df3a9961721d7289073"
      }
     },
     "metadata": {}
    },
    {
     "output_type": "display_data",
     "data": {
      "text/plain": "HBox(children=(HTML(value='epoch 30'), FloatProgress(value=0.0, max=34.0), HTML(value='')))",
      "application/vnd.jupyter.widget-view+json": {
       "version_major": 2,
       "version_minor": 0,
       "model_id": "b67fa0b04bb246a3846a6b86ba460db4"
      }
     },
     "metadata": {}
    },
    {
     "output_type": "display_data",
     "data": {
      "text/plain": "HBox(children=(HTML(value='epoch 31'), FloatProgress(value=0.0, max=34.0), HTML(value='')))",
      "application/vnd.jupyter.widget-view+json": {
       "version_major": 2,
       "version_minor": 0,
       "model_id": "af3eea4dd43043d292741a24a3744e1e"
      }
     },
     "metadata": {}
    },
    {
     "output_type": "display_data",
     "data": {
      "text/plain": "HBox(children=(HTML(value='epoch 32'), FloatProgress(value=0.0, max=34.0), HTML(value='')))",
      "application/vnd.jupyter.widget-view+json": {
       "version_major": 2,
       "version_minor": 0,
       "model_id": "078ea5d9b86b4f42a215f1a92cfc362b"
      }
     },
     "metadata": {}
    },
    {
     "output_type": "display_data",
     "data": {
      "text/plain": "HBox(children=(HTML(value='epoch 33'), FloatProgress(value=0.0, max=34.0), HTML(value='')))",
      "application/vnd.jupyter.widget-view+json": {
       "version_major": 2,
       "version_minor": 0,
       "model_id": "f94199e4571346b4acde9ac1cfd24ecb"
      }
     },
     "metadata": {}
    },
    {
     "output_type": "display_data",
     "data": {
      "text/plain": "HBox(children=(HTML(value='epoch 34'), FloatProgress(value=0.0, max=34.0), HTML(value='')))",
      "application/vnd.jupyter.widget-view+json": {
       "version_major": 2,
       "version_minor": 0,
       "model_id": "39797c9251004b31bc5e62318947a4d5"
      }
     },
     "metadata": {}
    },
    {
     "output_type": "display_data",
     "data": {
      "text/plain": "HBox(children=(HTML(value='epoch 35'), FloatProgress(value=0.0, max=34.0), HTML(value='')))",
      "application/vnd.jupyter.widget-view+json": {
       "version_major": 2,
       "version_minor": 0,
       "model_id": "d47f60b670f5447d891ca235856720ff"
      }
     },
     "metadata": {}
    },
    {
     "output_type": "display_data",
     "data": {
      "text/plain": "HBox(children=(HTML(value='epoch 36'), FloatProgress(value=0.0, max=34.0), HTML(value='')))",
      "application/vnd.jupyter.widget-view+json": {
       "version_major": 2,
       "version_minor": 0,
       "model_id": "c54e49570cc1432698d860aeccd2d1ce"
      }
     },
     "metadata": {}
    },
    {
     "output_type": "display_data",
     "data": {
      "text/plain": "HBox(children=(HTML(value='epoch 37'), FloatProgress(value=0.0, max=34.0), HTML(value='')))",
      "application/vnd.jupyter.widget-view+json": {
       "version_major": 2,
       "version_minor": 0,
       "model_id": "01676a7c8add4cdaba3de9b004a1d48d"
      }
     },
     "metadata": {}
    },
    {
     "output_type": "display_data",
     "data": {
      "text/plain": "HBox(children=(HTML(value='epoch 38'), FloatProgress(value=0.0, max=34.0), HTML(value='')))",
      "application/vnd.jupyter.widget-view+json": {
       "version_major": 2,
       "version_minor": 0,
       "model_id": "e43393ddfbef49c0921193e1f24b7a4c"
      }
     },
     "metadata": {}
    },
    {
     "output_type": "display_data",
     "data": {
      "text/plain": "HBox(children=(HTML(value='epoch 39'), FloatProgress(value=0.0, max=34.0), HTML(value='')))",
      "application/vnd.jupyter.widget-view+json": {
       "version_major": 2,
       "version_minor": 0,
       "model_id": "47f8b066396c4601af63db296676361e"
      }
     },
     "metadata": {}
    },
    {
     "output_type": "display_data",
     "data": {
      "text/plain": "HBox(children=(HTML(value='epoch 40'), FloatProgress(value=0.0, max=34.0), HTML(value='')))",
      "application/vnd.jupyter.widget-view+json": {
       "version_major": 2,
       "version_minor": 0,
       "model_id": "1a5d0a7e786b4a2c981b3a0447f267d2"
      }
     },
     "metadata": {}
    },
    {
     "output_type": "display_data",
     "data": {
      "text/plain": "HBox(children=(HTML(value='epoch 41'), FloatProgress(value=0.0, max=34.0), HTML(value='')))",
      "application/vnd.jupyter.widget-view+json": {
       "version_major": 2,
       "version_minor": 0,
       "model_id": "ca339037c01b49dda7769ba3296102ec"
      }
     },
     "metadata": {}
    },
    {
     "output_type": "display_data",
     "data": {
      "text/plain": "HBox(children=(HTML(value='epoch 42'), FloatProgress(value=0.0, max=34.0), HTML(value='')))",
      "application/vnd.jupyter.widget-view+json": {
       "version_major": 2,
       "version_minor": 0,
       "model_id": "189cc03be5174667b90d80143b20bdba"
      }
     },
     "metadata": {}
    },
    {
     "output_type": "display_data",
     "data": {
      "text/plain": "HBox(children=(HTML(value='epoch 43'), FloatProgress(value=0.0, max=34.0), HTML(value='')))",
      "application/vnd.jupyter.widget-view+json": {
       "version_major": 2,
       "version_minor": 0,
       "model_id": "9fa715f4d29d413ea6f4ccdedd1413be"
      }
     },
     "metadata": {}
    },
    {
     "output_type": "display_data",
     "data": {
      "text/plain": "HBox(children=(HTML(value='epoch 44'), FloatProgress(value=0.0, max=34.0), HTML(value='')))",
      "application/vnd.jupyter.widget-view+json": {
       "version_major": 2,
       "version_minor": 0,
       "model_id": "37b9ddac324e41b480c20095cd9ded60"
      }
     },
     "metadata": {}
    },
    {
     "output_type": "display_data",
     "data": {
      "text/plain": "HBox(children=(HTML(value='epoch 45'), FloatProgress(value=0.0, max=34.0), HTML(value='')))",
      "application/vnd.jupyter.widget-view+json": {
       "version_major": 2,
       "version_minor": 0,
       "model_id": "b710407d55d44d18bd94eeb10d260402"
      }
     },
     "metadata": {}
    },
    {
     "output_type": "display_data",
     "data": {
      "text/plain": "HBox(children=(HTML(value='epoch 46'), FloatProgress(value=0.0, max=34.0), HTML(value='')))",
      "application/vnd.jupyter.widget-view+json": {
       "version_major": 2,
       "version_minor": 0,
       "model_id": "c8397064d75b49cf900e346c8fa9aa93"
      }
     },
     "metadata": {}
    },
    {
     "output_type": "display_data",
     "data": {
      "text/plain": "HBox(children=(HTML(value='epoch 47'), FloatProgress(value=0.0, max=34.0), HTML(value='')))",
      "application/vnd.jupyter.widget-view+json": {
       "version_major": 2,
       "version_minor": 0,
       "model_id": "5d40346db726453991cc3d6577d60851"
      }
     },
     "metadata": {}
    },
    {
     "output_type": "display_data",
     "data": {
      "text/plain": "HBox(children=(HTML(value='epoch 48'), FloatProgress(value=0.0, max=34.0), HTML(value='')))",
      "application/vnd.jupyter.widget-view+json": {
       "version_major": 2,
       "version_minor": 0,
       "model_id": "bbb03283bf004c4697cc3837f86121a2"
      }
     },
     "metadata": {}
    },
    {
     "output_type": "display_data",
     "data": {
      "text/plain": "HBox(children=(HTML(value='epoch 49'), FloatProgress(value=0.0, max=34.0), HTML(value='')))",
      "application/vnd.jupyter.widget-view+json": {
       "version_major": 2,
       "version_minor": 0,
       "model_id": "4864e72a7377429a8b299f2f3de813c2"
      }
     },
     "metadata": {}
    },
    {
     "output_type": "display_data",
     "data": {
      "text/plain": "HBox(children=(HTML(value='epoch 50'), FloatProgress(value=0.0, max=34.0), HTML(value='')))",
      "application/vnd.jupyter.widget-view+json": {
       "version_major": 2,
       "version_minor": 0,
       "model_id": "6cc903c2d0b4486dbb0540f5eabe06fc"
      }
     },
     "metadata": {}
    },
    {
     "output_type": "display_data",
     "data": {
      "text/plain": "HBox(children=(HTML(value='epoch 51'), FloatProgress(value=0.0, max=34.0), HTML(value='')))",
      "application/vnd.jupyter.widget-view+json": {
       "version_major": 2,
       "version_minor": 0,
       "model_id": "79118cd443d345eaa26f1bafa458c8a5"
      }
     },
     "metadata": {}
    },
    {
     "output_type": "display_data",
     "data": {
      "text/plain": "HBox(children=(HTML(value='epoch 52'), FloatProgress(value=0.0, max=34.0), HTML(value='')))",
      "application/vnd.jupyter.widget-view+json": {
       "version_major": 2,
       "version_minor": 0,
       "model_id": "9d1e773337604ae1a744a4d53da6e445"
      }
     },
     "metadata": {}
    },
    {
     "output_type": "display_data",
     "data": {
      "text/plain": "HBox(children=(HTML(value='epoch 53'), FloatProgress(value=0.0, max=34.0), HTML(value='')))",
      "application/vnd.jupyter.widget-view+json": {
       "version_major": 2,
       "version_minor": 0,
       "model_id": "0ab9420161534fdbb032bf5b8c56c3da"
      }
     },
     "metadata": {}
    },
    {
     "output_type": "display_data",
     "data": {
      "text/plain": "HBox(children=(HTML(value='epoch 54'), FloatProgress(value=0.0, max=34.0), HTML(value='')))",
      "application/vnd.jupyter.widget-view+json": {
       "version_major": 2,
       "version_minor": 0,
       "model_id": "5d51c863226047229936e388b5ea90b6"
      }
     },
     "metadata": {}
    },
    {
     "output_type": "display_data",
     "data": {
      "text/plain": "HBox(children=(HTML(value='epoch 55'), FloatProgress(value=0.0, max=34.0), HTML(value='')))",
      "application/vnd.jupyter.widget-view+json": {
       "version_major": 2,
       "version_minor": 0,
       "model_id": "ad68f114ac37489a8e71a2c70a48774f"
      }
     },
     "metadata": {}
    },
    {
     "output_type": "display_data",
     "data": {
      "text/plain": "HBox(children=(HTML(value='epoch 56'), FloatProgress(value=0.0, max=34.0), HTML(value='')))",
      "application/vnd.jupyter.widget-view+json": {
       "version_major": 2,
       "version_minor": 0,
       "model_id": "f1d630438eb94ef5aee54ddbfb18dcdc"
      }
     },
     "metadata": {}
    },
    {
     "output_type": "display_data",
     "data": {
      "text/plain": "HBox(children=(HTML(value='epoch 57'), FloatProgress(value=0.0, max=34.0), HTML(value='')))",
      "application/vnd.jupyter.widget-view+json": {
       "version_major": 2,
       "version_minor": 0,
       "model_id": "75c53787d45f410384aa86f20a24f633"
      }
     },
     "metadata": {}
    },
    {
     "output_type": "display_data",
     "data": {
      "text/plain": "HBox(children=(HTML(value='epoch 58'), FloatProgress(value=0.0, max=34.0), HTML(value='')))",
      "application/vnd.jupyter.widget-view+json": {
       "version_major": 2,
       "version_minor": 0,
       "model_id": "a31ebd3dd5cb4189a045bb2011659044"
      }
     },
     "metadata": {}
    },
    {
     "output_type": "display_data",
     "data": {
      "text/plain": "HBox(children=(HTML(value='epoch 59'), FloatProgress(value=0.0, max=34.0), HTML(value='')))",
      "application/vnd.jupyter.widget-view+json": {
       "version_major": 2,
       "version_minor": 0,
       "model_id": "bcefc873e05843f585f8dc0fa0190d11"
      }
     },
     "metadata": {}
    },
    {
     "output_type": "display_data",
     "data": {
      "text/plain": "HBox(children=(HTML(value='epoch 60'), FloatProgress(value=0.0, max=34.0), HTML(value='')))",
      "application/vnd.jupyter.widget-view+json": {
       "version_major": 2,
       "version_minor": 0,
       "model_id": "76859bf66ee54daeb358abefa3d00454"
      }
     },
     "metadata": {}
    },
    {
     "output_type": "display_data",
     "data": {
      "text/plain": "HBox(children=(HTML(value='epoch 61'), FloatProgress(value=0.0, max=34.0), HTML(value='')))",
      "application/vnd.jupyter.widget-view+json": {
       "version_major": 2,
       "version_minor": 0,
       "model_id": "dd9ee5360cd54a3e9b66ca6bce558304"
      }
     },
     "metadata": {}
    },
    {
     "output_type": "display_data",
     "data": {
      "text/plain": "HBox(children=(HTML(value='epoch 62'), FloatProgress(value=0.0, max=34.0), HTML(value='')))",
      "application/vnd.jupyter.widget-view+json": {
       "version_major": 2,
       "version_minor": 0,
       "model_id": "6541e43d744349f7bc88eae4caa50aa7"
      }
     },
     "metadata": {}
    },
    {
     "output_type": "display_data",
     "data": {
      "text/plain": "HBox(children=(HTML(value='epoch 63'), FloatProgress(value=0.0, max=34.0), HTML(value='')))",
      "application/vnd.jupyter.widget-view+json": {
       "version_major": 2,
       "version_minor": 0,
       "model_id": "7df4e048a894450c8e89e626d5c0d4e9"
      }
     },
     "metadata": {}
    },
    {
     "output_type": "display_data",
     "data": {
      "text/plain": "HBox(children=(HTML(value='epoch 64'), FloatProgress(value=0.0, max=34.0), HTML(value='')))",
      "application/vnd.jupyter.widget-view+json": {
       "version_major": 2,
       "version_minor": 0,
       "model_id": "82597bf2e4944470b3506946f7c76844"
      }
     },
     "metadata": {}
    },
    {
     "output_type": "display_data",
     "data": {
      "text/plain": "HBox(children=(HTML(value='epoch 65'), FloatProgress(value=0.0, max=34.0), HTML(value='')))",
      "application/vnd.jupyter.widget-view+json": {
       "version_major": 2,
       "version_minor": 0,
       "model_id": "e660b91e3dc74cf99a10ccde2a00988e"
      }
     },
     "metadata": {}
    },
    {
     "output_type": "display_data",
     "data": {
      "text/plain": "HBox(children=(HTML(value='epoch 66'), FloatProgress(value=0.0, max=34.0), HTML(value='')))",
      "application/vnd.jupyter.widget-view+json": {
       "version_major": 2,
       "version_minor": 0,
       "model_id": "a665367e20a24741ae77fcc9ce38452e"
      }
     },
     "metadata": {}
    },
    {
     "output_type": "display_data",
     "data": {
      "text/plain": "HBox(children=(HTML(value='epoch 67'), FloatProgress(value=0.0, max=34.0), HTML(value='')))",
      "application/vnd.jupyter.widget-view+json": {
       "version_major": 2,
       "version_minor": 0,
       "model_id": "a3c6a0c6fcb04260a5521c7a4c9667a1"
      }
     },
     "metadata": {}
    },
    {
     "output_type": "display_data",
     "data": {
      "text/plain": "HBox(children=(HTML(value='epoch 68'), FloatProgress(value=0.0, max=34.0), HTML(value='')))",
      "application/vnd.jupyter.widget-view+json": {
       "version_major": 2,
       "version_minor": 0,
       "model_id": "20eee9502f3a4a4799d91cbcab98719f"
      }
     },
     "metadata": {}
    },
    {
     "output_type": "display_data",
     "data": {
      "text/plain": "HBox(children=(HTML(value='epoch 69'), FloatProgress(value=0.0, max=34.0), HTML(value='')))",
      "application/vnd.jupyter.widget-view+json": {
       "version_major": 2,
       "version_minor": 0,
       "model_id": "c63772e1658f41129d7102e14967284c"
      }
     },
     "metadata": {}
    },
    {
     "output_type": "display_data",
     "data": {
      "text/plain": "HBox(children=(HTML(value='epoch 70'), FloatProgress(value=0.0, max=34.0), HTML(value='')))",
      "application/vnd.jupyter.widget-view+json": {
       "version_major": 2,
       "version_minor": 0,
       "model_id": "97323691ec8249b0b15c26bbb2e3b483"
      }
     },
     "metadata": {}
    },
    {
     "output_type": "display_data",
     "data": {
      "text/plain": "HBox(children=(HTML(value='epoch 71'), FloatProgress(value=0.0, max=34.0), HTML(value='')))",
      "application/vnd.jupyter.widget-view+json": {
       "version_major": 2,
       "version_minor": 0,
       "model_id": "0c31490e82304e42a911b0259b6d38ff"
      }
     },
     "metadata": {}
    },
    {
     "output_type": "display_data",
     "data": {
      "text/plain": "HBox(children=(HTML(value='epoch 72'), FloatProgress(value=0.0, max=34.0), HTML(value='')))",
      "application/vnd.jupyter.widget-view+json": {
       "version_major": 2,
       "version_minor": 0,
       "model_id": "0a1952d0b63a4741b756733a2eb6ce5c"
      }
     },
     "metadata": {}
    },
    {
     "output_type": "display_data",
     "data": {
      "text/plain": "HBox(children=(HTML(value='epoch 73'), FloatProgress(value=0.0, max=34.0), HTML(value='')))",
      "application/vnd.jupyter.widget-view+json": {
       "version_major": 2,
       "version_minor": 0,
       "model_id": "7d657be37af54e27957bf47bd887edb6"
      }
     },
     "metadata": {}
    },
    {
     "output_type": "display_data",
     "data": {
      "text/plain": "HBox(children=(HTML(value='epoch 74'), FloatProgress(value=0.0, max=34.0), HTML(value='')))",
      "application/vnd.jupyter.widget-view+json": {
       "version_major": 2,
       "version_minor": 0,
       "model_id": "23abb0f3ff6b438faf2633d7291ebdca"
      }
     },
     "metadata": {}
    },
    {
     "output_type": "display_data",
     "data": {
      "text/plain": "HBox(children=(HTML(value='epoch 75'), FloatProgress(value=0.0, max=34.0), HTML(value='')))",
      "application/vnd.jupyter.widget-view+json": {
       "version_major": 2,
       "version_minor": 0,
       "model_id": "6e1fefc6fd404e3897194baf224d6648"
      }
     },
     "metadata": {}
    },
    {
     "output_type": "display_data",
     "data": {
      "text/plain": "HBox(children=(HTML(value='epoch 76'), FloatProgress(value=0.0, max=34.0), HTML(value='')))",
      "application/vnd.jupyter.widget-view+json": {
       "version_major": 2,
       "version_minor": 0,
       "model_id": "4250e84c0765457a9a3d8a03c94253df"
      }
     },
     "metadata": {}
    },
    {
     "output_type": "display_data",
     "data": {
      "text/plain": "HBox(children=(HTML(value='epoch 77'), FloatProgress(value=0.0, max=34.0), HTML(value='')))",
      "application/vnd.jupyter.widget-view+json": {
       "version_major": 2,
       "version_minor": 0,
       "model_id": "5e4e15950f724cef8f0e14ee42bebea5"
      }
     },
     "metadata": {}
    },
    {
     "output_type": "display_data",
     "data": {
      "text/plain": "HBox(children=(HTML(value='epoch 78'), FloatProgress(value=0.0, max=34.0), HTML(value='')))",
      "application/vnd.jupyter.widget-view+json": {
       "version_major": 2,
       "version_minor": 0,
       "model_id": "36fc1978f72546bba166b6a60de7e55b"
      }
     },
     "metadata": {}
    },
    {
     "output_type": "display_data",
     "data": {
      "text/plain": "HBox(children=(HTML(value='epoch 79'), FloatProgress(value=0.0, max=34.0), HTML(value='')))",
      "application/vnd.jupyter.widget-view+json": {
       "version_major": 2,
       "version_minor": 0,
       "model_id": "dcfa2ed853da40f2ad62250f227a66ef"
      }
     },
     "metadata": {}
    },
    {
     "output_type": "display_data",
     "data": {
      "text/plain": "HBox(children=(HTML(value='epoch 80'), FloatProgress(value=0.0, max=34.0), HTML(value='')))",
      "application/vnd.jupyter.widget-view+json": {
       "version_major": 2,
       "version_minor": 0,
       "model_id": "c88f891d721246b1a275173412ce1d9f"
      }
     },
     "metadata": {}
    },
    {
     "output_type": "display_data",
     "data": {
      "text/plain": "HBox(children=(HTML(value='epoch 81'), FloatProgress(value=0.0, max=34.0), HTML(value='')))",
      "application/vnd.jupyter.widget-view+json": {
       "version_major": 2,
       "version_minor": 0,
       "model_id": "0e7f963421d241ed8f923717daf02e60"
      }
     },
     "metadata": {}
    },
    {
     "output_type": "display_data",
     "data": {
      "text/plain": "HBox(children=(HTML(value='epoch 82'), FloatProgress(value=0.0, max=34.0), HTML(value='')))",
      "application/vnd.jupyter.widget-view+json": {
       "version_major": 2,
       "version_minor": 0,
       "model_id": "2fe0d21bec1449549fbdea42fac6a8e1"
      }
     },
     "metadata": {}
    },
    {
     "output_type": "display_data",
     "data": {
      "text/plain": "HBox(children=(HTML(value='epoch 83'), FloatProgress(value=0.0, max=34.0), HTML(value='')))",
      "application/vnd.jupyter.widget-view+json": {
       "version_major": 2,
       "version_minor": 0,
       "model_id": "f61d4281e7b24e9d8fe84b5db1f27a71"
      }
     },
     "metadata": {}
    },
    {
     "output_type": "display_data",
     "data": {
      "text/plain": "HBox(children=(HTML(value='epoch 84'), FloatProgress(value=0.0, max=34.0), HTML(value='')))",
      "application/vnd.jupyter.widget-view+json": {
       "version_major": 2,
       "version_minor": 0,
       "model_id": "89a57ad6341d4be1a8c0d388f878f17f"
      }
     },
     "metadata": {}
    },
    {
     "output_type": "display_data",
     "data": {
      "text/plain": "HBox(children=(HTML(value='epoch 85'), FloatProgress(value=0.0, max=34.0), HTML(value='')))",
      "application/vnd.jupyter.widget-view+json": {
       "version_major": 2,
       "version_minor": 0,
       "model_id": "5d4c7beceadf434b8dfc242f2e52fd90"
      }
     },
     "metadata": {}
    },
    {
     "output_type": "display_data",
     "data": {
      "text/plain": "HBox(children=(HTML(value='epoch 86'), FloatProgress(value=0.0, max=34.0), HTML(value='')))",
      "application/vnd.jupyter.widget-view+json": {
       "version_major": 2,
       "version_minor": 0,
       "model_id": "5f1c156c00af4f97aa8690aa04d094be"
      }
     },
     "metadata": {}
    },
    {
     "output_type": "display_data",
     "data": {
      "text/plain": "HBox(children=(HTML(value='epoch 87'), FloatProgress(value=0.0, max=34.0), HTML(value='')))",
      "application/vnd.jupyter.widget-view+json": {
       "version_major": 2,
       "version_minor": 0,
       "model_id": "e18c7109e0034ab1b3c7e8517e83c797"
      }
     },
     "metadata": {}
    },
    {
     "output_type": "display_data",
     "data": {
      "text/plain": "HBox(children=(HTML(value='epoch 88'), FloatProgress(value=0.0, max=34.0), HTML(value='')))",
      "application/vnd.jupyter.widget-view+json": {
       "version_major": 2,
       "version_minor": 0,
       "model_id": "4fd5d1c34e364943966df4d641e93701"
      }
     },
     "metadata": {}
    },
    {
     "output_type": "display_data",
     "data": {
      "text/plain": "HBox(children=(HTML(value='epoch 89'), FloatProgress(value=0.0, max=34.0), HTML(value='')))",
      "application/vnd.jupyter.widget-view+json": {
       "version_major": 2,
       "version_minor": 0,
       "model_id": "51658b1412454a4ca3aac1271b093fa2"
      }
     },
     "metadata": {}
    },
    {
     "output_type": "display_data",
     "data": {
      "text/plain": "HBox(children=(HTML(value='epoch 90'), FloatProgress(value=0.0, max=34.0), HTML(value='')))",
      "application/vnd.jupyter.widget-view+json": {
       "version_major": 2,
       "version_minor": 0,
       "model_id": "f285564474284c10b379232a793d5813"
      }
     },
     "metadata": {}
    },
    {
     "output_type": "display_data",
     "data": {
      "text/plain": "HBox(children=(HTML(value='epoch 91'), FloatProgress(value=0.0, max=34.0), HTML(value='')))",
      "application/vnd.jupyter.widget-view+json": {
       "version_major": 2,
       "version_minor": 0,
       "model_id": "b8d6c80a43794b619d96fdb13d0282a3"
      }
     },
     "metadata": {}
    },
    {
     "output_type": "display_data",
     "data": {
      "text/plain": "HBox(children=(HTML(value='epoch 92'), FloatProgress(value=0.0, max=34.0), HTML(value='')))",
      "application/vnd.jupyter.widget-view+json": {
       "version_major": 2,
       "version_minor": 0,
       "model_id": "e47c928cc60a4dc6a55611fa0336f90b"
      }
     },
     "metadata": {}
    },
    {
     "output_type": "display_data",
     "data": {
      "text/plain": "HBox(children=(HTML(value='epoch 93'), FloatProgress(value=0.0, max=34.0), HTML(value='')))",
      "application/vnd.jupyter.widget-view+json": {
       "version_major": 2,
       "version_minor": 0,
       "model_id": "e17bf8a6e35546f7bcfadd834e7e405c"
      }
     },
     "metadata": {}
    },
    {
     "output_type": "display_data",
     "data": {
      "text/plain": "HBox(children=(HTML(value='epoch 94'), FloatProgress(value=0.0, max=34.0), HTML(value='')))",
      "application/vnd.jupyter.widget-view+json": {
       "version_major": 2,
       "version_minor": 0,
       "model_id": "be627f7041254a1290941e2c638bc2d0"
      }
     },
     "metadata": {}
    },
    {
     "output_type": "display_data",
     "data": {
      "text/plain": "HBox(children=(HTML(value='epoch 95'), FloatProgress(value=0.0, max=34.0), HTML(value='')))",
      "application/vnd.jupyter.widget-view+json": {
       "version_major": 2,
       "version_minor": 0,
       "model_id": "f89eda65fe8a4d58a6cd79a10cef9ae9"
      }
     },
     "metadata": {}
    },
    {
     "output_type": "display_data",
     "data": {
      "text/plain": "HBox(children=(HTML(value='epoch 96'), FloatProgress(value=0.0, max=34.0), HTML(value='')))",
      "application/vnd.jupyter.widget-view+json": {
       "version_major": 2,
       "version_minor": 0,
       "model_id": "72382a70484e4e86ba500893baf79548"
      }
     },
     "metadata": {}
    },
    {
     "output_type": "display_data",
     "data": {
      "text/plain": "HBox(children=(HTML(value='epoch 97'), FloatProgress(value=0.0, max=34.0), HTML(value='')))",
      "application/vnd.jupyter.widget-view+json": {
       "version_major": 2,
       "version_minor": 0,
       "model_id": "98899e6199204fb9a0c54195d2ee484e"
      }
     },
     "metadata": {}
    },
    {
     "output_type": "display_data",
     "data": {
      "text/plain": "HBox(children=(HTML(value='epoch 98'), FloatProgress(value=0.0, max=34.0), HTML(value='')))",
      "application/vnd.jupyter.widget-view+json": {
       "version_major": 2,
       "version_minor": 0,
       "model_id": "bb6edbf8bdf44b0ea9d19fb545c3ce44"
      }
     },
     "metadata": {}
    },
    {
     "output_type": "display_data",
     "data": {
      "text/plain": "HBox(children=(HTML(value='epoch 99'), FloatProgress(value=0.0, max=34.0), HTML(value='')))",
      "application/vnd.jupyter.widget-view+json": {
       "version_major": 2,
       "version_minor": 0,
       "model_id": "81a5fdacacae4b6c9bae55915c3a0365"
      }
     },
     "metadata": {}
    },
    {
     "output_type": "stream",
     "name": "stdout",
     "text": [
      "\n│ loss values: 15.761 13.939 13.406 12.816 12.575 12.377 12.244 12.129 11.978 11.881 11.787 11.677 11.592 11.508 11.485 11.375 11.346 11.272 11.196 11.159 11.108 11.037 10.969 10.945 10.832 10.794 10.645 10.335 10.213 10.139 10.066 10.017 9.973 9.912 9.884 9.807 9.817 9.741 9.701 9.793 9.649 9.585 9.570 9.561 9.486 9.476 9.413 9.394 9.370 9.356 9.314 9.267 9.217 9.174 9.195 9.118 9.071 9.044 9.009 8.949 8.946 8.986 8.892 8.893 8.832 8.818 8.791 8.807 8.728 8.724 8.696 8.696 8.676 8.650 8.647 8.611 8.582 8.593 8.546 8.541 8.524 8.507 8.490 8.490 8.454 8.459 8.425 8.423 8.394 8.401 8.377 8.361 8.340 8.326 8.311 8.317 8.278 8.268 8.239 8.234\n│ Finished training.\n╰───────────────────────────\n\n╭───────────────────────────\n│Training Positive MPS, Homogeneous,\n│         batchsize:10, torch.optim.adadelta, {}.\n"
     ]
    },
    {
     "output_type": "display_data",
     "data": {
      "text/plain": "HBox(children=(HTML(value=''), FloatProgress(value=0.0), HTML(value='')))",
      "application/vnd.jupyter.widget-view+json": {
       "version_major": 2,
       "version_minor": 0,
       "model_id": "c669abdc0e994d7b90bccff6b96bfbec"
      }
     },
     "metadata": {}
    },
    {
     "output_type": "display_data",
     "data": {
      "text/plain": "HBox(children=(HTML(value='epoch 0'), FloatProgress(value=0.0, max=34.0), HTML(value='')))",
      "application/vnd.jupyter.widget-view+json": {
       "version_major": 2,
       "version_minor": 0,
       "model_id": "1da46111a1204408b7e5171580488ab7"
      }
     },
     "metadata": {}
    },
    {
     "output_type": "display_data",
     "data": {
      "text/plain": "HBox(children=(HTML(value='epoch 1'), FloatProgress(value=0.0, max=34.0), HTML(value='')))",
      "application/vnd.jupyter.widget-view+json": {
       "version_major": 2,
       "version_minor": 0,
       "model_id": "734abc6032144b4fbc953af546e9292d"
      }
     },
     "metadata": {}
    },
    {
     "output_type": "display_data",
     "data": {
      "text/plain": "HBox(children=(HTML(value='epoch 2'), FloatProgress(value=0.0, max=34.0), HTML(value='')))",
      "application/vnd.jupyter.widget-view+json": {
       "version_major": 2,
       "version_minor": 0,
       "model_id": "4c2fa0e40fdd4e229daa9d18a9b9453d"
      }
     },
     "metadata": {}
    },
    {
     "output_type": "display_data",
     "data": {
      "text/plain": "HBox(children=(HTML(value='epoch 3'), FloatProgress(value=0.0, max=34.0), HTML(value='')))",
      "application/vnd.jupyter.widget-view+json": {
       "version_major": 2,
       "version_minor": 0,
       "model_id": "5e5c45cdead64ed4b45d97d7408c8d79"
      }
     },
     "metadata": {}
    },
    {
     "output_type": "display_data",
     "data": {
      "text/plain": "HBox(children=(HTML(value='epoch 4'), FloatProgress(value=0.0, max=34.0), HTML(value='')))",
      "application/vnd.jupyter.widget-view+json": {
       "version_major": 2,
       "version_minor": 0,
       "model_id": "7f7dc9fd040e465098d14458bf453b08"
      }
     },
     "metadata": {}
    },
    {
     "output_type": "display_data",
     "data": {
      "text/plain": "HBox(children=(HTML(value='epoch 5'), FloatProgress(value=0.0, max=34.0), HTML(value='')))",
      "application/vnd.jupyter.widget-view+json": {
       "version_major": 2,
       "version_minor": 0,
       "model_id": "578fb60cdf8948c788d777e5f98aff66"
      }
     },
     "metadata": {}
    },
    {
     "output_type": "display_data",
     "data": {
      "text/plain": "HBox(children=(HTML(value='epoch 6'), FloatProgress(value=0.0, max=34.0), HTML(value='')))",
      "application/vnd.jupyter.widget-view+json": {
       "version_major": 2,
       "version_minor": 0,
       "model_id": "6c331f8f51844e0a82f0fb91acab6f84"
      }
     },
     "metadata": {}
    },
    {
     "output_type": "display_data",
     "data": {
      "text/plain": "HBox(children=(HTML(value='epoch 7'), FloatProgress(value=0.0, max=34.0), HTML(value='')))",
      "application/vnd.jupyter.widget-view+json": {
       "version_major": 2,
       "version_minor": 0,
       "model_id": "fc4224b31c474a7da4d79f246dc57d5f"
      }
     },
     "metadata": {}
    },
    {
     "output_type": "display_data",
     "data": {
      "text/plain": "HBox(children=(HTML(value='epoch 8'), FloatProgress(value=0.0, max=34.0), HTML(value='')))",
      "application/vnd.jupyter.widget-view+json": {
       "version_major": 2,
       "version_minor": 0,
       "model_id": "0170a4a581bf4d458dbbd1674f7db7b0"
      }
     },
     "metadata": {}
    },
    {
     "output_type": "display_data",
     "data": {
      "text/plain": "HBox(children=(HTML(value='epoch 9'), FloatProgress(value=0.0, max=34.0), HTML(value='')))",
      "application/vnd.jupyter.widget-view+json": {
       "version_major": 2,
       "version_minor": 0,
       "model_id": "fdcdfefe2e1c428bbb64efbd5e9d512d"
      }
     },
     "metadata": {}
    },
    {
     "output_type": "display_data",
     "data": {
      "text/plain": "HBox(children=(HTML(value='epoch 10'), FloatProgress(value=0.0, max=34.0), HTML(value='')))",
      "application/vnd.jupyter.widget-view+json": {
       "version_major": 2,
       "version_minor": 0,
       "model_id": "b235631579f34d8ebad3df4e79088631"
      }
     },
     "metadata": {}
    },
    {
     "output_type": "display_data",
     "data": {
      "text/plain": "HBox(children=(HTML(value='epoch 11'), FloatProgress(value=0.0, max=34.0), HTML(value='')))",
      "application/vnd.jupyter.widget-view+json": {
       "version_major": 2,
       "version_minor": 0,
       "model_id": "80802a77813141b986e308a52c08ee12"
      }
     },
     "metadata": {}
    },
    {
     "output_type": "display_data",
     "data": {
      "text/plain": "HBox(children=(HTML(value='epoch 12'), FloatProgress(value=0.0, max=34.0), HTML(value='')))",
      "application/vnd.jupyter.widget-view+json": {
       "version_major": 2,
       "version_minor": 0,
       "model_id": "b51311d4938c4b398f262d4810e849aa"
      }
     },
     "metadata": {}
    },
    {
     "output_type": "display_data",
     "data": {
      "text/plain": "HBox(children=(HTML(value='epoch 13'), FloatProgress(value=0.0, max=34.0), HTML(value='')))",
      "application/vnd.jupyter.widget-view+json": {
       "version_major": 2,
       "version_minor": 0,
       "model_id": "16f4a7a8de574faf87bd6317c2ae8f31"
      }
     },
     "metadata": {}
    },
    {
     "output_type": "display_data",
     "data": {
      "text/plain": "HBox(children=(HTML(value='epoch 14'), FloatProgress(value=0.0, max=34.0), HTML(value='')))",
      "application/vnd.jupyter.widget-view+json": {
       "version_major": 2,
       "version_minor": 0,
       "model_id": "41bdd10fe0c24a3ea9472674f1969209"
      }
     },
     "metadata": {}
    },
    {
     "output_type": "display_data",
     "data": {
      "text/plain": "HBox(children=(HTML(value='epoch 15'), FloatProgress(value=0.0, max=34.0), HTML(value='')))",
      "application/vnd.jupyter.widget-view+json": {
       "version_major": 2,
       "version_minor": 0,
       "model_id": "897fd7b5fe044842aed3387affa3c6f5"
      }
     },
     "metadata": {}
    },
    {
     "output_type": "display_data",
     "data": {
      "text/plain": "HBox(children=(HTML(value='epoch 16'), FloatProgress(value=0.0, max=34.0), HTML(value='')))",
      "application/vnd.jupyter.widget-view+json": {
       "version_major": 2,
       "version_minor": 0,
       "model_id": "a426a88e68e540c69daafe6f6e23fb90"
      }
     },
     "metadata": {}
    },
    {
     "output_type": "display_data",
     "data": {
      "text/plain": "HBox(children=(HTML(value='epoch 17'), FloatProgress(value=0.0, max=34.0), HTML(value='')))",
      "application/vnd.jupyter.widget-view+json": {
       "version_major": 2,
       "version_minor": 0,
       "model_id": "718300a88f7f4c63b60b16655c7d869b"
      }
     },
     "metadata": {}
    },
    {
     "output_type": "display_data",
     "data": {
      "text/plain": "HBox(children=(HTML(value='epoch 18'), FloatProgress(value=0.0, max=34.0), HTML(value='')))",
      "application/vnd.jupyter.widget-view+json": {
       "version_major": 2,
       "version_minor": 0,
       "model_id": "83bdd3184efa4cf1b1c13be33b911aee"
      }
     },
     "metadata": {}
    },
    {
     "output_type": "display_data",
     "data": {
      "text/plain": "HBox(children=(HTML(value='epoch 19'), FloatProgress(value=0.0, max=34.0), HTML(value='')))",
      "application/vnd.jupyter.widget-view+json": {
       "version_major": 2,
       "version_minor": 0,
       "model_id": "c6cc5e4ec40a44a8be5e2fb239076d76"
      }
     },
     "metadata": {}
    },
    {
     "output_type": "display_data",
     "data": {
      "text/plain": "HBox(children=(HTML(value='epoch 20'), FloatProgress(value=0.0, max=34.0), HTML(value='')))",
      "application/vnd.jupyter.widget-view+json": {
       "version_major": 2,
       "version_minor": 0,
       "model_id": "01d4ddff209a4a8cb9b52d370fb01345"
      }
     },
     "metadata": {}
    },
    {
     "output_type": "display_data",
     "data": {
      "text/plain": "HBox(children=(HTML(value='epoch 21'), FloatProgress(value=0.0, max=34.0), HTML(value='')))",
      "application/vnd.jupyter.widget-view+json": {
       "version_major": 2,
       "version_minor": 0,
       "model_id": "8ef7754e73554792859aa9015d70f07d"
      }
     },
     "metadata": {}
    },
    {
     "output_type": "display_data",
     "data": {
      "text/plain": "HBox(children=(HTML(value='epoch 22'), FloatProgress(value=0.0, max=34.0), HTML(value='')))",
      "application/vnd.jupyter.widget-view+json": {
       "version_major": 2,
       "version_minor": 0,
       "model_id": "e5d9acc832ff4afca01231127d3181a4"
      }
     },
     "metadata": {}
    },
    {
     "output_type": "display_data",
     "data": {
      "text/plain": "HBox(children=(HTML(value='epoch 23'), FloatProgress(value=0.0, max=34.0), HTML(value='')))",
      "application/vnd.jupyter.widget-view+json": {
       "version_major": 2,
       "version_minor": 0,
       "model_id": "54aae54e12eb42aba77e863cf9f6c8cd"
      }
     },
     "metadata": {}
    },
    {
     "output_type": "display_data",
     "data": {
      "text/plain": "HBox(children=(HTML(value='epoch 24'), FloatProgress(value=0.0, max=34.0), HTML(value='')))",
      "application/vnd.jupyter.widget-view+json": {
       "version_major": 2,
       "version_minor": 0,
       "model_id": "3e31a14079ea419bbded11ce36253d69"
      }
     },
     "metadata": {}
    },
    {
     "output_type": "display_data",
     "data": {
      "text/plain": "HBox(children=(HTML(value='epoch 25'), FloatProgress(value=0.0, max=34.0), HTML(value='')))",
      "application/vnd.jupyter.widget-view+json": {
       "version_major": 2,
       "version_minor": 0,
       "model_id": "cc45896b624642f589195ffd6659b298"
      }
     },
     "metadata": {}
    },
    {
     "output_type": "display_data",
     "data": {
      "text/plain": "HBox(children=(HTML(value='epoch 26'), FloatProgress(value=0.0, max=34.0), HTML(value='')))",
      "application/vnd.jupyter.widget-view+json": {
       "version_major": 2,
       "version_minor": 0,
       "model_id": "634772de0c19473fa6f3deb95058170d"
      }
     },
     "metadata": {}
    },
    {
     "output_type": "display_data",
     "data": {
      "text/plain": "HBox(children=(HTML(value='epoch 27'), FloatProgress(value=0.0, max=34.0), HTML(value='')))",
      "application/vnd.jupyter.widget-view+json": {
       "version_major": 2,
       "version_minor": 0,
       "model_id": "44abc795b44641909d1385b0aa47c135"
      }
     },
     "metadata": {}
    },
    {
     "output_type": "display_data",
     "data": {
      "text/plain": "HBox(children=(HTML(value='epoch 28'), FloatProgress(value=0.0, max=34.0), HTML(value='')))",
      "application/vnd.jupyter.widget-view+json": {
       "version_major": 2,
       "version_minor": 0,
       "model_id": "67efd53b9fd34728b8fe6abbc9966293"
      }
     },
     "metadata": {}
    },
    {
     "output_type": "display_data",
     "data": {
      "text/plain": "HBox(children=(HTML(value='epoch 29'), FloatProgress(value=0.0, max=34.0), HTML(value='')))",
      "application/vnd.jupyter.widget-view+json": {
       "version_major": 2,
       "version_minor": 0,
       "model_id": "ed37d9001ebe417d8a9afda5149d86ed"
      }
     },
     "metadata": {}
    },
    {
     "output_type": "display_data",
     "data": {
      "text/plain": "HBox(children=(HTML(value='epoch 30'), FloatProgress(value=0.0, max=34.0), HTML(value='')))",
      "application/vnd.jupyter.widget-view+json": {
       "version_major": 2,
       "version_minor": 0,
       "model_id": "a230578efeae487fa6d9cfd4a508fdd6"
      }
     },
     "metadata": {}
    },
    {
     "output_type": "display_data",
     "data": {
      "text/plain": "HBox(children=(HTML(value='epoch 31'), FloatProgress(value=0.0, max=34.0), HTML(value='')))",
      "application/vnd.jupyter.widget-view+json": {
       "version_major": 2,
       "version_minor": 0,
       "model_id": "7b5ddf137b4a4d308adefd77525be30c"
      }
     },
     "metadata": {}
    },
    {
     "output_type": "display_data",
     "data": {
      "text/plain": "HBox(children=(HTML(value='epoch 32'), FloatProgress(value=0.0, max=34.0), HTML(value='')))",
      "application/vnd.jupyter.widget-view+json": {
       "version_major": 2,
       "version_minor": 0,
       "model_id": "e5708fa88ec94899bfc1882c1999f5ab"
      }
     },
     "metadata": {}
    },
    {
     "output_type": "display_data",
     "data": {
      "text/plain": "HBox(children=(HTML(value='epoch 33'), FloatProgress(value=0.0, max=34.0), HTML(value='')))",
      "application/vnd.jupyter.widget-view+json": {
       "version_major": 2,
       "version_minor": 0,
       "model_id": "4c64c0c50cd1440f9004f271261c1f36"
      }
     },
     "metadata": {}
    },
    {
     "output_type": "display_data",
     "data": {
      "text/plain": "HBox(children=(HTML(value='epoch 34'), FloatProgress(value=0.0, max=34.0), HTML(value='')))",
      "application/vnd.jupyter.widget-view+json": {
       "version_major": 2,
       "version_minor": 0,
       "model_id": "b40824921a7b4c8e8274736563a3756d"
      }
     },
     "metadata": {}
    },
    {
     "output_type": "display_data",
     "data": {
      "text/plain": "HBox(children=(HTML(value='epoch 35'), FloatProgress(value=0.0, max=34.0), HTML(value='')))",
      "application/vnd.jupyter.widget-view+json": {
       "version_major": 2,
       "version_minor": 0,
       "model_id": "aefa45000a1c402e8716572f685e66df"
      }
     },
     "metadata": {}
    },
    {
     "output_type": "display_data",
     "data": {
      "text/plain": "HBox(children=(HTML(value='epoch 36'), FloatProgress(value=0.0, max=34.0), HTML(value='')))",
      "application/vnd.jupyter.widget-view+json": {
       "version_major": 2,
       "version_minor": 0,
       "model_id": "4a430a69e7b44db7b128bae717714982"
      }
     },
     "metadata": {}
    },
    {
     "output_type": "display_data",
     "data": {
      "text/plain": "HBox(children=(HTML(value='epoch 37'), FloatProgress(value=0.0, max=34.0), HTML(value='')))",
      "application/vnd.jupyter.widget-view+json": {
       "version_major": 2,
       "version_minor": 0,
       "model_id": "f6d3cb41e5f540dc98c48fdf203349ef"
      }
     },
     "metadata": {}
    },
    {
     "output_type": "display_data",
     "data": {
      "text/plain": "HBox(children=(HTML(value='epoch 38'), FloatProgress(value=0.0, max=34.0), HTML(value='')))",
      "application/vnd.jupyter.widget-view+json": {
       "version_major": 2,
       "version_minor": 0,
       "model_id": "28b1e5490a7641afa7fc9c0c9c386e59"
      }
     },
     "metadata": {}
    },
    {
     "output_type": "display_data",
     "data": {
      "text/plain": "HBox(children=(HTML(value='epoch 39'), FloatProgress(value=0.0, max=34.0), HTML(value='')))",
      "application/vnd.jupyter.widget-view+json": {
       "version_major": 2,
       "version_minor": 0,
       "model_id": "4e3eee69f53e448eb7ef9d9e5fe0de1f"
      }
     },
     "metadata": {}
    },
    {
     "output_type": "display_data",
     "data": {
      "text/plain": "HBox(children=(HTML(value='epoch 40'), FloatProgress(value=0.0, max=34.0), HTML(value='')))",
      "application/vnd.jupyter.widget-view+json": {
       "version_major": 2,
       "version_minor": 0,
       "model_id": "b038ec4b1d64470eb77c4e140e3840ca"
      }
     },
     "metadata": {}
    },
    {
     "output_type": "display_data",
     "data": {
      "text/plain": "HBox(children=(HTML(value='epoch 41'), FloatProgress(value=0.0, max=34.0), HTML(value='')))",
      "application/vnd.jupyter.widget-view+json": {
       "version_major": 2,
       "version_minor": 0,
       "model_id": "324e746e7b3246de993e4a563d0f6ea5"
      }
     },
     "metadata": {}
    },
    {
     "output_type": "display_data",
     "data": {
      "text/plain": "HBox(children=(HTML(value='epoch 42'), FloatProgress(value=0.0, max=34.0), HTML(value='')))",
      "application/vnd.jupyter.widget-view+json": {
       "version_major": 2,
       "version_minor": 0,
       "model_id": "6d02cd97fc194355a5c8506232755296"
      }
     },
     "metadata": {}
    },
    {
     "output_type": "display_data",
     "data": {
      "text/plain": "HBox(children=(HTML(value='epoch 43'), FloatProgress(value=0.0, max=34.0), HTML(value='')))",
      "application/vnd.jupyter.widget-view+json": {
       "version_major": 2,
       "version_minor": 0,
       "model_id": "6ba72823ced14b1aa1e832dc89ae70ef"
      }
     },
     "metadata": {}
    },
    {
     "output_type": "display_data",
     "data": {
      "text/plain": "HBox(children=(HTML(value='epoch 44'), FloatProgress(value=0.0, max=34.0), HTML(value='')))",
      "application/vnd.jupyter.widget-view+json": {
       "version_major": 2,
       "version_minor": 0,
       "model_id": "7baa4d63f872474eba3c8ffd57d8120c"
      }
     },
     "metadata": {}
    },
    {
     "output_type": "display_data",
     "data": {
      "text/plain": "HBox(children=(HTML(value='epoch 45'), FloatProgress(value=0.0, max=34.0), HTML(value='')))",
      "application/vnd.jupyter.widget-view+json": {
       "version_major": 2,
       "version_minor": 0,
       "model_id": "33fde646757e4cddb25051a7d41b7ba6"
      }
     },
     "metadata": {}
    },
    {
     "output_type": "display_data",
     "data": {
      "text/plain": "HBox(children=(HTML(value='epoch 46'), FloatProgress(value=0.0, max=34.0), HTML(value='')))",
      "application/vnd.jupyter.widget-view+json": {
       "version_major": 2,
       "version_minor": 0,
       "model_id": "45f7e32a785a448daee1fd1764757afb"
      }
     },
     "metadata": {}
    },
    {
     "output_type": "display_data",
     "data": {
      "text/plain": "HBox(children=(HTML(value='epoch 47'), FloatProgress(value=0.0, max=34.0), HTML(value='')))",
      "application/vnd.jupyter.widget-view+json": {
       "version_major": 2,
       "version_minor": 0,
       "model_id": "26cafc8069ad4982a58c3be540c84469"
      }
     },
     "metadata": {}
    },
    {
     "output_type": "display_data",
     "data": {
      "text/plain": "HBox(children=(HTML(value='epoch 48'), FloatProgress(value=0.0, max=34.0), HTML(value='')))",
      "application/vnd.jupyter.widget-view+json": {
       "version_major": 2,
       "version_minor": 0,
       "model_id": "0e5d92948546450d99867f70f3eb4f90"
      }
     },
     "metadata": {}
    },
    {
     "output_type": "display_data",
     "data": {
      "text/plain": "HBox(children=(HTML(value='epoch 49'), FloatProgress(value=0.0, max=34.0), HTML(value='')))",
      "application/vnd.jupyter.widget-view+json": {
       "version_major": 2,
       "version_minor": 0,
       "model_id": "596f9dafad7a4a86b143ea825755dba0"
      }
     },
     "metadata": {}
    },
    {
     "output_type": "display_data",
     "data": {
      "text/plain": "HBox(children=(HTML(value='epoch 50'), FloatProgress(value=0.0, max=34.0), HTML(value='')))",
      "application/vnd.jupyter.widget-view+json": {
       "version_major": 2,
       "version_minor": 0,
       "model_id": "ef938365e7a64116b3bd8fed1eabf0d8"
      }
     },
     "metadata": {}
    },
    {
     "output_type": "display_data",
     "data": {
      "text/plain": "HBox(children=(HTML(value='epoch 51'), FloatProgress(value=0.0, max=34.0), HTML(value='')))",
      "application/vnd.jupyter.widget-view+json": {
       "version_major": 2,
       "version_minor": 0,
       "model_id": "6e1a1572794c474bb28a85642a44274e"
      }
     },
     "metadata": {}
    },
    {
     "output_type": "display_data",
     "data": {
      "text/plain": "HBox(children=(HTML(value='epoch 52'), FloatProgress(value=0.0, max=34.0), HTML(value='')))",
      "application/vnd.jupyter.widget-view+json": {
       "version_major": 2,
       "version_minor": 0,
       "model_id": "a123f9c298004aab93b4ba77ca4851c6"
      }
     },
     "metadata": {}
    },
    {
     "output_type": "display_data",
     "data": {
      "text/plain": "HBox(children=(HTML(value='epoch 53'), FloatProgress(value=0.0, max=34.0), HTML(value='')))",
      "application/vnd.jupyter.widget-view+json": {
       "version_major": 2,
       "version_minor": 0,
       "model_id": "8d44a7ee3f6f43728ea156abf16b9b62"
      }
     },
     "metadata": {}
    },
    {
     "output_type": "display_data",
     "data": {
      "text/plain": "HBox(children=(HTML(value='epoch 54'), FloatProgress(value=0.0, max=34.0), HTML(value='')))",
      "application/vnd.jupyter.widget-view+json": {
       "version_major": 2,
       "version_minor": 0,
       "model_id": "ef58e2f3f8304523aa5b85d5b14baa41"
      }
     },
     "metadata": {}
    },
    {
     "output_type": "display_data",
     "data": {
      "text/plain": "HBox(children=(HTML(value='epoch 55'), FloatProgress(value=0.0, max=34.0), HTML(value='')))",
      "application/vnd.jupyter.widget-view+json": {
       "version_major": 2,
       "version_minor": 0,
       "model_id": "491051655963419cb6de147ff91a23ee"
      }
     },
     "metadata": {}
    },
    {
     "output_type": "display_data",
     "data": {
      "text/plain": "HBox(children=(HTML(value='epoch 56'), FloatProgress(value=0.0, max=34.0), HTML(value='')))",
      "application/vnd.jupyter.widget-view+json": {
       "version_major": 2,
       "version_minor": 0,
       "model_id": "8f11d316ba8c41179223657a97b231e1"
      }
     },
     "metadata": {}
    },
    {
     "output_type": "display_data",
     "data": {
      "text/plain": "HBox(children=(HTML(value='epoch 57'), FloatProgress(value=0.0, max=34.0), HTML(value='')))",
      "application/vnd.jupyter.widget-view+json": {
       "version_major": 2,
       "version_minor": 0,
       "model_id": "0d5bf48fd485450d8866fc84f675b43b"
      }
     },
     "metadata": {}
    },
    {
     "output_type": "display_data",
     "data": {
      "text/plain": "HBox(children=(HTML(value='epoch 58'), FloatProgress(value=0.0, max=34.0), HTML(value='')))",
      "application/vnd.jupyter.widget-view+json": {
       "version_major": 2,
       "version_minor": 0,
       "model_id": "4ed15269ace6434d875b7d4df66c93d4"
      }
     },
     "metadata": {}
    },
    {
     "output_type": "display_data",
     "data": {
      "text/plain": "HBox(children=(HTML(value='epoch 59'), FloatProgress(value=0.0, max=34.0), HTML(value='')))",
      "application/vnd.jupyter.widget-view+json": {
       "version_major": 2,
       "version_minor": 0,
       "model_id": "d6b6630db1d241b8b6ed91987735f9da"
      }
     },
     "metadata": {}
    },
    {
     "output_type": "display_data",
     "data": {
      "text/plain": "HBox(children=(HTML(value='epoch 60'), FloatProgress(value=0.0, max=34.0), HTML(value='')))",
      "application/vnd.jupyter.widget-view+json": {
       "version_major": 2,
       "version_minor": 0,
       "model_id": "8ce86343ed5c49b5a70fe5ab942c28f6"
      }
     },
     "metadata": {}
    },
    {
     "output_type": "display_data",
     "data": {
      "text/plain": "HBox(children=(HTML(value='epoch 61'), FloatProgress(value=0.0, max=34.0), HTML(value='')))",
      "application/vnd.jupyter.widget-view+json": {
       "version_major": 2,
       "version_minor": 0,
       "model_id": "136d368d56a4487ba06c19c6efd1fb6e"
      }
     },
     "metadata": {}
    },
    {
     "output_type": "display_data",
     "data": {
      "text/plain": "HBox(children=(HTML(value='epoch 62'), FloatProgress(value=0.0, max=34.0), HTML(value='')))",
      "application/vnd.jupyter.widget-view+json": {
       "version_major": 2,
       "version_minor": 0,
       "model_id": "13957543b61a4c519187d187da3cd2ed"
      }
     },
     "metadata": {}
    },
    {
     "output_type": "display_data",
     "data": {
      "text/plain": "HBox(children=(HTML(value='epoch 63'), FloatProgress(value=0.0, max=34.0), HTML(value='')))",
      "application/vnd.jupyter.widget-view+json": {
       "version_major": 2,
       "version_minor": 0,
       "model_id": "c1ea50599d354df68235d1614d515234"
      }
     },
     "metadata": {}
    },
    {
     "output_type": "display_data",
     "data": {
      "text/plain": "HBox(children=(HTML(value='epoch 64'), FloatProgress(value=0.0, max=34.0), HTML(value='')))",
      "application/vnd.jupyter.widget-view+json": {
       "version_major": 2,
       "version_minor": 0,
       "model_id": "aafb3f0aedc04a56beb11555ad5c535a"
      }
     },
     "metadata": {}
    },
    {
     "output_type": "display_data",
     "data": {
      "text/plain": "HBox(children=(HTML(value='epoch 65'), FloatProgress(value=0.0, max=34.0), HTML(value='')))",
      "application/vnd.jupyter.widget-view+json": {
       "version_major": 2,
       "version_minor": 0,
       "model_id": "a03725d3539d4866a179fd4c8aeaeeb9"
      }
     },
     "metadata": {}
    },
    {
     "output_type": "display_data",
     "data": {
      "text/plain": "HBox(children=(HTML(value='epoch 66'), FloatProgress(value=0.0, max=34.0), HTML(value='')))",
      "application/vnd.jupyter.widget-view+json": {
       "version_major": 2,
       "version_minor": 0,
       "model_id": "a6d09cbd4a9f4435b6cfc1b0be5d8772"
      }
     },
     "metadata": {}
    },
    {
     "output_type": "display_data",
     "data": {
      "text/plain": "HBox(children=(HTML(value='epoch 67'), FloatProgress(value=0.0, max=34.0), HTML(value='')))",
      "application/vnd.jupyter.widget-view+json": {
       "version_major": 2,
       "version_minor": 0,
       "model_id": "f3df8dea7f66401788de192f19d741df"
      }
     },
     "metadata": {}
    },
    {
     "output_type": "display_data",
     "data": {
      "text/plain": "HBox(children=(HTML(value='epoch 68'), FloatProgress(value=0.0, max=34.0), HTML(value='')))",
      "application/vnd.jupyter.widget-view+json": {
       "version_major": 2,
       "version_minor": 0,
       "model_id": "2c5eab4ebece4b22b5367f2240e3cd40"
      }
     },
     "metadata": {}
    },
    {
     "output_type": "display_data",
     "data": {
      "text/plain": "HBox(children=(HTML(value='epoch 69'), FloatProgress(value=0.0, max=34.0), HTML(value='')))",
      "application/vnd.jupyter.widget-view+json": {
       "version_major": 2,
       "version_minor": 0,
       "model_id": "5f101e6e3b0b4aa9819a71f6deb93f18"
      }
     },
     "metadata": {}
    },
    {
     "output_type": "display_data",
     "data": {
      "text/plain": "HBox(children=(HTML(value='epoch 70'), FloatProgress(value=0.0, max=34.0), HTML(value='')))",
      "application/vnd.jupyter.widget-view+json": {
       "version_major": 2,
       "version_minor": 0,
       "model_id": "b591a5a9d7ae42abab4727cba4deac08"
      }
     },
     "metadata": {}
    },
    {
     "output_type": "display_data",
     "data": {
      "text/plain": "HBox(children=(HTML(value='epoch 71'), FloatProgress(value=0.0, max=34.0), HTML(value='')))",
      "application/vnd.jupyter.widget-view+json": {
       "version_major": 2,
       "version_minor": 0,
       "model_id": "24873b5c8c24478abfa1cad2018c6cfb"
      }
     },
     "metadata": {}
    },
    {
     "output_type": "display_data",
     "data": {
      "text/plain": "HBox(children=(HTML(value='epoch 72'), FloatProgress(value=0.0, max=34.0), HTML(value='')))",
      "application/vnd.jupyter.widget-view+json": {
       "version_major": 2,
       "version_minor": 0,
       "model_id": "91d2213744fe4ac7a1f5cbcf62faabfd"
      }
     },
     "metadata": {}
    },
    {
     "output_type": "display_data",
     "data": {
      "text/plain": "HBox(children=(HTML(value='epoch 73'), FloatProgress(value=0.0, max=34.0), HTML(value='')))",
      "application/vnd.jupyter.widget-view+json": {
       "version_major": 2,
       "version_minor": 0,
       "model_id": "8e8d4985d09c4bee9c07b16813ed7beb"
      }
     },
     "metadata": {}
    },
    {
     "output_type": "display_data",
     "data": {
      "text/plain": "HBox(children=(HTML(value='epoch 74'), FloatProgress(value=0.0, max=34.0), HTML(value='')))",
      "application/vnd.jupyter.widget-view+json": {
       "version_major": 2,
       "version_minor": 0,
       "model_id": "32f700d9df504b82828f129c68ded93e"
      }
     },
     "metadata": {}
    },
    {
     "output_type": "display_data",
     "data": {
      "text/plain": "HBox(children=(HTML(value='epoch 75'), FloatProgress(value=0.0, max=34.0), HTML(value='')))",
      "application/vnd.jupyter.widget-view+json": {
       "version_major": 2,
       "version_minor": 0,
       "model_id": "11426bf36ef84ada8c78e5400031c9e2"
      }
     },
     "metadata": {}
    },
    {
     "output_type": "display_data",
     "data": {
      "text/plain": "HBox(children=(HTML(value='epoch 76'), FloatProgress(value=0.0, max=34.0), HTML(value='')))",
      "application/vnd.jupyter.widget-view+json": {
       "version_major": 2,
       "version_minor": 0,
       "model_id": "db93a8c0d18b4d2687379be5a02369f6"
      }
     },
     "metadata": {}
    },
    {
     "output_type": "display_data",
     "data": {
      "text/plain": "HBox(children=(HTML(value='epoch 77'), FloatProgress(value=0.0, max=34.0), HTML(value='')))",
      "application/vnd.jupyter.widget-view+json": {
       "version_major": 2,
       "version_minor": 0,
       "model_id": "42c97b5e2edd4ac4b6b34a125c47c31c"
      }
     },
     "metadata": {}
    },
    {
     "output_type": "display_data",
     "data": {
      "text/plain": "HBox(children=(HTML(value='epoch 78'), FloatProgress(value=0.0, max=34.0), HTML(value='')))",
      "application/vnd.jupyter.widget-view+json": {
       "version_major": 2,
       "version_minor": 0,
       "model_id": "0938fbb80c98439086369548e7e26e71"
      }
     },
     "metadata": {}
    },
    {
     "output_type": "display_data",
     "data": {
      "text/plain": "HBox(children=(HTML(value='epoch 79'), FloatProgress(value=0.0, max=34.0), HTML(value='')))",
      "application/vnd.jupyter.widget-view+json": {
       "version_major": 2,
       "version_minor": 0,
       "model_id": "267f21f6374d4274b5c68274e328ac40"
      }
     },
     "metadata": {}
    },
    {
     "output_type": "display_data",
     "data": {
      "text/plain": "HBox(children=(HTML(value='epoch 80'), FloatProgress(value=0.0, max=34.0), HTML(value='')))",
      "application/vnd.jupyter.widget-view+json": {
       "version_major": 2,
       "version_minor": 0,
       "model_id": "bcbe9b21629842219ac653644d750e15"
      }
     },
     "metadata": {}
    },
    {
     "output_type": "display_data",
     "data": {
      "text/plain": "HBox(children=(HTML(value='epoch 81'), FloatProgress(value=0.0, max=34.0), HTML(value='')))",
      "application/vnd.jupyter.widget-view+json": {
       "version_major": 2,
       "version_minor": 0,
       "model_id": "72ddcb9670e247bfbd5073aa3984a57c"
      }
     },
     "metadata": {}
    },
    {
     "output_type": "display_data",
     "data": {
      "text/plain": "HBox(children=(HTML(value='epoch 82'), FloatProgress(value=0.0, max=34.0), HTML(value='')))",
      "application/vnd.jupyter.widget-view+json": {
       "version_major": 2,
       "version_minor": 0,
       "model_id": "c0477867f1054a34a2ffa5bd289ce2d7"
      }
     },
     "metadata": {}
    },
    {
     "output_type": "display_data",
     "data": {
      "text/plain": "HBox(children=(HTML(value='epoch 83'), FloatProgress(value=0.0, max=34.0), HTML(value='')))",
      "application/vnd.jupyter.widget-view+json": {
       "version_major": 2,
       "version_minor": 0,
       "model_id": "30c84e976db444869a86f9fb5ce670f4"
      }
     },
     "metadata": {}
    },
    {
     "output_type": "display_data",
     "data": {
      "text/plain": "HBox(children=(HTML(value='epoch 84'), FloatProgress(value=0.0, max=34.0), HTML(value='')))",
      "application/vnd.jupyter.widget-view+json": {
       "version_major": 2,
       "version_minor": 0,
       "model_id": "2cea77a8e0674d1db0a6d45538eca4d1"
      }
     },
     "metadata": {}
    },
    {
     "output_type": "display_data",
     "data": {
      "text/plain": "HBox(children=(HTML(value='epoch 85'), FloatProgress(value=0.0, max=34.0), HTML(value='')))",
      "application/vnd.jupyter.widget-view+json": {
       "version_major": 2,
       "version_minor": 0,
       "model_id": "21fc448ecb674b7d9a984fed6fac9ed3"
      }
     },
     "metadata": {}
    },
    {
     "output_type": "display_data",
     "data": {
      "text/plain": "HBox(children=(HTML(value='epoch 86'), FloatProgress(value=0.0, max=34.0), HTML(value='')))",
      "application/vnd.jupyter.widget-view+json": {
       "version_major": 2,
       "version_minor": 0,
       "model_id": "118e9ef657684331b59ae329cf48b7de"
      }
     },
     "metadata": {}
    },
    {
     "output_type": "display_data",
     "data": {
      "text/plain": "HBox(children=(HTML(value='epoch 87'), FloatProgress(value=0.0, max=34.0), HTML(value='')))",
      "application/vnd.jupyter.widget-view+json": {
       "version_major": 2,
       "version_minor": 0,
       "model_id": "9f61d5daacfc43d8923b52f60f1e4979"
      }
     },
     "metadata": {}
    },
    {
     "output_type": "display_data",
     "data": {
      "text/plain": "HBox(children=(HTML(value='epoch 88'), FloatProgress(value=0.0, max=34.0), HTML(value='')))",
      "application/vnd.jupyter.widget-view+json": {
       "version_major": 2,
       "version_minor": 0,
       "model_id": "954907dab2d4454b93eeaf720b3f1862"
      }
     },
     "metadata": {}
    },
    {
     "output_type": "display_data",
     "data": {
      "text/plain": "HBox(children=(HTML(value='epoch 89'), FloatProgress(value=0.0, max=34.0), HTML(value='')))",
      "application/vnd.jupyter.widget-view+json": {
       "version_major": 2,
       "version_minor": 0,
       "model_id": "fff03fbcab304bf69498b683afb9ea66"
      }
     },
     "metadata": {}
    },
    {
     "output_type": "display_data",
     "data": {
      "text/plain": "HBox(children=(HTML(value='epoch 90'), FloatProgress(value=0.0, max=34.0), HTML(value='')))",
      "application/vnd.jupyter.widget-view+json": {
       "version_major": 2,
       "version_minor": 0,
       "model_id": "1a817435cc5b42bfa049baf16af69b81"
      }
     },
     "metadata": {}
    },
    {
     "output_type": "display_data",
     "data": {
      "text/plain": "HBox(children=(HTML(value='epoch 91'), FloatProgress(value=0.0, max=34.0), HTML(value='')))",
      "application/vnd.jupyter.widget-view+json": {
       "version_major": 2,
       "version_minor": 0,
       "model_id": "c3ddd06bfba244469c57a18563164650"
      }
     },
     "metadata": {}
    },
    {
     "output_type": "display_data",
     "data": {
      "text/plain": "HBox(children=(HTML(value='epoch 92'), FloatProgress(value=0.0, max=34.0), HTML(value='')))",
      "application/vnd.jupyter.widget-view+json": {
       "version_major": 2,
       "version_minor": 0,
       "model_id": "eb5764ffa7f54532b9f2a3b58aae7d36"
      }
     },
     "metadata": {}
    },
    {
     "output_type": "display_data",
     "data": {
      "text/plain": "HBox(children=(HTML(value='epoch 93'), FloatProgress(value=0.0, max=34.0), HTML(value='')))",
      "application/vnd.jupyter.widget-view+json": {
       "version_major": 2,
       "version_minor": 0,
       "model_id": "4fa9086debd94e9ebed287948fbdb42c"
      }
     },
     "metadata": {}
    },
    {
     "output_type": "display_data",
     "data": {
      "text/plain": "HBox(children=(HTML(value='epoch 94'), FloatProgress(value=0.0, max=34.0), HTML(value='')))",
      "application/vnd.jupyter.widget-view+json": {
       "version_major": 2,
       "version_minor": 0,
       "model_id": "9bb7ee89dc5b408b8bb143019d824e34"
      }
     },
     "metadata": {}
    },
    {
     "output_type": "display_data",
     "data": {
      "text/plain": "HBox(children=(HTML(value='epoch 95'), FloatProgress(value=0.0, max=34.0), HTML(value='')))",
      "application/vnd.jupyter.widget-view+json": {
       "version_major": 2,
       "version_minor": 0,
       "model_id": "81d01800afc94a9796c3ee9b563f5036"
      }
     },
     "metadata": {}
    },
    {
     "output_type": "display_data",
     "data": {
      "text/plain": "HBox(children=(HTML(value='epoch 96'), FloatProgress(value=0.0, max=34.0), HTML(value='')))",
      "application/vnd.jupyter.widget-view+json": {
       "version_major": 2,
       "version_minor": 0,
       "model_id": "f3a41436938e4c21aa81921eaf407763"
      }
     },
     "metadata": {}
    },
    {
     "output_type": "display_data",
     "data": {
      "text/plain": "HBox(children=(HTML(value='epoch 97'), FloatProgress(value=0.0, max=34.0), HTML(value='')))",
      "application/vnd.jupyter.widget-view+json": {
       "version_major": 2,
       "version_minor": 0,
       "model_id": "05dae1d3b017481a89dccb698d03ca12"
      }
     },
     "metadata": {}
    },
    {
     "output_type": "display_data",
     "data": {
      "text/plain": "HBox(children=(HTML(value='epoch 98'), FloatProgress(value=0.0, max=34.0), HTML(value='')))",
      "application/vnd.jupyter.widget-view+json": {
       "version_major": 2,
       "version_minor": 0,
       "model_id": "9545b555663d450a9b52a533a4e7536b"
      }
     },
     "metadata": {}
    },
    {
     "output_type": "display_data",
     "data": {
      "text/plain": "HBox(children=(HTML(value='epoch 99'), FloatProgress(value=0.0, max=34.0), HTML(value='')))",
      "application/vnd.jupyter.widget-view+json": {
       "version_major": 2,
       "version_minor": 0,
       "model_id": "6e0102cd8f494dad97e8a9f6efff3d9a"
      }
     },
     "metadata": {}
    },
    {
     "output_type": "stream",
     "name": "stdout",
     "text": [
      "\n│ loss values: 15.211 13.633 13.637 13.641 13.647 13.652 13.631 13.646 13.627 13.629 13.647 13.620 13.632 13.625 13.644 13.628 13.622 13.621 13.641 13.637 13.627 13.632 13.636 13.628 13.631 13.627 13.627 13.628 13.622 13.620 13.623 13.617 13.629 13.608 13.621 13.629 13.618 13.610 13.617 13.615 13.621 13.605 13.639 13.615 13.629 13.626 13.615 13.608 13.624 13.621 13.616 13.605 13.610 13.608 13.617 13.617 13.616 13.611 13.605 13.612 13.631 13.615 13.607 13.604 13.607 13.609 13.621 13.608 13.608 13.611 13.608 13.613 13.607 13.610 13.614 13.618 13.613 13.619 13.606 13.606 13.615 13.609 13.607 13.610 13.616 13.604 13.606 13.619 13.612 13.608 13.616 13.605 13.603 13.601 13.604 13.610 13.612 13.605 13.601 13.604\n│ Finished training.\n╰───────────────────────────\n\n"
     ]
    },
    {
     "output_type": "display_data",
     "data": {
      "text/plain": "<Figure size 432x288 with 1 Axes>",
      "image/svg+xml": "<?xml version=\"1.0\" encoding=\"utf-8\" standalone=\"no\"?>\n<!DOCTYPE svg PUBLIC \"-//W3C//DTD SVG 1.1//EN\"\n  \"http://www.w3.org/Graphics/SVG/1.1/DTD/svg11.dtd\">\n<!-- Created with matplotlib (https://matplotlib.org/) -->\n<svg height=\"290.75175pt\" version=\"1.1\" viewBox=\"0 0 706.89625 290.75175\" width=\"706.89625pt\" xmlns=\"http://www.w3.org/2000/svg\" xmlns:xlink=\"http://www.w3.org/1999/xlink\">\n <metadata>\n  <rdf:RDF xmlns:cc=\"http://creativecommons.org/ns#\" xmlns:dc=\"http://purl.org/dc/elements/1.1/\" xmlns:rdf=\"http://www.w3.org/1999/02/22-rdf-syntax-ns#\">\n   <cc:Work>\n    <dc:type rdf:resource=\"http://purl.org/dc/dcmitype/StillImage\"/>\n    <dc:date>2020-12-08T12:51:01.020700</dc:date>\n    <dc:format>image/svg+xml</dc:format>\n    <dc:creator>\n     <cc:Agent>\n      <dc:title>Matplotlib v3.3.3, https://matplotlib.org/</dc:title>\n     </cc:Agent>\n    </dc:creator>\n   </cc:Work>\n  </rdf:RDF>\n </metadata>\n <defs>\n  <style type=\"text/css\">*{stroke-linecap:butt;stroke-linejoin:round;}</style>\n </defs>\n <g id=\"figure_1\">\n  <g id=\"patch_1\">\n   <path d=\"M 0 290.75175 \nL 706.89625 290.75175 \nL 706.89625 0 \nL 0 0 \nz\n\" style=\"fill:none;\"/>\n  </g>\n  <g id=\"axes_1\">\n   <g id=\"patch_2\">\n    <path d=\"M 40.603125 253.1955 \nL 375.403125 253.1955 \nL 375.403125 35.7555 \nL 40.603125 35.7555 \nz\n\" style=\"fill:#ffffff;\"/>\n   </g>\n   <g id=\"matplotlib.axis_1\">\n    <g id=\"xtick_1\">\n     <g id=\"line2d_1\">\n      <defs>\n       <path d=\"M 0 0 \nL 0 3.5 \n\" id=\"me5a35ad9f7\" style=\"stroke:#000000;stroke-width:0.8;\"/>\n      </defs>\n      <g>\n       <use style=\"stroke:#000000;stroke-width:0.8;\" x=\"55.821307\" xlink:href=\"#me5a35ad9f7\" y=\"253.1955\"/>\n      </g>\n     </g>\n     <g id=\"text_1\">\n      <!-- 0 -->\n      <g transform=\"translate(52.640057 267.793937)scale(0.1 -0.1)\">\n       <defs>\n        <path d=\"M 31.78125 66.40625 \nQ 24.171875 66.40625 20.328125 58.90625 \nQ 16.5 51.421875 16.5 36.375 \nQ 16.5 21.390625 20.328125 13.890625 \nQ 24.171875 6.390625 31.78125 6.390625 \nQ 39.453125 6.390625 43.28125 13.890625 \nQ 47.125 21.390625 47.125 36.375 \nQ 47.125 51.421875 43.28125 58.90625 \nQ 39.453125 66.40625 31.78125 66.40625 \nz\nM 31.78125 74.21875 \nQ 44.046875 74.21875 50.515625 64.515625 \nQ 56.984375 54.828125 56.984375 36.375 \nQ 56.984375 17.96875 50.515625 8.265625 \nQ 44.046875 -1.421875 31.78125 -1.421875 \nQ 19.53125 -1.421875 13.0625 8.265625 \nQ 6.59375 17.96875 6.59375 36.375 \nQ 6.59375 54.828125 13.0625 64.515625 \nQ 19.53125 74.21875 31.78125 74.21875 \nz\n\" id=\"DejaVuSans-48\"/>\n       </defs>\n       <use xlink:href=\"#DejaVuSans-48\"/>\n      </g>\n     </g>\n    </g>\n    <g id=\"xtick_2\">\n     <g id=\"line2d_2\">\n      <g>\n       <use style=\"stroke:#000000;stroke-width:0.8;\" x=\"117.30891\" xlink:href=\"#me5a35ad9f7\" y=\"253.1955\"/>\n      </g>\n     </g>\n     <g id=\"text_2\">\n      <!-- 20 -->\n      <g transform=\"translate(110.94641 267.793937)scale(0.1 -0.1)\">\n       <defs>\n        <path d=\"M 19.1875 8.296875 \nL 53.609375 8.296875 \nL 53.609375 0 \nL 7.328125 0 \nL 7.328125 8.296875 \nQ 12.9375 14.109375 22.625 23.890625 \nQ 32.328125 33.6875 34.8125 36.53125 \nQ 39.546875 41.84375 41.421875 45.53125 \nQ 43.3125 49.21875 43.3125 52.78125 \nQ 43.3125 58.59375 39.234375 62.25 \nQ 35.15625 65.921875 28.609375 65.921875 \nQ 23.96875 65.921875 18.8125 64.3125 \nQ 13.671875 62.703125 7.8125 59.421875 \nL 7.8125 69.390625 \nQ 13.765625 71.78125 18.9375 73 \nQ 24.125 74.21875 28.421875 74.21875 \nQ 39.75 74.21875 46.484375 68.546875 \nQ 53.21875 62.890625 53.21875 53.421875 \nQ 53.21875 48.921875 51.53125 44.890625 \nQ 49.859375 40.875 45.40625 35.40625 \nQ 44.1875 33.984375 37.640625 27.21875 \nQ 31.109375 20.453125 19.1875 8.296875 \nz\n\" id=\"DejaVuSans-50\"/>\n       </defs>\n       <use xlink:href=\"#DejaVuSans-50\"/>\n       <use x=\"63.623047\" xlink:href=\"#DejaVuSans-48\"/>\n      </g>\n     </g>\n    </g>\n    <g id=\"xtick_3\">\n     <g id=\"line2d_3\">\n      <g>\n       <use style=\"stroke:#000000;stroke-width:0.8;\" x=\"178.796513\" xlink:href=\"#me5a35ad9f7\" y=\"253.1955\"/>\n      </g>\n     </g>\n     <g id=\"text_3\">\n      <!-- 40 -->\n      <g transform=\"translate(172.434013 267.793937)scale(0.1 -0.1)\">\n       <defs>\n        <path d=\"M 37.796875 64.3125 \nL 12.890625 25.390625 \nL 37.796875 25.390625 \nz\nM 35.203125 72.90625 \nL 47.609375 72.90625 \nL 47.609375 25.390625 \nL 58.015625 25.390625 \nL 58.015625 17.1875 \nL 47.609375 17.1875 \nL 47.609375 0 \nL 37.796875 0 \nL 37.796875 17.1875 \nL 4.890625 17.1875 \nL 4.890625 26.703125 \nz\n\" id=\"DejaVuSans-52\"/>\n       </defs>\n       <use xlink:href=\"#DejaVuSans-52\"/>\n       <use x=\"63.623047\" xlink:href=\"#DejaVuSans-48\"/>\n      </g>\n     </g>\n    </g>\n    <g id=\"xtick_4\">\n     <g id=\"line2d_4\">\n      <g>\n       <use style=\"stroke:#000000;stroke-width:0.8;\" x=\"240.284117\" xlink:href=\"#me5a35ad9f7\" y=\"253.1955\"/>\n      </g>\n     </g>\n     <g id=\"text_4\">\n      <!-- 60 -->\n      <g transform=\"translate(233.921617 267.793937)scale(0.1 -0.1)\">\n       <defs>\n        <path d=\"M 33.015625 40.375 \nQ 26.375 40.375 22.484375 35.828125 \nQ 18.609375 31.296875 18.609375 23.390625 \nQ 18.609375 15.53125 22.484375 10.953125 \nQ 26.375 6.390625 33.015625 6.390625 \nQ 39.65625 6.390625 43.53125 10.953125 \nQ 47.40625 15.53125 47.40625 23.390625 \nQ 47.40625 31.296875 43.53125 35.828125 \nQ 39.65625 40.375 33.015625 40.375 \nz\nM 52.59375 71.296875 \nL 52.59375 62.3125 \nQ 48.875 64.0625 45.09375 64.984375 \nQ 41.3125 65.921875 37.59375 65.921875 \nQ 27.828125 65.921875 22.671875 59.328125 \nQ 17.53125 52.734375 16.796875 39.40625 \nQ 19.671875 43.65625 24.015625 45.921875 \nQ 28.375 48.1875 33.59375 48.1875 \nQ 44.578125 48.1875 50.953125 41.515625 \nQ 57.328125 34.859375 57.328125 23.390625 \nQ 57.328125 12.15625 50.6875 5.359375 \nQ 44.046875 -1.421875 33.015625 -1.421875 \nQ 20.359375 -1.421875 13.671875 8.265625 \nQ 6.984375 17.96875 6.984375 36.375 \nQ 6.984375 53.65625 15.1875 63.9375 \nQ 23.390625 74.21875 37.203125 74.21875 \nQ 40.921875 74.21875 44.703125 73.484375 \nQ 48.484375 72.75 52.59375 71.296875 \nz\n\" id=\"DejaVuSans-54\"/>\n       </defs>\n       <use xlink:href=\"#DejaVuSans-54\"/>\n       <use x=\"63.623047\" xlink:href=\"#DejaVuSans-48\"/>\n      </g>\n     </g>\n    </g>\n    <g id=\"xtick_5\">\n     <g id=\"line2d_5\">\n      <g>\n       <use style=\"stroke:#000000;stroke-width:0.8;\" x=\"301.77172\" xlink:href=\"#me5a35ad9f7\" y=\"253.1955\"/>\n      </g>\n     </g>\n     <g id=\"text_5\">\n      <!-- 80 -->\n      <g transform=\"translate(295.40922 267.793937)scale(0.1 -0.1)\">\n       <defs>\n        <path d=\"M 31.78125 34.625 \nQ 24.75 34.625 20.71875 30.859375 \nQ 16.703125 27.09375 16.703125 20.515625 \nQ 16.703125 13.921875 20.71875 10.15625 \nQ 24.75 6.390625 31.78125 6.390625 \nQ 38.8125 6.390625 42.859375 10.171875 \nQ 46.921875 13.96875 46.921875 20.515625 \nQ 46.921875 27.09375 42.890625 30.859375 \nQ 38.875 34.625 31.78125 34.625 \nz\nM 21.921875 38.8125 \nQ 15.578125 40.375 12.03125 44.71875 \nQ 8.5 49.078125 8.5 55.328125 \nQ 8.5 64.0625 14.71875 69.140625 \nQ 20.953125 74.21875 31.78125 74.21875 \nQ 42.671875 74.21875 48.875 69.140625 \nQ 55.078125 64.0625 55.078125 55.328125 \nQ 55.078125 49.078125 51.53125 44.71875 \nQ 48 40.375 41.703125 38.8125 \nQ 48.828125 37.15625 52.796875 32.3125 \nQ 56.78125 27.484375 56.78125 20.515625 \nQ 56.78125 9.90625 50.3125 4.234375 \nQ 43.84375 -1.421875 31.78125 -1.421875 \nQ 19.734375 -1.421875 13.25 4.234375 \nQ 6.78125 9.90625 6.78125 20.515625 \nQ 6.78125 27.484375 10.78125 32.3125 \nQ 14.796875 37.15625 21.921875 38.8125 \nz\nM 18.3125 54.390625 \nQ 18.3125 48.734375 21.84375 45.5625 \nQ 25.390625 42.390625 31.78125 42.390625 \nQ 38.140625 42.390625 41.71875 45.5625 \nQ 45.3125 48.734375 45.3125 54.390625 \nQ 45.3125 60.0625 41.71875 63.234375 \nQ 38.140625 66.40625 31.78125 66.40625 \nQ 25.390625 66.40625 21.84375 63.234375 \nQ 18.3125 60.0625 18.3125 54.390625 \nz\n\" id=\"DejaVuSans-56\"/>\n       </defs>\n       <use xlink:href=\"#DejaVuSans-56\"/>\n       <use x=\"63.623047\" xlink:href=\"#DejaVuSans-48\"/>\n      </g>\n     </g>\n    </g>\n    <g id=\"xtick_6\">\n     <g id=\"line2d_6\">\n      <g>\n       <use style=\"stroke:#000000;stroke-width:0.8;\" x=\"363.259323\" xlink:href=\"#me5a35ad9f7\" y=\"253.1955\"/>\n      </g>\n     </g>\n     <g id=\"text_6\">\n      <!-- 100 -->\n      <g transform=\"translate(353.715573 267.793937)scale(0.1 -0.1)\">\n       <defs>\n        <path d=\"M 12.40625 8.296875 \nL 28.515625 8.296875 \nL 28.515625 63.921875 \nL 10.984375 60.40625 \nL 10.984375 69.390625 \nL 28.421875 72.90625 \nL 38.28125 72.90625 \nL 38.28125 8.296875 \nL 54.390625 8.296875 \nL 54.390625 0 \nL 12.40625 0 \nz\n\" id=\"DejaVuSans-49\"/>\n       </defs>\n       <use xlink:href=\"#DejaVuSans-49\"/>\n       <use x=\"63.623047\" xlink:href=\"#DejaVuSans-48\"/>\n       <use x=\"127.246094\" xlink:href=\"#DejaVuSans-48\"/>\n      </g>\n     </g>\n    </g>\n    <g id=\"text_7\">\n     <!-- Epoch -->\n     <g transform=\"translate(192.692187 281.472062)scale(0.1 -0.1)\">\n      <defs>\n       <path d=\"M 9.8125 72.90625 \nL 55.90625 72.90625 \nL 55.90625 64.59375 \nL 19.671875 64.59375 \nL 19.671875 43.015625 \nL 54.390625 43.015625 \nL 54.390625 34.71875 \nL 19.671875 34.71875 \nL 19.671875 8.296875 \nL 56.78125 8.296875 \nL 56.78125 0 \nL 9.8125 0 \nz\n\" id=\"DejaVuSans-69\"/>\n       <path d=\"M 18.109375 8.203125 \nL 18.109375 -20.796875 \nL 9.078125 -20.796875 \nL 9.078125 54.6875 \nL 18.109375 54.6875 \nL 18.109375 46.390625 \nQ 20.953125 51.265625 25.265625 53.625 \nQ 29.59375 56 35.59375 56 \nQ 45.5625 56 51.78125 48.09375 \nQ 58.015625 40.1875 58.015625 27.296875 \nQ 58.015625 14.40625 51.78125 6.484375 \nQ 45.5625 -1.421875 35.59375 -1.421875 \nQ 29.59375 -1.421875 25.265625 0.953125 \nQ 20.953125 3.328125 18.109375 8.203125 \nz\nM 48.6875 27.296875 \nQ 48.6875 37.203125 44.609375 42.84375 \nQ 40.53125 48.484375 33.40625 48.484375 \nQ 26.265625 48.484375 22.1875 42.84375 \nQ 18.109375 37.203125 18.109375 27.296875 \nQ 18.109375 17.390625 22.1875 11.75 \nQ 26.265625 6.109375 33.40625 6.109375 \nQ 40.53125 6.109375 44.609375 11.75 \nQ 48.6875 17.390625 48.6875 27.296875 \nz\n\" id=\"DejaVuSans-112\"/>\n       <path d=\"M 30.609375 48.390625 \nQ 23.390625 48.390625 19.1875 42.75 \nQ 14.984375 37.109375 14.984375 27.296875 \nQ 14.984375 17.484375 19.15625 11.84375 \nQ 23.34375 6.203125 30.609375 6.203125 \nQ 37.796875 6.203125 41.984375 11.859375 \nQ 46.1875 17.53125 46.1875 27.296875 \nQ 46.1875 37.015625 41.984375 42.703125 \nQ 37.796875 48.390625 30.609375 48.390625 \nz\nM 30.609375 56 \nQ 42.328125 56 49.015625 48.375 \nQ 55.71875 40.765625 55.71875 27.296875 \nQ 55.71875 13.875 49.015625 6.21875 \nQ 42.328125 -1.421875 30.609375 -1.421875 \nQ 18.84375 -1.421875 12.171875 6.21875 \nQ 5.515625 13.875 5.515625 27.296875 \nQ 5.515625 40.765625 12.171875 48.375 \nQ 18.84375 56 30.609375 56 \nz\n\" id=\"DejaVuSans-111\"/>\n       <path d=\"M 48.78125 52.59375 \nL 48.78125 44.1875 \nQ 44.96875 46.296875 41.140625 47.34375 \nQ 37.3125 48.390625 33.40625 48.390625 \nQ 24.65625 48.390625 19.8125 42.84375 \nQ 14.984375 37.3125 14.984375 27.296875 \nQ 14.984375 17.28125 19.8125 11.734375 \nQ 24.65625 6.203125 33.40625 6.203125 \nQ 37.3125 6.203125 41.140625 7.25 \nQ 44.96875 8.296875 48.78125 10.40625 \nL 48.78125 2.09375 \nQ 45.015625 0.34375 40.984375 -0.53125 \nQ 36.96875 -1.421875 32.421875 -1.421875 \nQ 20.0625 -1.421875 12.78125 6.34375 \nQ 5.515625 14.109375 5.515625 27.296875 \nQ 5.515625 40.671875 12.859375 48.328125 \nQ 20.21875 56 33.015625 56 \nQ 37.15625 56 41.109375 55.140625 \nQ 45.0625 54.296875 48.78125 52.59375 \nz\n\" id=\"DejaVuSans-99\"/>\n       <path d=\"M 54.890625 33.015625 \nL 54.890625 0 \nL 45.90625 0 \nL 45.90625 32.71875 \nQ 45.90625 40.484375 42.875 44.328125 \nQ 39.84375 48.1875 33.796875 48.1875 \nQ 26.515625 48.1875 22.3125 43.546875 \nQ 18.109375 38.921875 18.109375 30.90625 \nL 18.109375 0 \nL 9.078125 0 \nL 9.078125 75.984375 \nL 18.109375 75.984375 \nL 18.109375 46.1875 \nQ 21.34375 51.125 25.703125 53.5625 \nQ 30.078125 56 35.796875 56 \nQ 45.21875 56 50.046875 50.171875 \nQ 54.890625 44.34375 54.890625 33.015625 \nz\n\" id=\"DejaVuSans-104\"/>\n      </defs>\n      <use xlink:href=\"#DejaVuSans-69\"/>\n      <use x=\"63.183594\" xlink:href=\"#DejaVuSans-112\"/>\n      <use x=\"126.660156\" xlink:href=\"#DejaVuSans-111\"/>\n      <use x=\"187.841797\" xlink:href=\"#DejaVuSans-99\"/>\n      <use x=\"242.822266\" xlink:href=\"#DejaVuSans-104\"/>\n     </g>\n    </g>\n   </g>\n   <g id=\"matplotlib.axis_2\">\n    <g id=\"ytick_1\">\n     <g id=\"line2d_7\">\n      <defs>\n       <path d=\"M 0 0 \nL -3.5 0 \n\" id=\"m2193945c21\" style=\"stroke:#000000;stroke-width:0.8;\"/>\n      </defs>\n      <g>\n       <use style=\"stroke:#000000;stroke-width:0.8;\" x=\"40.603125\" xlink:href=\"#m2193945c21\" y=\"249.46136\"/>\n      </g>\n     </g>\n     <g id=\"text_8\">\n      <!-- 8 -->\n      <g transform=\"translate(27.240625 253.260579)scale(0.1 -0.1)\">\n       <use xlink:href=\"#DejaVuSans-56\"/>\n      </g>\n     </g>\n    </g>\n    <g id=\"ytick_2\">\n     <g id=\"line2d_8\">\n      <g>\n       <use style=\"stroke:#000000;stroke-width:0.8;\" x=\"40.603125\" xlink:href=\"#m2193945c21\" y=\"223.199038\"/>\n      </g>\n     </g>\n     <g id=\"text_9\">\n      <!-- 9 -->\n      <g transform=\"translate(27.240625 226.998257)scale(0.1 -0.1)\">\n       <defs>\n        <path d=\"M 10.984375 1.515625 \nL 10.984375 10.5 \nQ 14.703125 8.734375 18.5 7.8125 \nQ 22.3125 6.890625 25.984375 6.890625 \nQ 35.75 6.890625 40.890625 13.453125 \nQ 46.046875 20.015625 46.78125 33.40625 \nQ 43.953125 29.203125 39.59375 26.953125 \nQ 35.25 24.703125 29.984375 24.703125 \nQ 19.046875 24.703125 12.671875 31.3125 \nQ 6.296875 37.9375 6.296875 49.421875 \nQ 6.296875 60.640625 12.9375 67.421875 \nQ 19.578125 74.21875 30.609375 74.21875 \nQ 43.265625 74.21875 49.921875 64.515625 \nQ 56.59375 54.828125 56.59375 36.375 \nQ 56.59375 19.140625 48.40625 8.859375 \nQ 40.234375 -1.421875 26.421875 -1.421875 \nQ 22.703125 -1.421875 18.890625 -0.6875 \nQ 15.09375 0.046875 10.984375 1.515625 \nz\nM 30.609375 32.421875 \nQ 37.25 32.421875 41.125 36.953125 \nQ 45.015625 41.5 45.015625 49.421875 \nQ 45.015625 57.28125 41.125 61.84375 \nQ 37.25 66.40625 30.609375 66.40625 \nQ 23.96875 66.40625 20.09375 61.84375 \nQ 16.21875 57.28125 16.21875 49.421875 \nQ 16.21875 41.5 20.09375 36.953125 \nQ 23.96875 32.421875 30.609375 32.421875 \nz\n\" id=\"DejaVuSans-57\"/>\n       </defs>\n       <use xlink:href=\"#DejaVuSans-57\"/>\n      </g>\n     </g>\n    </g>\n    <g id=\"ytick_3\">\n     <g id=\"line2d_9\">\n      <g>\n       <use style=\"stroke:#000000;stroke-width:0.8;\" x=\"40.603125\" xlink:href=\"#m2193945c21\" y=\"196.936716\"/>\n      </g>\n     </g>\n     <g id=\"text_10\">\n      <!-- 10 -->\n      <g transform=\"translate(20.878125 200.735935)scale(0.1 -0.1)\">\n       <use xlink:href=\"#DejaVuSans-49\"/>\n       <use x=\"63.623047\" xlink:href=\"#DejaVuSans-48\"/>\n      </g>\n     </g>\n    </g>\n    <g id=\"ytick_4\">\n     <g id=\"line2d_10\">\n      <g>\n       <use style=\"stroke:#000000;stroke-width:0.8;\" x=\"40.603125\" xlink:href=\"#m2193945c21\" y=\"170.674394\"/>\n      </g>\n     </g>\n     <g id=\"text_11\">\n      <!-- 11 -->\n      <g transform=\"translate(20.878125 174.473613)scale(0.1 -0.1)\">\n       <use xlink:href=\"#DejaVuSans-49\"/>\n       <use x=\"63.623047\" xlink:href=\"#DejaVuSans-49\"/>\n      </g>\n     </g>\n    </g>\n    <g id=\"ytick_5\">\n     <g id=\"line2d_11\">\n      <g>\n       <use style=\"stroke:#000000;stroke-width:0.8;\" x=\"40.603125\" xlink:href=\"#m2193945c21\" y=\"144.412072\"/>\n      </g>\n     </g>\n     <g id=\"text_12\">\n      <!-- 12 -->\n      <g transform=\"translate(20.878125 148.211291)scale(0.1 -0.1)\">\n       <use xlink:href=\"#DejaVuSans-49\"/>\n       <use x=\"63.623047\" xlink:href=\"#DejaVuSans-50\"/>\n      </g>\n     </g>\n    </g>\n    <g id=\"ytick_6\">\n     <g id=\"line2d_12\">\n      <g>\n       <use style=\"stroke:#000000;stroke-width:0.8;\" x=\"40.603125\" xlink:href=\"#m2193945c21\" y=\"118.14975\"/>\n      </g>\n     </g>\n     <g id=\"text_13\">\n      <!-- 13 -->\n      <g transform=\"translate(20.878125 121.948968)scale(0.1 -0.1)\">\n       <defs>\n        <path d=\"M 40.578125 39.3125 \nQ 47.65625 37.796875 51.625 33 \nQ 55.609375 28.21875 55.609375 21.1875 \nQ 55.609375 10.40625 48.1875 4.484375 \nQ 40.765625 -1.421875 27.09375 -1.421875 \nQ 22.515625 -1.421875 17.65625 -0.515625 \nQ 12.796875 0.390625 7.625 2.203125 \nL 7.625 11.71875 \nQ 11.71875 9.328125 16.59375 8.109375 \nQ 21.484375 6.890625 26.8125 6.890625 \nQ 36.078125 6.890625 40.9375 10.546875 \nQ 45.796875 14.203125 45.796875 21.1875 \nQ 45.796875 27.640625 41.28125 31.265625 \nQ 36.765625 34.90625 28.71875 34.90625 \nL 20.21875 34.90625 \nL 20.21875 43.015625 \nL 29.109375 43.015625 \nQ 36.375 43.015625 40.234375 45.921875 \nQ 44.09375 48.828125 44.09375 54.296875 \nQ 44.09375 59.90625 40.109375 62.90625 \nQ 36.140625 65.921875 28.71875 65.921875 \nQ 24.65625 65.921875 20.015625 65.03125 \nQ 15.375 64.15625 9.8125 62.3125 \nL 9.8125 71.09375 \nQ 15.4375 72.65625 20.34375 73.4375 \nQ 25.25 74.21875 29.59375 74.21875 \nQ 40.828125 74.21875 47.359375 69.109375 \nQ 53.90625 64.015625 53.90625 55.328125 \nQ 53.90625 49.265625 50.4375 45.09375 \nQ 46.96875 40.921875 40.578125 39.3125 \nz\n\" id=\"DejaVuSans-51\"/>\n       </defs>\n       <use xlink:href=\"#DejaVuSans-49\"/>\n       <use x=\"63.623047\" xlink:href=\"#DejaVuSans-51\"/>\n      </g>\n     </g>\n    </g>\n    <g id=\"ytick_7\">\n     <g id=\"line2d_13\">\n      <g>\n       <use style=\"stroke:#000000;stroke-width:0.8;\" x=\"40.603125\" xlink:href=\"#m2193945c21\" y=\"91.887428\"/>\n      </g>\n     </g>\n     <g id=\"text_14\">\n      <!-- 14 -->\n      <g transform=\"translate(20.878125 95.686646)scale(0.1 -0.1)\">\n       <use xlink:href=\"#DejaVuSans-49\"/>\n       <use x=\"63.623047\" xlink:href=\"#DejaVuSans-52\"/>\n      </g>\n     </g>\n    </g>\n    <g id=\"ytick_8\">\n     <g id=\"line2d_14\">\n      <g>\n       <use style=\"stroke:#000000;stroke-width:0.8;\" x=\"40.603125\" xlink:href=\"#m2193945c21\" y=\"65.625106\"/>\n      </g>\n     </g>\n     <g id=\"text_15\">\n      <!-- 15 -->\n      <g transform=\"translate(20.878125 69.424324)scale(0.1 -0.1)\">\n       <defs>\n        <path d=\"M 10.796875 72.90625 \nL 49.515625 72.90625 \nL 49.515625 64.59375 \nL 19.828125 64.59375 \nL 19.828125 46.734375 \nQ 21.96875 47.46875 24.109375 47.828125 \nQ 26.265625 48.1875 28.421875 48.1875 \nQ 40.625 48.1875 47.75 41.5 \nQ 54.890625 34.8125 54.890625 23.390625 \nQ 54.890625 11.625 47.5625 5.09375 \nQ 40.234375 -1.421875 26.90625 -1.421875 \nQ 22.3125 -1.421875 17.546875 -0.640625 \nQ 12.796875 0.140625 7.71875 1.703125 \nL 7.71875 11.625 \nQ 12.109375 9.234375 16.796875 8.0625 \nQ 21.484375 6.890625 26.703125 6.890625 \nQ 35.15625 6.890625 40.078125 11.328125 \nQ 45.015625 15.765625 45.015625 23.390625 \nQ 45.015625 31 40.078125 35.4375 \nQ 35.15625 39.890625 26.703125 39.890625 \nQ 22.75 39.890625 18.8125 39.015625 \nQ 14.890625 38.140625 10.796875 36.28125 \nz\n\" id=\"DejaVuSans-53\"/>\n       </defs>\n       <use xlink:href=\"#DejaVuSans-49\"/>\n       <use x=\"63.623047\" xlink:href=\"#DejaVuSans-53\"/>\n      </g>\n     </g>\n    </g>\n    <g id=\"ytick_9\">\n     <g id=\"line2d_15\">\n      <g>\n       <use style=\"stroke:#000000;stroke-width:0.8;\" x=\"40.603125\" xlink:href=\"#m2193945c21\" y=\"39.362784\"/>\n      </g>\n     </g>\n     <g id=\"text_16\">\n      <!-- 16 -->\n      <g transform=\"translate(20.878125 43.162002)scale(0.1 -0.1)\">\n       <use xlink:href=\"#DejaVuSans-49\"/>\n       <use x=\"63.623047\" xlink:href=\"#DejaVuSans-54\"/>\n      </g>\n     </g>\n    </g>\n    <g id=\"text_17\">\n     <!-- avg loss (NLL) -->\n     <g transform=\"translate(14.798438 179.723156)rotate(-90)scale(0.1 -0.1)\">\n      <defs>\n       <path d=\"M 34.28125 27.484375 \nQ 23.390625 27.484375 19.1875 25 \nQ 14.984375 22.515625 14.984375 16.5 \nQ 14.984375 11.71875 18.140625 8.90625 \nQ 21.296875 6.109375 26.703125 6.109375 \nQ 34.1875 6.109375 38.703125 11.40625 \nQ 43.21875 16.703125 43.21875 25.484375 \nL 43.21875 27.484375 \nz\nM 52.203125 31.203125 \nL 52.203125 0 \nL 43.21875 0 \nL 43.21875 8.296875 \nQ 40.140625 3.328125 35.546875 0.953125 \nQ 30.953125 -1.421875 24.3125 -1.421875 \nQ 15.921875 -1.421875 10.953125 3.296875 \nQ 6 8.015625 6 15.921875 \nQ 6 25.140625 12.171875 29.828125 \nQ 18.359375 34.515625 30.609375 34.515625 \nL 43.21875 34.515625 \nL 43.21875 35.40625 \nQ 43.21875 41.609375 39.140625 45 \nQ 35.0625 48.390625 27.6875 48.390625 \nQ 23 48.390625 18.546875 47.265625 \nQ 14.109375 46.140625 10.015625 43.890625 \nL 10.015625 52.203125 \nQ 14.9375 54.109375 19.578125 55.046875 \nQ 24.21875 56 28.609375 56 \nQ 40.484375 56 46.34375 49.84375 \nQ 52.203125 43.703125 52.203125 31.203125 \nz\n\" id=\"DejaVuSans-97\"/>\n       <path d=\"M 2.984375 54.6875 \nL 12.5 54.6875 \nL 29.59375 8.796875 \nL 46.6875 54.6875 \nL 56.203125 54.6875 \nL 35.6875 0 \nL 23.484375 0 \nz\n\" id=\"DejaVuSans-118\"/>\n       <path d=\"M 45.40625 27.984375 \nQ 45.40625 37.75 41.375 43.109375 \nQ 37.359375 48.484375 30.078125 48.484375 \nQ 22.859375 48.484375 18.828125 43.109375 \nQ 14.796875 37.75 14.796875 27.984375 \nQ 14.796875 18.265625 18.828125 12.890625 \nQ 22.859375 7.515625 30.078125 7.515625 \nQ 37.359375 7.515625 41.375 12.890625 \nQ 45.40625 18.265625 45.40625 27.984375 \nz\nM 54.390625 6.78125 \nQ 54.390625 -7.171875 48.1875 -13.984375 \nQ 42 -20.796875 29.203125 -20.796875 \nQ 24.46875 -20.796875 20.265625 -20.09375 \nQ 16.0625 -19.390625 12.109375 -17.921875 \nL 12.109375 -9.1875 \nQ 16.0625 -11.328125 19.921875 -12.34375 \nQ 23.78125 -13.375 27.78125 -13.375 \nQ 36.625 -13.375 41.015625 -8.765625 \nQ 45.40625 -4.15625 45.40625 5.171875 \nL 45.40625 9.625 \nQ 42.625 4.78125 38.28125 2.390625 \nQ 33.9375 0 27.875 0 \nQ 17.828125 0 11.671875 7.65625 \nQ 5.515625 15.328125 5.515625 27.984375 \nQ 5.515625 40.671875 11.671875 48.328125 \nQ 17.828125 56 27.875 56 \nQ 33.9375 56 38.28125 53.609375 \nQ 42.625 51.21875 45.40625 46.390625 \nL 45.40625 54.6875 \nL 54.390625 54.6875 \nz\n\" id=\"DejaVuSans-103\"/>\n       <path id=\"DejaVuSans-32\"/>\n       <path d=\"M 9.421875 75.984375 \nL 18.40625 75.984375 \nL 18.40625 0 \nL 9.421875 0 \nz\n\" id=\"DejaVuSans-108\"/>\n       <path d=\"M 44.28125 53.078125 \nL 44.28125 44.578125 \nQ 40.484375 46.53125 36.375 47.5 \nQ 32.28125 48.484375 27.875 48.484375 \nQ 21.1875 48.484375 17.84375 46.4375 \nQ 14.5 44.390625 14.5 40.28125 \nQ 14.5 37.15625 16.890625 35.375 \nQ 19.28125 33.59375 26.515625 31.984375 \nL 29.59375 31.296875 \nQ 39.15625 29.25 43.1875 25.515625 \nQ 47.21875 21.78125 47.21875 15.09375 \nQ 47.21875 7.46875 41.1875 3.015625 \nQ 35.15625 -1.421875 24.609375 -1.421875 \nQ 20.21875 -1.421875 15.453125 -0.5625 \nQ 10.6875 0.296875 5.421875 2 \nL 5.421875 11.28125 \nQ 10.40625 8.6875 15.234375 7.390625 \nQ 20.0625 6.109375 24.8125 6.109375 \nQ 31.15625 6.109375 34.5625 8.28125 \nQ 37.984375 10.453125 37.984375 14.40625 \nQ 37.984375 18.0625 35.515625 20.015625 \nQ 33.0625 21.96875 24.703125 23.78125 \nL 21.578125 24.515625 \nQ 13.234375 26.265625 9.515625 29.90625 \nQ 5.8125 33.546875 5.8125 39.890625 \nQ 5.8125 47.609375 11.28125 51.796875 \nQ 16.75 56 26.8125 56 \nQ 31.78125 56 36.171875 55.265625 \nQ 40.578125 54.546875 44.28125 53.078125 \nz\n\" id=\"DejaVuSans-115\"/>\n       <path d=\"M 31 75.875 \nQ 24.46875 64.65625 21.28125 53.65625 \nQ 18.109375 42.671875 18.109375 31.390625 \nQ 18.109375 20.125 21.3125 9.0625 \nQ 24.515625 -2 31 -13.1875 \nL 23.1875 -13.1875 \nQ 15.875 -1.703125 12.234375 9.375 \nQ 8.59375 20.453125 8.59375 31.390625 \nQ 8.59375 42.28125 12.203125 53.3125 \nQ 15.828125 64.359375 23.1875 75.875 \nz\n\" id=\"DejaVuSans-40\"/>\n       <path d=\"M 9.8125 72.90625 \nL 23.09375 72.90625 \nL 55.421875 11.921875 \nL 55.421875 72.90625 \nL 64.984375 72.90625 \nL 64.984375 0 \nL 51.703125 0 \nL 19.390625 60.984375 \nL 19.390625 0 \nL 9.8125 0 \nz\n\" id=\"DejaVuSans-78\"/>\n       <path d=\"M 9.8125 72.90625 \nL 19.671875 72.90625 \nL 19.671875 8.296875 \nL 55.171875 8.296875 \nL 55.171875 0 \nL 9.8125 0 \nz\n\" id=\"DejaVuSans-76\"/>\n       <path d=\"M 8.015625 75.875 \nL 15.828125 75.875 \nQ 23.140625 64.359375 26.78125 53.3125 \nQ 30.421875 42.28125 30.421875 31.390625 \nQ 30.421875 20.453125 26.78125 9.375 \nQ 23.140625 -1.703125 15.828125 -13.1875 \nL 8.015625 -13.1875 \nQ 14.5 -2 17.703125 9.0625 \nQ 20.90625 20.125 20.90625 31.390625 \nQ 20.90625 42.671875 17.703125 53.65625 \nQ 14.5 64.65625 8.015625 75.875 \nz\n\" id=\"DejaVuSans-41\"/>\n      </defs>\n      <use xlink:href=\"#DejaVuSans-97\"/>\n      <use x=\"61.279297\" xlink:href=\"#DejaVuSans-118\"/>\n      <use x=\"120.458984\" xlink:href=\"#DejaVuSans-103\"/>\n      <use x=\"183.935547\" xlink:href=\"#DejaVuSans-32\"/>\n      <use x=\"215.722656\" xlink:href=\"#DejaVuSans-108\"/>\n      <use x=\"243.505859\" xlink:href=\"#DejaVuSans-111\"/>\n      <use x=\"304.6875\" xlink:href=\"#DejaVuSans-115\"/>\n      <use x=\"356.787109\" xlink:href=\"#DejaVuSans-115\"/>\n      <use x=\"408.886719\" xlink:href=\"#DejaVuSans-32\"/>\n      <use x=\"440.673828\" xlink:href=\"#DejaVuSans-40\"/>\n      <use x=\"479.6875\" xlink:href=\"#DejaVuSans-78\"/>\n      <use x=\"554.492188\" xlink:href=\"#DejaVuSans-76\"/>\n      <use x=\"610.205078\" xlink:href=\"#DejaVuSans-76\"/>\n      <use x=\"665.917969\" xlink:href=\"#DejaVuSans-41\"/>\n     </g>\n    </g>\n   </g>\n   <g id=\"line2d_16\">\n    <path clip-path=\"url(#p85816f4419)\" d=\"M 55.821307 63.046951 \nL 58.895687 101.683904 \nL 61.970067 101.4624 \nL 65.044447 100.534707 \nL 68.118827 100.729788 \nL 71.193208 100.970201 \nL 74.267588 101.438882 \nL 77.341968 101.450603 \nL 80.416348 101.329732 \nL 83.490728 101.457541 \nL 86.565108 101.150781 \nL 89.639489 101.768158 \nL 92.713869 101.387588 \nL 95.788249 101.64919 \nL 98.862629 101.770362 \nL 101.937009 101.987032 \nL 105.011389 101.663867 \nL 108.08577 101.487671 \nL 111.16015 101.846475 \nL 114.23453 101.945882 \nL 117.30891 101.797361 \nL 120.38329 101.662289 \nL 123.45767 101.755134 \nL 126.532051 101.720345 \nL 129.606431 101.8463 \nL 132.680811 101.635816 \nL 135.755191 101.671231 \nL 138.829571 101.74231 \nL 141.903951 101.59945 \nL 144.978332 101.728836 \nL 148.052712 101.784537 \nL 151.127092 101.987257 \nL 154.201472 102.009147 \nL 157.275852 101.795232 \nL 160.350232 101.793028 \nL 163.424613 101.736475 \nL 166.498993 101.900599 \nL 169.573373 101.812939 \nL 172.647753 102.019166 \nL 175.722133 101.995673 \nL 178.796513 101.884645 \nL 181.870894 101.849631 \nL 184.945274 102.022922 \nL 188.019654 101.645434 \nL 191.094034 102.077472 \nL 194.168414 101.702738 \nL 197.242794 101.902302 \nL 200.317175 101.84918 \nL 203.391555 102.10953 \nL 206.465935 102.159822 \nL 209.540315 102.195813 \nL 212.614695 101.903605 \nL 215.689075 102.442939 \nL 218.763456 101.927498 \nL 221.837836 101.616055 \nL 224.912216 102.449751 \nL 227.986596 101.916829 \nL 231.060976 102.072212 \nL 234.135356 101.880412 \nL 237.209737 102.409302 \nL 240.284117 102.281144 \nL 243.358497 102.30401 \nL 246.432877 102.198818 \nL 249.507257 101.89023 \nL 252.581637 101.819151 \nL 255.656018 101.905984 \nL 258.730398 101.907512 \nL 261.804778 102.062945 \nL 264.879158 102.299151 \nL 267.953538 101.805901 \nL 271.027918 102.090646 \nL 274.102299 102.114164 \nL 277.176679 102.063271 \nL 280.251059 102.103795 \nL 283.325439 102.057836 \nL 286.399819 102.138583 \nL 289.474199 102.186371 \nL 292.54858 101.93138 \nL 295.62296 102.149604 \nL 298.69734 101.940497 \nL 301.77172 102.290711 \nL 304.8461 102.154963 \nL 307.92048 102.002911 \nL 310.994861 102.132673 \nL 314.069241 102.314254 \nL 317.143621 102.2574 \nL 320.218001 102.296922 \nL 323.292381 102.309846 \nL 326.366761 101.631709 \nL 329.441142 102.189126 \nL 332.515522 102.029935 \nL 335.589902 101.890481 \nL 338.664282 102.198818 \nL 341.738662 101.828543 \nL 344.813042 102.153586 \nL 347.887423 102.185319 \nL 350.961803 102.17252 \nL 354.036183 101.923266 \nL 357.110563 102.091698 \nL 360.184943 102.172821 \n\" style=\"fill:none;stroke:#1f77b4;stroke-linecap:square;stroke-width:1.5;\"/>\n   </g>\n   <g id=\"line2d_17\">\n    <path clip-path=\"url(#p85816f4419)\" d=\"M 55.821307 62.304321 \nL 58.895687 101.233858 \nL 61.970067 101.387262 \nL 65.044447 103.580439 \nL 68.118827 121.149624 \nL 71.193208 124.387156 \nL 74.267588 126.46312 \nL 77.341968 130.183709 \nL 80.416348 132.242465 \nL 83.490728 132.947652 \nL 86.565108 134.266634 \nL 89.639489 135.667515 \nL 92.713869 134.395594 \nL 95.788249 142.65747 \nL 98.862629 154.027392 \nL 101.937009 161.400371 \nL 105.011389 164.836491 \nL 108.08577 165.494667 \nL 111.16015 163.767716 \nL 114.23453 165.11788 \nL 117.30891 166.60319 \nL 120.38329 166.685941 \nL 123.45767 166.096014 \nL 126.532051 166.933367 \nL 129.606431 167.207042 \nL 132.680811 167.425866 \nL 135.755191 167.896625 \nL 138.829571 167.226928 \nL 141.903951 167.957461 \nL 144.978332 167.81698 \nL 148.052712 167.445101 \nL 151.127092 167.458676 \nL 154.201472 167.786349 \nL 157.275852 168.040838 \nL 160.350232 167.900883 \nL 163.424613 167.536793 \nL 166.498993 167.639857 \nL 169.573373 167.193542 \nL 172.647753 167.402448 \nL 175.722133 167.822114 \nL 178.796513 168.166993 \nL 181.870894 168.157351 \nL 184.945274 168.054137 \nL 188.019654 167.447906 \nL 191.094034 167.762656 \nL 194.168414 168.30467 \nL 197.242794 167.71587 \nL 200.317175 167.357316 \nL 203.391555 166.617566 \nL 206.465935 168.323704 \nL 209.540315 168.433304 \nL 212.614695 168.057143 \nL 215.689075 167.521766 \nL 218.763456 168.047475 \nL 221.837836 166.987341 \nL 224.912216 168.497547 \nL 227.986596 167.776606 \nL 231.060976 168.536092 \nL 234.135356 168.520063 \nL 237.209737 168.22262 \nL 240.284117 167.758423 \nL 243.358497 168.096665 \nL 246.432877 167.863239 \nL 249.507257 167.479815 \nL 252.581637 167.878342 \nL 255.656018 168.330316 \nL 258.730398 168.085294 \nL 261.804778 167.74605 \nL 264.879158 167.803255 \nL 267.953538 168.010533 \nL 271.027918 168.317794 \nL 274.102299 168.303893 \nL 277.176679 167.689021 \nL 280.251059 167.976346 \nL 283.325439 168.230134 \nL 286.399819 168.254628 \nL 289.474199 167.661772 \nL 292.54858 168.338982 \nL 295.62296 168.245912 \nL 298.69734 167.697938 \nL 301.77172 168.087273 \nL 304.8461 168.193792 \nL 307.92048 168.092282 \nL 310.994861 167.967755 \nL 314.069241 168.471649 \nL 317.143621 166.705977 \nL 320.218001 168.264221 \nL 323.292381 168.592345 \nL 326.366761 167.61183 \nL 329.441142 168.223046 \nL 332.515522 167.571632 \nL 335.589902 168.100096 \nL 338.664282 167.945665 \nL 341.738662 168.383413 \nL 344.813042 166.591043 \nL 347.887423 168.252575 \nL 350.961803 168.464411 \nL 354.036183 168.252049 \nL 357.110563 167.904014 \nL 360.184943 168.345369 \n\" style=\"fill:none;stroke:#ff7f0e;stroke-linecap:square;stroke-width:1.5;\"/>\n   </g>\n   <g id=\"line2d_18\">\n    <path clip-path=\"url(#p85816f4419)\" d=\"M 55.821307 49.183905 \nL 58.895687 91.409806 \nL 61.970067 94.826891 \nL 65.044447 98.545853 \nL 68.118827 101.079376 \nL 71.193208 104.552989 \nL 74.267588 107.595892 \nL 77.341968 109.660584 \nL 80.416348 112.177051 \nL 83.490728 115.07827 \nL 86.565108 116.193655 \nL 89.639489 118.697249 \nL 92.713869 120.707767 \nL 95.788249 122.513387 \nL 98.862629 123.91785 \nL 101.937009 125.87174 \nL 105.011389 127.467477 \nL 108.08577 129.457208 \nL 111.16015 130.443833 \nL 114.23453 132.05297 \nL 117.30891 133.237731 \nL 120.38329 134.877724 \nL 123.45767 136.230467 \nL 126.532051 137.191271 \nL 129.606431 138.738845 \nL 132.680811 139.601869 \nL 135.755191 140.454175 \nL 138.829571 141.728575 \nL 141.903951 143.003051 \nL 144.978332 144.158634 \nL 148.052712 145.561344 \nL 151.127092 145.746707 \nL 154.201472 147.352212 \nL 157.275852 147.731028 \nL 160.350232 149.228435 \nL 163.424613 149.631296 \nL 166.498993 150.747933 \nL 169.573373 151.826451 \nL 172.647753 152.393586 \nL 175.722133 153.445505 \nL 178.796513 154.112723 \nL 181.870894 154.811373 \nL 184.945274 155.859135 \nL 188.019654 156.111696 \nL 191.094034 157.036458 \nL 194.168414 157.895601 \nL 197.242794 158.447959 \nL 200.317175 159.15853 \nL 203.391555 159.943588 \nL 206.465935 160.752839 \nL 209.540315 161.059073 \nL 212.614695 162.335778 \nL 215.689075 162.250447 \nL 218.763456 163.09614 \nL 221.837836 163.876189 \nL 224.912216 164.560913 \nL 227.986596 164.747379 \nL 231.060976 165.122012 \nL 234.135356 166.275141 \nL 237.209737 166.454519 \nL 240.284117 167.224974 \nL 243.358497 167.987441 \nL 246.432877 168.069766 \nL 249.507257 168.41194 \nL 252.581637 169.05559 \nL 255.656018 169.910174 \nL 258.730398 170.108236 \nL 261.804778 170.597979 \nL 264.879158 171.033224 \nL 267.953538 171.494991 \nL 271.027918 172.017945 \nL 274.102299 172.204511 \nL 277.176679 172.744095 \nL 280.251059 172.791782 \nL 283.325439 173.696884 \nL 286.399819 174.088048 \nL 289.474199 174.54671 \nL 292.54858 175.038683 \nL 295.62296 174.661394 \nL 298.69734 175.520462 \nL 301.77172 175.955931 \nL 304.8461 176.102899 \nL 307.92048 176.510719 \nL 310.994861 176.615059 \nL 314.069241 177.19905 \nL 317.143621 177.622648 \nL 320.218001 177.635671 \nL 323.292381 178.310052 \nL 326.366761 178.112341 \nL 329.441142 178.728816 \nL 332.515522 179.270279 \nL 335.589902 179.667053 \nL 338.664282 179.929482 \nL 341.738662 180.16684 \nL 344.813042 180.8298 \nL 347.887423 180.65721 \nL 350.961803 181.014712 \nL 354.036183 181.09561 \nL 357.110563 181.551191 \nL 360.184943 181.659639 \n\" style=\"fill:none;stroke:#2ca02c;stroke-linecap:square;stroke-width:1.5;\"/>\n   </g>\n   <g id=\"line2d_19\">\n    <path clip-path=\"url(#p85816f4419)\" d=\"M 55.821307 45.639136 \nL 58.895687 93.486946 \nL 61.970067 107.495358 \nL 65.044447 122.97255 \nL 68.118827 129.300998 \nL 71.193208 134.513509 \nL 74.267588 138.01595 \nL 77.341968 141.012468 \nL 80.416348 144.978756 \nL 83.490728 147.524301 \nL 86.565108 149.996662 \nL 89.639489 152.901413 \nL 92.713869 155.130731 \nL 95.788249 157.342667 \nL 98.862629 157.934973 \nL 101.937009 160.814727 \nL 105.011389 161.592422 \nL 108.08577 163.537095 \nL 111.16015 165.516757 \nL 114.23453 166.506413 \nL 117.30891 167.850842 \nL 120.38329 169.699615 \nL 123.45767 171.501353 \nL 126.532051 172.125917 \nL 129.606431 175.089425 \nL 132.680811 176.095962 \nL 135.755191 180.003367 \nL 138.829571 188.140615 \nL 141.903951 191.330286 \nL 144.978332 193.295346 \nL 148.052712 195.192007 \nL 151.127092 196.483689 \nL 154.201472 197.636368 \nL 157.275852 199.241046 \nL 160.350232 199.981397 \nL 163.424613 201.999153 \nL 166.498993 201.74792 \nL 169.573373 203.74554 \nL 172.647753 204.788844 \nL 175.722133 202.369354 \nL 178.796513 206.152783 \nL 181.870894 207.840037 \nL 184.945274 208.230224 \nL 188.019654 208.469285 \nL 191.094034 210.42315 \nL 194.168414 210.698478 \nL 197.242794 212.359158 \nL 200.317175 212.86205 \nL 203.391555 213.479753 \nL 206.465935 213.839509 \nL 209.540315 214.949835 \nL 212.614695 216.199691 \nL 215.689075 217.487891 \nL 218.763456 218.637639 \nL 221.837836 218.085106 \nL 224.912216 220.09818 \nL 227.986596 221.33704 \nL 231.060976 222.040424 \nL 234.135356 222.972124 \nL 237.209737 224.545219 \nL 240.284117 224.614997 \nL 243.358497 223.5758 \nL 246.432877 226.029954 \nL 249.507257 226.006987 \nL 252.581637 227.604351 \nL 255.656018 227.978058 \nL 258.730398 228.684247 \nL 261.804778 228.275701 \nL 264.879158 230.331027 \nL 267.953538 230.456356 \nL 271.027918 231.173489 \nL 274.102299 231.18501 \nL 277.176679 231.702555 \nL 280.251059 232.39602 \nL 283.325439 232.47524 \nL 286.399819 233.425774 \nL 289.474199 234.183958 \nL 292.54858 233.891499 \nL 295.62296 235.116534 \nL 298.69734 235.258042 \nL 301.77172 235.699874 \nL 304.8461 236.144836 \nL 307.92048 236.597537 \nL 310.994861 236.599666 \nL 314.069241 237.528435 \nL 317.143621 237.408266 \nL 320.218001 238.295535 \nL 323.292381 238.348482 \nL 326.366761 239.109195 \nL 329.441142 238.930043 \nL 332.515522 239.557838 \nL 335.589902 239.98319 \nL 338.664282 240.521747 \nL 341.738662 240.907927 \nL 344.813042 241.292454 \nL 347.887423 241.126626 \nL 350.961803 242.149192 \nL 354.036183 242.41638 \nL 357.110563 243.192821 \nL 360.184943 243.311864 \n\" style=\"fill:none;stroke:#d62728;stroke-linecap:square;stroke-width:1.5;\"/>\n   </g>\n   <g id=\"line2d_20\">\n    <path clip-path=\"url(#p85816f4419)\" d=\"M 55.821307 60.080864 \nL 58.895687 101.521057 \nL 61.970067 101.431418 \nL 65.044447 101.318036 \nL 68.118827 101.145872 \nL 71.193208 101.017538 \nL 74.267588 101.572951 \nL 77.341968 101.184342 \nL 80.416348 101.693521 \nL 83.490728 101.643806 \nL 86.565108 101.147575 \nL 89.639489 101.864333 \nL 92.713869 101.54217 \nL 95.788249 101.734196 \nL 98.862629 101.231027 \nL 101.937009 101.652071 \nL 105.011389 101.82416 \nL 108.08577 101.836833 \nL 111.16015 101.324247 \nL 114.23453 101.425933 \nL 117.30891 101.677943 \nL 120.38329 101.563259 \nL 123.45767 101.456464 \nL 126.532051 101.645283 \nL 129.606431 101.569695 \nL 132.680811 101.681074 \nL 135.755191 101.680723 \nL 138.829571 101.664518 \nL 141.903951 101.807705 \nL 144.978332 101.877081 \nL 148.052712 101.797686 \nL 151.127092 101.950741 \nL 154.201472 101.62978 \nL 157.275852 102.171744 \nL 160.350232 101.849456 \nL 163.424613 101.641877 \nL 166.498993 101.920511 \nL 169.573373 102.130318 \nL 172.647753 101.933234 \nL 175.722133 102.00251 \nL 178.796513 101.853062 \nL 181.870894 102.253769 \nL 184.945274 101.355304 \nL 188.019654 101.987082 \nL 191.094034 101.629229 \nL 194.168414 101.711855 \nL 197.242794 101.985554 \nL 200.317175 102.181487 \nL 203.391555 101.768934 \nL 206.465935 101.848855 \nL 209.540315 101.968198 \nL 212.614695 102.259579 \nL 215.689075 102.142365 \nL 218.763456 102.179583 \nL 221.837836 101.935413 \nL 224.912216 101.945256 \nL 227.986596 101.972831 \nL 231.060976 102.107301 \nL 234.135356 102.256949 \nL 237.209737 102.083483 \nL 240.284117 101.574329 \nL 243.358497 101.98886 \nL 246.432877 102.219531 \nL 249.507257 102.275508 \nL 252.581637 102.215699 \nL 255.656018 102.142941 \nL 258.730398 101.844872 \nL 261.804778 102.194761 \nL 264.879158 102.169866 \nL 267.953538 102.094453 \nL 271.027918 102.170942 \nL 274.102299 102.06014 \nL 277.176679 102.209889 \nL 280.251059 102.132247 \nL 283.325439 102.02693 \nL 286.399819 101.919759 \nL 289.474199 102.051174 \nL 292.54858 101.900549 \nL 295.62296 102.227746 \nL 298.69734 102.240845 \nL 301.77172 102.004889 \nL 304.8461 102.151507 \nL 307.92048 102.217578 \nL 310.994861 102.12025 \nL 314.069241 101.962412 \nL 317.143621 102.29552 \nL 320.218001 102.232179 \nL 323.292381 101.882892 \nL 326.366761 102.064098 \nL 329.441142 102.176853 \nL 332.515522 101.978266 \nL 335.589902 102.257901 \nL 338.664282 102.31751 \nL 341.738662 102.361039 \nL 344.813042 102.292264 \nL 347.887423 102.132798 \nL 350.961803 102.07364 \nL 354.036183 102.259529 \nL 357.110563 102.378095 \nL 360.184943 102.289183 \n\" style=\"fill:none;stroke:#9467bd;stroke-linecap:square;stroke-width:1.5;\"/>\n   </g>\n   <g id=\"patch_3\">\n    <path d=\"M 40.603125 253.1955 \nL 40.603125 35.7555 \n\" style=\"fill:none;stroke:#000000;stroke-linecap:square;stroke-linejoin:miter;stroke-width:0.8;\"/>\n   </g>\n   <g id=\"patch_4\">\n    <path d=\"M 375.403125 253.1955 \nL 375.403125 35.7555 \n\" style=\"fill:none;stroke:#000000;stroke-linecap:square;stroke-linejoin:miter;stroke-width:0.8;\"/>\n   </g>\n   <g id=\"patch_5\">\n    <path d=\"M 40.603125 253.1955 \nL 375.403125 253.1955 \n\" style=\"fill:none;stroke:#000000;stroke-linecap:square;stroke-linejoin:miter;stroke-width:0.8;\"/>\n   </g>\n   <g id=\"patch_6\">\n    <path d=\"M 40.603125 35.7555 \nL 375.403125 35.7555 \n\" style=\"fill:none;stroke:#000000;stroke-linecap:square;stroke-linejoin:miter;stroke-width:0.8;\"/>\n   </g>\n   <g id=\"text_18\">\n    <!-- dataset: tumor (d=4), bond dim=8 -->\n    <g transform=\"translate(103.032187 16.318125)scale(0.12 -0.12)\">\n     <defs>\n      <path d=\"M 45.40625 46.390625 \nL 45.40625 75.984375 \nL 54.390625 75.984375 \nL 54.390625 0 \nL 45.40625 0 \nL 45.40625 8.203125 \nQ 42.578125 3.328125 38.25 0.953125 \nQ 33.9375 -1.421875 27.875 -1.421875 \nQ 17.96875 -1.421875 11.734375 6.484375 \nQ 5.515625 14.40625 5.515625 27.296875 \nQ 5.515625 40.1875 11.734375 48.09375 \nQ 17.96875 56 27.875 56 \nQ 33.9375 56 38.25 53.625 \nQ 42.578125 51.265625 45.40625 46.390625 \nz\nM 14.796875 27.296875 \nQ 14.796875 17.390625 18.875 11.75 \nQ 22.953125 6.109375 30.078125 6.109375 \nQ 37.203125 6.109375 41.296875 11.75 \nQ 45.40625 17.390625 45.40625 27.296875 \nQ 45.40625 37.203125 41.296875 42.84375 \nQ 37.203125 48.484375 30.078125 48.484375 \nQ 22.953125 48.484375 18.875 42.84375 \nQ 14.796875 37.203125 14.796875 27.296875 \nz\n\" id=\"DejaVuSans-100\"/>\n      <path d=\"M 18.3125 70.21875 \nL 18.3125 54.6875 \nL 36.8125 54.6875 \nL 36.8125 47.703125 \nL 18.3125 47.703125 \nL 18.3125 18.015625 \nQ 18.3125 11.328125 20.140625 9.421875 \nQ 21.96875 7.515625 27.59375 7.515625 \nL 36.8125 7.515625 \nL 36.8125 0 \nL 27.59375 0 \nQ 17.1875 0 13.234375 3.875 \nQ 9.28125 7.765625 9.28125 18.015625 \nL 9.28125 47.703125 \nL 2.6875 47.703125 \nL 2.6875 54.6875 \nL 9.28125 54.6875 \nL 9.28125 70.21875 \nz\n\" id=\"DejaVuSans-116\"/>\n      <path d=\"M 56.203125 29.59375 \nL 56.203125 25.203125 \nL 14.890625 25.203125 \nQ 15.484375 15.921875 20.484375 11.0625 \nQ 25.484375 6.203125 34.421875 6.203125 \nQ 39.59375 6.203125 44.453125 7.46875 \nQ 49.3125 8.734375 54.109375 11.28125 \nL 54.109375 2.78125 \nQ 49.265625 0.734375 44.1875 -0.34375 \nQ 39.109375 -1.421875 33.890625 -1.421875 \nQ 20.796875 -1.421875 13.15625 6.1875 \nQ 5.515625 13.8125 5.515625 26.8125 \nQ 5.515625 40.234375 12.765625 48.109375 \nQ 20.015625 56 32.328125 56 \nQ 43.359375 56 49.78125 48.890625 \nQ 56.203125 41.796875 56.203125 29.59375 \nz\nM 47.21875 32.234375 \nQ 47.125 39.59375 43.09375 43.984375 \nQ 39.0625 48.390625 32.421875 48.390625 \nQ 24.90625 48.390625 20.390625 44.140625 \nQ 15.875 39.890625 15.1875 32.171875 \nz\n\" id=\"DejaVuSans-101\"/>\n      <path d=\"M 11.71875 12.40625 \nL 22.015625 12.40625 \nL 22.015625 0 \nL 11.71875 0 \nz\nM 11.71875 51.703125 \nL 22.015625 51.703125 \nL 22.015625 39.3125 \nL 11.71875 39.3125 \nz\n\" id=\"DejaVuSans-58\"/>\n      <path d=\"M 8.5 21.578125 \nL 8.5 54.6875 \nL 17.484375 54.6875 \nL 17.484375 21.921875 \nQ 17.484375 14.15625 20.5 10.265625 \nQ 23.53125 6.390625 29.59375 6.390625 \nQ 36.859375 6.390625 41.078125 11.03125 \nQ 45.3125 15.671875 45.3125 23.6875 \nL 45.3125 54.6875 \nL 54.296875 54.6875 \nL 54.296875 0 \nL 45.3125 0 \nL 45.3125 8.40625 \nQ 42.046875 3.421875 37.71875 1 \nQ 33.40625 -1.421875 27.6875 -1.421875 \nQ 18.265625 -1.421875 13.375 4.4375 \nQ 8.5 10.296875 8.5 21.578125 \nz\nM 31.109375 56 \nz\n\" id=\"DejaVuSans-117\"/>\n      <path d=\"M 52 44.1875 \nQ 55.375 50.25 60.0625 53.125 \nQ 64.75 56 71.09375 56 \nQ 79.640625 56 84.28125 50.015625 \nQ 88.921875 44.046875 88.921875 33.015625 \nL 88.921875 0 \nL 79.890625 0 \nL 79.890625 32.71875 \nQ 79.890625 40.578125 77.09375 44.375 \nQ 74.3125 48.1875 68.609375 48.1875 \nQ 61.625 48.1875 57.5625 43.546875 \nQ 53.515625 38.921875 53.515625 30.90625 \nL 53.515625 0 \nL 44.484375 0 \nL 44.484375 32.71875 \nQ 44.484375 40.625 41.703125 44.40625 \nQ 38.921875 48.1875 33.109375 48.1875 \nQ 26.21875 48.1875 22.15625 43.53125 \nQ 18.109375 38.875 18.109375 30.90625 \nL 18.109375 0 \nL 9.078125 0 \nL 9.078125 54.6875 \nL 18.109375 54.6875 \nL 18.109375 46.1875 \nQ 21.1875 51.21875 25.484375 53.609375 \nQ 29.78125 56 35.6875 56 \nQ 41.65625 56 45.828125 52.96875 \nQ 50 49.953125 52 44.1875 \nz\n\" id=\"DejaVuSans-109\"/>\n      <path d=\"M 41.109375 46.296875 \nQ 39.59375 47.171875 37.8125 47.578125 \nQ 36.03125 48 33.890625 48 \nQ 26.265625 48 22.1875 43.046875 \nQ 18.109375 38.09375 18.109375 28.8125 \nL 18.109375 0 \nL 9.078125 0 \nL 9.078125 54.6875 \nL 18.109375 54.6875 \nL 18.109375 46.1875 \nQ 20.953125 51.171875 25.484375 53.578125 \nQ 30.03125 56 36.53125 56 \nQ 37.453125 56 38.578125 55.875 \nQ 39.703125 55.765625 41.0625 55.515625 \nz\n\" id=\"DejaVuSans-114\"/>\n      <path d=\"M 10.59375 45.40625 \nL 73.1875 45.40625 \nL 73.1875 37.203125 \nL 10.59375 37.203125 \nz\nM 10.59375 25.484375 \nL 73.1875 25.484375 \nL 73.1875 17.1875 \nL 10.59375 17.1875 \nz\n\" id=\"DejaVuSans-61\"/>\n      <path d=\"M 11.71875 12.40625 \nL 22.015625 12.40625 \nL 22.015625 4 \nL 14.015625 -11.625 \nL 7.71875 -11.625 \nL 11.71875 4 \nz\n\" id=\"DejaVuSans-44\"/>\n      <path d=\"M 48.6875 27.296875 \nQ 48.6875 37.203125 44.609375 42.84375 \nQ 40.53125 48.484375 33.40625 48.484375 \nQ 26.265625 48.484375 22.1875 42.84375 \nQ 18.109375 37.203125 18.109375 27.296875 \nQ 18.109375 17.390625 22.1875 11.75 \nQ 26.265625 6.109375 33.40625 6.109375 \nQ 40.53125 6.109375 44.609375 11.75 \nQ 48.6875 17.390625 48.6875 27.296875 \nz\nM 18.109375 46.390625 \nQ 20.953125 51.265625 25.265625 53.625 \nQ 29.59375 56 35.59375 56 \nQ 45.5625 56 51.78125 48.09375 \nQ 58.015625 40.1875 58.015625 27.296875 \nQ 58.015625 14.40625 51.78125 6.484375 \nQ 45.5625 -1.421875 35.59375 -1.421875 \nQ 29.59375 -1.421875 25.265625 0.953125 \nQ 20.953125 3.328125 18.109375 8.203125 \nL 18.109375 0 \nL 9.078125 0 \nL 9.078125 75.984375 \nL 18.109375 75.984375 \nz\n\" id=\"DejaVuSans-98\"/>\n      <path d=\"M 54.890625 33.015625 \nL 54.890625 0 \nL 45.90625 0 \nL 45.90625 32.71875 \nQ 45.90625 40.484375 42.875 44.328125 \nQ 39.84375 48.1875 33.796875 48.1875 \nQ 26.515625 48.1875 22.3125 43.546875 \nQ 18.109375 38.921875 18.109375 30.90625 \nL 18.109375 0 \nL 9.078125 0 \nL 9.078125 54.6875 \nL 18.109375 54.6875 \nL 18.109375 46.1875 \nQ 21.34375 51.125 25.703125 53.5625 \nQ 30.078125 56 35.796875 56 \nQ 45.21875 56 50.046875 50.171875 \nQ 54.890625 44.34375 54.890625 33.015625 \nz\n\" id=\"DejaVuSans-110\"/>\n      <path d=\"M 9.421875 54.6875 \nL 18.40625 54.6875 \nL 18.40625 0 \nL 9.421875 0 \nz\nM 9.421875 75.984375 \nL 18.40625 75.984375 \nL 18.40625 64.59375 \nL 9.421875 64.59375 \nz\n\" id=\"DejaVuSans-105\"/>\n     </defs>\n     <use xlink:href=\"#DejaVuSans-100\"/>\n     <use x=\"63.476562\" xlink:href=\"#DejaVuSans-97\"/>\n     <use x=\"124.755859\" xlink:href=\"#DejaVuSans-116\"/>\n     <use x=\"163.964844\" xlink:href=\"#DejaVuSans-97\"/>\n     <use x=\"225.244141\" xlink:href=\"#DejaVuSans-115\"/>\n     <use x=\"277.34375\" xlink:href=\"#DejaVuSans-101\"/>\n     <use x=\"338.867188\" xlink:href=\"#DejaVuSans-116\"/>\n     <use x=\"378.076172\" xlink:href=\"#DejaVuSans-58\"/>\n     <use x=\"411.767578\" xlink:href=\"#DejaVuSans-32\"/>\n     <use x=\"443.554688\" xlink:href=\"#DejaVuSans-116\"/>\n     <use x=\"482.763672\" xlink:href=\"#DejaVuSans-117\"/>\n     <use x=\"546.142578\" xlink:href=\"#DejaVuSans-109\"/>\n     <use x=\"643.554688\" xlink:href=\"#DejaVuSans-111\"/>\n     <use x=\"704.736328\" xlink:href=\"#DejaVuSans-114\"/>\n     <use x=\"745.849609\" xlink:href=\"#DejaVuSans-32\"/>\n     <use x=\"777.636719\" xlink:href=\"#DejaVuSans-40\"/>\n     <use x=\"816.650391\" xlink:href=\"#DejaVuSans-100\"/>\n     <use x=\"880.126953\" xlink:href=\"#DejaVuSans-61\"/>\n     <use x=\"963.916016\" xlink:href=\"#DejaVuSans-52\"/>\n     <use x=\"1027.539062\" xlink:href=\"#DejaVuSans-41\"/>\n     <use x=\"1066.552734\" xlink:href=\"#DejaVuSans-44\"/>\n     <use x=\"1098.339844\" xlink:href=\"#DejaVuSans-32\"/>\n     <use x=\"1130.126953\" xlink:href=\"#DejaVuSans-98\"/>\n     <use x=\"1193.603516\" xlink:href=\"#DejaVuSans-111\"/>\n     <use x=\"1254.785156\" xlink:href=\"#DejaVuSans-110\"/>\n     <use x=\"1318.164062\" xlink:href=\"#DejaVuSans-100\"/>\n     <use x=\"1381.640625\" xlink:href=\"#DejaVuSans-32\"/>\n     <use x=\"1413.427734\" xlink:href=\"#DejaVuSans-100\"/>\n     <use x=\"1476.904297\" xlink:href=\"#DejaVuSans-105\"/>\n     <use x=\"1504.6875\" xlink:href=\"#DejaVuSans-109\"/>\n     <use x=\"1602.099609\" xlink:href=\"#DejaVuSans-61\"/>\n     <use x=\"1685.888672\" xlink:href=\"#DejaVuSans-56\"/>\n    </g>\n    <!--  batchsize:10, {} -->\n    <g transform=\"translate(156.418125 29.7555)scale(0.12 -0.12)\">\n     <defs>\n      <path d=\"M 5.515625 54.6875 \nL 48.1875 54.6875 \nL 48.1875 46.484375 \nL 14.40625 7.171875 \nL 48.1875 7.171875 \nL 48.1875 0 \nL 4.296875 0 \nL 4.296875 8.203125 \nL 38.09375 47.515625 \nL 5.515625 47.515625 \nz\n\" id=\"DejaVuSans-122\"/>\n      <path d=\"M 51.125 -9.28125 \nL 51.125 -16.3125 \nL 48.09375 -16.3125 \nQ 35.9375 -16.3125 31.8125 -12.6875 \nQ 27.6875 -9.078125 27.6875 1.703125 \nL 27.6875 13.375 \nQ 27.6875 20.75 25.046875 23.578125 \nQ 22.40625 26.421875 15.484375 26.421875 \nL 12.5 26.421875 \nL 12.5 33.40625 \nL 15.484375 33.40625 \nQ 22.46875 33.40625 25.078125 36.203125 \nQ 27.6875 39.015625 27.6875 46.296875 \nL 27.6875 58.015625 \nQ 27.6875 68.796875 31.8125 72.390625 \nQ 35.9375 75.984375 48.09375 75.984375 \nL 51.125 75.984375 \nL 51.125 69 \nL 47.796875 69 \nQ 40.921875 69 38.8125 66.84375 \nQ 36.71875 64.703125 36.71875 57.8125 \nL 36.71875 45.703125 \nQ 36.71875 38.03125 34.5 34.5625 \nQ 32.28125 31.109375 26.90625 29.890625 \nQ 32.328125 28.5625 34.515625 25.09375 \nQ 36.71875 21.625 36.71875 14.015625 \nL 36.71875 1.90625 \nQ 36.71875 -4.984375 38.8125 -7.125 \nQ 40.921875 -9.28125 47.796875 -9.28125 \nz\n\" id=\"DejaVuSans-123\"/>\n      <path d=\"M 12.5 -9.28125 \nL 15.921875 -9.28125 \nQ 22.75 -9.28125 24.828125 -7.171875 \nQ 26.90625 -5.078125 26.90625 1.90625 \nL 26.90625 14.015625 \nQ 26.90625 21.625 29.09375 25.09375 \nQ 31.296875 28.5625 36.71875 29.890625 \nQ 31.296875 31.109375 29.09375 34.5625 \nQ 26.90625 38.03125 26.90625 45.703125 \nL 26.90625 57.8125 \nQ 26.90625 64.75 24.828125 66.875 \nQ 22.75 69 15.921875 69 \nL 12.5 69 \nL 12.5 75.984375 \nL 15.578125 75.984375 \nQ 27.734375 75.984375 31.8125 72.390625 \nQ 35.890625 68.796875 35.890625 58.015625 \nL 35.890625 46.296875 \nQ 35.890625 39.015625 38.515625 36.203125 \nQ 41.15625 33.40625 48.09375 33.40625 \nL 51.125 33.40625 \nL 51.125 26.421875 \nL 48.09375 26.421875 \nQ 41.15625 26.421875 38.515625 23.578125 \nQ 35.890625 20.75 35.890625 13.375 \nL 35.890625 1.703125 \nQ 35.890625 -9.078125 31.8125 -12.6875 \nQ 27.734375 -16.3125 15.578125 -16.3125 \nL 12.5 -16.3125 \nz\n\" id=\"DejaVuSans-125\"/>\n     </defs>\n     <use xlink:href=\"#DejaVuSans-32\"/>\n     <use x=\"31.787109\" xlink:href=\"#DejaVuSans-98\"/>\n     <use x=\"95.263672\" xlink:href=\"#DejaVuSans-97\"/>\n     <use x=\"156.542969\" xlink:href=\"#DejaVuSans-116\"/>\n     <use x=\"195.751953\" xlink:href=\"#DejaVuSans-99\"/>\n     <use x=\"250.732422\" xlink:href=\"#DejaVuSans-104\"/>\n     <use x=\"314.111328\" xlink:href=\"#DejaVuSans-115\"/>\n     <use x=\"366.210938\" xlink:href=\"#DejaVuSans-105\"/>\n     <use x=\"393.994141\" xlink:href=\"#DejaVuSans-122\"/>\n     <use x=\"446.484375\" xlink:href=\"#DejaVuSans-101\"/>\n     <use x=\"508.007812\" xlink:href=\"#DejaVuSans-58\"/>\n     <use x=\"541.699219\" xlink:href=\"#DejaVuSans-49\"/>\n     <use x=\"605.322266\" xlink:href=\"#DejaVuSans-48\"/>\n     <use x=\"668.945312\" xlink:href=\"#DejaVuSans-44\"/>\n     <use x=\"700.732422\" xlink:href=\"#DejaVuSans-32\"/>\n     <use x=\"732.519531\" xlink:href=\"#DejaVuSans-123\"/>\n     <use x=\"796.142578\" xlink:href=\"#DejaVuSans-125\"/>\n    </g>\n   </g>\n   <g id=\"legend_1\">\n    <g id=\"patch_7\">\n     <path d=\"M 394.143125 112.702375 \nL 697.69625 112.702375 \nQ 699.69625 112.702375 699.69625 110.702375 \nL 699.69625 37.7555 \nQ 699.69625 35.7555 697.69625 35.7555 \nL 394.143125 35.7555 \nQ 392.143125 35.7555 392.143125 37.7555 \nL 392.143125 110.702375 \nQ 392.143125 112.702375 394.143125 112.702375 \nz\n\" style=\"fill:#ffffff;opacity:0.8;stroke:#cccccc;stroke-linejoin:miter;\"/>\n    </g>\n    <g id=\"line2d_21\">\n     <path d=\"M 396.143125 43.853937 \nL 416.143125 43.853937 \n\" style=\"fill:none;stroke:#1f77b4;stroke-linecap:square;stroke-width:1.5;\"/>\n    </g>\n    <g id=\"line2d_22\"/>\n    <g id=\"text_19\">\n     <!-- Born (torch.float32), Homogeneous -->\n     <g transform=\"translate(424.143125 47.353937)scale(0.1 -0.1)\">\n      <defs>\n       <path d=\"M 19.671875 34.8125 \nL 19.671875 8.109375 \nL 35.5 8.109375 \nQ 43.453125 8.109375 47.28125 11.40625 \nQ 51.125 14.703125 51.125 21.484375 \nQ 51.125 28.328125 47.28125 31.5625 \nQ 43.453125 34.8125 35.5 34.8125 \nz\nM 19.671875 64.796875 \nL 19.671875 42.828125 \nL 34.28125 42.828125 \nQ 41.5 42.828125 45.03125 45.53125 \nQ 48.578125 48.25 48.578125 53.8125 \nQ 48.578125 59.328125 45.03125 62.0625 \nQ 41.5 64.796875 34.28125 64.796875 \nz\nM 9.8125 72.90625 \nL 35.015625 72.90625 \nQ 46.296875 72.90625 52.390625 68.21875 \nQ 58.5 63.53125 58.5 54.890625 \nQ 58.5 48.1875 55.375 44.234375 \nQ 52.25 40.28125 46.1875 39.3125 \nQ 53.46875 37.75 57.5 32.78125 \nQ 61.53125 27.828125 61.53125 20.40625 \nQ 61.53125 10.640625 54.890625 5.3125 \nQ 48.25 0 35.984375 0 \nL 9.8125 0 \nz\n\" id=\"DejaVuSans-66\"/>\n       <path d=\"M 10.6875 12.40625 \nL 21 12.40625 \nL 21 0 \nL 10.6875 0 \nz\n\" id=\"DejaVuSans-46\"/>\n       <path d=\"M 37.109375 75.984375 \nL 37.109375 68.5 \nL 28.515625 68.5 \nQ 23.6875 68.5 21.796875 66.546875 \nQ 19.921875 64.59375 19.921875 59.515625 \nL 19.921875 54.6875 \nL 34.71875 54.6875 \nL 34.71875 47.703125 \nL 19.921875 47.703125 \nL 19.921875 0 \nL 10.890625 0 \nL 10.890625 47.703125 \nL 2.296875 47.703125 \nL 2.296875 54.6875 \nL 10.890625 54.6875 \nL 10.890625 58.5 \nQ 10.890625 67.625 15.140625 71.796875 \nQ 19.390625 75.984375 28.609375 75.984375 \nz\n\" id=\"DejaVuSans-102\"/>\n       <path d=\"M 9.8125 72.90625 \nL 19.671875 72.90625 \nL 19.671875 43.015625 \nL 55.515625 43.015625 \nL 55.515625 72.90625 \nL 65.375 72.90625 \nL 65.375 0 \nL 55.515625 0 \nL 55.515625 34.71875 \nL 19.671875 34.71875 \nL 19.671875 0 \nL 9.8125 0 \nz\n\" id=\"DejaVuSans-72\"/>\n      </defs>\n      <use xlink:href=\"#DejaVuSans-66\"/>\n      <use x=\"68.603516\" xlink:href=\"#DejaVuSans-111\"/>\n      <use x=\"129.785156\" xlink:href=\"#DejaVuSans-114\"/>\n      <use x=\"169.148438\" xlink:href=\"#DejaVuSans-110\"/>\n      <use x=\"232.527344\" xlink:href=\"#DejaVuSans-32\"/>\n      <use x=\"264.314453\" xlink:href=\"#DejaVuSans-40\"/>\n      <use x=\"303.328125\" xlink:href=\"#DejaVuSans-116\"/>\n      <use x=\"342.537109\" xlink:href=\"#DejaVuSans-111\"/>\n      <use x=\"403.71875\" xlink:href=\"#DejaVuSans-114\"/>\n      <use x=\"442.582031\" xlink:href=\"#DejaVuSans-99\"/>\n      <use x=\"497.5625\" xlink:href=\"#DejaVuSans-104\"/>\n      <use x=\"560.941406\" xlink:href=\"#DejaVuSans-46\"/>\n      <use x=\"592.728516\" xlink:href=\"#DejaVuSans-102\"/>\n      <use x=\"627.933594\" xlink:href=\"#DejaVuSans-108\"/>\n      <use x=\"655.716797\" xlink:href=\"#DejaVuSans-111\"/>\n      <use x=\"716.898438\" xlink:href=\"#DejaVuSans-97\"/>\n      <use x=\"778.177734\" xlink:href=\"#DejaVuSans-116\"/>\n      <use x=\"817.386719\" xlink:href=\"#DejaVuSans-51\"/>\n      <use x=\"881.009766\" xlink:href=\"#DejaVuSans-50\"/>\n      <use x=\"944.632812\" xlink:href=\"#DejaVuSans-41\"/>\n      <use x=\"983.646484\" xlink:href=\"#DejaVuSans-44\"/>\n      <use x=\"1015.433594\" xlink:href=\"#DejaVuSans-32\"/>\n      <use x=\"1047.220703\" xlink:href=\"#DejaVuSans-72\"/>\n      <use x=\"1122.416016\" xlink:href=\"#DejaVuSans-111\"/>\n      <use x=\"1183.597656\" xlink:href=\"#DejaVuSans-109\"/>\n      <use x=\"1281.009766\" xlink:href=\"#DejaVuSans-111\"/>\n      <use x=\"1342.191406\" xlink:href=\"#DejaVuSans-103\"/>\n      <use x=\"1405.667969\" xlink:href=\"#DejaVuSans-101\"/>\n      <use x=\"1467.191406\" xlink:href=\"#DejaVuSans-110\"/>\n      <use x=\"1530.570312\" xlink:href=\"#DejaVuSans-101\"/>\n      <use x=\"1592.09375\" xlink:href=\"#DejaVuSans-111\"/>\n      <use x=\"1653.275391\" xlink:href=\"#DejaVuSans-117\"/>\n      <use x=\"1716.654297\" xlink:href=\"#DejaVuSans-115\"/>\n     </g>\n    </g>\n    <g id=\"line2d_23\">\n     <path d=\"M 396.143125 58.532062 \nL 416.143125 58.532062 \n\" style=\"fill:none;stroke:#ff7f0e;stroke-linecap:square;stroke-width:1.5;\"/>\n    </g>\n    <g id=\"line2d_24\"/>\n    <g id=\"text_20\">\n     <!-- Born (torch.complex64), Homogeneous -->\n     <g transform=\"translate(424.143125 62.032062)scale(0.1 -0.1)\">\n      <defs>\n       <path d=\"M 54.890625 54.6875 \nL 35.109375 28.078125 \nL 55.90625 0 \nL 45.3125 0 \nL 29.390625 21.484375 \nL 13.484375 0 \nL 2.875 0 \nL 24.125 28.609375 \nL 4.6875 54.6875 \nL 15.28125 54.6875 \nL 29.78125 35.203125 \nL 44.28125 54.6875 \nz\n\" id=\"DejaVuSans-120\"/>\n      </defs>\n      <use xlink:href=\"#DejaVuSans-66\"/>\n      <use x=\"68.603516\" xlink:href=\"#DejaVuSans-111\"/>\n      <use x=\"129.785156\" xlink:href=\"#DejaVuSans-114\"/>\n      <use x=\"169.148438\" xlink:href=\"#DejaVuSans-110\"/>\n      <use x=\"232.527344\" xlink:href=\"#DejaVuSans-32\"/>\n      <use x=\"264.314453\" xlink:href=\"#DejaVuSans-40\"/>\n      <use x=\"303.328125\" xlink:href=\"#DejaVuSans-116\"/>\n      <use x=\"342.537109\" xlink:href=\"#DejaVuSans-111\"/>\n      <use x=\"403.71875\" xlink:href=\"#DejaVuSans-114\"/>\n      <use x=\"442.582031\" xlink:href=\"#DejaVuSans-99\"/>\n      <use x=\"497.5625\" xlink:href=\"#DejaVuSans-104\"/>\n      <use x=\"560.941406\" xlink:href=\"#DejaVuSans-46\"/>\n      <use x=\"592.728516\" xlink:href=\"#DejaVuSans-99\"/>\n      <use x=\"647.708984\" xlink:href=\"#DejaVuSans-111\"/>\n      <use x=\"708.890625\" xlink:href=\"#DejaVuSans-109\"/>\n      <use x=\"806.302734\" xlink:href=\"#DejaVuSans-112\"/>\n      <use x=\"869.779297\" xlink:href=\"#DejaVuSans-108\"/>\n      <use x=\"897.5625\" xlink:href=\"#DejaVuSans-101\"/>\n      <use x=\"957.335938\" xlink:href=\"#DejaVuSans-120\"/>\n      <use x=\"1016.515625\" xlink:href=\"#DejaVuSans-54\"/>\n      <use x=\"1080.138672\" xlink:href=\"#DejaVuSans-52\"/>\n      <use x=\"1143.761719\" xlink:href=\"#DejaVuSans-41\"/>\n      <use x=\"1182.775391\" xlink:href=\"#DejaVuSans-44\"/>\n      <use x=\"1214.5625\" xlink:href=\"#DejaVuSans-32\"/>\n      <use x=\"1246.349609\" xlink:href=\"#DejaVuSans-72\"/>\n      <use x=\"1321.544922\" xlink:href=\"#DejaVuSans-111\"/>\n      <use x=\"1382.726562\" xlink:href=\"#DejaVuSans-109\"/>\n      <use x=\"1480.138672\" xlink:href=\"#DejaVuSans-111\"/>\n      <use x=\"1541.320312\" xlink:href=\"#DejaVuSans-103\"/>\n      <use x=\"1604.796875\" xlink:href=\"#DejaVuSans-101\"/>\n      <use x=\"1666.320312\" xlink:href=\"#DejaVuSans-110\"/>\n      <use x=\"1729.699219\" xlink:href=\"#DejaVuSans-101\"/>\n      <use x=\"1791.222656\" xlink:href=\"#DejaVuSans-111\"/>\n      <use x=\"1852.404297\" xlink:href=\"#DejaVuSans-117\"/>\n      <use x=\"1915.783203\" xlink:href=\"#DejaVuSans-115\"/>\n     </g>\n    </g>\n    <g id=\"line2d_25\">\n     <path d=\"M 396.143125 73.210187 \nL 416.143125 73.210187 \n\" style=\"fill:none;stroke:#2ca02c;stroke-linecap:square;stroke-width:1.5;\"/>\n    </g>\n    <g id=\"line2d_26\"/>\n    <g id=\"text_21\">\n     <!-- Born (torch.float32), Homogeneous + log_stability -->\n     <g transform=\"translate(424.143125 76.710187)scale(0.1 -0.1)\">\n      <defs>\n       <path d=\"M 46 62.703125 \nL 46 35.5 \nL 73.1875 35.5 \nL 73.1875 27.203125 \nL 46 27.203125 \nL 46 0 \nL 37.796875 0 \nL 37.796875 27.203125 \nL 10.59375 27.203125 \nL 10.59375 35.5 \nL 37.796875 35.5 \nL 37.796875 62.703125 \nz\n\" id=\"DejaVuSans-43\"/>\n       <path d=\"M 50.984375 -16.609375 \nL 50.984375 -23.578125 \nL -0.984375 -23.578125 \nL -0.984375 -16.609375 \nz\n\" id=\"DejaVuSans-95\"/>\n       <path d=\"M 32.171875 -5.078125 \nQ 28.375 -14.84375 24.75 -17.8125 \nQ 21.140625 -20.796875 15.09375 -20.796875 \nL 7.90625 -20.796875 \nL 7.90625 -13.28125 \nL 13.1875 -13.28125 \nQ 16.890625 -13.28125 18.9375 -11.515625 \nQ 21 -9.765625 23.484375 -3.21875 \nL 25.09375 0.875 \nL 2.984375 54.6875 \nL 12.5 54.6875 \nL 29.59375 11.921875 \nL 46.6875 54.6875 \nL 56.203125 54.6875 \nz\n\" id=\"DejaVuSans-121\"/>\n      </defs>\n      <use xlink:href=\"#DejaVuSans-66\"/>\n      <use x=\"68.603516\" xlink:href=\"#DejaVuSans-111\"/>\n      <use x=\"129.785156\" xlink:href=\"#DejaVuSans-114\"/>\n      <use x=\"169.148438\" xlink:href=\"#DejaVuSans-110\"/>\n      <use x=\"232.527344\" xlink:href=\"#DejaVuSans-32\"/>\n      <use x=\"264.314453\" xlink:href=\"#DejaVuSans-40\"/>\n      <use x=\"303.328125\" xlink:href=\"#DejaVuSans-116\"/>\n      <use x=\"342.537109\" xlink:href=\"#DejaVuSans-111\"/>\n      <use x=\"403.71875\" xlink:href=\"#DejaVuSans-114\"/>\n      <use x=\"442.582031\" xlink:href=\"#DejaVuSans-99\"/>\n      <use x=\"497.5625\" xlink:href=\"#DejaVuSans-104\"/>\n      <use x=\"560.941406\" xlink:href=\"#DejaVuSans-46\"/>\n      <use x=\"592.728516\" xlink:href=\"#DejaVuSans-102\"/>\n      <use x=\"627.933594\" xlink:href=\"#DejaVuSans-108\"/>\n      <use x=\"655.716797\" xlink:href=\"#DejaVuSans-111\"/>\n      <use x=\"716.898438\" xlink:href=\"#DejaVuSans-97\"/>\n      <use x=\"778.177734\" xlink:href=\"#DejaVuSans-116\"/>\n      <use x=\"817.386719\" xlink:href=\"#DejaVuSans-51\"/>\n      <use x=\"881.009766\" xlink:href=\"#DejaVuSans-50\"/>\n      <use x=\"944.632812\" xlink:href=\"#DejaVuSans-41\"/>\n      <use x=\"983.646484\" xlink:href=\"#DejaVuSans-44\"/>\n      <use x=\"1015.433594\" xlink:href=\"#DejaVuSans-32\"/>\n      <use x=\"1047.220703\" xlink:href=\"#DejaVuSans-72\"/>\n      <use x=\"1122.416016\" xlink:href=\"#DejaVuSans-111\"/>\n      <use x=\"1183.597656\" xlink:href=\"#DejaVuSans-109\"/>\n      <use x=\"1281.009766\" xlink:href=\"#DejaVuSans-111\"/>\n      <use x=\"1342.191406\" xlink:href=\"#DejaVuSans-103\"/>\n      <use x=\"1405.667969\" xlink:href=\"#DejaVuSans-101\"/>\n      <use x=\"1467.191406\" xlink:href=\"#DejaVuSans-110\"/>\n      <use x=\"1530.570312\" xlink:href=\"#DejaVuSans-101\"/>\n      <use x=\"1592.09375\" xlink:href=\"#DejaVuSans-111\"/>\n      <use x=\"1653.275391\" xlink:href=\"#DejaVuSans-117\"/>\n      <use x=\"1716.654297\" xlink:href=\"#DejaVuSans-115\"/>\n      <use x=\"1768.753906\" xlink:href=\"#DejaVuSans-32\"/>\n      <use x=\"1800.541016\" xlink:href=\"#DejaVuSans-43\"/>\n      <use x=\"1884.330078\" xlink:href=\"#DejaVuSans-32\"/>\n      <use x=\"1916.117188\" xlink:href=\"#DejaVuSans-108\"/>\n      <use x=\"1943.900391\" xlink:href=\"#DejaVuSans-111\"/>\n      <use x=\"2005.082031\" xlink:href=\"#DejaVuSans-103\"/>\n      <use x=\"2068.558594\" xlink:href=\"#DejaVuSans-95\"/>\n      <use x=\"2118.558594\" xlink:href=\"#DejaVuSans-115\"/>\n      <use x=\"2170.658203\" xlink:href=\"#DejaVuSans-116\"/>\n      <use x=\"2209.867188\" xlink:href=\"#DejaVuSans-97\"/>\n      <use x=\"2271.146484\" xlink:href=\"#DejaVuSans-98\"/>\n      <use x=\"2334.623047\" xlink:href=\"#DejaVuSans-105\"/>\n      <use x=\"2362.40625\" xlink:href=\"#DejaVuSans-108\"/>\n      <use x=\"2390.189453\" xlink:href=\"#DejaVuSans-105\"/>\n      <use x=\"2417.972656\" xlink:href=\"#DejaVuSans-116\"/>\n      <use x=\"2457.181641\" xlink:href=\"#DejaVuSans-121\"/>\n     </g>\n    </g>\n    <g id=\"line2d_27\">\n     <path d=\"M 396.143125 88.166437 \nL 416.143125 88.166437 \n\" style=\"fill:none;stroke:#d62728;stroke-linecap:square;stroke-width:1.5;\"/>\n    </g>\n    <g id=\"line2d_28\"/>\n    <g id=\"text_22\">\n     <!-- Born (torch.complex64), Homogeneous + log_stability -->\n     <g transform=\"translate(424.143125 91.666437)scale(0.1 -0.1)\">\n      <use xlink:href=\"#DejaVuSans-66\"/>\n      <use x=\"68.603516\" xlink:href=\"#DejaVuSans-111\"/>\n      <use x=\"129.785156\" xlink:href=\"#DejaVuSans-114\"/>\n      <use x=\"169.148438\" xlink:href=\"#DejaVuSans-110\"/>\n      <use x=\"232.527344\" xlink:href=\"#DejaVuSans-32\"/>\n      <use x=\"264.314453\" xlink:href=\"#DejaVuSans-40\"/>\n      <use x=\"303.328125\" xlink:href=\"#DejaVuSans-116\"/>\n      <use x=\"342.537109\" xlink:href=\"#DejaVuSans-111\"/>\n      <use x=\"403.71875\" xlink:href=\"#DejaVuSans-114\"/>\n      <use x=\"442.582031\" xlink:href=\"#DejaVuSans-99\"/>\n      <use x=\"497.5625\" xlink:href=\"#DejaVuSans-104\"/>\n      <use x=\"560.941406\" xlink:href=\"#DejaVuSans-46\"/>\n      <use x=\"592.728516\" xlink:href=\"#DejaVuSans-99\"/>\n      <use x=\"647.708984\" xlink:href=\"#DejaVuSans-111\"/>\n      <use x=\"708.890625\" xlink:href=\"#DejaVuSans-109\"/>\n      <use x=\"806.302734\" xlink:href=\"#DejaVuSans-112\"/>\n      <use x=\"869.779297\" xlink:href=\"#DejaVuSans-108\"/>\n      <use x=\"897.5625\" xlink:href=\"#DejaVuSans-101\"/>\n      <use x=\"957.335938\" xlink:href=\"#DejaVuSans-120\"/>\n      <use x=\"1016.515625\" xlink:href=\"#DejaVuSans-54\"/>\n      <use x=\"1080.138672\" xlink:href=\"#DejaVuSans-52\"/>\n      <use x=\"1143.761719\" xlink:href=\"#DejaVuSans-41\"/>\n      <use x=\"1182.775391\" xlink:href=\"#DejaVuSans-44\"/>\n      <use x=\"1214.5625\" xlink:href=\"#DejaVuSans-32\"/>\n      <use x=\"1246.349609\" xlink:href=\"#DejaVuSans-72\"/>\n      <use x=\"1321.544922\" xlink:href=\"#DejaVuSans-111\"/>\n      <use x=\"1382.726562\" xlink:href=\"#DejaVuSans-109\"/>\n      <use x=\"1480.138672\" xlink:href=\"#DejaVuSans-111\"/>\n      <use x=\"1541.320312\" xlink:href=\"#DejaVuSans-103\"/>\n      <use x=\"1604.796875\" xlink:href=\"#DejaVuSans-101\"/>\n      <use x=\"1666.320312\" xlink:href=\"#DejaVuSans-110\"/>\n      <use x=\"1729.699219\" xlink:href=\"#DejaVuSans-101\"/>\n      <use x=\"1791.222656\" xlink:href=\"#DejaVuSans-111\"/>\n      <use x=\"1852.404297\" xlink:href=\"#DejaVuSans-117\"/>\n      <use x=\"1915.783203\" xlink:href=\"#DejaVuSans-115\"/>\n      <use x=\"1967.882812\" xlink:href=\"#DejaVuSans-32\"/>\n      <use x=\"1999.669922\" xlink:href=\"#DejaVuSans-43\"/>\n      <use x=\"2083.458984\" xlink:href=\"#DejaVuSans-32\"/>\n      <use x=\"2115.246094\" xlink:href=\"#DejaVuSans-108\"/>\n      <use x=\"2143.029297\" xlink:href=\"#DejaVuSans-111\"/>\n      <use x=\"2204.210938\" xlink:href=\"#DejaVuSans-103\"/>\n      <use x=\"2267.6875\" xlink:href=\"#DejaVuSans-95\"/>\n      <use x=\"2317.6875\" xlink:href=\"#DejaVuSans-115\"/>\n      <use x=\"2369.787109\" xlink:href=\"#DejaVuSans-116\"/>\n      <use x=\"2408.996094\" xlink:href=\"#DejaVuSans-97\"/>\n      <use x=\"2470.275391\" xlink:href=\"#DejaVuSans-98\"/>\n      <use x=\"2533.751953\" xlink:href=\"#DejaVuSans-105\"/>\n      <use x=\"2561.535156\" xlink:href=\"#DejaVuSans-108\"/>\n      <use x=\"2589.318359\" xlink:href=\"#DejaVuSans-105\"/>\n      <use x=\"2617.101562\" xlink:href=\"#DejaVuSans-116\"/>\n      <use x=\"2656.310547\" xlink:href=\"#DejaVuSans-121\"/>\n     </g>\n    </g>\n    <g id=\"line2d_29\">\n     <path d=\"M 396.143125 103.122687 \nL 416.143125 103.122687 \n\" style=\"fill:none;stroke:#9467bd;stroke-linecap:square;stroke-width:1.5;\"/>\n    </g>\n    <g id=\"line2d_30\"/>\n    <g id=\"text_23\">\n     <!-- Positive MPS, Homogeneous -->\n     <g transform=\"translate(424.143125 106.622687)scale(0.1 -0.1)\">\n      <defs>\n       <path d=\"M 19.671875 64.796875 \nL 19.671875 37.40625 \nL 32.078125 37.40625 \nQ 38.96875 37.40625 42.71875 40.96875 \nQ 46.484375 44.53125 46.484375 51.125 \nQ 46.484375 57.671875 42.71875 61.234375 \nQ 38.96875 64.796875 32.078125 64.796875 \nz\nM 9.8125 72.90625 \nL 32.078125 72.90625 \nQ 44.34375 72.90625 50.609375 67.359375 \nQ 56.890625 61.8125 56.890625 51.125 \nQ 56.890625 40.328125 50.609375 34.8125 \nQ 44.34375 29.296875 32.078125 29.296875 \nL 19.671875 29.296875 \nL 19.671875 0 \nL 9.8125 0 \nz\n\" id=\"DejaVuSans-80\"/>\n       <path d=\"M 9.8125 72.90625 \nL 24.515625 72.90625 \nL 43.109375 23.296875 \nL 61.8125 72.90625 \nL 76.515625 72.90625 \nL 76.515625 0 \nL 66.890625 0 \nL 66.890625 64.015625 \nL 48.09375 14.015625 \nL 38.1875 14.015625 \nL 19.390625 64.015625 \nL 19.390625 0 \nL 9.8125 0 \nz\n\" id=\"DejaVuSans-77\"/>\n       <path d=\"M 53.515625 70.515625 \nL 53.515625 60.890625 \nQ 47.90625 63.578125 42.921875 64.890625 \nQ 37.9375 66.21875 33.296875 66.21875 \nQ 25.25 66.21875 20.875 63.09375 \nQ 16.5 59.96875 16.5 54.203125 \nQ 16.5 49.359375 19.40625 46.890625 \nQ 22.3125 44.4375 30.421875 42.921875 \nL 36.375 41.703125 \nQ 47.40625 39.59375 52.65625 34.296875 \nQ 57.90625 29 57.90625 20.125 \nQ 57.90625 9.515625 50.796875 4.046875 \nQ 43.703125 -1.421875 29.984375 -1.421875 \nQ 24.8125 -1.421875 18.96875 -0.25 \nQ 13.140625 0.921875 6.890625 3.21875 \nL 6.890625 13.375 \nQ 12.890625 10.015625 18.65625 8.296875 \nQ 24.421875 6.59375 29.984375 6.59375 \nQ 38.421875 6.59375 43.015625 9.90625 \nQ 47.609375 13.234375 47.609375 19.390625 \nQ 47.609375 24.75 44.3125 27.78125 \nQ 41.015625 30.8125 33.5 32.328125 \nL 27.484375 33.5 \nQ 16.453125 35.6875 11.515625 40.375 \nQ 6.59375 45.0625 6.59375 53.421875 \nQ 6.59375 63.09375 13.40625 68.65625 \nQ 20.21875 74.21875 32.171875 74.21875 \nQ 37.3125 74.21875 42.625 73.28125 \nQ 47.953125 72.359375 53.515625 70.515625 \nz\n\" id=\"DejaVuSans-83\"/>\n      </defs>\n      <use xlink:href=\"#DejaVuSans-80\"/>\n      <use x=\"56.677734\" xlink:href=\"#DejaVuSans-111\"/>\n      <use x=\"117.859375\" xlink:href=\"#DejaVuSans-115\"/>\n      <use x=\"169.958984\" xlink:href=\"#DejaVuSans-105\"/>\n      <use x=\"197.742188\" xlink:href=\"#DejaVuSans-116\"/>\n      <use x=\"236.951172\" xlink:href=\"#DejaVuSans-105\"/>\n      <use x=\"264.734375\" xlink:href=\"#DejaVuSans-118\"/>\n      <use x=\"323.914062\" xlink:href=\"#DejaVuSans-101\"/>\n      <use x=\"385.4375\" xlink:href=\"#DejaVuSans-32\"/>\n      <use x=\"417.224609\" xlink:href=\"#DejaVuSans-77\"/>\n      <use x=\"503.503906\" xlink:href=\"#DejaVuSans-80\"/>\n      <use x=\"563.806641\" xlink:href=\"#DejaVuSans-83\"/>\n      <use x=\"627.283203\" xlink:href=\"#DejaVuSans-44\"/>\n      <use x=\"659.070312\" xlink:href=\"#DejaVuSans-32\"/>\n      <use x=\"690.857422\" xlink:href=\"#DejaVuSans-72\"/>\n      <use x=\"766.052734\" xlink:href=\"#DejaVuSans-111\"/>\n      <use x=\"827.234375\" xlink:href=\"#DejaVuSans-109\"/>\n      <use x=\"924.646484\" xlink:href=\"#DejaVuSans-111\"/>\n      <use x=\"985.828125\" xlink:href=\"#DejaVuSans-103\"/>\n      <use x=\"1049.304688\" xlink:href=\"#DejaVuSans-101\"/>\n      <use x=\"1110.828125\" xlink:href=\"#DejaVuSans-110\"/>\n      <use x=\"1174.207031\" xlink:href=\"#DejaVuSans-101\"/>\n      <use x=\"1235.730469\" xlink:href=\"#DejaVuSans-111\"/>\n      <use x=\"1296.912109\" xlink:href=\"#DejaVuSans-117\"/>\n      <use x=\"1360.291016\" xlink:href=\"#DejaVuSans-115\"/>\n     </g>\n    </g>\n   </g>\n  </g>\n </g>\n <defs>\n  <clipPath id=\"p85816f4419\">\n   <rect height=\"217.44\" width=\"334.8\" x=\"40.603125\" y=\"35.7555\"/>\n  </clipPath>\n </defs>\n</svg>\n",
      "image/png": "[encoded data removed]"
     },
     "metadata": {
      "needs_background": "light"
     }
    }
   ],
   "source": [
    "lossvals_hom = train_models(models_hom, batchsize=10, max_epochs=100)"
   ]
  },
  {
   "cell_type": "code",
   "execution_count": 7,
   "metadata": {},
   "outputs": [
    {
     "output_type": "stream",
     "name": "stdout",
     "text": [
      "dataset: tumor\n╭───────────────────────────\n│Training Born (torch.float32), Non-homogeneous,\n│         batchsize:10, torch.optim.adadelta, {}.\n"
     ]
    },
    {
     "output_type": "display_data",
     "data": {
      "text/plain": "HBox(children=(HTML(value=''), FloatProgress(value=0.0), HTML(value='')))",
      "application/vnd.jupyter.widget-view+json": {
       "version_major": 2,
       "version_minor": 0,
       "model_id": "507ea042eff044d18b39c8d081ff1fcf"
      }
     },
     "metadata": {}
    },
    {
     "output_type": "display_data",
     "data": {
      "text/plain": "HBox(children=(HTML(value='epoch 0'), FloatProgress(value=0.0, max=34.0), HTML(value='')))",
      "application/vnd.jupyter.widget-view+json": {
       "version_major": 2,
       "version_minor": 0,
       "model_id": "173b68692f1d44a5a24fd3d7aa9e3c2f"
      }
     },
     "metadata": {}
    },
    {
     "output_type": "display_data",
     "data": {
      "text/plain": "HBox(children=(HTML(value='epoch 1'), FloatProgress(value=0.0, max=34.0), HTML(value='')))",
      "application/vnd.jupyter.widget-view+json": {
       "version_major": 2,
       "version_minor": 0,
       "model_id": "b4fc93a228344c3a982a8f3d0cd5df0d"
      }
     },
     "metadata": {}
    },
    {
     "output_type": "stream",
     "name": "stdout",
     "text": [
      "│(clipping right_boundary min -2.3e+04 to size 1000)\n"
     ]
    },
    {
     "output_type": "display_data",
     "data": {
      "text/plain": "HBox(children=(HTML(value='epoch 2'), FloatProgress(value=0.0, max=34.0), HTML(value='')))",
      "application/vnd.jupyter.widget-view+json": {
       "version_major": 2,
       "version_minor": 0,
       "model_id": "b66a16a007cc43138b8c5da3ac378496"
      }
     },
     "metadata": {}
    },
    {
     "output_type": "display_data",
     "data": {
      "text/plain": "HBox(children=(HTML(value='epoch 3'), FloatProgress(value=0.0, max=34.0), HTML(value='')))",
      "application/vnd.jupyter.widget-view+json": {
       "version_major": 2,
       "version_minor": 0,
       "model_id": "9938f318b4e04d8da6bdb3fefe75a1ca"
      }
     },
     "metadata": {}
    },
    {
     "output_type": "display_data",
     "data": {
      "text/plain": "HBox(children=(HTML(value='epoch 4'), FloatProgress(value=0.0, max=34.0), HTML(value='')))",
      "application/vnd.jupyter.widget-view+json": {
       "version_major": 2,
       "version_minor": 0,
       "model_id": "8d5a3abb87d2465f820c2f263f1ab8e5"
      }
     },
     "metadata": {}
    },
    {
     "output_type": "display_data",
     "data": {
      "text/plain": "HBox(children=(HTML(value='epoch 5'), FloatProgress(value=0.0, max=34.0), HTML(value='')))",
      "application/vnd.jupyter.widget-view+json": {
       "version_major": 2,
       "version_minor": 0,
       "model_id": "a9b2a6f9374242099308c44ba8e0585e"
      }
     },
     "metadata": {}
    },
    {
     "output_type": "display_data",
     "data": {
      "text/plain": "HBox(children=(HTML(value='epoch 6'), FloatProgress(value=0.0, max=34.0), HTML(value='')))",
      "application/vnd.jupyter.widget-view+json": {
       "version_major": 2,
       "version_minor": 0,
       "model_id": "4e9784c2017c4c309610a0f372d4f967"
      }
     },
     "metadata": {}
    },
    {
     "output_type": "display_data",
     "data": {
      "text/plain": "HBox(children=(HTML(value='epoch 7'), FloatProgress(value=0.0, max=34.0), HTML(value='')))",
      "application/vnd.jupyter.widget-view+json": {
       "version_major": 2,
       "version_minor": 0,
       "model_id": "e72f28c83c244df59a30cebd40a3d856"
      }
     },
     "metadata": {}
    },
    {
     "output_type": "display_data",
     "data": {
      "text/plain": "HBox(children=(HTML(value='epoch 8'), FloatProgress(value=0.0, max=34.0), HTML(value='')))",
      "application/vnd.jupyter.widget-view+json": {
       "version_major": 2,
       "version_minor": 0,
       "model_id": "197e4ddfaa2d4aab8d443c9ca4d9bc02"
      }
     },
     "metadata": {}
    },
    {
     "output_type": "display_data",
     "data": {
      "text/plain": "HBox(children=(HTML(value='epoch 9'), FloatProgress(value=0.0, max=34.0), HTML(value='')))",
      "application/vnd.jupyter.widget-view+json": {
       "version_major": 2,
       "version_minor": 0,
       "model_id": "57db1d4933c94e9085e97c964f1184a9"
      }
     },
     "metadata": {}
    },
    {
     "output_type": "display_data",
     "data": {
      "text/plain": "HBox(children=(HTML(value='epoch 10'), FloatProgress(value=0.0, max=34.0), HTML(value='')))",
      "application/vnd.jupyter.widget-view+json": {
       "version_major": 2,
       "version_minor": 0,
       "model_id": "7968d4bb23ca457881790306dae6fe67"
      }
     },
     "metadata": {}
    },
    {
     "output_type": "display_data",
     "data": {
      "text/plain": "HBox(children=(HTML(value='epoch 11'), FloatProgress(value=0.0, max=34.0), HTML(value='')))",
      "application/vnd.jupyter.widget-view+json": {
       "version_major": 2,
       "version_minor": 0,
       "model_id": "def54af2f6f84a4aafea738b2edabcbb"
      }
     },
     "metadata": {}
    },
    {
     "output_type": "display_data",
     "data": {
      "text/plain": "HBox(children=(HTML(value='epoch 12'), FloatProgress(value=0.0, max=34.0), HTML(value='')))",
      "application/vnd.jupyter.widget-view+json": {
       "version_major": 2,
       "version_minor": 0,
       "model_id": "8cf77b4444d74021aebab22f3780c9f1"
      }
     },
     "metadata": {}
    },
    {
     "output_type": "display_data",
     "data": {
      "text/plain": "HBox(children=(HTML(value='epoch 13'), FloatProgress(value=0.0, max=34.0), HTML(value='')))",
      "application/vnd.jupyter.widget-view+json": {
       "version_major": 2,
       "version_minor": 0,
       "model_id": "197d8272fc0441c0957dc29fc4ff34fe"
      }
     },
     "metadata": {}
    },
    {
     "output_type": "display_data",
     "data": {
      "text/plain": "HBox(children=(HTML(value='epoch 14'), FloatProgress(value=0.0, max=34.0), HTML(value='')))",
      "application/vnd.jupyter.widget-view+json": {
       "version_major": 2,
       "version_minor": 0,
       "model_id": "ea0403addb9641d5bf2909644568c159"
      }
     },
     "metadata": {}
    },
    {
     "output_type": "display_data",
     "data": {
      "text/plain": "HBox(children=(HTML(value='epoch 15'), FloatProgress(value=0.0, max=34.0), HTML(value='')))",
      "application/vnd.jupyter.widget-view+json": {
       "version_major": 2,
       "version_minor": 0,
       "model_id": "d7535aa96f0d4c59bec946ede457fa29"
      }
     },
     "metadata": {}
    },
    {
     "output_type": "display_data",
     "data": {
      "text/plain": "HBox(children=(HTML(value='epoch 16'), FloatProgress(value=0.0, max=34.0), HTML(value='')))",
      "application/vnd.jupyter.widget-view+json": {
       "version_major": 2,
       "version_minor": 0,
       "model_id": "8456af88751e45768fe706e683f8dc95"
      }
     },
     "metadata": {}
    },
    {
     "output_type": "display_data",
     "data": {
      "text/plain": "HBox(children=(HTML(value='epoch 17'), FloatProgress(value=0.0, max=34.0), HTML(value='')))",
      "application/vnd.jupyter.widget-view+json": {
       "version_major": 2,
       "version_minor": 0,
       "model_id": "7dd7a1f0235249a480270cfa182f3b21"
      }
     },
     "metadata": {}
    },
    {
     "output_type": "display_data",
     "data": {
      "text/plain": "HBox(children=(HTML(value='epoch 18'), FloatProgress(value=0.0, max=34.0), HTML(value='')))",
      "application/vnd.jupyter.widget-view+json": {
       "version_major": 2,
       "version_minor": 0,
       "model_id": "7fc9e08391b147a3992ca685f975b756"
      }
     },
     "metadata": {}
    },
    {
     "output_type": "display_data",
     "data": {
      "text/plain": "HBox(children=(HTML(value='epoch 19'), FloatProgress(value=0.0, max=34.0), HTML(value='')))",
      "application/vnd.jupyter.widget-view+json": {
       "version_major": 2,
       "version_minor": 0,
       "model_id": "4fd8aaa04cee44d28c6e072ee697e875"
      }
     },
     "metadata": {}
    },
    {
     "output_type": "display_data",
     "data": {
      "text/plain": "HBox(children=(HTML(value='epoch 20'), FloatProgress(value=0.0, max=34.0), HTML(value='')))",
      "application/vnd.jupyter.widget-view+json": {
       "version_major": 2,
       "version_minor": 0,
       "model_id": "15529129ecc945fb9d9e55003fe972a1"
      }
     },
     "metadata": {}
    },
    {
     "output_type": "display_data",
     "data": {
      "text/plain": "HBox(children=(HTML(value='epoch 21'), FloatProgress(value=0.0, max=34.0), HTML(value='')))",
      "application/vnd.jupyter.widget-view+json": {
       "version_major": 2,
       "version_minor": 0,
       "model_id": "17b9223fd98642f6ad70ab0cf1c4519f"
      }
     },
     "metadata": {}
    },
    {
     "output_type": "display_data",
     "data": {
      "text/plain": "HBox(children=(HTML(value='epoch 22'), FloatProgress(value=0.0, max=34.0), HTML(value='')))",
      "application/vnd.jupyter.widget-view+json": {
       "version_major": 2,
       "version_minor": 0,
       "model_id": "61048ee0a2554c92b0de89fceddb873e"
      }
     },
     "metadata": {}
    },
    {
     "output_type": "display_data",
     "data": {
      "text/plain": "HBox(children=(HTML(value='epoch 23'), FloatProgress(value=0.0, max=34.0), HTML(value='')))",
      "application/vnd.jupyter.widget-view+json": {
       "version_major": 2,
       "version_minor": 0,
       "model_id": "c8a5e5d512de4fd495082bd6b9ab4c21"
      }
     },
     "metadata": {}
    },
    {
     "output_type": "display_data",
     "data": {
      "text/plain": "HBox(children=(HTML(value='epoch 24'), FloatProgress(value=0.0, max=34.0), HTML(value='')))",
      "application/vnd.jupyter.widget-view+json": {
       "version_major": 2,
       "version_minor": 0,
       "model_id": "0e381c35e1ef479998b35f148874c779"
      }
     },
     "metadata": {}
    },
    {
     "output_type": "display_data",
     "data": {
      "text/plain": "HBox(children=(HTML(value='epoch 25'), FloatProgress(value=0.0, max=34.0), HTML(value='')))",
      "application/vnd.jupyter.widget-view+json": {
       "version_major": 2,
       "version_minor": 0,
       "model_id": "faac6c5b9d6646fe8b2563cdea81144b"
      }
     },
     "metadata": {}
    },
    {
     "output_type": "display_data",
     "data": {
      "text/plain": "HBox(children=(HTML(value='epoch 26'), FloatProgress(value=0.0, max=34.0), HTML(value='')))",
      "application/vnd.jupyter.widget-view+json": {
       "version_major": 2,
       "version_minor": 0,
       "model_id": "f85042e662a04b72aadab50f460e0482"
      }
     },
     "metadata": {}
    },
    {
     "output_type": "display_data",
     "data": {
      "text/plain": "HBox(children=(HTML(value='epoch 27'), FloatProgress(value=0.0, max=34.0), HTML(value='')))",
      "application/vnd.jupyter.widget-view+json": {
       "version_major": 2,
       "version_minor": 0,
       "model_id": "6bf998633bd2491ca10f494e196c651d"
      }
     },
     "metadata": {}
    },
    {
     "output_type": "display_data",
     "data": {
      "text/plain": "HBox(children=(HTML(value='epoch 28'), FloatProgress(value=0.0, max=34.0), HTML(value='')))",
      "application/vnd.jupyter.widget-view+json": {
       "version_major": 2,
       "version_minor": 0,
       "model_id": "886a436cb038447fb5849b4562cb84ad"
      }
     },
     "metadata": {}
    },
    {
     "output_type": "display_data",
     "data": {
      "text/plain": "HBox(children=(HTML(value='epoch 29'), FloatProgress(value=0.0, max=34.0), HTML(value='')))",
      "application/vnd.jupyter.widget-view+json": {
       "version_major": 2,
       "version_minor": 0,
       "model_id": "7331a11e94fa445887326635869dbd66"
      }
     },
     "metadata": {}
    },
    {
     "output_type": "display_data",
     "data": {
      "text/plain": "HBox(children=(HTML(value='epoch 30'), FloatProgress(value=0.0, max=34.0), HTML(value='')))",
      "application/vnd.jupyter.widget-view+json": {
       "version_major": 2,
       "version_minor": 0,
       "model_id": "71542bc9fafd4050b4c7c6d67aa6221a"
      }
     },
     "metadata": {}
    },
    {
     "output_type": "display_data",
     "data": {
      "text/plain": "HBox(children=(HTML(value='epoch 31'), FloatProgress(value=0.0, max=34.0), HTML(value='')))",
      "application/vnd.jupyter.widget-view+json": {
       "version_major": 2,
       "version_minor": 0,
       "model_id": "ce9326bdb0f44b218d2fc8f4dce1d4a8"
      }
     },
     "metadata": {}
    },
    {
     "output_type": "display_data",
     "data": {
      "text/plain": "HBox(children=(HTML(value='epoch 32'), FloatProgress(value=0.0, max=34.0), HTML(value='')))",
      "application/vnd.jupyter.widget-view+json": {
       "version_major": 2,
       "version_minor": 0,
       "model_id": "a9af398ebc5c460b8922e6c2cd180180"
      }
     },
     "metadata": {}
    },
    {
     "output_type": "display_data",
     "data": {
      "text/plain": "HBox(children=(HTML(value='epoch 33'), FloatProgress(value=0.0, max=34.0), HTML(value='')))",
      "application/vnd.jupyter.widget-view+json": {
       "version_major": 2,
       "version_minor": 0,
       "model_id": "dcf0484779b24a6aa442e7be5d69a225"
      }
     },
     "metadata": {}
    },
    {
     "output_type": "display_data",
     "data": {
      "text/plain": "HBox(children=(HTML(value='epoch 34'), FloatProgress(value=0.0, max=34.0), HTML(value='')))",
      "application/vnd.jupyter.widget-view+json": {
       "version_major": 2,
       "version_minor": 0,
       "model_id": "03b76e5231bb4fb7b8b640933adfafff"
      }
     },
     "metadata": {}
    },
    {
     "output_type": "display_data",
     "data": {
      "text/plain": "HBox(children=(HTML(value='epoch 35'), FloatProgress(value=0.0, max=34.0), HTML(value='')))",
      "application/vnd.jupyter.widget-view+json": {
       "version_major": 2,
       "version_minor": 0,
       "model_id": "66ab2c86fb3d4095b8c67d41b8f8f46d"
      }
     },
     "metadata": {}
    },
    {
     "output_type": "display_data",
     "data": {
      "text/plain": "HBox(children=(HTML(value='epoch 36'), FloatProgress(value=0.0, max=34.0), HTML(value='')))",
      "application/vnd.jupyter.widget-view+json": {
       "version_major": 2,
       "version_minor": 0,
       "model_id": "caddee148f254e7eaa7ae60f334c414d"
      }
     },
     "metadata": {}
    },
    {
     "output_type": "display_data",
     "data": {
      "text/plain": "HBox(children=(HTML(value='epoch 37'), FloatProgress(value=0.0, max=34.0), HTML(value='')))",
      "application/vnd.jupyter.widget-view+json": {
       "version_major": 2,
       "version_minor": 0,
       "model_id": "466140605dbc42bcad385ae965c894c9"
      }
     },
     "metadata": {}
    },
    {
     "output_type": "display_data",
     "data": {
      "text/plain": "HBox(children=(HTML(value='epoch 38'), FloatProgress(value=0.0, max=34.0), HTML(value='')))",
      "application/vnd.jupyter.widget-view+json": {
       "version_major": 2,
       "version_minor": 0,
       "model_id": "11e66e87e03b40b9847d976392277ad7"
      }
     },
     "metadata": {}
    },
    {
     "output_type": "display_data",
     "data": {
      "text/plain": "HBox(children=(HTML(value='epoch 39'), FloatProgress(value=0.0, max=34.0), HTML(value='')))",
      "application/vnd.jupyter.widget-view+json": {
       "version_major": 2,
       "version_minor": 0,
       "model_id": "8ac77261b38c42629b258bfaa72cf198"
      }
     },
     "metadata": {}
    },
    {
     "output_type": "display_data",
     "data": {
      "text/plain": "HBox(children=(HTML(value='epoch 40'), FloatProgress(value=0.0, max=34.0), HTML(value='')))",
      "application/vnd.jupyter.widget-view+json": {
       "version_major": 2,
       "version_minor": 0,
       "model_id": "089f36b3880040ad91a3748e0647cefd"
      }
     },
     "metadata": {}
    },
    {
     "output_type": "display_data",
     "data": {
      "text/plain": "HBox(children=(HTML(value='epoch 41'), FloatProgress(value=0.0, max=34.0), HTML(value='')))",
      "application/vnd.jupyter.widget-view+json": {
       "version_major": 2,
       "version_minor": 0,
       "model_id": "10e932fd30a94a13ad7c6555acc70ac4"
      }
     },
     "metadata": {}
    },
    {
     "output_type": "display_data",
     "data": {
      "text/plain": "HBox(children=(HTML(value='epoch 42'), FloatProgress(value=0.0, max=34.0), HTML(value='')))",
      "application/vnd.jupyter.widget-view+json": {
       "version_major": 2,
       "version_minor": 0,
       "model_id": "fe0d4cf7a5fe441e9cda453f13986156"
      }
     },
     "metadata": {}
    },
    {
     "output_type": "display_data",
     "data": {
      "text/plain": "HBox(children=(HTML(value='epoch 43'), FloatProgress(value=0.0, max=34.0), HTML(value='')))",
      "application/vnd.jupyter.widget-view+json": {
       "version_major": 2,
       "version_minor": 0,
       "model_id": "c25536cdc10e43fcad209df0688d0836"
      }
     },
     "metadata": {}
    },
    {
     "output_type": "display_data",
     "data": {
      "text/plain": "HBox(children=(HTML(value='epoch 44'), FloatProgress(value=0.0, max=34.0), HTML(value='')))",
      "application/vnd.jupyter.widget-view+json": {
       "version_major": 2,
       "version_minor": 0,
       "model_id": "57620af3563e46a3a085756b8e1d5613"
      }
     },
     "metadata": {}
    },
    {
     "output_type": "display_data",
     "data": {
      "text/plain": "HBox(children=(HTML(value='epoch 45'), FloatProgress(value=0.0, max=34.0), HTML(value='')))",
      "application/vnd.jupyter.widget-view+json": {
       "version_major": 2,
       "version_minor": 0,
       "model_id": "6bb1351e31cd40b2913731743cb33655"
      }
     },
     "metadata": {}
    },
    {
     "output_type": "display_data",
     "data": {
      "text/plain": "HBox(children=(HTML(value='epoch 46'), FloatProgress(value=0.0, max=34.0), HTML(value='')))",
      "application/vnd.jupyter.widget-view+json": {
       "version_major": 2,
       "version_minor": 0,
       "model_id": "405baf6eeb814359a4d68842031f4952"
      }
     },
     "metadata": {}
    },
    {
     "output_type": "stream",
     "name": "stdout",
     "text": [
      "\n"
     ]
    },
    {
     "output_type": "error",
     "ename": "KeyboardInterrupt",
     "evalue": "",
     "traceback": [
      "\u001b[0;31m---------------------------------------------------------------------------\u001b[0m",
      "\u001b[0;31mKeyboardInterrupt\u001b[0m                         Traceback (most recent call last)",
      "\u001b[0;32m<ipython-input-7-3989b6ca46b8>\u001b[0m in \u001b[0;36m<module>\u001b[0;34m\u001b[0m\n\u001b[0;32m----> 1\u001b[0;31m \u001b[0mlossvals\u001b[0m \u001b[0;34m=\u001b[0m \u001b[0mtrain_models\u001b[0m\u001b[0;34m(\u001b[0m\u001b[0mmodels\u001b[0m\u001b[0;34m,\u001b[0m \u001b[0mbatchsize\u001b[0m\u001b[0;34m=\u001b[0m\u001b[0;36m10\u001b[0m\u001b[0;34m,\u001b[0m \u001b[0mmax_epochs\u001b[0m\u001b[0;34m=\u001b[0m\u001b[0;36m100\u001b[0m\u001b[0;34m)\u001b[0m\u001b[0;34m\u001b[0m\u001b[0;34m\u001b[0m\u001b[0m\n\u001b[0m",
      "\u001b[0;32m<ipython-input-4-205653ad5898>\u001b[0m in \u001b[0;36mtrain_models\u001b[0;34m(models, batchsize, max_epochs, **optim_kwargs)\u001b[0m\n\u001b[1;32m     59\u001b[0m     \u001b[0mmodels_loss_values\u001b[0m\u001b[0;34m=\u001b[0m\u001b[0;34m{\u001b[0m\u001b[0;34m}\u001b[0m\u001b[0;34m\u001b[0m\u001b[0;34m\u001b[0m\u001b[0m\n\u001b[1;32m     60\u001b[0m     \u001b[0;32mfor\u001b[0m \u001b[0mmodel\u001b[0m \u001b[0;32min\u001b[0m \u001b[0mmodels\u001b[0m\u001b[0;34m:\u001b[0m\u001b[0;34m\u001b[0m\u001b[0;34m\u001b[0m\u001b[0m\n\u001b[0;32m---> 61\u001b[0;31m         \u001b[0mloss_values\u001b[0m \u001b[0;34m=\u001b[0m \u001b[0mtrain\u001b[0m\u001b[0;34m(\u001b[0m\u001b[0mmodel\u001b[0m\u001b[0;34m,\u001b[0m \u001b[0mX\u001b[0m\u001b[0;34m,\u001b[0m \u001b[0mbatchsize\u001b[0m\u001b[0;34m=\u001b[0m\u001b[0mbatchsize\u001b[0m\u001b[0;34m,\u001b[0m \u001b[0mplot\u001b[0m\u001b[0;34m=\u001b[0m\u001b[0;32mFalse\u001b[0m\u001b[0;34m,\u001b[0m \u001b[0mmax_epochs\u001b[0m \u001b[0;34m=\u001b[0m \u001b[0mmax_epochs\u001b[0m\u001b[0;34m,\u001b[0m \u001b[0;34m**\u001b[0m\u001b[0moptim_kwargs\u001b[0m\u001b[0;34m)\u001b[0m\u001b[0;34m\u001b[0m\u001b[0;34m\u001b[0m\u001b[0m\n\u001b[0m\u001b[1;32m     62\u001b[0m         \u001b[0mplt\u001b[0m\u001b[0;34m.\u001b[0m\u001b[0mplot\u001b[0m\u001b[0;34m(\u001b[0m\u001b[0mloss_values\u001b[0m\u001b[0;34m,\u001b[0m \u001b[0mlabel\u001b[0m\u001b[0;34m=\u001b[0m\u001b[0mmodel\u001b[0m\u001b[0;34m.\u001b[0m\u001b[0mname\u001b[0m\u001b[0;34m)\u001b[0m\u001b[0;34m\u001b[0m\u001b[0;34m\u001b[0m\u001b[0m\n\u001b[1;32m     63\u001b[0m         \u001b[0mplt\u001b[0m\u001b[0;34m.\u001b[0m\u001b[0mylabel\u001b[0m\u001b[0;34m(\u001b[0m\u001b[0;34m'avg loss (NLL)'\u001b[0m\u001b[0;34m)\u001b[0m\u001b[0;34m\u001b[0m\u001b[0;34m\u001b[0m\u001b[0m\n",
      "\u001b[0;32m<ipython-input-4-205653ad5898>\u001b[0m in \u001b[0;36mtrain\u001b[0;34m(self, dataset, batchsize, max_epochs, plot, **optim_kwargs)\u001b[0m\n\u001b[1;32m     25\u001b[0m                     \u001b[0mneglogprob\u001b[0m \u001b[0;34m=\u001b[0m \u001b[0;36m0\u001b[0m\u001b[0;34m\u001b[0m\u001b[0;34m\u001b[0m\u001b[0m\n\u001b[1;32m     26\u001b[0m                     \u001b[0;32mfor\u001b[0m \u001b[0mx\u001b[0m \u001b[0;32min\u001b[0m \u001b[0mbatch\u001b[0m\u001b[0;34m:\u001b[0m\u001b[0;34m\u001b[0m\u001b[0;34m\u001b[0m\u001b[0m\n\u001b[0;32m---> 27\u001b[0;31m                         \u001b[0mout\u001b[0m \u001b[0;34m=\u001b[0m \u001b[0mself\u001b[0m\u001b[0;34m(\u001b[0m\u001b[0mx\u001b[0m\u001b[0;34m)\u001b[0m\u001b[0;34m\u001b[0m\u001b[0;34m\u001b[0m\u001b[0m\n\u001b[0m\u001b[1;32m     28\u001b[0m                         \u001b[0mneglogprob\u001b[0m \u001b[0;34m-=\u001b[0m \u001b[0mout\u001b[0m\u001b[0;34m\u001b[0m\u001b[0;34m\u001b[0m\u001b[0m\n\u001b[1;32m     29\u001b[0m                     \u001b[0mloss\u001b[0m \u001b[0;34m=\u001b[0m \u001b[0mneglogprob\u001b[0m \u001b[0;34m/\u001b[0m \u001b[0mlen\u001b[0m\u001b[0;34m(\u001b[0m\u001b[0mbatch\u001b[0m\u001b[0;34m)\u001b[0m\u001b[0;34m\u001b[0m\u001b[0;34m\u001b[0m\u001b[0m\n",
      "\u001b[0;32m~/anaconda3/envs/torch_nightly/lib/python3.8/site-packages/torch/nn/modules/module.py\u001b[0m in \u001b[0;36m_call_impl\u001b[0;34m(self, *input, **kwargs)\u001b[0m\n\u001b[1;32m    742\u001b[0m             \u001b[0mresult\u001b[0m \u001b[0;34m=\u001b[0m \u001b[0mself\u001b[0m\u001b[0;34m.\u001b[0m\u001b[0m_slow_forward\u001b[0m\u001b[0;34m(\u001b[0m\u001b[0;34m*\u001b[0m\u001b[0minput\u001b[0m\u001b[0;34m,\u001b[0m \u001b[0;34m**\u001b[0m\u001b[0mkwargs\u001b[0m\u001b[0;34m)\u001b[0m\u001b[0;34m\u001b[0m\u001b[0;34m\u001b[0m\u001b[0m\n\u001b[1;32m    743\u001b[0m         \u001b[0;32melse\u001b[0m\u001b[0;34m:\u001b[0m\u001b[0;34m\u001b[0m\u001b[0;34m\u001b[0m\u001b[0m\n\u001b[0;32m--> 744\u001b[0;31m             \u001b[0mresult\u001b[0m \u001b[0;34m=\u001b[0m \u001b[0mself\u001b[0m\u001b[0;34m.\u001b[0m\u001b[0mforward\u001b[0m\u001b[0;34m(\u001b[0m\u001b[0;34m*\u001b[0m\u001b[0minput\u001b[0m\u001b[0;34m,\u001b[0m \u001b[0;34m**\u001b[0m\u001b[0mkwargs\u001b[0m\u001b[0;34m)\u001b[0m\u001b[0;34m\u001b[0m\u001b[0;34m\u001b[0m\u001b[0m\n\u001b[0m\u001b[1;32m    745\u001b[0m         for hook in itertools.chain(\n\u001b[1;32m    746\u001b[0m                 \u001b[0m_global_forward_hooks\u001b[0m\u001b[0;34m.\u001b[0m\u001b[0mvalues\u001b[0m\u001b[0;34m(\u001b[0m\u001b[0;34m)\u001b[0m\u001b[0;34m,\u001b[0m\u001b[0;34m\u001b[0m\u001b[0;34m\u001b[0m\u001b[0m\n",
      "\u001b[0;32m~/McGill/2020-09/IFT6269-PGM-Lacoste-Julien/project/tensor_network_project/tensornetworks_pytorch/TTrainClass.py\u001b[0m in \u001b[0;36mforward\u001b[0;34m(self, x)\u001b[0m\n\u001b[1;32m    233\u001b[0m \u001b[0;34m\u001b[0m\u001b[0m\n\u001b[1;32m    234\u001b[0m     \u001b[0;32mdef\u001b[0m \u001b[0mforward\u001b[0m\u001b[0;34m(\u001b[0m\u001b[0mself\u001b[0m\u001b[0;34m,\u001b[0m \u001b[0mx\u001b[0m\u001b[0;34m)\u001b[0m\u001b[0;34m:\u001b[0m\u001b[0;34m\u001b[0m\u001b[0;34m\u001b[0m\u001b[0m\n\u001b[0;32m--> 235\u001b[0;31m         \u001b[0;32mreturn\u001b[0m \u001b[0mself\u001b[0m\u001b[0;34m.\u001b[0m\u001b[0m_logprob\u001b[0m\u001b[0;34m(\u001b[0m\u001b[0mx\u001b[0m\u001b[0;34m)\u001b[0m\u001b[0;34m\u001b[0m\u001b[0;34m\u001b[0m\u001b[0m\n\u001b[0m\u001b[1;32m    236\u001b[0m \u001b[0;34m\u001b[0m\u001b[0m\n\u001b[1;32m    237\u001b[0m     \u001b[0;32mdef\u001b[0m \u001b[0mtrain\u001b[0m\u001b[0;34m(\u001b[0m\u001b[0mself\u001b[0m\u001b[0;34m,\u001b[0m \u001b[0mdata\u001b[0m\u001b[0;34m)\u001b[0m\u001b[0;34m:\u001b[0m\u001b[0;34m\u001b[0m\u001b[0;34m\u001b[0m\u001b[0m\n",
      "\u001b[0;32m~/McGill/2020-09/IFT6269-PGM-Lacoste-Julien/project/tensor_network_project/tensornetworks_pytorch/TNModels.py\u001b[0m in \u001b[0;36m_logprob\u001b[0;34m(self, x)\u001b[0m\n\u001b[1;32m    168\u001b[0m             \u001b[0moutput\u001b[0m \u001b[0;34m=\u001b[0m \u001b[0mself\u001b[0m\u001b[0;34m.\u001b[0m\u001b[0m_contract_at\u001b[0m\u001b[0;34m(\u001b[0m\u001b[0mx\u001b[0m\u001b[0;34m)\u001b[0m\u001b[0;34m\u001b[0m\u001b[0;34m\u001b[0m\u001b[0m\n\u001b[1;32m    169\u001b[0m             \u001b[0munnorm_prob\u001b[0m \u001b[0;34m=\u001b[0m \u001b[0moutput\u001b[0m\u001b[0;34m.\u001b[0m\u001b[0mabs\u001b[0m\u001b[0;34m(\u001b[0m\u001b[0;34m)\u001b[0m\u001b[0;34m.\u001b[0m\u001b[0msquare\u001b[0m\u001b[0;34m(\u001b[0m\u001b[0;34m)\u001b[0m\u001b[0;34m\u001b[0m\u001b[0;34m\u001b[0m\u001b[0m\n\u001b[0;32m--> 170\u001b[0;31m             \u001b[0mnormalization\u001b[0m \u001b[0;34m=\u001b[0m \u001b[0mself\u001b[0m\u001b[0;34m.\u001b[0m\u001b[0m_contract_all\u001b[0m\u001b[0;34m(\u001b[0m\u001b[0;34m)\u001b[0m\u001b[0;34m.\u001b[0m\u001b[0mabs\u001b[0m\u001b[0;34m(\u001b[0m\u001b[0;34m)\u001b[0m\u001b[0;34m\u001b[0m\u001b[0;34m\u001b[0m\u001b[0m\n\u001b[0m\u001b[1;32m    171\u001b[0m             \u001b[0mlogprob\u001b[0m \u001b[0;34m=\u001b[0m \u001b[0munnorm_prob\u001b[0m\u001b[0;34m.\u001b[0m\u001b[0mlog\u001b[0m\u001b[0;34m(\u001b[0m\u001b[0;34m)\u001b[0m \u001b[0;34m-\u001b[0m \u001b[0mnormalization\u001b[0m\u001b[0;34m.\u001b[0m\u001b[0mlog\u001b[0m\u001b[0;34m(\u001b[0m\u001b[0;34m)\u001b[0m\u001b[0;34m\u001b[0m\u001b[0;34m\u001b[0m\u001b[0m\n\u001b[1;32m    172\u001b[0m         \u001b[0;32mreturn\u001b[0m \u001b[0mlogprob\u001b[0m\u001b[0;34m\u001b[0m\u001b[0;34m\u001b[0m\u001b[0m\n",
      "\u001b[0;32m~/McGill/2020-09/IFT6269-PGM-Lacoste-Julien/project/tensor_network_project/tensornetworks_pytorch/TTrainClass.py\u001b[0m in \u001b[0;36m_contract_all\u001b[0;34m(self)\u001b[0m\n\u001b[1;32m    204\u001b[0m         \u001b[0;31m# contract the network\u001b[0m\u001b[0;34m\u001b[0m\u001b[0;34m\u001b[0m\u001b[0;34m\u001b[0m\u001b[0m\n\u001b[1;32m    205\u001b[0m         \u001b[0;32mfor\u001b[0m \u001b[0mi\u001b[0m \u001b[0;32min\u001b[0m \u001b[0mrange\u001b[0m\u001b[0;34m(\u001b[0m\u001b[0;36m1\u001b[0m\u001b[0;34m,\u001b[0m \u001b[0mself\u001b[0m\u001b[0;34m.\u001b[0m\u001b[0mseqlen\u001b[0m\u001b[0;34m)\u001b[0m\u001b[0;34m:\u001b[0m\u001b[0;34m\u001b[0m\u001b[0;34m\u001b[0m\u001b[0m\n\u001b[0;32m--> 206\u001b[0;31m             contracting_tensor = torch.einsum(\n\u001b[0m\u001b[1;32m    207\u001b[0m                 \u001b[0;34m'ij, ijkl -> kl'\u001b[0m\u001b[0;34m,\u001b[0m\u001b[0;34m\u001b[0m\u001b[0;34m\u001b[0m\u001b[0m\n\u001b[1;32m    208\u001b[0m                 \u001b[0mcontracting_tensor\u001b[0m\u001b[0;34m,\u001b[0m\u001b[0;34m\u001b[0m\u001b[0;34m\u001b[0m\u001b[0m\n",
      "\u001b[0;32m~/anaconda3/envs/torch_nightly/lib/python3.8/site-packages/torch/functional.py\u001b[0m in \u001b[0;36meinsum\u001b[0;34m(equation, *operands)\u001b[0m\n\u001b[1;32m    343\u001b[0m         \u001b[0;32mreturn\u001b[0m \u001b[0meinsum\u001b[0m\u001b[0;34m(\u001b[0m\u001b[0mequation\u001b[0m\u001b[0;34m,\u001b[0m \u001b[0;34m*\u001b[0m\u001b[0m_operands\u001b[0m\u001b[0;34m)\u001b[0m\u001b[0;34m\u001b[0m\u001b[0;34m\u001b[0m\u001b[0m\n\u001b[1;32m    344\u001b[0m \u001b[0;34m\u001b[0m\u001b[0m\n\u001b[0;32m--> 345\u001b[0;31m     \u001b[0;32mreturn\u001b[0m \u001b[0m_VF\u001b[0m\u001b[0;34m.\u001b[0m\u001b[0meinsum\u001b[0m\u001b[0;34m(\u001b[0m\u001b[0mequation\u001b[0m\u001b[0;34m,\u001b[0m \u001b[0moperands\u001b[0m\u001b[0;34m)\u001b[0m  \u001b[0;31m# type: ignore\u001b[0m\u001b[0;34m\u001b[0m\u001b[0;34m\u001b[0m\u001b[0m\n\u001b[0m\u001b[1;32m    346\u001b[0m \u001b[0;34m\u001b[0m\u001b[0m\n\u001b[1;32m    347\u001b[0m \u001b[0;34m\u001b[0m\u001b[0m\n",
      "\u001b[0;31mKeyboardInterrupt\u001b[0m: "
     ]
    }
   ],
   "source": [
    "lossvals = train_models(models, batchsize=10, max_epochs=100)"
   ]
  },
  {
   "cell_type": "code",
   "execution_count": null,
   "metadata": {},
   "outputs": [],
   "source": [
    "# modelhom_loss_values={}\n",
    "# batchsize=35\n",
    "# max_epochs=100\n",
    "# optim_kwargs = dict(lr=0.05)\n",
    "# for model in models:\n",
    "#     loss_values = train(model, X, batchsize=batchsize, plot=False, max_epochs = max_epochs, **optim_kwargs)\n",
    "#     plt.plot(loss_values, label=model.name)\n",
    "#     plt.ylabel('avg loss (NLL)')\n",
    "#     plt.xlabel('Epoch')\n",
    "#     plt.title(f\"dataset: {dataset} (d={d}), bond dim={D}\\n batchsize:{batchsize}, {optim_kwargs}\")\n",
    "#     modelhom_loss_values[\"model.name\"]=loss_values\n",
    "# plt.legend(bbox_to_anchor=(1.05, 1), loc='upper left', borderaxespad=0.)\n",
    "# plt.show()"
   ]
  },
  {
   "source": [
    "## Useful things?"
   ],
   "cell_type": "markdown",
   "metadata": {}
  },
  {
   "cell_type": "code",
   "execution_count": null,
   "metadata": {},
   "outputs": [],
   "source": [
    "class TTrain(nn.Module):\n",
    "    \"\"\"Abstract class for Tensor Train models.  Use instantiating class.\n",
    "\n",
    "    Parameters:\n",
    "        D (int): bond dimension\n",
    "        d (int): physical dimension (number of categories in data)\n",
    "        dtype ([tensor.dtype]): \n",
    "            tensor.float for real, or tensor.cfloat for complex\n",
    "    \"\"\"\n",
    "    def __init__(self, dataset, d, D, dtype, homogeneous=True, verbose=False):\n",
    "        super().__init__()\n",
    "        self.D = D\n",
    "        self.d = d\n",
    "        self.verbose = verbose\n",
    "        self.homogeneous = homogeneous\n",
    "        self.n_datapoints = dataset.shape[0]\n",
    "        self.seqlen = dataset.shape[1]\n",
    "\n",
    "        # choose weight initialization scheme\n",
    "        w_init = torch.ones  # constant at 1\n",
    "        # w_init = self.randomsign_ones  # 1 * +/-(/+j/-j)\n",
    "\n",
    "        # the following are set to nn.Parameters thus are backpropped over\n",
    "        k_core = (d*D*D)**-0.5 \n",
    "        k_vectors = (d)**-0.5\n",
    "        if homogeneous: # initialize single core to be repeated\n",
    "            core = k_core * w_init((d, D, D), dtype=dtype)\n",
    "            #core = torch.randn(d, D, D, dtype=dtype)\n",
    "            self.core = nn.Parameter(core)\n",
    "        else: # initialize seqlen different non-homogeneous cores\n",
    "            core = k_core * w_init((self.seqlen, d, D, D), dtype=dtype)\n",
    "            #core = torch.randn(self.seqlen, d, D, D, dtype=dtype)\n",
    "            self.core = nn.Parameter(core)\n",
    "        left_boundary = k_vectors * w_init(D, dtype=dtype)\n",
    "        #left_boundary = torch.randn(D, dtype=dtype)\n",
    "        self.left_boundary = nn.Parameter(left_boundary)\n",
    "        right_boundary = k_vectors * w_init(D, dtype=dtype)\n",
    "        #right_boundary = torch.randn(D, dtype=dtype)\n",
    "        self.right_boundary = nn.Parameter(right_boundary)\n",
    "\n",
    "    @staticmethod\n",
    "    def randomsign_ones(shape, dtype=torch.float):\n",
    "        \"\"\"Makes a vector of ones with random sign, \n",
    "        or if dtype is torch.cfloat, randomized real or imaginary units\"\"\"\n",
    "        x = torch.zeros(shape)\n",
    "        if dtype==torch.cfloat:\n",
    "            random4=torch.randint_like(x,4)\n",
    "            r = x + 1*(random4==0) - 1*(random4==1) \n",
    "            i = x + 1*(random4==2) - 1*(random4==3)\n",
    "            out = torch.complex(r,i)\n",
    "        else:\n",
    "            random2=torch.randint_like(x,2)\n",
    "            out = x + 1*(random2==0) - 1*(random2==1) \n",
    "        return torch.tensor(out, dtype=dtype)"
   ]
  }
 ],
 "metadata": {
  "kernelspec": {
   "display_name": "Python 3",
   "language": "python",
   "name": "python3"
  },
  "language_info": {
   "codemirror_mode": {
    "name": "ipython",
    "version": 3
   },
   "file_extension": ".py",
   "mimetype": "text/x-python",
   "name": "python",
   "nbconvert_exporter": "python",
   "pygments_lexer": "ipython3",
   "version": "3.8.5-final"
  }
 },
 "nbformat": 4,
 "nbformat_minor": 4
}