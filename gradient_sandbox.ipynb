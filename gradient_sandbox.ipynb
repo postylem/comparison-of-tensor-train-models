{
 "cells": [
  {
   "cell_type": "code",
   "execution_count": 5,
   "metadata": {
    "scrolled": true
   },
   "outputs": [
    {
     "name": "stdout",
     "output_type": "stream",
     "text": [
      "1.8.0.dev20201128\n"
     ]
    }
   ],
   "source": [
    "import torch\n",
    "import torch.nn as nn\n",
    "from torch.utils.data import Dataset, DataLoader\n",
    "from tensornetworks_pytorch.TNModels import PosMPS, Born\n",
    "from tqdm.notebook import tqdm\n",
    "import matplotlib.pyplot as plt\n",
    "\n",
    "print(torch.__version__)"
   ]
  },
  {
   "cell_type": "code",
   "execution_count": 6,
   "metadata": {},
   "outputs": [
    {
     "name": "stdout",
     "output_type": "stream",
     "text": [
      "flare\n",
      "\tdata shape: (1065, 13)\n",
      "\trange of X values: 0 -- 7\n",
      "lymphography\n",
      "\tdata shape: (148, 19)\n",
      "\trange of X values: 0 -- 7\n",
      "spect\n",
      "\tdata shape: (187, 23)\n",
      "\trange of X values: 0 -- 1\n",
      "tumor\n",
      "\tdata shape: (339, 17)\n",
      "\trange of X values: 0 -- 3\n",
      "votes\n",
      "\tdata shape: (435, 17)\n",
      "\trange of X values: 0 -- 2\n"
     ]
    }
   ],
   "source": [
    "### import data\n",
    "import pickle\n",
    "for dataset in [#'biofam',\n",
    "    'flare','lymphography','spect','tumor','votes']:\n",
    "    with open('datasets/'+dataset, 'rb') as f:\n",
    "            a=pickle.load(f)\n",
    "    X=a[0].astype(int)\n",
    "    print(dataset)\n",
    "    print(\"\\tdata shape:\", X.shape)\n",
    "    print(f\"\\trange of X values: {X.min()} -- {X.max()}\")\n",
    "\n",
    "def load_dataset(dataset):\n",
    "    with open('datasets/'+dataset, 'rb') as f:\n",
    "            a=pickle.load(f)\n",
    "    X=a[0]\n",
    "    X=X.astype(int)\n",
    "\n",
    "    print(\"\\tdata shape:\", X.shape)\n",
    "    print(f\"\\trange of X values: {X.min()} -- {X.max()} ==> d={X.max()+1}\")\n",
    "    d = X.max()+1\n",
    "    return X, d"
   ]
  },
  {
   "cell_type": "code",
   "execution_count": 50,
   "metadata": {},
   "outputs": [
    {
     "name": "stdout",
     "output_type": "stream",
     "text": [
      "dataset: lymphography\n",
      "\tdata shape: (148, 19)\n",
      "\trange of X values: 0 -- 7 ==> d=8\n",
      "Initializing models:\n",
      "\ttorch.Size([19, 8, 4, 4]) model type: Born (torch.float32), Non-homogeneous\n",
      "\ttorch.Size([19, 8, 4, 4]) model type: Born (torch.complex64), Non-homogeneous\n",
      "\ttorch.Size([19, 8, 4, 4]) model type: Born (torch.float32), Non-homogeneous + log_stability\n",
      "\ttorch.Size([19, 8, 4, 4]) model type: Born (torch.complex64), Non-homogeneous + log_stability\n",
      "\ttorch.Size([19, 8, 4, 4]) model type: Positive MPS, Non-homogeneous\n",
      "\ttorch.Size([8, 4, 4]) model type: Born (torch.float32), Homogeneous\n",
      "\ttorch.Size([8, 4, 4]) model type: Born (torch.complex64), Homogeneous\n",
      "\ttorch.Size([8, 4, 4]) model type: Born (torch.float32), Homogeneous + log_stability\n",
      "\ttorch.Size([8, 4, 4]) model type: Born (torch.complex64), Homogeneous + log_stability\n",
      "\ttorch.Size([8, 4, 4]) model type: Positive MPS, Homogeneous\n"
     ]
    }
   ],
   "source": [
    "### initialize models\n",
    "dataset = 'lymphography'\n",
    "print(\"dataset:\", dataset)\n",
    "X,d = load_dataset(dataset)\n",
    "\n",
    "D = 4\n",
    "mps      = PosMPS(X, d, D, homogeneous=False)\n",
    "mps_hom  = PosMPS(X, d, D, homogeneous=True)\n",
    "\n",
    "# mps_s    = PosMPS(X, d, D, homogeneous=False, log_stability=True)\n",
    "# mps_s_hom= PosMPS(X, d, D, homogeneous=True, log_stability=True)\n",
    "\n",
    "rBorn      = Born(X, d, D, dtype=torch.float, homogeneous=False, log_stability=False) \n",
    "rBorn_hom  = Born(X, d, D, dtype=torch.float, homogeneous=True, log_stability=False) \n",
    "\n",
    "rBorn_s    = Born(X, d, D, dtype=torch.float, homogeneous=False, log_stability=True) \n",
    "rBorn_s_hom= Born(X, d, D, dtype=torch.float, homogeneous=True, log_stability=True) \n",
    "\n",
    "cBorn      = Born(X, d, D, dtype=torch.cfloat, homogeneous=False, log_stability=False)\n",
    "cBorn_hom  = Born(X, d, D, dtype=torch.cfloat, homogeneous=True, log_stability=False)\n",
    "\n",
    "cBorn_s    = Born(X, d, D, dtype=torch.cfloat, homogeneous=False, log_stability=True)\n",
    "cBorn_s_hom= Born(X, d, D, dtype=torch.cfloat, homogeneous=True, log_stability=True)\n",
    "\n",
    "models     = (\n",
    "    rBorn, cBorn, rBorn_s, cBorn_s, mps#, mps_c\n",
    ")\n",
    "models_hom = (\n",
    "    rBorn_hom, cBorn_hom, rBorn_s_hom, cBorn_s_hom, mps_hom#, mps_c_hom\n",
    ")\n",
    "print(\"Initializing models:\")\n",
    "for model in (*models, *models_hom):\n",
    "    print(f\"\\t{model.core.shape} model type: {model.name}\")\n",
    "    for p in model.parameters():\n",
    "                if torch.isnan(p).any():\n",
    "                    print(\"Model weights contain a NaN value!\")"
   ]
  },
  {
   "cell_type": "code",
   "execution_count": 53,
   "metadata": {},
   "outputs": [],
   "source": [
    "def clip_(grad, clip_val, verbose=False):\n",
    "    if torch.isnan(grad).any():\n",
    "        print(\"│ Hook says: Gradient contains a NaN value!\")\n",
    "    if grad.dtype==torch.cfloat:\n",
    "        for ext, v in [(\"min\", grad.real.min()),(\"max\", grad.real.max())]:\n",
    "            if abs(v) > clip_val:\n",
    "                print(f\"clipping real {ext} {v:.2} to size {clip_val}\")\n",
    "        for ext, v in [(\"min\", grad.imag.min()),(\"max\", grad.imag.max())]:\n",
    "            if abs(v) > clip_val:\n",
    "                print(f\"clipping imag {ext} {1.j*v:.2} to size {clip_val}\")\n",
    "        clipped_grad = torch.complex(grad.real.clamp(-clip_val, clip_val),\n",
    "                                     grad.imag.clamp(-clip_val, clip_val))\n",
    "    else:\n",
    "        for ext, v in [(\"min\", grad.min()),(\"max\", grad.max())]:\n",
    "            if abs(v) > clip_val:\n",
    "                print(f\"clipping {ext} {v:.2} to size {clip_val}\")\n",
    "        clipped_grad = torch.clamp(grad, -clip_val, clip_val)\n",
    "    return clipped_grad\n",
    "\n",
    "def train(self, dataset, batchsize, max_epochs, plot=True, clip=False, **optim_kwargs):\n",
    "    if clip:\n",
    "        clip_val=1\n",
    "        for p in model.parameters():\n",
    "            p.register_hook(lambda grad: clip_(grad, clip_val, verbose=True))\n",
    "    trainloader = DataLoader(dataset, batch_size=batchsize, shuffle=True)\n",
    "    optimizer = torch.optim.SGD(self.parameters(), **optim_kwargs)\n",
    "    early_stopping_threshold = 0.0001 # min difference in epoch loss\n",
    "    loss_values = [] # store by-epoch avg loss values\n",
    "    print('╭───────────────────────────')\n",
    "    print(f\"│Training {self.name}.\")\n",
    "    av_batch_loss_running = -1000\n",
    "    with tqdm(range(max_epochs), leave=True) as tepochs:\n",
    "        for epoch in tepochs:\n",
    "            batch_loss = []\n",
    "            with tqdm(trainloader, unit=\"batch\", leave=False, desc=f\"epoch {epoch}\") as tepoch:\n",
    "                for batch in tepoch:\n",
    "                    for p in self.parameters():\n",
    "                        if torch.isnan(p).any():\n",
    "                            print(\"│ loss values:\", *(f\"{x:.3f}\" for x in loss_values))\n",
    "                            print(\"└────Stopped. After updating, model weights contain a NaN value!\")\n",
    "                            if plot:\n",
    "                                plt.plot(loss_values)\n",
    "                                plt.show()\n",
    "                            return loss_values\n",
    "                    self.zero_grad()\n",
    "                    neglogprob = 0\n",
    "                    for i,x in enumerate(batch):\n",
    "                        out = self(x)\n",
    "                        neglogprob -= out\n",
    "                    loss = neglogprob / len(batch)\n",
    "                    loss.backward()\n",
    "                    for p in self.parameters():\n",
    "                        if torch.isnan(p.grad).any():\n",
    "                            print(\"│ loss values:\", *(f\"{x:.3f}\" for x in loss_values))\n",
    "                            print(\"└────Stopped. Gradient contains a NaN value!\")\n",
    "                            if plot:\n",
    "                                plt.plot(loss_values)\n",
    "                                plt.show()\n",
    "                            return loss_values\n",
    "                    optimizer.step()\n",
    "                    tepoch.set_postfix(loss=loss.item())\n",
    "                    with torch.no_grad():\n",
    "                        batch_loss.append(loss.item())\n",
    "            av_batch_loss = torch.Tensor(batch_loss).mean().item()\n",
    "            #print(f\"ep{epoch} av_batch_loss\\t {av_batch_loss}\")\n",
    "            loss_values.append(av_batch_loss)\n",
    "            tepochs.set_postfix(av_batch_loss=av_batch_loss)\n",
    "            if abs(av_batch_loss_running - av_batch_loss) < early_stopping_threshold:\n",
    "                print(\"└────Early stopping.\")\n",
    "                break\n",
    "            av_batch_loss_running = av_batch_loss\n",
    "    print(\"│ loss values:\", *(f\"{x:.3f}\" for x in loss_values))\n",
    "    if plot:\n",
    "        plt.plot(loss_values)\n",
    "        plt.show()\n",
    "    print('╰────────Finished─training──\\n')\n",
    "    return loss_values"
   ]
  },
  {
   "cell_type": "code",
   "execution_count": 54,
   "metadata": {},
   "outputs": [
    {
     "name": "stdout",
     "output_type": "stream",
     "text": [
      "╭───────────────────────────\n",
      "│Training Born (torch.complex64), Non-homogeneous + log_stability.\n"
     ]
    },
    {
     "data": {
      "application/vnd.jupyter.widget-view+json": {
       "model_id": "b733aee61f2448798b3b9ac2b818ce18",
       "version_major": 2,
       "version_minor": 0
      },
      "text/plain": [
       "HBox(children=(HTML(value=''), FloatProgress(value=0.0, max=5.0), HTML(value='')))"
      ]
     },
     "metadata": {},
     "output_type": "display_data"
    },
    {
     "data": {
      "application/vnd.jupyter.widget-view+json": {
       "model_id": "44a6408c406541aab824abbb1436b437",
       "version_major": 2,
       "version_minor": 0
      },
      "text/plain": [
       "HBox(children=(HTML(value='epoch 0'), FloatProgress(value=0.0, max=3.0), HTML(value='')))"
      ]
     },
     "metadata": {},
     "output_type": "display_data"
    },
    {
     "name": "stdout",
     "output_type": "stream",
     "text": [
      "│ Hook says: Gradient contains a NaN value!\n",
      "│ Hook says: Gradient contains a NaN value!\n",
      "│ Hook says: Gradient contains a NaN value!\n",
      "│ Hook says: Gradient contains a NaN value!\n",
      "│ Hook says: Gradient contains a NaN value!\n",
      "│ Hook says: Gradient contains a NaN value!\n",
      "│ loss values:\n",
      "└────Stopped. Gradient contains a NaN value!\n",
      "\n"
     ]
    },
    {
     "data": {
      "image/png": "[encoded data removed]",
      "text/plain": [
       "<Figure size 432x288 with 1 Axes>"
      ]
     },
     "metadata": {
      "needs_background": "light"
     },
     "output_type": "display_data"
    }
   ],
   "source": [
    "modelhom_loss_values={}\n",
    "for model in [cBorn_s]:\n",
    "    loss_values = train(model, X, batchsize=70, plot=False, clip=True, max_epochs = 5, lr=0.1)\n",
    "    plt.plot(loss_values, label=model.name)\n",
    "    plt.ylabel('avg loss (NLL)')\n",
    "    plt.xlabel('Epoch')\n",
    "    plt.title(f\"dataset: {dataset} (d={d}), bond dim={D}\")\n",
    "    modelhom_loss_values[\"model.name\"]=loss_values\n",
    "plt.legend(bbox_to_anchor=(1.05, 1), loc='upper left', borderaxespad=0.)\n",
    "plt.show()"
   ]
  },
  {
   "cell_type": "code",
   "execution_count": null,
   "metadata": {},
   "outputs": [],
   "source": []
  },
  {
   "cell_type": "code",
   "execution_count": null,
   "metadata": {},
   "outputs": [],
   "source": [
    "modelhom_loss_values={}\n",
    "for model in models_hom:\n",
    "    loss_values = train(model, X, batchsize=35, plot=False, clip=True, max_epochs = 100, lr=0.1)\n",
    "    plt.plot(loss_values, label=model.name)\n",
    "    plt.ylabel('avg loss (NLL)')\n",
    "    plt.xlabel('Epoch')\n",
    "    plt.title(f\"dataset: {dataset} (d={d}), bond dim={D}\")\n",
    "    modelhom_loss_values[\"model.name\"]=loss_values\n",
    "plt.legend(bbox_to_anchor=(1.05, 1), loc='upper left', borderaxespad=0.)\n",
    "plt.show()"
   ]
  },
  {
   "cell_type": "code",
   "execution_count": null,
   "metadata": {},
   "outputs": [],
   "source": [
    "model_loss_values={}\n",
    "for model in models:\n",
    "    loss_values = train(model, X, batchsize=30, plot=False, clip=False, max_epochs = 100, lr=0.1)\n",
    "    plt.plot(loss_values, label=model.name)\n",
    "    plt.ylabel('avg loss (NLL)')\n",
    "    plt.xlabel('Epoch')\n",
    "    plt.title(f\"dataset: {dataset} (d={d}), bond dim={D}\")\n",
    "    model_loss_values[\"model.name\"]=loss_values\n",
    "plt.legend(bbox_to_anchor=(1.05, 1), loc='upper left', borderaxespad=0.)\n",
    "plt.show()"
   ]
  }
 ],
 "metadata": {
  "kernelspec": {
   "display_name": "Python 3",
   "language": "python",
   "name": "python3"
  },
  "language_info": {
   "codemirror_mode": {
    "name": "ipython",
    "version": 3
   },
   "file_extension": ".py",
   "mimetype": "text/x-python",
   "name": "python",
   "nbconvert_exporter": "python",
   "pygments_lexer": "ipython3",
   "version": "3.8.5"
  }
 },
 "nbformat": 4,
 "nbformat_minor": 4
}
