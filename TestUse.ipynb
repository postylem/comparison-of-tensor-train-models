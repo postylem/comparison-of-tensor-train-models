{
 "cells": [
  {
   "cell_type": "code",
   "execution_count": 23,
   "metadata": {},
   "outputs": [],
   "source": [
    "from tensornetworks_pytorch_combined.TNModels import PositiveMPS"
   ]
  },
  {
   "cell_type": "code",
   "execution_count": 24,
   "metadata": {},
   "outputs": [],
   "source": [
    "mps = PositiveMPS(D=2, d=8, verbose=True) "
   ]
  },
  {
   "cell_type": "code",
   "execution_count": 25,
   "metadata": {},
   "outputs": [
    {
     "data": {
      "text/plain": [
       "Parameter containing:\n",
       "tensor([0.8291, 0.3473], requires_grad=True)"
      ]
     },
     "execution_count": 25,
     "metadata": {},
     "output_type": "execute_result"
    }
   ],
   "source": [
    "list(mps.parameters())[1]"
   ]
  },
  {
   "cell_type": "code",
   "execution_count": 26,
   "metadata": {
    "scrolled": true
   },
   "outputs": [
    {
     "data": {
      "text/plain": [
       "tensor([0.6873, 0.1206], grad_fn=<PowBackward0>)"
      ]
     },
     "execution_count": 26,
     "metadata": {},
     "output_type": "execute_result"
    }
   ],
   "source": [
    "mps.left_boundary.square()"
   ]
  },
  {
   "cell_type": "code",
   "execution_count": null,
   "metadata": {},
   "outputs": [],
   "source": []
  },
  {
   "cell_type": "code",
   "execution_count": null,
   "metadata": {},
   "outputs": [],
   "source": []
  },
  {
   "cell_type": "code",
   "execution_count": null,
   "metadata": {},
   "outputs": [],
   "source": []
  },
  {
   "cell_type": "code",
   "execution_count": 27,
   "metadata": {},
   "outputs": [
    {
     "data": {
      "text/plain": [
       "7"
      ]
     },
     "execution_count": 27,
     "metadata": {},
     "output_type": "execute_result"
    }
   ],
   "source": [
    "import pickle\n",
    "with open('datasets/lymphography', 'rb') as f:\n",
    "        a=pickle.load(f)\n",
    "X=a[0]\n",
    "X=X.astype(int)\n",
    "X.max()"
   ]
  },
  {
   "cell_type": "code",
   "execution_count": 28,
   "metadata": {},
   "outputs": [
    {
     "data": {
      "text/plain": [
       "array([2, 1, 0, 0, 0, 0, 0, 0, 1, 0, 1, 1, 1, 1, 7, 1, 1, 1, 0])"
      ]
     },
     "execution_count": 28,
     "metadata": {},
     "output_type": "execute_result"
    }
   ],
   "source": [
    "X[0]"
   ]
  },
  {
   "cell_type": "code",
   "execution_count": 29,
   "metadata": {},
   "outputs": [
    {
     "data": {
      "text/plain": [
       "Parameter containing:\n",
       "tensor([[[0.3596, 0.3825],\n",
       "         [0.9683, 0.5052]],\n",
       "\n",
       "        [[0.2094, 0.0043],\n",
       "         [0.3804, 0.2234]],\n",
       "\n",
       "        [[0.6246, 0.7292],\n",
       "         [0.2009, 0.5606]],\n",
       "\n",
       "        [[0.7877, 0.7825],\n",
       "         [0.5487, 0.8190]],\n",
       "\n",
       "        [[0.1318, 0.2099],\n",
       "         [0.9837, 0.9408]],\n",
       "\n",
       "        [[0.0845, 0.4612],\n",
       "         [0.9105, 0.6327]],\n",
       "\n",
       "        [[0.5864, 0.2244],\n",
       "         [0.5390, 0.6834]],\n",
       "\n",
       "        [[0.1026, 0.8979],\n",
       "         [0.7956, 0.2924]]], requires_grad=True)"
      ]
     },
     "execution_count": 29,
     "metadata": {},
     "output_type": "execute_result"
    }
   ],
   "source": [
    "mps.fit(X, 8)\n",
    "mps.core"
   ]
  },
  {
   "cell_type": "code",
   "execution_count": 30,
   "metadata": {},
   "outputs": [
    {
     "name": "stdout",
     "output_type": "stream",
     "text": [
      "n_features 19\n",
      "norm tensor(1.1399e+17, grad_fn=<ViewBackward>)\n",
      "prob0 tensor(7.2120e-13, grad_fn=<ViewBackward>)\n"
     ]
    }
   ],
   "source": [
    "print(\"n_features\", mps.n_features)\n",
    "print(\"norm\", mps.norm)\n",
    "print(\"prob0\",mps.probability0)"
   ]
  },
  {
   "cell_type": "code",
   "execution_count": 31,
   "metadata": {},
   "outputs": [
    {
     "data": {
      "text/plain": [
       "tensor([[[0.3596, 0.3825],\n",
       "         [0.9683, 0.5052]],\n",
       "\n",
       "        [[0.2094, 0.0043],\n",
       "         [0.3804, 0.2234]],\n",
       "\n",
       "        [[0.6246, 0.7292],\n",
       "         [0.2009, 0.5606]],\n",
       "\n",
       "        [[0.7877, 0.7825],\n",
       "         [0.5487, 0.8190]],\n",
       "\n",
       "        [[0.1318, 0.2099],\n",
       "         [0.9837, 0.9408]],\n",
       "\n",
       "        [[0.0845, 0.4612],\n",
       "         [0.9105, 0.6327]],\n",
       "\n",
       "        [[0.5864, 0.2244],\n",
       "         [0.5390, 0.6834]],\n",
       "\n",
       "        [[0.1026, 0.8979],\n",
       "         [0.7956, 0.2924]]], grad_fn=<AbsBackward>)"
      ]
     },
     "execution_count": 31,
     "metadata": {},
     "output_type": "execute_result"
    }
   ],
   "source": [
    "mps.core.abs()"
   ]
  },
  {
   "cell_type": "code",
   "execution_count": null,
   "metadata": {},
   "outputs": [],
   "source": []
  }
 ],
 "metadata": {
  "kernelspec": {
   "display_name": "Python 3",
   "language": "python",
   "name": "python3"
  },
  "language_info": {
   "codemirror_mode": {
    "name": "ipython",
    "version": 3
   },
   "file_extension": ".py",
   "mimetype": "text/x-python",
   "name": "python",
   "nbconvert_exporter": "python",
   "pygments_lexer": "ipython3",
   "version": "3.7.7"
  },
  "toc": {
   "base_numbering": 1,
   "nav_menu": {},
   "number_sections": true,
   "sideBar": true,
   "skip_h1_title": false,
   "title_cell": "Table of Contents",
   "title_sidebar": "Contents",
   "toc_cell": false,
   "toc_position": {},
   "toc_section_display": true,
   "toc_window_display": false
  },
  "varInspector": {
   "cols": {
    "lenName": 16,
    "lenType": 16,
    "lenVar": 40
   },
   "kernels_config": {
    "python": {
     "delete_cmd_postfix": "",
     "delete_cmd_prefix": "del ",
     "library": "var_list.py",
     "varRefreshCmd": "print(var_dic_list())"
    },
    "r": {
     "delete_cmd_postfix": ") ",
     "delete_cmd_prefix": "rm(",
     "library": "var_list.r",
     "varRefreshCmd": "cat(var_dic_list()) "
    }
   },
   "types_to_exclude": [
    "module",
    "function",
    "builtin_function_or_method",
    "instance",
    "_Feature"
   ],
   "window_display": false
  }
 },
 "nbformat": 4,
 "nbformat_minor": 4
}
