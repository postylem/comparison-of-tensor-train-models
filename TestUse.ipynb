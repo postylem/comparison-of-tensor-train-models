{
 "cells": [
  {
   "cell_type": "code",
   "execution_count": 28,
   "metadata": {},
   "outputs": [
    {
     "name": "stdout",
     "output_type": "stream",
     "text": [
      "1.8.0.dev20201128\n"
     ]
    }
   ],
   "source": [
    "import torch\n",
    "import torch.nn as nn\n",
    "from torch.utils.data import Dataset, DataLoader\n",
    "from tensornetworks_pytorch.TNModels import PosMPS, Born\n",
    "from tqdm.notebook import tqdm\n",
    "\n",
    "print(torch.__version__)"
   ]
  },
  {
   "cell_type": "markdown",
   "metadata": {},
   "source": [
    "Use some data"
   ]
  },
  {
   "cell_type": "code",
   "execution_count": 29,
   "metadata": {
    "scrolled": true
   },
   "outputs": [
    {
     "name": "stdout",
     "output_type": "stream",
     "text": [
      "flare\n",
      "\tdata shape: (1065, 13)\n",
      "\trange of X values: 0 -- 7\n",
      "lymphography\n",
      "\tdata shape: (148, 19)\n",
      "\trange of X values: 0 -- 7\n",
      "spect\n",
      "\tdata shape: (187, 23)\n",
      "\trange of X values: 0 -- 1\n",
      "tumor\n",
      "\tdata shape: (339, 17)\n",
      "\trange of X values: 0 -- 3\n",
      "votes\n",
      "\tdata shape: (435, 17)\n",
      "\trange of X values: 0 -- 2\n"
     ]
    }
   ],
   "source": [
    "import pickle\n",
    "for dataset in [#'biofam',\n",
    "    'flare','lymphography','spect','tumor','votes']:\n",
    "    with open('datasets/'+dataset, 'rb') as f:\n",
    "            a=pickle.load(f)\n",
    "    X=a[0].astype(int)\n",
    "    print(dataset)\n",
    "    print(\"\\tdata shape:\", X.shape)\n",
    "    print(f\"\\trange of X values: {X.min()} -- {X.max()}\")\n",
    "\n",
    "def load_dataset(dataset):\n",
    "    with open('datasets/'+dataset, 'rb') as f:\n",
    "            a=pickle.load(f)\n",
    "    X=a[0]\n",
    "    X=X.astype(int)\n",
    "\n",
    "    print(\"data shape:\", X.shape)\n",
    "    print(f\"range of X values: {X.min()} -- {X.max()}\")\n",
    "    print(f\"setting d={X.max()+1}\")\n",
    "    d = X.max()+1\n",
    "    return X, d"
   ]
  },
  {
   "cell_type": "code",
   "execution_count": 30,
   "metadata": {},
   "outputs": [
    {
     "name": "stdout",
     "output_type": "stream",
     "text": [
      "data shape: (1065, 13)\n",
      "range of X values: 0 -- 7\n",
      "setting d=8\n"
     ]
    }
   ],
   "source": [
    "X,d = load_dataset('flare')"
   ]
  },
  {
   "cell_type": "code",
   "execution_count": 31,
   "metadata": {},
   "outputs": [
    {
     "name": "stdout",
     "output_type": "stream",
     "text": [
      "torch.Size([13, 8, 4, 4]) model type: Born (torch.float32), Non-homogeneous\n",
      "torch.Size([13, 8, 4, 4]) model type: Born (torch.complex64), Non-homogeneous\n",
      "torch.Size([13, 8, 4, 4]) model type: Born (torch.float32), Non-homogeneous + log_stability\n",
      "torch.Size([13, 8, 4, 4]) model type: Born (torch.complex64), Non-homogeneous + log_stability\n",
      "torch.Size([13, 8, 4, 4]) model type: Positive MPS, Non-homogeneous\n",
      "torch.Size([8, 4, 4]) model type: Born (torch.float32), Homogeneous\n",
      "torch.Size([8, 4, 4]) model type: Born (torch.complex64), Homogeneous\n",
      "torch.Size([8, 4, 4]) model type: Born (torch.float32), Homogeneous + log_stability\n",
      "torch.Size([8, 4, 4]) model type: Born (torch.complex64), Homogeneous + log_stability\n",
      "torch.Size([8, 4, 4]) model type: Positive MPS, Homogeneous\n"
     ]
    }
   ],
   "source": [
    "D = 4\n",
    "mps       = PosMPS(X, d, D, homogeneous=False)\n",
    "mps_hom   = PosMPS(X, d, D, homogeneous=True)\n",
    "\n",
    "rBorn     = Born(X, d, D, dtype=torch.float, homogeneous=False, log_stability=False) \n",
    "rBorn_hom = Born(X, d, D, dtype=torch.float, homogeneous=True, log_stability=False) \n",
    "\n",
    "cBorn     = Born(X, d, D, dtype=torch.cfloat, homogeneous=False, log_stability=False)\n",
    "cBorn_hom = Born(X, d, D, dtype=torch.cfloat, homogeneous=True, log_stability=False)\n",
    "\n",
    "rBorn_s   = Born(X, d, D, dtype=torch.float, homogeneous=False, log_stability=True) \n",
    "rBorn_s_hom = Born(X, d, D, dtype=torch.float, homogeneous=True, log_stability=True) \n",
    "\n",
    "cBorn_s   = Born(X, d, D, dtype=torch.cfloat, homogeneous=False, log_stability=True)\n",
    "cBorn_s_hom = Born(X, d, D, dtype=torch.cfloat, homogeneous=True, log_stability=True)\n",
    "\n",
    "models     = (rBorn, cBorn, rBorn_s, cBorn_s, mps)\n",
    "models_hom = (rBorn_hom, cBorn_hom, rBorn_s_hom, cBorn_s_hom, mps_hom)\n",
    "for model in (*models, *models_hom):\n",
    "    print(model.core.shape, \"model type:\", model.name)\n",
    "    for p in model.parameters():\n",
    "                if torch.isnan(p).any():\n",
    "                    print(\"Model weights contain a NaN value!\")"
   ]
  },
  {
   "cell_type": "code",
   "execution_count": 32,
   "metadata": {},
   "outputs": [],
   "source": [
    "import matplotlib.pyplot as plt\n",
    "def train(self, dataset, batchsize, max_epochs, plot=True, **optim_kwargs):\n",
    "    trainloader = DataLoader(dataset, batch_size=batchsize, shuffle=True)\n",
    "    optimizer = torch.optim.SGD(self.parameters(), **optim_kwargs)\n",
    "    loss_values = [] # to plot\n",
    "    print('/¯¯¯¯¯¯¯¯¯¯¯¯¯¯¯¯¯¯¯¯¯\\n')\n",
    "    print(f\"Training {self.name}.\")\n",
    "    av_batch_loss_running = -1000\n",
    "    for epoch in tqdm(range(max_epochs), leave=True):\n",
    "#         print(\"epoch\", epoch)\n",
    "        batch_loss = []\n",
    "        for batch_idx, batch in enumerate(trainloader):\n",
    "#             print(list(self.parameters()))\n",
    "            for p in self.parameters():\n",
    "                if torch.isnan(p).any():\n",
    "                    print(\"Model weights contain a NaN value!\")\n",
    "                    if plot:\n",
    "                        plt.plot(loss_values)\n",
    "                        plt.show()\n",
    "                    return loss_values\n",
    "            self.zero_grad()\n",
    "            neglogprob = 0\n",
    "            for i,x in enumerate(batch):\n",
    "                out = self(x)\n",
    "    #             print(i, out)\n",
    "                neglogprob -= out\n",
    "    #             print(\"out\",out)\n",
    "            loss = neglogprob / len(batch)\n",
    "    #         print(\"core befor\\n\",self.core[0][0])\n",
    "    #         if batch_idx>0:\n",
    "    #             print(\"\\tgrad:\",self.core.grad[0,0])\n",
    "            loss.backward()\n",
    "    #         print(\"backward.\")\n",
    "#             print(\"\\tgrad:\",self.core.grad[0,0])\n",
    "            optimizer.step()\n",
    "    #         print(\"optimize\\n\",self.core[0][0])\n",
    "    #         print(\"\\tgrad:\",self.core.grad[0,0])\n",
    "            with torch.no_grad():\n",
    "                batch_loss.append(loss.item())\n",
    "#                 n=5\n",
    "#                 if batch_idx % n == 0: # print every nth batch loss\n",
    "#                     print(\"\\tbatch\", batch_idx, \"size\", len(batch), \"loss\", loss.item())\n",
    "        av_batch_loss = torch.Tensor(batch_loss).mean().item()\n",
    "#         print(f\"ep{epoch} av_batch_loss\\t {av_batch_loss}\")\n",
    "        loss_values.append(av_batch_loss)\n",
    "        if abs(av_batch_loss_running - av_batch_loss) < .0001:\n",
    "            print(\"Early stopping\")\n",
    "            break\n",
    "        av_batch_loss_running = av_batch_loss\n",
    "    print(\"loss_values\", loss_values)\n",
    "    if plot:\n",
    "        plt.plot(loss_values)\n",
    "        plt.show()\n",
    "    print('\\_____Finished_training_____\\n')\n",
    "    return loss_values\n",
    "\n",
    "# train(rBorn, X, batchsize=30, max_epochs = 10, lr=0.1)"
   ]
  },
  {
   "cell_type": "code",
   "execution_count": null,
   "metadata": {},
   "outputs": [],
   "source": []
  },
  {
   "cell_type": "code",
   "execution_count": null,
   "metadata": {},
   "outputs": [
    {
     "name": "stdout",
     "output_type": "stream",
     "text": [
      "/¯¯¯¯¯¯¯¯¯¯¯¯¯¯¯¯¯¯¯¯¯\n",
      "\n",
      "Training Born (torch.float32), Homogeneous.\n"
     ]
    },
    {
     "data": {
      "application/vnd.jupyter.widget-view+json": {
       "model_id": "d5450673468343608874472b707a62f8",
       "version_major": 2,
       "version_minor": 0
      },
      "text/plain": [
       "HBox(children=(HTML(value=''), FloatProgress(value=0.0, max=60.0), HTML(value='')))"
      ]
     },
     "metadata": {},
     "output_type": "display_data"
    }
   ],
   "source": [
    "model_loss_values={}\n",
    "for model in models_hom:\n",
    "    loss_values = train(model, X, batchsize=30, plot=False, max_epochs = 60, lr=0.05)\n",
    "    plt.plot(loss_values, label=model.name)\n",
    "    model_loss_values[\"model.name\"]=loss_values\n",
    "plt.legend(bbox_to_anchor=(1.05, 1), loc='upper left', borderaxespad=0.)\n",
    "plt.show()"
   ]
  },
  {
   "cell_type": "code",
   "execution_count": null,
   "metadata": {},
   "outputs": [],
   "source": [
    "model_loss_values={}\n",
    "for model in models:\n",
    "    loss_values = train(model, X, batchsize=30, plot=False, max_epochs = 60, lr=0.05)\n",
    "    plt.plot(loss_values, label=model.name)\n",
    "    model_loss_values[\"model.name\"]=loss_values\n",
    "plt.legend(bbox_to_anchor=(1.05, 1), loc='upper left', borderaxespad=0.)\n",
    "plt.show()"
   ]
  },
  {
   "cell_type": "markdown",
   "metadata": {},
   "source": []
  },
  {
   "cell_type": "code",
   "execution_count": 19,
   "metadata": {},
   "outputs": [],
   "source": []
  },
  {
   "cell_type": "code",
   "execution_count": 57,
   "metadata": {},
   "outputs": [
    {
     "name": "stdout",
     "output_type": "stream",
     "text": [
      "z:\n",
      "tensor([[1.+3.j, 2.+4.j],\n",
      "        [2.+1.j, 1.+2.j]], requires_grad=True)\n",
      "\n",
      "loss grad_fn:\n",
      "<AbsBackward object at 0x7f9c28fef6d0>\n",
      "\n",
      "z.grad:\n",
      "tensor([[103476.6328-38667.7930j, 224180.9375+59425.4219j],\n",
      "        [219980.8125-67495.4922j, 105286.0781+37877.9062j]])\n",
      "\n",
      "tensor(231923.4219)\n",
      "tensor(342388.8438)\n",
      "tensor(231923.4219)\n",
      "tensor(231923.4219)\n"
     ]
    }
   ],
   "source": [
    "# testing complex functions\n",
    "real = torch.tensor([[1, 2],[2, 1]], dtype=torch.float32)\n",
    "imag = torch.tensor([[3, 4],[1, 2]], dtype=torch.float32)\n",
    "z = torch.complex(real, imag)\n",
    "# z = torch.randn(2,2, dtype=torch.cfloat)\n",
    "z.requires_grad=True\n",
    "b = (2.7j*z + 3.4*z + 18)\n",
    "L = torch.einsum('ij,ji,ij,ji->',b,b,b,b).abs()\n",
    "L.backward()\n",
    "\n",
    "print(\"z:\\n\",z,'\\n', sep='')\n",
    "print(\"loss grad_fn:\\n\", L.grad_fn,'\\n', sep='')\n",
    "print(\"z.grad:\\n\", z.grad,'\\n', sep='')\n",
    "\n",
    "def infnorm(tensor):\n",
    "#     return torch.max(torch.sum(abs(tensor), dim=-1))\n",
    "    print(tensor.abs().max())\n",
    "    return torch.linalg.norm(tensor, ord=float('inf')).real\n",
    "\n",
    "norm = infnorm\n",
    "print(norm(z.grad))\n",
    "print(norm(z.grad[0]))"
   ]
  },
  {
   "cell_type": "code",
   "execution_count": 20,
   "metadata": {},
   "outputs": [
    {
     "name": "stdout",
     "output_type": "stream",
     "text": [
      "tensor(7.6344+0.j, grad_fn=<CopyBackwards>)\n",
      "tensor(7.6344, grad_fn=<MaxBackward1>)\n"
     ]
    }
   ],
   "source": [
    "print(matnorm(z))\n",
    "print(torch.max(torch.sum(abs(z), dim=1)))"
   ]
  },
  {
   "cell_type": "code",
   "execution_count": 145,
   "metadata": {},
   "outputs": [
    {
     "data": {
      "text/plain": [
       "tensor(1.1485-0.0851j)"
      ]
     },
     "execution_count": 145,
     "metadata": {},
     "output_type": "execute_result"
    }
   ],
   "source": [
    "((D*D*d)**(-0.5)*torch.randn(d, D, D, dtype=torch.cfloat)).sum()"
   ]
  },
  {
   "cell_type": "code",
   "execution_count": 60,
   "metadata": {},
   "outputs": [
    {
     "data": {
      "image/png": "[encoded data removed]",
      "text/plain": [
       "<Figure size 432x288 with 1 Axes>"
      ]
     },
     "metadata": {
      "needs_background": "light"
     },
     "output_type": "display_data"
    }
   ],
   "source": []
  },
  {
   "cell_type": "code",
   "execution_count": null,
   "metadata": {},
   "outputs": [],
   "source": []
  },
  {
   "cell_type": "code",
   "execution_count": 11,
   "metadata": {},
   "outputs": [
    {
     "data": {
      "text/plain": [
       "tensor([-1.2039-1.3208j,  0.4049+0.5211j, -0.2646-0.9657j, -0.5759-0.1643j])"
      ]
     },
     "execution_count": 11,
     "metadata": {},
     "output_type": "execute_result"
    }
   ],
   "source": [
    "torch.randn(D, dtype=torch.cfloat)"
   ]
  },
  {
   "cell_type": "code",
   "execution_count": 9,
   "metadata": {},
   "outputs": [],
   "source": [
    "# nn.Parameter(torch.randn((d, D, D), dtype=torch.cfloat))"
   ]
  },
  {
   "cell_type": "code",
   "execution_count": null,
   "metadata": {},
   "outputs": [],
   "source": []
  },
  {
   "cell_type": "code",
   "execution_count": null,
   "metadata": {},
   "outputs": [],
   "source": []
  }
 ],
 "metadata": {
  "kernelspec": {
   "display_name": "Python 3",
   "language": "python",
   "name": "python3"
  },
  "language_info": {
   "codemirror_mode": {
    "name": "ipython",
    "version": 3
   },
   "file_extension": ".py",
   "mimetype": "text/x-python",
   "name": "python",
   "nbconvert_exporter": "python",
   "pygments_lexer": "ipython3",
   "version": "3.8.5"
  },
  "toc": {
   "base_numbering": 1,
   "nav_menu": {},
   "number_sections": true,
   "sideBar": true,
   "skip_h1_title": false,
   "title_cell": "Table of Contents",
   "title_sidebar": "Contents",
   "toc_cell": false,
   "toc_position": {},
   "toc_section_display": true,
   "toc_window_display": false
  },
  "varInspector": {
   "cols": {
    "lenName": 16,
    "lenType": 16,
    "lenVar": 40
   },
   "kernels_config": {
    "python": {
     "delete_cmd_postfix": "",
     "delete_cmd_prefix": "del ",
     "library": "var_list.py",
     "varRefreshCmd": "print(var_dic_list())"
    },
    "r": {
     "delete_cmd_postfix": ") ",
     "delete_cmd_prefix": "rm(",
     "library": "var_list.r",
     "varRefreshCmd": "cat(var_dic_list()) "
    }
   },
   "types_to_exclude": [
    "module",
    "function",
    "builtin_function_or_method",
    "instance",
    "_Feature"
   ],
   "window_display": false
  }
 },
 "nbformat": 4,
 "nbformat_minor": 4
}
