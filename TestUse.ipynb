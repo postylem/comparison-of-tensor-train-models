{
 "cells": [
  {
   "cell_type": "code",
   "execution_count": 7,
   "metadata": {},
   "outputs": [
    {
     "name": "stdout",
     "output_type": "stream",
     "text": [
      "1.8.0.dev20201128\n"
     ]
    }
   ],
   "source": [
    "import torch\n",
    "import torch.nn as nn\n",
    "from torch.utils.data import Dataset, DataLoader\n",
    "from tensornetworks_pytorch.TNModels import PosMPS, Born\n",
    "print(torch.__version__)"
   ]
  },
  {
   "cell_type": "markdown",
   "metadata": {},
   "source": [
    "Use some data"
   ]
  },
  {
   "cell_type": "code",
   "execution_count": 27,
   "metadata": {
    "scrolled": true
   },
   "outputs": [
    {
     "name": "stdout",
     "output_type": "stream",
     "text": [
      "flare\n",
      "\tdata shape: (1065, 13)\n",
      "\trange of X values: 0 -- 7\n",
      "lymphography\n",
      "\tdata shape: (148, 19)\n",
      "\trange of X values: 0 -- 7\n",
      "spect\n",
      "\tdata shape: (187, 23)\n",
      "\trange of X values: 0 -- 1\n",
      "tumor\n",
      "\tdata shape: (339, 17)\n",
      "\trange of X values: 0 -- 3\n",
      "votes\n",
      "\tdata shape: (435, 17)\n",
      "\trange of X values: 0 -- 2\n"
     ]
    }
   ],
   "source": [
    "import pickle\n",
    "for dataset in [#'biofam',\n",
    "    'flare','lymphography','spect','tumor','votes']:\n",
    "    with open('datasets/'+dataset, 'rb') as f:\n",
    "            a=pickle.load(f)\n",
    "    X=a[0].astype(int)\n",
    "    print(dataset)\n",
    "    print(\"\\tdata shape:\", X.shape)\n",
    "    print(f\"\\trange of X values: {X.min()} -- {X.max()}\")\n",
    "\n",
    "def load_dataset(dataset):\n",
    "    with open('datasets/flare', 'rb') as f:\n",
    "            a=pickle.load(f)\n",
    "    X=a[0]\n",
    "    X=X.astype(int)\n",
    "\n",
    "    print(\"data shape:\", X.shape)\n",
    "    print(f\"range of X values: {X.min()} -- {X.max()}\")\n",
    "    print(f\"setting d={X.max()+1}\")\n",
    "    d = X.max()+1\n",
    "    return X, d"
   ]
  },
  {
   "cell_type": "code",
   "execution_count": 28,
   "metadata": {},
   "outputs": [
    {
     "name": "stdout",
     "output_type": "stream",
     "text": [
      "data shape: (1065, 13)\n",
      "range of X values: 0 -- 7\n",
      "setting d=8\n"
     ]
    }
   ],
   "source": [
    "X,d = load_dataset('flare')"
   ]
  },
  {
   "cell_type": "code",
   "execution_count": 29,
   "metadata": {},
   "outputs": [
    {
     "name": "stdout",
     "output_type": "stream",
     "text": [
      "torch.Size([8, 5, 5]) Positive MPS\n",
      "torch.Size([8, 5, 5]) Born model torch.float32\n",
      "torch.Size([8, 5, 5]) Born model torch.complex64\n",
      "===\n"
     ]
    }
   ],
   "source": [
    "D = 5\n",
    "mps = PosMPS(D=D, d=d, verbose=True)\n",
    "rBorn = Born(D=D, d=d, dtype=torch.float, verbose=True) \n",
    "cBorn = Born(D=D, d=d, dtype=torch.cfloat, verbose=True)\n",
    "models = (mps, rBorn, cBorn)\n",
    "for model in models:\n",
    "    print(model.core.shape, model.name)\n",
    "print(\"===\")\n",
    "for model in models:\n",
    "    model.fit(X, d)"
   ]
  },
  {
   "cell_type": "code",
   "execution_count": 31,
   "metadata": {},
   "outputs": [
    {
     "name": "stdout",
     "output_type": "stream",
     "text": [
      "0 \tavg neglogprob: tensor(25.9563, grad_fn=<DivBackward0>)\n",
      "1 \tavg neglogprob: tensor(23.4080, grad_fn=<DivBackward0>)\n",
      "2 \tavg neglogprob: tensor(22.1375, grad_fn=<DivBackward0>)\n",
      "3 \tavg neglogprob: tensor(20.3562, grad_fn=<DivBackward0>)\n",
      "4 \tavg neglogprob: tensor(19.9637, grad_fn=<DivBackward0>)\n",
      "5 \tavg neglogprob: tensor(18.7402, grad_fn=<DivBackward0>)\n",
      "6 \tavg neglogprob: tensor(17.6213, grad_fn=<DivBackward0>)\n",
      "7 \tavg neglogprob: tensor(17.1146, grad_fn=<DivBackward0>)\n",
      "8 \tavg neglogprob: tensor(17.0139, grad_fn=<DivBackward0>)\n",
      "9 \tavg neglogprob: tensor(17.2552, grad_fn=<DivBackward0>)\n",
      "10 \tavg neglogprob: tensor(16.6378, grad_fn=<DivBackward0>)\n",
      "11 \tavg neglogprob: tensor(16.1905, grad_fn=<DivBackward0>)\n",
      "12 \tavg neglogprob: tensor(16.2000, grad_fn=<DivBackward0>)\n",
      "13 \tavg neglogprob: tensor(16.2584, grad_fn=<DivBackward0>)\n",
      "14 \tavg neglogprob: tensor(15.7872, grad_fn=<DivBackward0>)\n",
      "15 \tavg neglogprob: tensor(15.6444, grad_fn=<DivBackward0>)\n",
      "16 \tavg neglogprob: tensor(15.5446, grad_fn=<DivBackward0>)\n",
      "17 \tavg neglogprob: tensor(15.0532, grad_fn=<DivBackward0>)\n",
      "18 \tavg neglogprob: tensor(15.1999, grad_fn=<DivBackward0>)\n",
      "19 \tavg neglogprob: tensor(14.4737, grad_fn=<DivBackward0>)\n",
      "20 \tavg neglogprob: tensor(14.6974, grad_fn=<DivBackward0>)\n",
      "21 \tavg neglogprob: tensor(15.2568, grad_fn=<DivBackward0>)\n",
      "22 \tavg neglogprob: tensor(14.2832, grad_fn=<DivBackward0>)\n",
      "23 \tavg neglogprob: tensor(14.8428, grad_fn=<DivBackward0>)\n",
      "24 \tavg neglogprob: tensor(15.2636, grad_fn=<DivBackward0>)\n",
      "25 \tavg neglogprob: tensor(14.3636, grad_fn=<DivBackward0>)\n",
      "26 \tavg neglogprob: tensor(15.0954, grad_fn=<DivBackward0>)\n",
      "27 \tavg neglogprob: tensor(14.2658, grad_fn=<DivBackward0>)\n",
      "28 \tavg neglogprob: tensor(13.7515, grad_fn=<DivBackward0>)\n",
      "29 \tavg neglogprob: tensor(14.5683, grad_fn=<DivBackward0>)\n",
      "30 \tavg neglogprob: tensor(14.2423, grad_fn=<DivBackward0>)\n",
      "31 \tavg neglogprob: tensor(14.8266, grad_fn=<DivBackward0>)\n",
      "32 \tavg neglogprob: tensor(13.8965, grad_fn=<DivBackward0>)\n",
      "33 \tavg neglogprob: tensor(14.8365, grad_fn=<DivBackward0>)\n",
      "34 \tavg neglogprob: tensor(13.9033, grad_fn=<DivBackward0>)\n",
      "35 \tavg neglogprob: tensor(14.5143, grad_fn=<DivBackward0>)\n",
      "36 \tavg neglogprob: tensor(13.4974, grad_fn=<DivBackward0>)\n",
      "37 \tavg neglogprob: tensor(14.5663, grad_fn=<DivBackward0>)\n",
      "38 \tavg neglogprob: tensor(13.9370, grad_fn=<DivBackward0>)\n",
      "39 \tavg neglogprob: tensor(14.1047, grad_fn=<DivBackward0>)\n",
      "40 \tavg neglogprob: tensor(13.8315, grad_fn=<DivBackward0>)\n",
      "41 \tavg neglogprob: tensor(13.4759, grad_fn=<DivBackward0>)\n",
      "42 \tavg neglogprob: tensor(8.1349, grad_fn=<DivBackward0>)\n"
     ]
    }
   ],
   "source": [
    "batchsize=25\n",
    "trainloader = DataLoader(X, batch_size=batchsize, shuffle=True)\n",
    "\n",
    "model = mps\n",
    "optimizer = torch.optim.SGD(model.parameters(), lr=0.1)\n",
    "\n",
    "for batch_idx, batch in enumerate(trainloader):\n",
    "    model.zero_grad()\n",
    "    neglogprob = 0\n",
    "    for x in batch:\n",
    "        neglogprob -= model(x)\n",
    "    loss = neglogprob / batchsize\n",
    "    loss.backward()\n",
    "    with torch.no_grad():\n",
    "        print(batch_idx, \"\\tavg neglogprob:\", loss)\n",
    "    optimizer.step()"
   ]
  },
  {
   "cell_type": "code",
   "execution_count": null,
   "metadata": {},
   "outputs": [],
   "source": []
  },
  {
   "cell_type": "code",
   "execution_count": null,
   "metadata": {},
   "outputs": [],
   "source": []
  }
 ],
 "metadata": {
  "kernelspec": {
   "display_name": "Python 3",
   "language": "python",
   "name": "python3"
  },
  "language_info": {
   "codemirror_mode": {
    "name": "ipython",
    "version": 3
   },
   "file_extension": ".py",
   "mimetype": "text/x-python",
   "name": "python",
   "nbconvert_exporter": "python",
   "pygments_lexer": "ipython3",
   "version": "3.8.5"
  },
  "toc": {
   "base_numbering": 1,
   "nav_menu": {},
   "number_sections": true,
   "sideBar": true,
   "skip_h1_title": false,
   "title_cell": "Table of Contents",
   "title_sidebar": "Contents",
   "toc_cell": false,
   "toc_position": {},
   "toc_section_display": true,
   "toc_window_display": false
  },
  "varInspector": {
   "cols": {
    "lenName": 16,
    "lenType": 16,
    "lenVar": 40
   },
   "kernels_config": {
    "python": {
     "delete_cmd_postfix": "",
     "delete_cmd_prefix": "del ",
     "library": "var_list.py",
     "varRefreshCmd": "print(var_dic_list())"
    },
    "r": {
     "delete_cmd_postfix": ") ",
     "delete_cmd_prefix": "rm(",
     "library": "var_list.r",
     "varRefreshCmd": "cat(var_dic_list()) "
    }
   },
   "types_to_exclude": [
    "module",
    "function",
    "builtin_function_or_method",
    "instance",
    "_Feature"
   ],
   "window_display": false
  }
 },
 "nbformat": 4,
 "nbformat_minor": 4
}
