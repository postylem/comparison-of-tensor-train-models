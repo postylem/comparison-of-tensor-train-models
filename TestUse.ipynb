{
 "cells": [
  {
   "cell_type": "code",
   "execution_count": 1,
   "metadata": {},
   "outputs": [
    {
     "name": "stdout",
     "output_type": "stream",
     "text": [
      "1.8.0.dev20201128\n"
     ]
    }
   ],
   "source": [
    "import torch\n",
    "from tensornetworks_pytorch.TNModels import PositiveMPS, Born\n",
    "print(torch.__version__)"
   ]
  },
  {
   "cell_type": "code",
   "execution_count": 2,
   "metadata": {},
   "outputs": [],
   "source": [
    "mps = PositiveMPS(D=2, d=8, verbose=True)\n",
    "rBorn = Born(D=2, d=8, dtype=torch.float, verbose=True) \n",
    "cBorn = Born(D=2, d=8, dtype=torch.cfloat, verbose=True)\n",
    "models = (mps, rBorn, cBorn)"
   ]
  },
  {
   "cell_type": "code",
   "execution_count": 3,
   "metadata": {},
   "outputs": [
    {
     "name": "stdout",
     "output_type": "stream",
     "text": [
      "torch.Size([8, 2, 2])\n",
      "torch.float32\n",
      "torch.Size([8, 2, 2])\n",
      "torch.float32\n",
      "torch.Size([8, 2, 2])\n",
      "torch.complex64\n"
     ]
    }
   ],
   "source": [
    "for model in models:\n",
    "    print(model.core.shape)\n",
    "    print(model.core.dtype)"
   ]
  },
  {
   "cell_type": "markdown",
   "metadata": {},
   "source": [
    "Use some data"
   ]
  },
  {
   "cell_type": "code",
   "execution_count": 4,
   "metadata": {},
   "outputs": [
    {
     "name": "stdout",
     "output_type": "stream",
     "text": [
      "data shape: (148, 19)\n",
      "range of X values: 8\n"
     ]
    }
   ],
   "source": [
    "import pickle\n",
    "with open('datasets/lymphography', 'rb') as f:\n",
    "        a=pickle.load(f)\n",
    "X=a[0]\n",
    "X=X.astype(int)\n",
    "\n",
    "print(\"data shape:\", X.shape)\n",
    "print(\"range of X values:\", X.max()+1)"
   ]
  },
  {
   "cell_type": "code",
   "execution_count": 5,
   "metadata": {},
   "outputs": [
    {
     "name": "stdout",
     "output_type": "stream",
     "text": [
      "contract_all tensor(-7.6606e+22+9.3585e+22j, grad_fn=<ViewBackward>)\n",
      "contract_at tensor(-274.5774+112.0694j, grad_fn=<ViewBackward>)\n",
      "contract_all tensor(-7.6606e+22+9.3585e+22j, grad_fn=<ViewBackward>)\n",
      "probability tensor(87952.3047, grad_fn=<PowBackward0>)\n",
      "normalization tensor(1.2094e+23, grad_fn=<AbsBackward>)\n",
      "logprob tensor(-41.7650, grad_fn=<SubBackward0>)\n"
     ]
    },
    {
     "data": {
      "text/plain": [
       "Born()"
      ]
     },
     "execution_count": 5,
     "metadata": {},
     "output_type": "execute_result"
    }
   ],
   "source": [
    "cBorn.fit(X, 8)"
   ]
  }
 ],
 "metadata": {
  "kernelspec": {
   "display_name": "Python 3",
   "language": "python",
   "name": "python3"
  },
  "language_info": {
   "codemirror_mode": {
    "name": "ipython",
    "version": 3
   },
   "file_extension": ".py",
   "mimetype": "text/x-python",
   "name": "python",
   "nbconvert_exporter": "python",
   "pygments_lexer": "ipython3",
   "version": "3.8.5"
  },
  "toc": {
   "base_numbering": 1,
   "nav_menu": {},
   "number_sections": true,
   "sideBar": true,
   "skip_h1_title": false,
   "title_cell": "Table of Contents",
   "title_sidebar": "Contents",
   "toc_cell": false,
   "toc_position": {},
   "toc_section_display": true,
   "toc_window_display": false
  },
  "varInspector": {
   "cols": {
    "lenName": 16,
    "lenType": 16,
    "lenVar": 40
   },
   "kernels_config": {
    "python": {
     "delete_cmd_postfix": "",
     "delete_cmd_prefix": "del ",
     "library": "var_list.py",
     "varRefreshCmd": "print(var_dic_list())"
    },
    "r": {
     "delete_cmd_postfix": ") ",
     "delete_cmd_prefix": "rm(",
     "library": "var_list.r",
     "varRefreshCmd": "cat(var_dic_list()) "
    }
   },
   "types_to_exclude": [
    "module",
    "function",
    "builtin_function_or_method",
    "instance",
    "_Feature"
   ],
   "window_display": false
  }
 },
 "nbformat": 4,
 "nbformat_minor": 4
}
