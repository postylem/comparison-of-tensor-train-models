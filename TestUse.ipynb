{
 "cells": [
  {
   "cell_type": "code",
   "execution_count": 1,
   "metadata": {},
   "outputs": [
    {
     "name": "stdout",
     "output_type": "stream",
     "text": [
      "1.8.0.dev20201128\n"
     ]
    }
   ],
   "source": [
    "import torch\n",
    "import torch.nn as nn\n",
    "from torch.utils.data import Dataset, DataLoader\n",
    "from tensornetworks_pytorch.TNModels import PosMPS, Born\n",
    "print(torch.__version__)"
   ]
  },
  {
   "cell_type": "markdown",
   "metadata": {},
   "source": [
    "Use some data"
   ]
  },
  {
   "cell_type": "code",
   "execution_count": 2,
   "metadata": {
    "scrolled": true
   },
   "outputs": [
    {
     "name": "stdout",
     "output_type": "stream",
     "text": [
      "flare\n",
      "\tdata shape: (1065, 13)\n",
      "\trange of X values: 0 -- 7\n",
      "lymphography\n",
      "\tdata shape: (148, 19)\n",
      "\trange of X values: 0 -- 7\n",
      "spect\n",
      "\tdata shape: (187, 23)\n",
      "\trange of X values: 0 -- 1\n",
      "tumor\n",
      "\tdata shape: (339, 17)\n",
      "\trange of X values: 0 -- 3\n",
      "votes\n",
      "\tdata shape: (435, 17)\n",
      "\trange of X values: 0 -- 2\n"
     ]
    }
   ],
   "source": [
    "import pickle\n",
    "for dataset in [#'biofam',\n",
    "    'flare','lymphography','spect','tumor','votes']:\n",
    "    with open('datasets/'+dataset, 'rb') as f:\n",
    "            a=pickle.load(f)\n",
    "    X=a[0].astype(int)\n",
    "    print(dataset)\n",
    "    print(\"\\tdata shape:\", X.shape)\n",
    "    print(f\"\\trange of X values: {X.min()} -- {X.max()}\")\n",
    "\n",
    "def load_dataset(dataset):\n",
    "    with open('datasets/'+dataset, 'rb') as f:\n",
    "            a=pickle.load(f)\n",
    "    X=a[0]\n",
    "    X=X.astype(int)\n",
    "\n",
    "    print(\"data shape:\", X.shape)\n",
    "    print(f\"range of X values: {X.min()} -- {X.max()}\")\n",
    "    print(f\"setting d={X.max()+1}\")\n",
    "    d = X.max()+1\n",
    "    return X, d"
   ]
  },
  {
   "cell_type": "code",
   "execution_count": 11,
   "metadata": {},
   "outputs": [
    {
     "name": "stdout",
     "output_type": "stream",
     "text": [
      "data shape: (148, 19)\n",
      "range of X values: 0 -- 7\n",
      "setting d=8\n"
     ]
    }
   ],
   "source": [
    "X,d = load_dataset('lymphography')"
   ]
  },
  {
   "cell_type": "code",
   "execution_count": 12,
   "metadata": {},
   "outputs": [
    {
     "name": "stdout",
     "output_type": "stream",
     "text": [
      "nonhomogeneous init\n",
      "nonhomogeneous init\n",
      "torch.Size([19, 8, 4, 4]) Positive MPS\n",
      "torch.Size([19, 8, 4, 4]) Born model torch.float32\n",
      "torch.Size([8, 4, 4]) Born model torch.complex64\n"
     ]
    }
   ],
   "source": [
    "D = 4\n",
    "mps = PosMPS(dataset=X, D=D, d=d, homogeneous=False, verbose=True)\n",
    "rBorn = Born(dataset=X, D=D, d=d, dtype=torch.float, homogeneous=False, verbose=True) \n",
    "cBorn = Born(dataset=X, D=D, d=d, dtype=torch.cfloat, verbose=True)\n",
    "models = (mps, rBorn, cBorn)\n",
    "for model in models:\n",
    "    print(model.core.shape, model.name)"
   ]
  },
  {
   "cell_type": "code",
   "execution_count": 13,
   "metadata": {},
   "outputs": [
    {
     "data": {
      "text/plain": [
       "True"
      ]
     },
     "execution_count": 13,
     "metadata": {},
     "output_type": "execute_result"
    }
   ],
   "source": [
    "cBorn.log_trick"
   ]
  },
  {
   "cell_type": "code",
   "execution_count": 14,
   "metadata": {},
   "outputs": [
    {
     "name": "stdout",
     "output_type": "stream",
     "text": [
      "Training...\n"
     ]
    },
    {
     "data": {
      "application/vnd.jupyter.widget-view+json": {
       "model_id": "fbc5f8f546ae4f2193cb2af4e31bf994",
       "version_major": 2,
       "version_minor": 0
      },
      "text/plain": [
       "HBox(children=(HTML(value=''), FloatProgress(value=0.0, max=20.0), HTML(value='')))"
      ]
     },
     "metadata": {},
     "output_type": "display_data"
    },
    {
     "name": "stdout",
     "output_type": "stream",
     "text": [
      "epoch 0\n",
      "tensor(-37.1143, grad_fn=<SubBackward0>)\n",
      "tensor(-37.7334, grad_fn=<SubBackward0>)\n",
      "tensor(-37.8926, grad_fn=<SubBackward0>)\n",
      "tensor(-37.4124, grad_fn=<SubBackward0>)\n",
      "tensor(-38.1490, grad_fn=<SubBackward0>)\n",
      "tensor(-37.1473, grad_fn=<SubBackward0>)\n",
      "tensor(-37.7668, grad_fn=<SubBackward0>)\n",
      "tensor(-37.9160, grad_fn=<SubBackward0>)\n",
      "tensor(-38.5696, grad_fn=<SubBackward0>)\n",
      "tensor(-36.9758, grad_fn=<SubBackward0>)\n",
      "tensor(-38.3050, grad_fn=<SubBackward0>)\n",
      "tensor(-37.7094, grad_fn=<SubBackward0>)\n",
      "tensor(-37.3197, grad_fn=<SubBackward0>)\n",
      "tensor(-37.2873, grad_fn=<SubBackward0>)\n",
      "tensor(-38.1722, grad_fn=<SubBackward0>)\n",
      "tensor(-37.0764, grad_fn=<SubBackward0>)\n",
      "tensor(-37.5780, grad_fn=<SubBackward0>)\n",
      "tensor(-37.7856, grad_fn=<SubBackward0>)\n",
      "tensor(-37.0055, grad_fn=<SubBackward0>)\n",
      "tensor(-37.3985, grad_fn=<SubBackward0>)\n",
      "\tbatch 0 loss 37.61574935913086\n",
      "NANS!\n",
      "\tavg batch_loss 37.61574935913086\n",
      "epoch 1\n",
      "NANS!\n",
      "\tavg batch_loss nan\n",
      "epoch 2\n",
      "NANS!\n",
      "\tavg batch_loss nan\n",
      "epoch 3\n",
      "NANS!\n",
      "\tavg batch_loss nan\n",
      "epoch 4\n",
      "NANS!\n",
      "\tavg batch_loss nan\n",
      "epoch 5\n",
      "NANS!\n",
      "\tavg batch_loss nan\n",
      "epoch 6\n",
      "NANS!\n",
      "\tavg batch_loss nan\n",
      "epoch 7\n",
      "NANS!\n",
      "\tavg batch_loss nan\n",
      "epoch 8\n",
      "NANS!\n",
      "\tavg batch_loss nan\n",
      "epoch 9\n",
      "NANS!\n",
      "\tavg batch_loss nan\n",
      "epoch 10\n",
      "NANS!\n",
      "\tavg batch_loss nan\n",
      "epoch 11\n",
      "NANS!\n",
      "\tavg batch_loss nan\n",
      "epoch 12\n",
      "NANS!\n",
      "\tavg batch_loss nan\n",
      "epoch 13\n",
      "NANS!\n",
      "\tavg batch_loss nan\n",
      "epoch 14\n",
      "NANS!\n",
      "\tavg batch_loss nan\n",
      "epoch 15\n",
      "NANS!\n",
      "\tavg batch_loss nan\n",
      "epoch 16\n",
      "NANS!\n",
      "\tavg batch_loss nan\n",
      "epoch 17\n",
      "NANS!\n",
      "\tavg batch_loss nan\n",
      "epoch 18\n",
      "NANS!\n",
      "\tavg batch_loss nan\n",
      "epoch 19\n",
      "NANS!\n",
      "\tavg batch_loss nan\n",
      "\n",
      "Finished training. Last av loss =  nan\n"
     ]
    }
   ],
   "source": [
    "from tqdm.notebook import tqdm\n",
    "batchsize=20\n",
    "trainloader = DataLoader(X, batch_size=batchsize, shuffle=True)\n",
    "model = cBorn\n",
    "optimizer = torch.optim.SGD(model.parameters(), lr=0.2, momentum=0.5)\n",
    "\n",
    "max_epochs = 20\n",
    "print(\"Training...\")\n",
    "av_batch_loss_running = -1000\n",
    "for epoch in tqdm(range(max_epochs)):\n",
    "    print(\"epoch\", epoch)\n",
    "    batch_loss = []\n",
    "    for batch_idx, batch in enumerate(trainloader):\n",
    "        if torch.isnan(model.core).any():\n",
    "            print(\"NANS!\")\n",
    "            break\n",
    "        model.zero_grad()\n",
    "        neglogprob = 0\n",
    "        for x in batch:\n",
    "            out = model(x)\n",
    "            print(out)\n",
    "            neglogprob -= out\n",
    "#             print(\"out\",out)\n",
    "        loss = neglogprob / len(batch)\n",
    "#         print(\"core befor\\n\",model.core[0][0])\n",
    "#         if batch_idx>0:\n",
    "#             print(\"\\tgrad:\",model.core.grad[0,0])\n",
    "        loss.backward()\n",
    "#         print(\"backward.\")\n",
    "#         print(\"\\tgrad:\",model.core.grad[0,0])\n",
    "        optimizer.step()\n",
    "#         print(\"optimize\\n\",model.core[0][0])\n",
    "#         print(\"\\tgrad:\",model.core.grad[0,0])\n",
    "        with torch.no_grad():\n",
    "            batch_loss.append(loss.item())\n",
    "            n=10\n",
    "            if batch_idx % n == 0: # print every nth batch loss\n",
    "                print(\"\\tbatch\", batch_idx, \"loss\", loss.item())\n",
    "    av_batch_loss = torch.Tensor(batch_loss).mean().item()\n",
    "    print(\"\\tavg batch_loss\", av_batch_loss)\n",
    "    if abs(av_batch_loss_running - av_batch_loss) < .0001:\n",
    "        print(\"Early stopping\")\n",
    "        break\n",
    "    av_batch_loss_running = av_batch_loss\n",
    "print('Finished training. Last av loss = ', av_batch_loss)"
   ]
  },
  {
   "cell_type": "code",
   "execution_count": 10,
   "metadata": {},
   "outputs": [
    {
     "data": {
      "text/plain": [
       "tensor([0.+0.j, 0.+0.j, 0.+0.j, 0.+0.j])"
      ]
     },
     "execution_count": 10,
     "metadata": {},
     "output_type": "execute_result"
    }
   ],
   "source": [
    "model.core.grad[0,0]"
   ]
  },
  {
   "cell_type": "code",
   "execution_count": 25,
   "metadata": {},
   "outputs": [
    {
     "name": "stdout",
     "output_type": "stream",
     "text": [
      "<PowBackward0 object at 0x7fe080357b20>\n",
      "tensor([[44.7375+0.7375j, 44.7375+0.7375j],\n",
      "        [44.7375+0.7375j, 44.7375+0.7375j]])\n"
     ]
    }
   ],
   "source": [
    "real = torch.tensor([[1, 2],[1, 2]], dtype=torch.float32)\n",
    "imag = torch.tensor([[3, 4],[1, 2]], dtype=torch.float32)\n",
    "z = torch.complex(real, imag)\n",
    "z.requires_grad=True\n",
    "b = (2.7j*z + 3.4*z + 18)\n",
    "L = b.mean().abs().square()\n",
    "L.backward()\n",
    "print(L.grad_fn)\n",
    "print(z.grad.conj())"
   ]
  },
  {
   "cell_type": "code",
   "execution_count": 21,
   "metadata": {},
   "outputs": [
    {
     "name": "stdout",
     "output_type": "stream",
     "text": [
      "False\n",
      "True\n",
      "<SumBackward0 object at 0x7ff54f8b2c10> None\n",
      "tensor([[-0.8076,  3.6026],\n",
      "        [ 3.4140,  1.9627]])\n"
     ]
    }
   ],
   "source": [
    "a = torch.randn(2, 2)\n",
    "a = ((a * 3) / (a - 1))\n",
    "print(a.requires_grad)\n",
    "a.requires_grad_(True)\n",
    "print(a.requires_grad)\n",
    "L = (a * a).sum()\n",
    "print(L.grad_fn, a.grad_fn)\n",
    "L.backward()\n",
    "print(a.grad)"
   ]
  },
  {
   "cell_type": "markdown",
   "metadata": {},
   "source": [
    "## Log norm trick\n",
    "\n",
    "For left boundary,\n",
    "- store direction and lognorm"
   ]
  },
  {
   "cell_type": "code",
   "execution_count": 19,
   "metadata": {},
   "outputs": [],
   "source": []
  },
  {
   "cell_type": "code",
   "execution_count": 28,
   "metadata": {},
   "outputs": [
    {
     "name": "stdout",
     "output_type": "stream",
     "text": [
      "tensor([[1.+3.j, 2.+4.j],\n",
      "        [1.+1.j, 2.+2.j]], requires_grad=True)\n"
     ]
    },
    {
     "data": {
      "text/plain": [
       "tensor(7.6344, grad_fn=<MaxBackward1>)"
      ]
     },
     "execution_count": 28,
     "metadata": {},
     "output_type": "execute_result"
    }
   ],
   "source": [
    "print(z)\n",
    "\n",
    "def matnorm(mat):\n",
    "    return torch.max(torch.sum(abs(mat), dim=1))\n",
    "\n",
    "norm = matnorm\n",
    "norm(z)"
   ]
  },
  {
   "cell_type": "code",
   "execution_count": null,
   "metadata": {},
   "outputs": [],
   "source": []
  }
 ],
 "metadata": {
  "kernelspec": {
   "display_name": "Python 3",
   "language": "python",
   "name": "python3"
  },
  "language_info": {
   "codemirror_mode": {
    "name": "ipython",
    "version": 3
   },
   "file_extension": ".py",
   "mimetype": "text/x-python",
   "name": "python",
   "nbconvert_exporter": "python",
   "pygments_lexer": "ipython3",
   "version": "3.8.5"
  },
  "toc": {
   "base_numbering": 1,
   "nav_menu": {},
   "number_sections": true,
   "sideBar": true,
   "skip_h1_title": false,
   "title_cell": "Table of Contents",
   "title_sidebar": "Contents",
   "toc_cell": false,
   "toc_position": {},
   "toc_section_display": true,
   "toc_window_display": false
  },
  "varInspector": {
   "cols": {
    "lenName": 16,
    "lenType": 16,
    "lenVar": 40
   },
   "kernels_config": {
    "python": {
     "delete_cmd_postfix": "",
     "delete_cmd_prefix": "del ",
     "library": "var_list.py",
     "varRefreshCmd": "print(var_dic_list())"
    },
    "r": {
     "delete_cmd_postfix": ") ",
     "delete_cmd_prefix": "rm(",
     "library": "var_list.r",
     "varRefreshCmd": "cat(var_dic_list()) "
    }
   },
   "types_to_exclude": [
    "module",
    "function",
    "builtin_function_or_method",
    "instance",
    "_Feature"
   ],
   "window_display": false
  }
 },
 "nbformat": 4,
 "nbformat_minor": 4
}
