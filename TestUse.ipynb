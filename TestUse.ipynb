{
 "cells": [
  {
   "cell_type": "code",
   "execution_count": 5,
   "metadata": {},
   "outputs": [
    {
     "name": "stdout",
     "output_type": "stream",
     "text": [
      "1.8.0.dev20201128\n"
     ]
    }
   ],
   "source": [
    "import torch\n",
    "import torch.nn as nn\n",
    "from torch.utils.data import Dataset, DataLoader\n",
    "from tensornetworks_pytorch.TNModels import PosMPS, Born\n",
    "print(torch.__version__)"
   ]
  },
  {
   "cell_type": "markdown",
   "metadata": {},
   "source": [
    "Use some data"
   ]
  },
  {
   "cell_type": "code",
   "execution_count": 15,
   "metadata": {
    "scrolled": true
   },
   "outputs": [
    {
     "name": "stdout",
     "output_type": "stream",
     "text": [
      "flare\n",
      "\tdata shape: (1065, 13)\n",
      "\trange of X values: 0 -- 7\n",
      "lymphography\n",
      "\tdata shape: (148, 19)\n",
      "\trange of X values: 0 -- 7\n",
      "spect\n",
      "\tdata shape: (187, 23)\n",
      "\trange of X values: 0 -- 1\n",
      "tumor\n",
      "\tdata shape: (339, 17)\n",
      "\trange of X values: 0 -- 3\n",
      "votes\n",
      "\tdata shape: (435, 17)\n",
      "\trange of X values: 0 -- 2\n"
     ]
    }
   ],
   "source": [
    "import pickle\n",
    "for dataset in [#'biofam',\n",
    "    'flare','lymphography','spect','tumor','votes']:\n",
    "    with open('datasets/'+dataset, 'rb') as f:\n",
    "            a=pickle.load(f)\n",
    "    X=a[0].astype(int)\n",
    "    print(dataset)\n",
    "    print(\"\\tdata shape:\", X.shape)\n",
    "    print(f\"\\trange of X values: {X.min()} -- {X.max()}\")\n",
    "\n",
    "def load_dataset(dataset):\n",
    "    with open('datasets/'+dataset, 'rb') as f:\n",
    "            a=pickle.load(f)\n",
    "    X=a[0]\n",
    "    X=X.astype(int)\n",
    "\n",
    "    print(\"data shape:\", X.shape)\n",
    "    print(f\"range of X values: {X.min()} -- {X.max()}\")\n",
    "    print(f\"setting d={X.max()+1}\")\n",
    "    d = X.max()+1\n",
    "    return X, d"
   ]
  },
  {
   "cell_type": "code",
   "execution_count": 21,
   "metadata": {},
   "outputs": [
    {
     "name": "stdout",
     "output_type": "stream",
     "text": [
      "data shape: (339, 17)\n",
      "range of X values: 0 -- 3\n",
      "setting d=4\n"
     ]
    }
   ],
   "source": [
    "X,d = load_dataset('tumor')"
   ]
  },
  {
   "cell_type": "code",
   "execution_count": 23,
   "metadata": {},
   "outputs": [
    {
     "name": "stdout",
     "output_type": "stream",
     "text": [
      "torch.Size([4, 7, 7]) Positive MPS\n",
      "torch.Size([4, 7, 7]) Born model torch.float32\n",
      "torch.Size([4, 7, 7]) Born model torch.complex64\n",
      "===\n"
     ]
    }
   ],
   "source": [
    "D = 7\n",
    "mps = PosMPS(D=D, d=d, verbose=True)\n",
    "rBorn = Born(D=D, d=d, dtype=torch.float, verbose=True) \n",
    "cBorn = Born(D=D, d=d, dtype=torch.cfloat, verbose=True)\n",
    "models = (mps, rBorn, cBorn)\n",
    "for model in models:\n",
    "    print(model.core.shape, model.name)\n",
    "print(\"===\")\n",
    "for model in models:\n",
    "    model.fit(X, d)"
   ]
  },
  {
   "cell_type": "code",
   "execution_count": 25,
   "metadata": {},
   "outputs": [
    {
     "name": "stdout",
     "output_type": "stream",
     "text": [
      "0 10 \tavg neglogprob: 12.669713973999023\n",
      "1 10 \tavg neglogprob: 13.751876831054688\n",
      "2 10 \tavg neglogprob: 13.196316719055176\n",
      "3 10 \tavg neglogprob: 13.420600891113281\n",
      "4 10 \tavg neglogprob: 13.215057373046875\n",
      "5 10 \tavg neglogprob: 13.33989429473877\n",
      "6 10 \tavg neglogprob: 12.457732200622559\n",
      "7 10 \tavg neglogprob: 12.091470718383789\n",
      "8 10 \tavg neglogprob: 13.230816841125488\n",
      "9 10 \tavg neglogprob: 11.981729507446289\n",
      "10 10 \tavg neglogprob: 14.369333267211914\n",
      "11 10 \tavg neglogprob: 13.473103523254395\n",
      "12 10 \tavg neglogprob: 13.077798843383789\n",
      "13 10 \tavg neglogprob: 13.565008163452148\n",
      "14 10 \tavg neglogprob: 12.476985931396484\n",
      "15 10 \tavg neglogprob: 13.912542343139648\n",
      "16 10 \tavg neglogprob: 13.332720756530762\n",
      "17 10 \tavg neglogprob: 12.860852241516113\n",
      "18 10 \tavg neglogprob: 12.136152267456055\n",
      "19 10 \tavg neglogprob: 13.606549263000488\n",
      "20 10 \tavg neglogprob: 14.618481636047363\n",
      "21 10 \tavg neglogprob: 13.349733352661133\n",
      "22 10 \tavg neglogprob: 13.284083366394043\n",
      "23 10 \tavg neglogprob: 14.018351554870605\n",
      "24 10 \tavg neglogprob: 13.759576797485352\n",
      "25 10 \tavg neglogprob: 12.464323043823242\n",
      "26 10 \tavg neglogprob: 12.821833610534668\n",
      "27 10 \tavg neglogprob: 11.31549072265625\n",
      "28 10 \tavg neglogprob: 14.03954792022705\n",
      "29 10 \tavg neglogprob: 13.200955390930176\n",
      "30 10 \tavg neglogprob: 13.766365051269531\n",
      "31 10 \tavg neglogprob: 13.071698188781738\n",
      "32 10 \tavg neglogprob: 13.15532398223877\n",
      "33 9 \tavg neglogprob: 11.935136795043945\n"
     ]
    }
   ],
   "source": [
    "batchsize=10\n",
    "trainloader = DataLoader(X, batch_size=batchsize, shuffle=True)\n",
    "\n",
    "model = rBorn\n",
    "optimizer = torch.optim.SGD(model.parameters(), lr=0.1)\n",
    "\n",
    "for batch_idx, batch in enumerate(trainloader):\n",
    "    model.zero_grad()\n",
    "    neglogprob = 0\n",
    "    for x in batch:\n",
    "        neglogprob -= model(x)\n",
    "    loss = neglogprob / batchsize\n",
    "    loss.backward()\n",
    "    print(batch_idx,len(batch), \"\\tavg neglogprob:\", loss.item())\n",
    "    optimizer.step()"
   ]
  },
  {
   "cell_type": "code",
   "execution_count": null,
   "metadata": {},
   "outputs": [],
   "source": []
  },
  {
   "cell_type": "code",
   "execution_count": null,
   "metadata": {},
   "outputs": [],
   "source": []
  }
 ],
 "metadata": {
  "kernelspec": {
   "display_name": "Python 3",
   "language": "python",
   "name": "python3"
  },
  "language_info": {
   "codemirror_mode": {
    "name": "ipython",
    "version": 3
   },
   "file_extension": ".py",
   "mimetype": "text/x-python",
   "name": "python",
   "nbconvert_exporter": "python",
   "pygments_lexer": "ipython3",
   "version": "3.8.5"
  },
  "toc": {
   "base_numbering": 1,
   "nav_menu": {},
   "number_sections": true,
   "sideBar": true,
   "skip_h1_title": false,
   "title_cell": "Table of Contents",
   "title_sidebar": "Contents",
   "toc_cell": false,
   "toc_position": {},
   "toc_section_display": true,
   "toc_window_display": false
  },
  "varInspector": {
   "cols": {
    "lenName": 16,
    "lenType": 16,
    "lenVar": 40
   },
   "kernels_config": {
    "python": {
     "delete_cmd_postfix": "",
     "delete_cmd_prefix": "del ",
     "library": "var_list.py",
     "varRefreshCmd": "print(var_dic_list())"
    },
    "r": {
     "delete_cmd_postfix": ") ",
     "delete_cmd_prefix": "rm(",
     "library": "var_list.r",
     "varRefreshCmd": "cat(var_dic_list()) "
    }
   },
   "types_to_exclude": [
    "module",
    "function",
    "builtin_function_or_method",
    "instance",
    "_Feature"
   ],
   "window_display": false
  }
 },
 "nbformat": 4,
 "nbformat_minor": 4
}
