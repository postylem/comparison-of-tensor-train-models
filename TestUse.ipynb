{
 "cells": [
  {
   "cell_type": "code",
   "execution_count": 1,
   "metadata": {},
   "outputs": [],
   "source": [
    "from tensornetworks_pytorch_combined.TNModels import PositiveMPS"
   ]
  },
  {
   "cell_type": "code",
   "execution_count": 5,
   "metadata": {},
   "outputs": [],
   "source": [
    "mps = PositiveMPS(D=2, d=8, verbose=True) "
   ]
  },
  {
   "cell_type": "code",
   "execution_count": 6,
   "metadata": {},
   "outputs": [
    {
     "data": {
      "text/plain": [
       "Parameter containing:\n",
       "tensor([0.2867, 0.8956], requires_grad=True)"
      ]
     },
     "execution_count": 6,
     "metadata": {},
     "output_type": "execute_result"
    }
   ],
   "source": [
    "list(mps.parameters())[1]"
   ]
  },
  {
   "cell_type": "code",
   "execution_count": 7,
   "metadata": {
    "scrolled": true
   },
   "outputs": [
    {
     "data": {
      "text/plain": [
       "tensor([0.0822, 0.8020], grad_fn=<PowBackward0>)"
      ]
     },
     "execution_count": 7,
     "metadata": {},
     "output_type": "execute_result"
    }
   ],
   "source": [
    "mps.left_boundary.square()"
   ]
  },
  {
   "cell_type": "code",
   "execution_count": null,
   "metadata": {},
   "outputs": [],
   "source": []
  },
  {
   "cell_type": "code",
   "execution_count": null,
   "metadata": {},
   "outputs": [],
   "source": []
  },
  {
   "cell_type": "code",
   "execution_count": null,
   "metadata": {},
   "outputs": [],
   "source": []
  },
  {
   "cell_type": "code",
   "execution_count": 8,
   "metadata": {},
   "outputs": [
    {
     "data": {
      "text/plain": [
       "7"
      ]
     },
     "execution_count": 8,
     "metadata": {},
     "output_type": "execute_result"
    }
   ],
   "source": [
    "import pickle\n",
    "with open('datasets/lymphography', 'rb') as f:\n",
    "        a=pickle.load(f)\n",
    "X=a[0]\n",
    "X=X.astype(int)\n",
    "X.max()"
   ]
  },
  {
   "cell_type": "code",
   "execution_count": 9,
   "metadata": {},
   "outputs": [
    {
     "data": {
      "text/plain": [
       "array([2, 1, 0, 0, 0, 0, 0, 0, 1, 0, 1, 1, 1, 1, 7, 1, 1, 1, 0])"
      ]
     },
     "execution_count": 9,
     "metadata": {},
     "output_type": "execute_result"
    }
   ],
   "source": [
    "X[0]"
   ]
  },
  {
   "cell_type": "code",
   "execution_count": 10,
   "metadata": {},
   "outputs": [
    {
     "data": {
      "text/plain": [
       "Parameter containing:\n",
       "tensor([[[0.2862, 0.9039],\n",
       "         [0.5952, 0.3897]],\n",
       "\n",
       "        [[0.8965, 0.4357],\n",
       "         [0.2663, 0.0897]],\n",
       "\n",
       "        [[0.8735, 0.4744],\n",
       "         [0.8929, 0.0818]],\n",
       "\n",
       "        [[0.3030, 0.8852],\n",
       "         [0.2803, 0.5673]],\n",
       "\n",
       "        [[0.1825, 0.5100],\n",
       "         [0.0782, 0.3894]],\n",
       "\n",
       "        [[0.7709, 0.5564],\n",
       "         [0.8503, 0.9044]],\n",
       "\n",
       "        [[0.6224, 0.0692],\n",
       "         [0.5959, 0.6292]],\n",
       "\n",
       "        [[0.2410, 0.5793],\n",
       "         [0.3687, 0.5706]]], requires_grad=True)"
      ]
     },
     "execution_count": 10,
     "metadata": {},
     "output_type": "execute_result"
    }
   ],
   "source": [
    "mps.fit(X, 8)\n",
    "mps.core"
   ]
  },
  {
   "cell_type": "code",
   "execution_count": 11,
   "metadata": {},
   "outputs": [
    {
     "name": "stdout",
     "output_type": "stream",
     "text": [
      "n_features 19\n",
      "norm tensor(6.8725e+16, grad_fn=<ViewBackward>)\n",
      "prob0 tensor(0.0001, grad_fn=<ViewBackward>)\n"
     ]
    }
   ],
   "source": [
    "print(\"n_features\", mps.n_features)\n",
    "print(\"norm\", mps.norm)\n",
    "print(\"prob0\",mps.probability0)"
   ]
  },
  {
   "cell_type": "code",
   "execution_count": 12,
   "metadata": {},
   "outputs": [
    {
     "data": {
      "text/plain": [
       "tensor([[[0.2862, 0.9039],\n",
       "         [0.5952, 0.3897]],\n",
       "\n",
       "        [[0.8965, 0.4357],\n",
       "         [0.2663, 0.0897]],\n",
       "\n",
       "        [[0.8735, 0.4744],\n",
       "         [0.8929, 0.0818]],\n",
       "\n",
       "        [[0.3030, 0.8852],\n",
       "         [0.2803, 0.5673]],\n",
       "\n",
       "        [[0.1825, 0.5100],\n",
       "         [0.0782, 0.3894]],\n",
       "\n",
       "        [[0.7709, 0.5564],\n",
       "         [0.8503, 0.9044]],\n",
       "\n",
       "        [[0.6224, 0.0692],\n",
       "         [0.5959, 0.6292]],\n",
       "\n",
       "        [[0.2410, 0.5793],\n",
       "         [0.3687, 0.5706]]], grad_fn=<AbsBackward>)"
      ]
     },
     "execution_count": 12,
     "metadata": {},
     "output_type": "execute_result"
    }
   ],
   "source": [
    "mps.core.abs()"
   ]
  },
  {
   "cell_type": "code",
   "execution_count": null,
   "metadata": {},
   "outputs": [],
   "source": []
  }
 ],
 "metadata": {
  "kernelspec": {
   "display_name": "Python 3",
   "language": "python",
   "name": "python3"
  },
  "language_info": {
   "codemirror_mode": {
    "name": "ipython",
    "version": 3
   },
   "file_extension": ".py",
   "mimetype": "text/x-python",
   "name": "python",
   "nbconvert_exporter": "python",
   "pygments_lexer": "ipython3",
   "version": "3.7.7"
  },
  "toc": {
   "base_numbering": 1,
   "nav_menu": {},
   "number_sections": true,
   "sideBar": true,
   "skip_h1_title": false,
   "title_cell": "Table of Contents",
   "title_sidebar": "Contents",
   "toc_cell": false,
   "toc_position": {},
   "toc_section_display": true,
   "toc_window_display": false
  },
  "varInspector": {
   "cols": {
    "lenName": 16,
    "lenType": 16,
    "lenVar": 40
   },
   "kernels_config": {
    "python": {
     "delete_cmd_postfix": "",
     "delete_cmd_prefix": "del ",
     "library": "var_list.py",
     "varRefreshCmd": "print(var_dic_list())"
    },
    "r": {
     "delete_cmd_postfix": ") ",
     "delete_cmd_prefix": "rm(",
     "library": "var_list.r",
     "varRefreshCmd": "cat(var_dic_list()) "
    }
   },
   "types_to_exclude": [
    "module",
    "function",
    "builtin_function_or_method",
    "instance",
    "_Feature"
   ],
   "window_display": false
  }
 },
 "nbformat": 4,
 "nbformat_minor": 4
}
