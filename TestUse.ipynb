{
 "cells": [
  {
   "cell_type": "code",
   "execution_count": 1,
   "metadata": {},
   "outputs": [
    {
     "name": "stdout",
     "output_type": "stream",
     "text": [
      "1.8.0.dev20201128\n"
     ]
    }
   ],
   "source": [
    "import torch\n",
    "import torch.nn as nn\n",
    "from torch.utils.data import Dataset, DataLoader\n",
    "from tensornetworks_pytorch.TNModels import PosMPS, Born\n",
    "print(torch.__version__)"
   ]
  },
  {
   "cell_type": "markdown",
   "metadata": {},
   "source": [
    "Use some data"
   ]
  },
  {
   "cell_type": "code",
   "execution_count": 5,
   "metadata": {},
   "outputs": [
    {
     "name": "stdout",
     "output_type": "stream",
     "text": [
      "data shape: (148, 19)\n",
      "range of X values: 8\n"
     ]
    }
   ],
   "source": [
    "import pickle\n",
    "with open('datasets/lymphography', 'rb') as f:\n",
    "        a=pickle.load(f)\n",
    "X=a[0]\n",
    "X=X.astype(int)\n",
    "\n",
    "print(\"data shape:\", X.shape)\n",
    "print(\"range of X values:\", X.max()+1)"
   ]
  },
  {
   "cell_type": "code",
   "execution_count": 13,
   "metadata": {},
   "outputs": [
    {
     "name": "stdout",
     "output_type": "stream",
     "text": [
      "torch.Size([12, 10, 10]) Positive MPS\n",
      "torch.Size([12, 10, 10]) Born model torch.float32\n",
      "torch.Size([12, 10, 10]) Born model torch.complex64\n",
      "===\n"
     ]
    }
   ],
   "source": [
    "D = 10\n",
    "d = 12\n",
    "mps = PosMPS(D=D, d=d, verbose=True)\n",
    "rBorn = Born(D=D, d=d, dtype=torch.float, verbose=True) \n",
    "cBorn = Born(D=D, d=d, dtype=torch.cfloat, verbose=True)\n",
    "models = (mps, rBorn, cBorn)\n",
    "for model in models:\n",
    "    print(model.core.shape, model.name)\n",
    "print(\"===\")\n",
    "for model in models:\n",
    "    model.fit(X, d)\n",
    "    \n",
    "# model = mps\n",
    "# optimizer = torch.optim.SGD(model.parameters(), lr=0.1)\n",
    "# loss_fn = torch.nn.NLLLoss()\n",
    "\n",
    "# for ep in range(10):\n",
    "#     print(ep)\n",
    "#     model.zero_grad()\n",
    "# #     print(model.core)\n",
    "#     loss = - model(X[0])\n",
    "#     loss.backward()\n",
    "#     optimizer.step()"
   ]
  },
  {
   "cell_type": "code",
   "execution_count": 14,
   "metadata": {},
   "outputs": [
    {
     "name": "stdout",
     "output_type": "stream",
     "text": [
      "0 \tavg neglogprob: tensor(inf, grad_fn=<DivBackward0>)\n",
      "1 \tavg neglogprob: tensor(nan, grad_fn=<DivBackward0>)\n",
      "2 \tavg neglogprob: tensor(nan, grad_fn=<DivBackward0>)\n",
      "3 \tavg neglogprob: tensor(nan, grad_fn=<DivBackward0>)\n",
      "4 \tavg neglogprob: tensor(nan, grad_fn=<DivBackward0>)\n",
      "5 \tavg neglogprob: tensor(nan, grad_fn=<DivBackward0>)\n",
      "6 \tavg neglogprob: tensor(nan, grad_fn=<DivBackward0>)\n",
      "7 \tavg neglogprob: tensor(nan, grad_fn=<DivBackward0>)\n",
      "8 \tavg neglogprob: tensor(nan, grad_fn=<DivBackward0>)\n",
      "9 \tavg neglogprob: tensor(nan, grad_fn=<DivBackward0>)\n",
      "10 \tavg neglogprob: tensor(nan, grad_fn=<DivBackward0>)\n",
      "11 \tavg neglogprob: tensor(nan, grad_fn=<DivBackward0>)\n",
      "12 \tavg neglogprob: tensor(nan, grad_fn=<DivBackward0>)\n",
      "13 \tavg neglogprob: tensor(nan, grad_fn=<DivBackward0>)\n",
      "14 \tavg neglogprob: tensor(nan, grad_fn=<DivBackward0>)\n",
      "15 \tavg neglogprob: tensor(nan, grad_fn=<DivBackward0>)\n",
      "16 \tavg neglogprob: tensor(nan, grad_fn=<DivBackward0>)\n",
      "17 \tavg neglogprob: tensor(nan, grad_fn=<DivBackward0>)\n",
      "18 \tavg neglogprob: tensor(nan, grad_fn=<DivBackward0>)\n",
      "19 \tavg neglogprob: tensor(nan, grad_fn=<DivBackward0>)\n",
      "20 \tavg neglogprob: tensor(nan, grad_fn=<DivBackward0>)\n",
      "21 \tavg neglogprob: tensor(nan, grad_fn=<DivBackward0>)\n",
      "22 \tavg neglogprob: tensor(nan, grad_fn=<DivBackward0>)\n",
      "23 \tavg neglogprob: tensor(nan, grad_fn=<DivBackward0>)\n",
      "24 \tavg neglogprob: tensor(nan, grad_fn=<DivBackward0>)\n",
      "25 \tavg neglogprob: tensor(nan, grad_fn=<DivBackward0>)\n",
      "26 \tavg neglogprob: tensor(nan, grad_fn=<DivBackward0>)\n",
      "27 \tavg neglogprob: tensor(nan, grad_fn=<DivBackward0>)\n",
      "28 \tavg neglogprob: tensor(nan, grad_fn=<DivBackward0>)\n",
      "29 \tavg neglogprob: tensor(nan, grad_fn=<DivBackward0>)\n",
      "30 \tavg neglogprob: tensor(nan, grad_fn=<DivBackward0>)\n",
      "31 \tavg neglogprob: tensor(nan, grad_fn=<DivBackward0>)\n",
      "32 \tavg neglogprob: tensor(nan, grad_fn=<DivBackward0>)\n",
      "33 \tavg neglogprob: tensor(nan, grad_fn=<DivBackward0>)\n",
      "34 \tavg neglogprob: tensor(nan, grad_fn=<DivBackward0>)\n",
      "35 \tavg neglogprob: tensor(nan, grad_fn=<DivBackward0>)\n",
      "36 \tavg neglogprob: tensor(nan, grad_fn=<DivBackward0>)\n"
     ]
    }
   ],
   "source": [
    "batchsize=4\n",
    "trainloader = DataLoader(X, batch_size=batchsize, shuffle=True)\n",
    "\n",
    "model = rBorn\n",
    "optimizer = torch.optim.SGD(model.parameters(), lr=0.2)\n",
    "\n",
    "for batch_idx, batch in enumerate(trainloader):\n",
    "    model.zero_grad()\n",
    "    neglogprob = 0\n",
    "    for x in batch:\n",
    "        neglogprob -= model(x)\n",
    "    loss = neglogprob / batchsize\n",
    "    loss.backward()\n",
    "    with torch.no_grad():\n",
    "        print(batch_idx, \"\\tavg neglogprob:\", loss)\n",
    "    optimizer.step()"
   ]
  },
  {
   "cell_type": "code",
   "execution_count": null,
   "metadata": {},
   "outputs": [],
   "source": []
  },
  {
   "cell_type": "code",
   "execution_count": null,
   "metadata": {},
   "outputs": [],
   "source": []
  }
 ],
 "metadata": {
  "kernelspec": {
   "display_name": "Python 3",
   "language": "python",
   "name": "python3"
  },
  "language_info": {
   "codemirror_mode": {
    "name": "ipython",
    "version": 3
   },
   "file_extension": ".py",
   "mimetype": "text/x-python",
   "name": "python",
   "nbconvert_exporter": "python",
   "pygments_lexer": "ipython3",
   "version": "3.8.5"
  },
  "toc": {
   "base_numbering": 1,
   "nav_menu": {},
   "number_sections": true,
   "sideBar": true,
   "skip_h1_title": false,
   "title_cell": "Table of Contents",
   "title_sidebar": "Contents",
   "toc_cell": false,
   "toc_position": {},
   "toc_section_display": true,
   "toc_window_display": false
  },
  "varInspector": {
   "cols": {
    "lenName": 16,
    "lenType": 16,
    "lenVar": 40
   },
   "kernels_config": {
    "python": {
     "delete_cmd_postfix": "",
     "delete_cmd_prefix": "del ",
     "library": "var_list.py",
     "varRefreshCmd": "print(var_dic_list())"
    },
    "r": {
     "delete_cmd_postfix": ") ",
     "delete_cmd_prefix": "rm(",
     "library": "var_list.r",
     "varRefreshCmd": "cat(var_dic_list()) "
    }
   },
   "types_to_exclude": [
    "module",
    "function",
    "builtin_function_or_method",
    "instance",
    "_Feature"
   ],
   "window_display": false
  }
 },
 "nbformat": 4,
 "nbformat_minor": 4
}
