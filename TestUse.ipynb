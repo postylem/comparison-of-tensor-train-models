{
 "cells": [
  {
   "cell_type": "code",
   "execution_count": 26,
   "metadata": {},
   "outputs": [
    {
     "name": "stdout",
     "output_type": "stream",
     "text": [
      "1.8.0.dev20201128\n"
     ]
    }
   ],
   "source": [
    "import torch\n",
    "import torch.nn as nn\n",
    "from torch.utils.data import Dataset, DataLoader\n",
    "from tensornetworks_pytorch.TNModels import PosMPS, Born\n",
    "print(torch.__version__)"
   ]
  },
  {
   "cell_type": "markdown",
   "metadata": {},
   "source": [
    "Use some data"
   ]
  },
  {
   "cell_type": "code",
   "execution_count": 27,
   "metadata": {
    "scrolled": true
   },
   "outputs": [
    {
     "name": "stdout",
     "output_type": "stream",
     "text": [
      "flare\n",
      "\tdata shape: (1065, 13)\n",
      "\trange of X values: 0 -- 7\n",
      "lymphography\n",
      "\tdata shape: (148, 19)\n",
      "\trange of X values: 0 -- 7\n",
      "spect\n",
      "\tdata shape: (187, 23)\n",
      "\trange of X values: 0 -- 1\n",
      "tumor\n",
      "\tdata shape: (339, 17)\n",
      "\trange of X values: 0 -- 3\n",
      "votes\n",
      "\tdata shape: (435, 17)\n",
      "\trange of X values: 0 -- 2\n"
     ]
    }
   ],
   "source": [
    "import pickle\n",
    "for dataset in [#'biofam',\n",
    "    'flare','lymphography','spect','tumor','votes']:\n",
    "    with open('datasets/'+dataset, 'rb') as f:\n",
    "            a=pickle.load(f)\n",
    "    X=a[0].astype(int)\n",
    "    print(dataset)\n",
    "    print(\"\\tdata shape:\", X.shape)\n",
    "    print(f\"\\trange of X values: {X.min()} -- {X.max()}\")\n",
    "\n",
    "def load_dataset(dataset):\n",
    "    with open('datasets/'+dataset, 'rb') as f:\n",
    "            a=pickle.load(f)\n",
    "    X=a[0]\n",
    "    X=X.astype(int)\n",
    "\n",
    "    print(\"data shape:\", X.shape)\n",
    "    print(f\"range of X values: {X.min()} -- {X.max()}\")\n",
    "    print(f\"setting d={X.max()+1}\")\n",
    "    d = X.max()+1\n",
    "    return X, d"
   ]
  },
  {
   "cell_type": "code",
   "execution_count": 103,
   "metadata": {},
   "outputs": [
    {
     "name": "stdout",
     "output_type": "stream",
     "text": [
      "data shape: (1065, 13)\n",
      "range of X values: 0 -- 7\n",
      "setting d=8\n"
     ]
    }
   ],
   "source": [
    "X,d = load_dataset('flare')"
   ]
  },
  {
   "cell_type": "code",
   "execution_count": 106,
   "metadata": {},
   "outputs": [
    {
     "name": "stdout",
     "output_type": "stream",
     "text": [
      "torch.Size([8, 7, 7]) Positive MPS\n",
      "torch.Size([8, 7, 7]) Born model torch.float32\n",
      "torch.Size([8, 7, 7]) Born model torch.complex64\n",
      "===\n"
     ]
    }
   ],
   "source": [
    "D = 7\n",
    "mps = PosMPS(D=D, d=d, verbose=True)\n",
    "rBorn = Born(D=D, d=d, dtype=torch.float, verbose=True) \n",
    "cBorn = Born(D=D, d=d, dtype=torch.cfloat, verbose=True)\n",
    "models = (mps, rBorn, cBorn)\n",
    "for model in models:\n",
    "    print(model.core.shape, model.name)\n",
    "print(\"===\")\n",
    "for model in models:\n",
    "    model.fit(X, d)"
   ]
  },
  {
   "cell_type": "code",
   "execution_count": 107,
   "metadata": {},
   "outputs": [
    {
     "name": "stdout",
     "output_type": "stream",
     "text": [
      "Training...\n",
      "epoch 0\n"
     ]
    },
    {
     "data": {
      "application/vnd.jupyter.widget-view+json": {
       "model_id": "",
       "version_major": 2,
       "version_minor": 0
      },
      "text/plain": [
       "HBox(children=(HTML(value=''), FloatProgress(value=1.0, bar_style='info', layout=Layout(width='20px'), max=1.0…"
      ]
     },
     "metadata": {},
     "output_type": "display_data"
    },
    {
     "name": "stdout",
     "output_type": "stream",
     "text": [
      "\tbatch 0 loss 26.36189842224121\n",
      "\tbatch 10 loss 19.781164169311523\n",
      "\tbatch 20 loss 17.422203063964844\n",
      "\tbatch 30 loss 16.521820068359375\n",
      "\tavg batch_loss 18.695804595947266\n",
      "epoch 1\n"
     ]
    },
    {
     "data": {
      "application/vnd.jupyter.widget-view+json": {
       "model_id": "",
       "version_major": 2,
       "version_minor": 0
      },
      "text/plain": [
       "HBox(children=(HTML(value=''), FloatProgress(value=1.0, bar_style='info', layout=Layout(width='20px'), max=1.0…"
      ]
     },
     "metadata": {},
     "output_type": "display_data"
    },
    {
     "name": "stdout",
     "output_type": "stream",
     "text": [
      "\tbatch 0 loss 16.022523880004883\n",
      "\tbatch 10 loss 15.371594429016113\n",
      "\tbatch 20 loss 15.091082572937012\n",
      "\tbatch 30 loss 14.59440803527832\n",
      "\tavg batch_loss 15.08620834350586\n",
      "epoch 2\n"
     ]
    },
    {
     "data": {
      "application/vnd.jupyter.widget-view+json": {
       "model_id": "",
       "version_major": 2,
       "version_minor": 0
      },
      "text/plain": [
       "HBox(children=(HTML(value=''), FloatProgress(value=1.0, bar_style='info', layout=Layout(width='20px'), max=1.0…"
      ]
     },
     "metadata": {},
     "output_type": "display_data"
    },
    {
     "name": "stdout",
     "output_type": "stream",
     "text": [
      "\tbatch 0 loss 14.636351585388184\n",
      "\tbatch 10 loss 14.228934288024902\n",
      "\tbatch 20 loss 13.433638572692871\n",
      "\tbatch 30 loss 14.586594581604004\n",
      "\tavg batch_loss 13.883378028869629\n",
      "epoch 3\n"
     ]
    },
    {
     "data": {
      "application/vnd.jupyter.widget-view+json": {
       "model_id": "",
       "version_major": 2,
       "version_minor": 0
      },
      "text/plain": [
       "HBox(children=(HTML(value=''), FloatProgress(value=1.0, bar_style='info', layout=Layout(width='20px'), max=1.0…"
      ]
     },
     "metadata": {},
     "output_type": "display_data"
    },
    {
     "name": "stdout",
     "output_type": "stream",
     "text": [
      "\tbatch 0 loss 14.344987869262695\n",
      "\tbatch 10 loss 13.527606010437012\n",
      "\tbatch 20 loss 12.727429389953613\n",
      "\tbatch 30 loss 11.847824096679688\n",
      "\tavg batch_loss 12.794553756713867\n",
      "epoch 4\n"
     ]
    },
    {
     "data": {
      "application/vnd.jupyter.widget-view+json": {
       "model_id": "",
       "version_major": 2,
       "version_minor": 0
      },
      "text/plain": [
       "HBox(children=(HTML(value=''), FloatProgress(value=1.0, bar_style='info', layout=Layout(width='20px'), max=1.0…"
      ]
     },
     "metadata": {},
     "output_type": "display_data"
    },
    {
     "name": "stdout",
     "output_type": "stream",
     "text": [
      "\tbatch 0 loss 11.9341402053833\n",
      "\tbatch 10 loss 11.759820938110352\n",
      "\tbatch 20 loss 13.489293098449707\n",
      "\tbatch 30 loss 13.647462844848633\n",
      "\tavg batch_loss 12.394817352294922\n",
      "Finished training. Av loss =  12.394817352294922\n"
     ]
    }
   ],
   "source": [
    "from tqdm.notebook import tqdm\n",
    "batchsize=30\n",
    "trainloader = DataLoader(X, batch_size=batchsize, shuffle=True)\n",
    "model = rBorn\n",
    "optimizer = torch.optim.SGD(model.parameters(), lr=0.1, momentum=0.0)\n",
    "\n",
    "max_epochs = 5\n",
    "print(\"Training...\")\n",
    "av_batch_loss_running = -1000\n",
    "for epoch in range(max_epochs):\n",
    "    print(\"epoch\", epoch)\n",
    "    batch_loss = []\n",
    "    for batch_idx, batch in tqdm(enumerate(trainloader), leave=False):\n",
    "        model.zero_grad()\n",
    "        neglogprob = 0\n",
    "        for x in batch:\n",
    "            neglogprob -= model(x)\n",
    "        loss = neglogprob / batchsize\n",
    "        loss.backward()\n",
    "        optimizer.step()\n",
    "        with torch.no_grad():\n",
    "            batch_loss.append(loss.item())\n",
    "            if batch_idx % 10 == 0: # print every 10th batch loss\n",
    "                print(\"\\tbatch\", batch_idx, \"loss\", loss.item())\n",
    "    av_batch_loss = torch.Tensor(batch_loss).mean().item()\n",
    "    print(\"\\tavg batch_loss\", av_batch_loss)\n",
    "    if abs(av_batch_loss_running - av_batch_loss) < .1:\n",
    "        print(\"Early stopping\")\n",
    "        break\n",
    "    av_batch_loss_running = av_batch_loss\n",
    "print('Finished training. Last av loss = ', av_batch_loss)"
   ]
  },
  {
   "cell_type": "code",
   "execution_count": null,
   "metadata": {},
   "outputs": [],
   "source": []
  },
  {
   "cell_type": "code",
   "execution_count": null,
   "metadata": {},
   "outputs": [],
   "source": []
  }
 ],
 "metadata": {
  "kernelspec": {
   "display_name": "Python 3",
   "language": "python",
   "name": "python3"
  },
  "language_info": {
   "codemirror_mode": {
    "name": "ipython",
    "version": 3
   },
   "file_extension": ".py",
   "mimetype": "text/x-python",
   "name": "python",
   "nbconvert_exporter": "python",
   "pygments_lexer": "ipython3",
   "version": "3.8.5"
  },
  "toc": {
   "base_numbering": 1,
   "nav_menu": {},
   "number_sections": true,
   "sideBar": true,
   "skip_h1_title": false,
   "title_cell": "Table of Contents",
   "title_sidebar": "Contents",
   "toc_cell": false,
   "toc_position": {},
   "toc_section_display": true,
   "toc_window_display": false
  },
  "varInspector": {
   "cols": {
    "lenName": 16,
    "lenType": 16,
    "lenVar": 40
   },
   "kernels_config": {
    "python": {
     "delete_cmd_postfix": "",
     "delete_cmd_prefix": "del ",
     "library": "var_list.py",
     "varRefreshCmd": "print(var_dic_list())"
    },
    "r": {
     "delete_cmd_postfix": ") ",
     "delete_cmd_prefix": "rm(",
     "library": "var_list.r",
     "varRefreshCmd": "cat(var_dic_list()) "
    }
   },
   "types_to_exclude": [
    "module",
    "function",
    "builtin_function_or_method",
    "instance",
    "_Feature"
   ],
   "window_display": false
  }
 },
 "nbformat": 4,
 "nbformat_minor": 4
}
